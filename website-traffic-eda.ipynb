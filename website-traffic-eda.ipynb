{
 "cells": [
  {
   "cell_type": "code",
   "execution_count": 1,
   "id": "df94b40d",
   "metadata": {
    "_cell_guid": "b1076dfc-b9ad-4769-8c92-a6c4dae69d19",
    "_uuid": "8f2839f25d086af736a60e9eeb907d3b93b6e0e5",
    "execution": {
     "iopub.execute_input": "2024-08-23T04:29:20.490378Z",
     "iopub.status.busy": "2024-08-23T04:29:20.489805Z",
     "iopub.status.idle": "2024-08-23T04:29:20.911333Z",
     "shell.execute_reply": "2024-08-23T04:29:20.909482Z"
    },
    "papermill": {
     "duration": 0.427958,
     "end_time": "2024-08-23T04:29:20.913593",
     "exception": false,
     "start_time": "2024-08-23T04:29:20.485635",
     "status": "completed"
    },
    "tags": []
   },
   "outputs": [
    {
     "name": "stdout",
     "output_type": "stream",
     "text": [
      "/kaggle/input/website-traffic/website_wata.csv\n"
     ]
    }
   ],
   "source": [
    "\n",
    "import numpy as np # linear algebra\n",
    "import pandas as pd # data processing, CSV file I/O (e.g. pd.read_csv)\n",
    "\n",
    "import os\n",
    "for dirname, _, filenames in os.walk('/kaggle/input'):\n",
    "    for filename in filenames:\n",
    "        print(os.path.join(dirname, filename))"
   ]
  },
  {
   "cell_type": "code",
   "execution_count": 2,
   "id": "a48b8b55",
   "metadata": {
    "execution": {
     "iopub.execute_input": "2024-08-23T04:29:20.920070Z",
     "iopub.status.busy": "2024-08-23T04:29:20.918948Z",
     "iopub.status.idle": "2024-08-23T04:29:20.964510Z",
     "shell.execute_reply": "2024-08-23T04:29:20.963431Z"
    },
    "papermill": {
     "duration": 0.051211,
     "end_time": "2024-08-23T04:29:20.967113",
     "exception": false,
     "start_time": "2024-08-23T04:29:20.915902",
     "status": "completed"
    },
    "tags": []
   },
   "outputs": [
    {
     "data": {
      "text/html": [
       "<div>\n",
       "<style scoped>\n",
       "    .dataframe tbody tr th:only-of-type {\n",
       "        vertical-align: middle;\n",
       "    }\n",
       "\n",
       "    .dataframe tbody tr th {\n",
       "        vertical-align: top;\n",
       "    }\n",
       "\n",
       "    .dataframe thead th {\n",
       "        text-align: right;\n",
       "    }\n",
       "</style>\n",
       "<table border=\"1\" class=\"dataframe\">\n",
       "  <thead>\n",
       "    <tr style=\"text-align: right;\">\n",
       "      <th></th>\n",
       "      <th>Page Views</th>\n",
       "      <th>Session Duration</th>\n",
       "      <th>Bounce Rate</th>\n",
       "      <th>Traffic Source</th>\n",
       "      <th>Time on Page</th>\n",
       "      <th>Previous Visits</th>\n",
       "      <th>Conversion Rate</th>\n",
       "    </tr>\n",
       "  </thead>\n",
       "  <tbody>\n",
       "    <tr>\n",
       "      <th>0</th>\n",
       "      <td>5</td>\n",
       "      <td>11.051381</td>\n",
       "      <td>0.230652</td>\n",
       "      <td>Organic</td>\n",
       "      <td>3.890460</td>\n",
       "      <td>3</td>\n",
       "      <td>1.0</td>\n",
       "    </tr>\n",
       "    <tr>\n",
       "      <th>1</th>\n",
       "      <td>4</td>\n",
       "      <td>3.429316</td>\n",
       "      <td>0.391001</td>\n",
       "      <td>Social</td>\n",
       "      <td>8.478174</td>\n",
       "      <td>0</td>\n",
       "      <td>1.0</td>\n",
       "    </tr>\n",
       "    <tr>\n",
       "      <th>2</th>\n",
       "      <td>4</td>\n",
       "      <td>1.621052</td>\n",
       "      <td>0.397986</td>\n",
       "      <td>Organic</td>\n",
       "      <td>9.636170</td>\n",
       "      <td>2</td>\n",
       "      <td>1.0</td>\n",
       "    </tr>\n",
       "    <tr>\n",
       "      <th>3</th>\n",
       "      <td>5</td>\n",
       "      <td>3.629279</td>\n",
       "      <td>0.180458</td>\n",
       "      <td>Organic</td>\n",
       "      <td>2.071925</td>\n",
       "      <td>3</td>\n",
       "      <td>1.0</td>\n",
       "    </tr>\n",
       "    <tr>\n",
       "      <th>4</th>\n",
       "      <td>5</td>\n",
       "      <td>4.235843</td>\n",
       "      <td>0.291541</td>\n",
       "      <td>Paid</td>\n",
       "      <td>1.960654</td>\n",
       "      <td>5</td>\n",
       "      <td>1.0</td>\n",
       "    </tr>\n",
       "  </tbody>\n",
       "</table>\n",
       "</div>"
      ],
      "text/plain": [
       "   Page Views  Session Duration  Bounce Rate Traffic Source  Time on Page  \\\n",
       "0           5         11.051381     0.230652        Organic      3.890460   \n",
       "1           4          3.429316     0.391001         Social      8.478174   \n",
       "2           4          1.621052     0.397986        Organic      9.636170   \n",
       "3           5          3.629279     0.180458        Organic      2.071925   \n",
       "4           5          4.235843     0.291541           Paid      1.960654   \n",
       "\n",
       "   Previous Visits  Conversion Rate  \n",
       "0                3              1.0  \n",
       "1                0              1.0  \n",
       "2                2              1.0  \n",
       "3                3              1.0  \n",
       "4                5              1.0  "
      ]
     },
     "execution_count": 2,
     "metadata": {},
     "output_type": "execute_result"
    }
   ],
   "source": [
    "df = pd.read_csv('/kaggle/input/website-traffic/website_wata.csv')\n",
    "df.head()"
   ]
  },
  {
   "cell_type": "code",
   "execution_count": 3,
   "id": "2f3a5060",
   "metadata": {
    "execution": {
     "iopub.execute_input": "2024-08-23T04:29:20.976468Z",
     "iopub.status.busy": "2024-08-23T04:29:20.975608Z",
     "iopub.status.idle": "2024-08-23T04:29:20.987517Z",
     "shell.execute_reply": "2024-08-23T04:29:20.986498Z"
    },
    "papermill": {
     "duration": 0.017433,
     "end_time": "2024-08-23T04:29:20.989734",
     "exception": false,
     "start_time": "2024-08-23T04:29:20.972301",
     "status": "completed"
    },
    "tags": []
   },
   "outputs": [
    {
     "data": {
      "text/plain": [
       "Page Views          0\n",
       "Session Duration    0\n",
       "Bounce Rate         0\n",
       "Traffic Source      0\n",
       "Time on Page        0\n",
       "Previous Visits     0\n",
       "Conversion Rate     0\n",
       "dtype: int64"
      ]
     },
     "execution_count": 3,
     "metadata": {},
     "output_type": "execute_result"
    }
   ],
   "source": [
    "df.isnull().sum()"
   ]
  }
 ],
 "metadata": {
  "kaggle": {
   "accelerator": "none",
   "dataSources": [
    {
     "datasetId": 5500743,
     "sourceId": 9113429,
     "sourceType": "datasetVersion"
    }
   ],
   "dockerImageVersionId": 30761,
   "isGpuEnabled": false,
   "isInternetEnabled": true,
   "language": "python",
   "sourceType": "notebook"
  },
  "kernelspec": {
   "display_name": "Python 3",
   "language": "python",
   "name": "python3"
  },
  "language_info": {
   "codemirror_mode": {
    "name": "ipython",
    "version": 3
   },
   "file_extension": ".py",
   "mimetype": "text/x-python",
   "name": "python",
   "nbconvert_exporter": "python",
   "pygments_lexer": "ipython3",
   "version": "3.10.14"
  },
  "papermill": {
   "default_parameters": {},
   "duration": 3.644659,
   "end_time": "2024-08-23T04:29:21.411941",
   "environment_variables": {},
   "exception": null,
   "input_path": "__notebook__.ipynb",
   "output_path": "__notebook__.ipynb",
   "parameters": {},
   "start_time": "2024-08-23T04:29:17.767282",
   "version": "2.6.0"
  }
 },
 "nbformat": 4,
 "nbformat_minor": 5
}
