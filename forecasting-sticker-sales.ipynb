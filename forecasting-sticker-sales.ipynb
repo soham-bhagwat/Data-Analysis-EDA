{
 "cells": [
  {
   "cell_type": "code",
   "execution_count": 1,
   "id": "dfc8b508",
   "metadata": {
    "_cell_guid": "b1076dfc-b9ad-4769-8c92-a6c4dae69d19",
    "_uuid": "8f2839f25d086af736a60e9eeb907d3b93b6e0e5",
    "execution": {
     "iopub.execute_input": "2025-01-26T03:57:11.172334Z",
     "iopub.status.busy": "2025-01-26T03:57:11.171950Z",
     "iopub.status.idle": "2025-01-26T03:57:12.216562Z",
     "shell.execute_reply": "2025-01-26T03:57:12.215077Z"
    },
    "papermill": {
     "duration": 1.051411,
     "end_time": "2025-01-26T03:57:12.218610",
     "exception": false,
     "start_time": "2025-01-26T03:57:11.167199",
     "status": "completed"
    },
    "tags": []
   },
   "outputs": [
    {
     "name": "stdout",
     "output_type": "stream",
     "text": [
      "/kaggle/input/playground-series-s5e1/sample_submission.csv\n",
      "/kaggle/input/playground-series-s5e1/train.csv\n",
      "/kaggle/input/playground-series-s5e1/test.csv\n"
     ]
    }
   ],
   "source": [
    "# This Python 3 environment comes with many helpful analytics libraries installed\n",
    "# It is defined by the kaggle/python Docker image: https://github.com/kaggle/docker-python\n",
    "# For example, here's several helpful packages to load\n",
    "\n",
    "import numpy as np # linear algebra\n",
    "import pandas as pd # data processing, CSV file I/O (e.g. pd.read_csv)\n",
    "\n",
    "# Input data files are available in the read-only \"../input/\" directory\n",
    "# For example, running this (by clicking run or pressing Shift+Enter) will list all files under the input directory\n",
    "\n",
    "import os\n",
    "for dirname, _, filenames in os.walk('/kaggle/input'):\n",
    "    for filename in filenames:\n",
    "        print(os.path.join(dirname, filename))\n",
    "\n",
    "# You can write up to 20GB to the current directory (/kaggle/working/) that gets preserved as output when you create a version using \"Save & Run All\" \n",
    "# You can also write temporary files to /kaggle/temp/, but they won't be saved outside of the current session"
   ]
  },
  {
   "cell_type": "code",
   "execution_count": 2,
   "id": "5c9ac39c",
   "metadata": {
    "execution": {
     "iopub.execute_input": "2025-01-26T03:57:12.226629Z",
     "iopub.status.busy": "2025-01-26T03:57:12.226108Z",
     "iopub.status.idle": "2025-01-26T03:57:12.693698Z",
     "shell.execute_reply": "2025-01-26T03:57:12.692456Z"
    },
    "papermill": {
     "duration": 0.473777,
     "end_time": "2025-01-26T03:57:12.695845",
     "exception": false,
     "start_time": "2025-01-26T03:57:12.222068",
     "status": "completed"
    },
    "tags": []
   },
   "outputs": [],
   "source": [
    "train_df = pd.read_csv('/kaggle/input/playground-series-s5e1/train.csv')\n",
    "test_df = pd.read_csv('/kaggle/input/playground-series-s5e1/test.csv')"
   ]
  },
  {
   "cell_type": "code",
   "execution_count": 3,
   "id": "ce5eec2a",
   "metadata": {
    "execution": {
     "iopub.execute_input": "2025-01-26T03:57:12.703124Z",
     "iopub.status.busy": "2025-01-26T03:57:12.702739Z",
     "iopub.status.idle": "2025-01-26T03:57:12.732936Z",
     "shell.execute_reply": "2025-01-26T03:57:12.731602Z"
    },
    "papermill": {
     "duration": 0.035606,
     "end_time": "2025-01-26T03:57:12.734547",
     "exception": false,
     "start_time": "2025-01-26T03:57:12.698941",
     "status": "completed"
    },
    "tags": []
   },
   "outputs": [
    {
     "name": "stderr",
     "output_type": "stream",
     "text": [
      "/usr/local/lib/python3.10/dist-packages/pandas/io/formats/format.py:1458: RuntimeWarning: invalid value encountered in greater\n",
      "  has_large_values = (abs_vals > 1e6).any()\n",
      "/usr/local/lib/python3.10/dist-packages/pandas/io/formats/format.py:1459: RuntimeWarning: invalid value encountered in less\n",
      "  has_small_values = ((abs_vals < 10 ** (-self.digits)) & (abs_vals > 0)).any()\n",
      "/usr/local/lib/python3.10/dist-packages/pandas/io/formats/format.py:1459: RuntimeWarning: invalid value encountered in greater\n",
      "  has_small_values = ((abs_vals < 10 ** (-self.digits)) & (abs_vals > 0)).any()\n"
     ]
    },
    {
     "data": {
      "text/html": [
       "<div>\n",
       "<style scoped>\n",
       "    .dataframe tbody tr th:only-of-type {\n",
       "        vertical-align: middle;\n",
       "    }\n",
       "\n",
       "    .dataframe tbody tr th {\n",
       "        vertical-align: top;\n",
       "    }\n",
       "\n",
       "    .dataframe thead th {\n",
       "        text-align: right;\n",
       "    }\n",
       "</style>\n",
       "<table border=\"1\" class=\"dataframe\">\n",
       "  <thead>\n",
       "    <tr style=\"text-align: right;\">\n",
       "      <th></th>\n",
       "      <th>id</th>\n",
       "      <th>date</th>\n",
       "      <th>country</th>\n",
       "      <th>store</th>\n",
       "      <th>product</th>\n",
       "      <th>num_sold</th>\n",
       "    </tr>\n",
       "  </thead>\n",
       "  <tbody>\n",
       "    <tr>\n",
       "      <th>0</th>\n",
       "      <td>0</td>\n",
       "      <td>2010-01-01</td>\n",
       "      <td>Canada</td>\n",
       "      <td>Discount Stickers</td>\n",
       "      <td>Holographic Goose</td>\n",
       "      <td>NaN</td>\n",
       "    </tr>\n",
       "    <tr>\n",
       "      <th>1</th>\n",
       "      <td>1</td>\n",
       "      <td>2010-01-01</td>\n",
       "      <td>Canada</td>\n",
       "      <td>Discount Stickers</td>\n",
       "      <td>Kaggle</td>\n",
       "      <td>973.0</td>\n",
       "    </tr>\n",
       "    <tr>\n",
       "      <th>2</th>\n",
       "      <td>2</td>\n",
       "      <td>2010-01-01</td>\n",
       "      <td>Canada</td>\n",
       "      <td>Discount Stickers</td>\n",
       "      <td>Kaggle Tiers</td>\n",
       "      <td>906.0</td>\n",
       "    </tr>\n",
       "    <tr>\n",
       "      <th>3</th>\n",
       "      <td>3</td>\n",
       "      <td>2010-01-01</td>\n",
       "      <td>Canada</td>\n",
       "      <td>Discount Stickers</td>\n",
       "      <td>Kerneler</td>\n",
       "      <td>423.0</td>\n",
       "    </tr>\n",
       "    <tr>\n",
       "      <th>4</th>\n",
       "      <td>4</td>\n",
       "      <td>2010-01-01</td>\n",
       "      <td>Canada</td>\n",
       "      <td>Discount Stickers</td>\n",
       "      <td>Kerneler Dark Mode</td>\n",
       "      <td>491.0</td>\n",
       "    </tr>\n",
       "  </tbody>\n",
       "</table>\n",
       "</div>"
      ],
      "text/plain": [
       "   id        date country              store             product  num_sold\n",
       "0   0  2010-01-01  Canada  Discount Stickers   Holographic Goose       NaN\n",
       "1   1  2010-01-01  Canada  Discount Stickers              Kaggle     973.0\n",
       "2   2  2010-01-01  Canada  Discount Stickers        Kaggle Tiers     906.0\n",
       "3   3  2010-01-01  Canada  Discount Stickers            Kerneler     423.0\n",
       "4   4  2010-01-01  Canada  Discount Stickers  Kerneler Dark Mode     491.0"
      ]
     },
     "execution_count": 3,
     "metadata": {},
     "output_type": "execute_result"
    }
   ],
   "source": [
    "train_df.head()"
   ]
  },
  {
   "cell_type": "code",
   "execution_count": 4,
   "id": "97286ded",
   "metadata": {
    "execution": {
     "iopub.execute_input": "2025-01-26T03:57:12.742606Z",
     "iopub.status.busy": "2025-01-26T03:57:12.742214Z",
     "iopub.status.idle": "2025-01-26T03:57:12.823325Z",
     "shell.execute_reply": "2025-01-26T03:57:12.821927Z"
    },
    "papermill": {
     "duration": 0.08742,
     "end_time": "2025-01-26T03:57:12.825287",
     "exception": false,
     "start_time": "2025-01-26T03:57:12.737867",
     "status": "completed"
    },
    "tags": []
   },
   "outputs": [
    {
     "name": "stdout",
     "output_type": "stream",
     "text": [
      "<class 'pandas.core.frame.DataFrame'>\n",
      "RangeIndex: 230130 entries, 0 to 230129\n",
      "Data columns (total 6 columns):\n",
      " #   Column    Non-Null Count   Dtype  \n",
      "---  ------    --------------   -----  \n",
      " 0   id        230130 non-null  int64  \n",
      " 1   date      230130 non-null  object \n",
      " 2   country   230130 non-null  object \n",
      " 3   store     230130 non-null  object \n",
      " 4   product   230130 non-null  object \n",
      " 5   num_sold  221259 non-null  float64\n",
      "dtypes: float64(1), int64(1), object(4)\n",
      "memory usage: 10.5+ MB\n"
     ]
    }
   ],
   "source": [
    "train_df.info()"
   ]
  },
  {
   "cell_type": "code",
   "execution_count": 5,
   "id": "964d8225",
   "metadata": {
    "execution": {
     "iopub.execute_input": "2025-01-26T03:57:12.833998Z",
     "iopub.status.busy": "2025-01-26T03:57:12.833519Z",
     "iopub.status.idle": "2025-01-26T03:57:12.839001Z",
     "shell.execute_reply": "2025-01-26T03:57:12.837884Z"
    },
    "papermill": {
     "duration": 0.011968,
     "end_time": "2025-01-26T03:57:12.840773",
     "exception": false,
     "start_time": "2025-01-26T03:57:12.828805",
     "status": "completed"
    },
    "tags": []
   },
   "outputs": [],
   "source": [
    "def get_unique_counts(df) -> dict:\n",
    "\n",
    "    unique_counts = {}\n",
    "    \n",
    "    for col in df.columns:\n",
    "        unique_val_count = df[col].nunique()  # or len(df[col].unique())\n",
    "        unique_counts[col] = unique_val_count\n",
    "        \n",
    "        # Print the column name and its unique-value count\n",
    "        print(f\" {col} : {unique_val_count}\")\n",
    "    \n",
    "    return unique_counts\n"
   ]
  },
  {
   "cell_type": "code",
   "execution_count": 6,
   "id": "cc1e1925",
   "metadata": {
    "execution": {
     "iopub.execute_input": "2025-01-26T03:57:12.848718Z",
     "iopub.status.busy": "2025-01-26T03:57:12.848312Z",
     "iopub.status.idle": "2025-01-26T03:57:12.923159Z",
     "shell.execute_reply": "2025-01-26T03:57:12.921619Z"
    },
    "papermill": {
     "duration": 0.080657,
     "end_time": "2025-01-26T03:57:12.924839",
     "exception": false,
     "start_time": "2025-01-26T03:57:12.844182",
     "status": "completed"
    },
    "tags": []
   },
   "outputs": [
    {
     "name": "stdout",
     "output_type": "stream",
     "text": [
      " id : 230130\n",
      " date : 2557\n",
      " country : 6\n",
      " store : 3\n",
      " product : 5\n",
      " num_sold : 4037\n"
     ]
    }
   ],
   "source": [
    "unique_vals = get_unique_counts(train_df)"
   ]
  },
  {
   "cell_type": "code",
   "execution_count": 7,
   "id": "88d59b37",
   "metadata": {
    "execution": {
     "iopub.execute_input": "2025-01-26T03:57:12.932940Z",
     "iopub.status.busy": "2025-01-26T03:57:12.932569Z",
     "iopub.status.idle": "2025-01-26T03:57:12.989843Z",
     "shell.execute_reply": "2025-01-26T03:57:12.988414Z"
    },
    "papermill": {
     "duration": 0.063533,
     "end_time": "2025-01-26T03:57:12.991909",
     "exception": false,
     "start_time": "2025-01-26T03:57:12.928376",
     "status": "completed"
    },
    "tags": []
   },
   "outputs": [
    {
     "data": {
      "text/plain": [
       "id             0\n",
       "date           0\n",
       "country        0\n",
       "store          0\n",
       "product        0\n",
       "num_sold    8871\n",
       "dtype: int64"
      ]
     },
     "execution_count": 7,
     "metadata": {},
     "output_type": "execute_result"
    }
   ],
   "source": [
    "train_df.isnull().sum()"
   ]
  },
  {
   "cell_type": "code",
   "execution_count": 8,
   "id": "e08e125f",
   "metadata": {
    "execution": {
     "iopub.execute_input": "2025-01-26T03:57:13.000298Z",
     "iopub.status.busy": "2025-01-26T03:57:12.999953Z",
     "iopub.status.idle": "2025-01-26T03:57:13.023581Z",
     "shell.execute_reply": "2025-01-26T03:57:13.022441Z"
    },
    "papermill": {
     "duration": 0.029847,
     "end_time": "2025-01-26T03:57:13.025361",
     "exception": false,
     "start_time": "2025-01-26T03:57:12.995514",
     "status": "completed"
    },
    "tags": []
   },
   "outputs": [
    {
     "name": "stdout",
     "output_type": "stream",
     "text": [
      "number sold column descriptive statistics\n"
     ]
    },
    {
     "data": {
      "text/plain": [
       "count    221259.000000\n",
       "mean        752.527382\n",
       "std         690.165445\n",
       "min           5.000000\n",
       "25%         219.000000\n",
       "50%         605.000000\n",
       "75%        1114.000000\n",
       "max        5939.000000\n",
       "Name: num_sold, dtype: float64"
      ]
     },
     "execution_count": 8,
     "metadata": {},
     "output_type": "execute_result"
    }
   ],
   "source": [
    "print('number sold column descriptive statistics')\n",
    "train_df['num_sold'].describe()"
   ]
  },
  {
   "cell_type": "code",
   "execution_count": 9,
   "id": "e9b58e81",
   "metadata": {
    "execution": {
     "iopub.execute_input": "2025-01-26T03:57:13.034038Z",
     "iopub.status.busy": "2025-01-26T03:57:13.033681Z",
     "iopub.status.idle": "2025-01-26T03:57:13.041678Z",
     "shell.execute_reply": "2025-01-26T03:57:13.040694Z"
    },
    "papermill": {
     "duration": 0.014319,
     "end_time": "2025-01-26T03:57:13.043540",
     "exception": false,
     "start_time": "2025-01-26T03:57:13.029221",
     "status": "completed"
    },
    "tags": []
   },
   "outputs": [],
   "source": [
    "#feature engineering dates \n",
    "\n",
    "def date_transform(df, col):\n",
    "    df[col] = pd.to_datetime(df[col])\n",
    "    df['year'] = df[col].dt.year.astype('int')\n",
    "    df['quarter'] = df[col].dt.quarter.astype('int')\n",
    "    df['month'] = df[col].dt.month.astype('int')\n",
    "    df['day_of_week'] = df[col].dt.dayofweek.astype('int')\n",
    "    df['day'] = df[col].dt.day.astype('int')\n",
    "    df['week_of_year'] = df[col].dt.isocalendar().week.astype('int')\n",
    "\n",
    "    df['day_sin'] = np.sin(2 * np.pi * df['day'] / 365)\n",
    "    df['day_cos'] = np.cos(2 * np.pi * df['day'] / 365)\n",
    "    df['month_sin'] = np.sin(2 * np.pi * df['month'] / 12)\n",
    "    df['month_cos'] = np.cos(2 * np.pi * df['month'] / 12)\n",
    "    df['year_sin'] = np.sin(2 * np.pi * df['year'] / 7)\n",
    "    df['year_cos'] = np.cos(2 * np.pi * df['year'] / 7)\n",
    "    \n",
    "    df['group'] = (df['year'] - 2010) * 48 + df['month'] * 4 + df['day'] // 7\n",
    "    \n",
    "    return df"
   ]
  }
 ],
 "metadata": {
  "kaggle": {
   "accelerator": "none",
   "dataSources": [
    {
     "databundleVersionId": 10652996,
     "sourceId": 85723,
     "sourceType": "competition"
    }
   ],
   "dockerImageVersionId": 30839,
   "isGpuEnabled": false,
   "isInternetEnabled": true,
   "language": "python",
   "sourceType": "notebook"
  },
  "kernelspec": {
   "display_name": "Python 3",
   "language": "python",
   "name": "python3"
  },
  "language_info": {
   "codemirror_mode": {
    "name": "ipython",
    "version": 3
   },
   "file_extension": ".py",
   "mimetype": "text/x-python",
   "name": "python",
   "nbconvert_exporter": "python",
   "pygments_lexer": "ipython3",
   "version": "3.10.12"
  },
  "papermill": {
   "default_parameters": {},
   "duration": 5.390611,
   "end_time": "2025-01-26T03:57:13.668323",
   "environment_variables": {},
   "exception": null,
   "input_path": "__notebook__.ipynb",
   "output_path": "__notebook__.ipynb",
   "parameters": {},
   "start_time": "2025-01-26T03:57:08.277712",
   "version": "2.6.0"
  }
 },
 "nbformat": 4,
 "nbformat_minor": 5
}
