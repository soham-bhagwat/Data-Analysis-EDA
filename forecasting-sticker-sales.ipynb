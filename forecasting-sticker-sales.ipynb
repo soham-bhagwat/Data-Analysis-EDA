{
 "cells": [
  {
   "cell_type": "code",
   "execution_count": 1,
   "id": "84698de7",
   "metadata": {
    "_cell_guid": "b1076dfc-b9ad-4769-8c92-a6c4dae69d19",
    "_uuid": "8f2839f25d086af736a60e9eeb907d3b93b6e0e5",
    "execution": {
     "iopub.execute_input": "2025-01-22T03:58:22.696526Z",
     "iopub.status.busy": "2025-01-22T03:58:22.696142Z",
     "iopub.status.idle": "2025-01-22T03:58:23.730186Z",
     "shell.execute_reply": "2025-01-22T03:58:23.728973Z"
    },
    "papermill": {
     "duration": 1.039676,
     "end_time": "2025-01-22T03:58:23.731812",
     "exception": false,
     "start_time": "2025-01-22T03:58:22.692136",
     "status": "completed"
    },
    "tags": []
   },
   "outputs": [
    {
     "name": "stdout",
     "output_type": "stream",
     "text": [
      "/kaggle/input/playground-series-s5e1/sample_submission.csv\n",
      "/kaggle/input/playground-series-s5e1/train.csv\n",
      "/kaggle/input/playground-series-s5e1/test.csv\n"
     ]
    }
   ],
   "source": [
    "# This Python 3 environment comes with many helpful analytics libraries installed\n",
    "# It is defined by the kaggle/python Docker image: https://github.com/kaggle/docker-python\n",
    "# For example, here's several helpful packages to load\n",
    "\n",
    "import numpy as np # linear algebra\n",
    "import pandas as pd # data processing, CSV file I/O (e.g. pd.read_csv)\n",
    "\n",
    "# Input data files are available in the read-only \"../input/\" directory\n",
    "# For example, running this (by clicking run or pressing Shift+Enter) will list all files under the input directory\n",
    "\n",
    "import os\n",
    "for dirname, _, filenames in os.walk('/kaggle/input'):\n",
    "    for filename in filenames:\n",
    "        print(os.path.join(dirname, filename))\n",
    "\n",
    "# You can write up to 20GB to the current directory (/kaggle/working/) that gets preserved as output when you create a version using \"Save & Run All\" \n",
    "# You can also write temporary files to /kaggle/temp/, but they won't be saved outside of the current session"
   ]
  },
  {
   "cell_type": "code",
   "execution_count": 2,
   "id": "fb2c25f9",
   "metadata": {
    "execution": {
     "iopub.execute_input": "2025-01-22T03:58:23.738015Z",
     "iopub.status.busy": "2025-01-22T03:58:23.737577Z",
     "iopub.status.idle": "2025-01-22T03:58:24.213018Z",
     "shell.execute_reply": "2025-01-22T03:58:24.211831Z"
    },
    "papermill": {
     "duration": 0.480458,
     "end_time": "2025-01-22T03:58:24.215025",
     "exception": false,
     "start_time": "2025-01-22T03:58:23.734567",
     "status": "completed"
    },
    "tags": []
   },
   "outputs": [],
   "source": [
    "train_df = pd.read_csv('/kaggle/input/playground-series-s5e1/train.csv')\n",
    "test_df = pd.read_csv('/kaggle/input/playground-series-s5e1/test.csv')"
   ]
  },
  {
   "cell_type": "code",
   "execution_count": 3,
   "id": "e0dd1eee",
   "metadata": {
    "execution": {
     "iopub.execute_input": "2025-01-22T03:58:24.221135Z",
     "iopub.status.busy": "2025-01-22T03:58:24.220769Z",
     "iopub.status.idle": "2025-01-22T03:58:24.248407Z",
     "shell.execute_reply": "2025-01-22T03:58:24.247415Z"
    },
    "papermill": {
     "duration": 0.032578,
     "end_time": "2025-01-22T03:58:24.250221",
     "exception": false,
     "start_time": "2025-01-22T03:58:24.217643",
     "status": "completed"
    },
    "tags": []
   },
   "outputs": [
    {
     "name": "stderr",
     "output_type": "stream",
     "text": [
      "/usr/local/lib/python3.10/dist-packages/pandas/io/formats/format.py:1458: RuntimeWarning: invalid value encountered in greater\n",
      "  has_large_values = (abs_vals > 1e6).any()\n",
      "/usr/local/lib/python3.10/dist-packages/pandas/io/formats/format.py:1459: RuntimeWarning: invalid value encountered in less\n",
      "  has_small_values = ((abs_vals < 10 ** (-self.digits)) & (abs_vals > 0)).any()\n",
      "/usr/local/lib/python3.10/dist-packages/pandas/io/formats/format.py:1459: RuntimeWarning: invalid value encountered in greater\n",
      "  has_small_values = ((abs_vals < 10 ** (-self.digits)) & (abs_vals > 0)).any()\n"
     ]
    },
    {
     "data": {
      "text/html": [
       "<div>\n",
       "<style scoped>\n",
       "    .dataframe tbody tr th:only-of-type {\n",
       "        vertical-align: middle;\n",
       "    }\n",
       "\n",
       "    .dataframe tbody tr th {\n",
       "        vertical-align: top;\n",
       "    }\n",
       "\n",
       "    .dataframe thead th {\n",
       "        text-align: right;\n",
       "    }\n",
       "</style>\n",
       "<table border=\"1\" class=\"dataframe\">\n",
       "  <thead>\n",
       "    <tr style=\"text-align: right;\">\n",
       "      <th></th>\n",
       "      <th>id</th>\n",
       "      <th>date</th>\n",
       "      <th>country</th>\n",
       "      <th>store</th>\n",
       "      <th>product</th>\n",
       "      <th>num_sold</th>\n",
       "    </tr>\n",
       "  </thead>\n",
       "  <tbody>\n",
       "    <tr>\n",
       "      <th>0</th>\n",
       "      <td>0</td>\n",
       "      <td>2010-01-01</td>\n",
       "      <td>Canada</td>\n",
       "      <td>Discount Stickers</td>\n",
       "      <td>Holographic Goose</td>\n",
       "      <td>NaN</td>\n",
       "    </tr>\n",
       "    <tr>\n",
       "      <th>1</th>\n",
       "      <td>1</td>\n",
       "      <td>2010-01-01</td>\n",
       "      <td>Canada</td>\n",
       "      <td>Discount Stickers</td>\n",
       "      <td>Kaggle</td>\n",
       "      <td>973.0</td>\n",
       "    </tr>\n",
       "    <tr>\n",
       "      <th>2</th>\n",
       "      <td>2</td>\n",
       "      <td>2010-01-01</td>\n",
       "      <td>Canada</td>\n",
       "      <td>Discount Stickers</td>\n",
       "      <td>Kaggle Tiers</td>\n",
       "      <td>906.0</td>\n",
       "    </tr>\n",
       "    <tr>\n",
       "      <th>3</th>\n",
       "      <td>3</td>\n",
       "      <td>2010-01-01</td>\n",
       "      <td>Canada</td>\n",
       "      <td>Discount Stickers</td>\n",
       "      <td>Kerneler</td>\n",
       "      <td>423.0</td>\n",
       "    </tr>\n",
       "    <tr>\n",
       "      <th>4</th>\n",
       "      <td>4</td>\n",
       "      <td>2010-01-01</td>\n",
       "      <td>Canada</td>\n",
       "      <td>Discount Stickers</td>\n",
       "      <td>Kerneler Dark Mode</td>\n",
       "      <td>491.0</td>\n",
       "    </tr>\n",
       "  </tbody>\n",
       "</table>\n",
       "</div>"
      ],
      "text/plain": [
       "   id        date country              store             product  num_sold\n",
       "0   0  2010-01-01  Canada  Discount Stickers   Holographic Goose       NaN\n",
       "1   1  2010-01-01  Canada  Discount Stickers              Kaggle     973.0\n",
       "2   2  2010-01-01  Canada  Discount Stickers        Kaggle Tiers     906.0\n",
       "3   3  2010-01-01  Canada  Discount Stickers            Kerneler     423.0\n",
       "4   4  2010-01-01  Canada  Discount Stickers  Kerneler Dark Mode     491.0"
      ]
     },
     "execution_count": 3,
     "metadata": {},
     "output_type": "execute_result"
    }
   ],
   "source": [
    "train_df.head()"
   ]
  },
  {
   "cell_type": "code",
   "execution_count": 4,
   "id": "74a3b60e",
   "metadata": {
    "execution": {
     "iopub.execute_input": "2025-01-22T03:58:24.257745Z",
     "iopub.status.busy": "2025-01-22T03:58:24.257427Z",
     "iopub.status.idle": "2025-01-22T03:58:24.262126Z",
     "shell.execute_reply": "2025-01-22T03:58:24.261152Z"
    },
    "papermill": {
     "duration": 0.010768,
     "end_time": "2025-01-22T03:58:24.263702",
     "exception": false,
     "start_time": "2025-01-22T03:58:24.252934",
     "status": "completed"
    },
    "tags": []
   },
   "outputs": [],
   "source": [
    "def get_unique_counts(df) -> dict:\n",
    "\n",
    "    unique_counts = {}\n",
    "    \n",
    "    for col in df.columns:\n",
    "        unique_val_count = df[col].nunique()  # or len(df[col].unique())\n",
    "        unique_counts[col] = unique_val_count\n",
    "        \n",
    "        # Print the column name and its unique-value count\n",
    "        print(f\" {col} : {unique_val_count}\")\n",
    "    \n",
    "    return unique_counts\n"
   ]
  },
  {
   "cell_type": "code",
   "execution_count": 5,
   "id": "46ecd87a",
   "metadata": {
    "execution": {
     "iopub.execute_input": "2025-01-22T03:58:24.269683Z",
     "iopub.status.busy": "2025-01-22T03:58:24.269408Z",
     "iopub.status.idle": "2025-01-22T03:58:24.351225Z",
     "shell.execute_reply": "2025-01-22T03:58:24.349989Z"
    },
    "papermill": {
     "duration": 0.08648,
     "end_time": "2025-01-22T03:58:24.352810",
     "exception": false,
     "start_time": "2025-01-22T03:58:24.266330",
     "status": "completed"
    },
    "tags": []
   },
   "outputs": [
    {
     "name": "stdout",
     "output_type": "stream",
     "text": [
      " id : 230130\n",
      " date : 2557\n",
      " country : 6\n",
      " store : 3\n",
      " product : 5\n",
      " num_sold : 4037\n"
     ]
    }
   ],
   "source": [
    "unique_vals = get_unique_counts(train_df)"
   ]
  },
  {
   "cell_type": "code",
   "execution_count": 6,
   "id": "454e6897",
   "metadata": {
    "execution": {
     "iopub.execute_input": "2025-01-22T03:58:24.359253Z",
     "iopub.status.busy": "2025-01-22T03:58:24.358967Z",
     "iopub.status.idle": "2025-01-22T03:58:24.418661Z",
     "shell.execute_reply": "2025-01-22T03:58:24.417690Z"
    },
    "papermill": {
     "duration": 0.064836,
     "end_time": "2025-01-22T03:58:24.420549",
     "exception": false,
     "start_time": "2025-01-22T03:58:24.355713",
     "status": "completed"
    },
    "tags": []
   },
   "outputs": [
    {
     "data": {
      "text/plain": [
       "id             0\n",
       "date           0\n",
       "country        0\n",
       "store          0\n",
       "product        0\n",
       "num_sold    8871\n",
       "dtype: int64"
      ]
     },
     "execution_count": 6,
     "metadata": {},
     "output_type": "execute_result"
    }
   ],
   "source": [
    "train_df.isnull().sum()"
   ]
  },
  {
   "cell_type": "code",
   "execution_count": 7,
   "id": "e046caef",
   "metadata": {
    "execution": {
     "iopub.execute_input": "2025-01-22T03:58:24.427476Z",
     "iopub.status.busy": "2025-01-22T03:58:24.427171Z",
     "iopub.status.idle": "2025-01-22T03:58:24.450816Z",
     "shell.execute_reply": "2025-01-22T03:58:24.449760Z"
    },
    "papermill": {
     "duration": 0.028706,
     "end_time": "2025-01-22T03:58:24.452265",
     "exception": false,
     "start_time": "2025-01-22T03:58:24.423559",
     "status": "completed"
    },
    "tags": []
   },
   "outputs": [
    {
     "name": "stdout",
     "output_type": "stream",
     "text": [
      "number sold column descriptive statistics\n"
     ]
    },
    {
     "data": {
      "text/plain": [
       "count    221259.000000\n",
       "mean        752.527382\n",
       "std         690.165445\n",
       "min           5.000000\n",
       "25%         219.000000\n",
       "50%         605.000000\n",
       "75%        1114.000000\n",
       "max        5939.000000\n",
       "Name: num_sold, dtype: float64"
      ]
     },
     "execution_count": 7,
     "metadata": {},
     "output_type": "execute_result"
    }
   ],
   "source": [
    "print('number sold column descriptive statistics')\n",
    "train_df['num_sold'].describe()"
   ]
  }
 ],
 "metadata": {
  "kaggle": {
   "accelerator": "none",
   "dataSources": [
    {
     "databundleVersionId": 10652996,
     "sourceId": 85723,
     "sourceType": "competition"
    }
   ],
   "dockerImageVersionId": 30839,
   "isGpuEnabled": false,
   "isInternetEnabled": true,
   "language": "python",
   "sourceType": "notebook"
  },
  "kernelspec": {
   "display_name": "Python 3",
   "language": "python",
   "name": "python3"
  },
  "language_info": {
   "codemirror_mode": {
    "name": "ipython",
    "version": 3
   },
   "file_extension": ".py",
   "mimetype": "text/x-python",
   "name": "python",
   "nbconvert_exporter": "python",
   "pygments_lexer": "ipython3",
   "version": "3.10.12"
  },
  "papermill": {
   "default_parameters": {},
   "duration": 5.103501,
   "end_time": "2025-01-22T03:58:24.973809",
   "environment_variables": {},
   "exception": null,
   "input_path": "__notebook__.ipynb",
   "output_path": "__notebook__.ipynb",
   "parameters": {},
   "start_time": "2025-01-22T03:58:19.870308",
   "version": "2.6.0"
  }
 },
 "nbformat": 4,
 "nbformat_minor": 5
}
