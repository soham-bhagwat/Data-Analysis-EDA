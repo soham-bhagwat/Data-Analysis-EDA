{
 "cells": [
  {
   "cell_type": "code",
   "execution_count": 1,
   "id": "463ca6de",
   "metadata": {
    "_cell_guid": "b1076dfc-b9ad-4769-8c92-a6c4dae69d19",
    "_uuid": "8f2839f25d086af736a60e9eeb907d3b93b6e0e5",
    "execution": {
     "iopub.execute_input": "2025-01-24T04:00:39.499033Z",
     "iopub.status.busy": "2025-01-24T04:00:39.498673Z",
     "iopub.status.idle": "2025-01-24T04:00:40.372372Z",
     "shell.execute_reply": "2025-01-24T04:00:40.371177Z"
    },
    "papermill": {
     "duration": 0.879669,
     "end_time": "2025-01-24T04:00:40.373980",
     "exception": false,
     "start_time": "2025-01-24T04:00:39.494311",
     "status": "completed"
    },
    "tags": []
   },
   "outputs": [
    {
     "name": "stdout",
     "output_type": "stream",
     "text": [
      "/kaggle/input/playground-series-s5e1/sample_submission.csv\n",
      "/kaggle/input/playground-series-s5e1/train.csv\n",
      "/kaggle/input/playground-series-s5e1/test.csv\n"
     ]
    }
   ],
   "source": [
    "# This Python 3 environment comes with many helpful analytics libraries installed\n",
    "# It is defined by the kaggle/python Docker image: https://github.com/kaggle/docker-python\n",
    "# For example, here's several helpful packages to load\n",
    "\n",
    "import numpy as np # linear algebra\n",
    "import pandas as pd # data processing, CSV file I/O (e.g. pd.read_csv)\n",
    "\n",
    "# Input data files are available in the read-only \"../input/\" directory\n",
    "# For example, running this (by clicking run or pressing Shift+Enter) will list all files under the input directory\n",
    "\n",
    "import os\n",
    "for dirname, _, filenames in os.walk('/kaggle/input'):\n",
    "    for filename in filenames:\n",
    "        print(os.path.join(dirname, filename))\n",
    "\n",
    "# You can write up to 20GB to the current directory (/kaggle/working/) that gets preserved as output when you create a version using \"Save & Run All\" \n",
    "# You can also write temporary files to /kaggle/temp/, but they won't be saved outside of the current session"
   ]
  },
  {
   "cell_type": "code",
   "execution_count": 2,
   "id": "93a1bfa9",
   "metadata": {
    "execution": {
     "iopub.execute_input": "2025-01-24T04:00:40.380733Z",
     "iopub.status.busy": "2025-01-24T04:00:40.380311Z",
     "iopub.status.idle": "2025-01-24T04:00:40.894304Z",
     "shell.execute_reply": "2025-01-24T04:00:40.893230Z"
    },
    "papermill": {
     "duration": 0.519308,
     "end_time": "2025-01-24T04:00:40.896342",
     "exception": false,
     "start_time": "2025-01-24T04:00:40.377034",
     "status": "completed"
    },
    "tags": []
   },
   "outputs": [],
   "source": [
    "train_df = pd.read_csv('/kaggle/input/playground-series-s5e1/train.csv')\n",
    "test_df = pd.read_csv('/kaggle/input/playground-series-s5e1/test.csv')"
   ]
  },
  {
   "cell_type": "code",
   "execution_count": 3,
   "id": "2c2adaeb",
   "metadata": {
    "execution": {
     "iopub.execute_input": "2025-01-24T04:00:40.903021Z",
     "iopub.status.busy": "2025-01-24T04:00:40.902681Z",
     "iopub.status.idle": "2025-01-24T04:00:40.927413Z",
     "shell.execute_reply": "2025-01-24T04:00:40.926268Z"
    },
    "papermill": {
     "duration": 0.029945,
     "end_time": "2025-01-24T04:00:40.929274",
     "exception": false,
     "start_time": "2025-01-24T04:00:40.899329",
     "status": "completed"
    },
    "tags": []
   },
   "outputs": [
    {
     "name": "stderr",
     "output_type": "stream",
     "text": [
      "/usr/local/lib/python3.10/dist-packages/pandas/io/formats/format.py:1458: RuntimeWarning: invalid value encountered in greater\n",
      "  has_large_values = (abs_vals > 1e6).any()\n",
      "/usr/local/lib/python3.10/dist-packages/pandas/io/formats/format.py:1459: RuntimeWarning: invalid value encountered in less\n",
      "  has_small_values = ((abs_vals < 10 ** (-self.digits)) & (abs_vals > 0)).any()\n",
      "/usr/local/lib/python3.10/dist-packages/pandas/io/formats/format.py:1459: RuntimeWarning: invalid value encountered in greater\n",
      "  has_small_values = ((abs_vals < 10 ** (-self.digits)) & (abs_vals > 0)).any()\n"
     ]
    },
    {
     "data": {
      "text/html": [
       "<div>\n",
       "<style scoped>\n",
       "    .dataframe tbody tr th:only-of-type {\n",
       "        vertical-align: middle;\n",
       "    }\n",
       "\n",
       "    .dataframe tbody tr th {\n",
       "        vertical-align: top;\n",
       "    }\n",
       "\n",
       "    .dataframe thead th {\n",
       "        text-align: right;\n",
       "    }\n",
       "</style>\n",
       "<table border=\"1\" class=\"dataframe\">\n",
       "  <thead>\n",
       "    <tr style=\"text-align: right;\">\n",
       "      <th></th>\n",
       "      <th>id</th>\n",
       "      <th>date</th>\n",
       "      <th>country</th>\n",
       "      <th>store</th>\n",
       "      <th>product</th>\n",
       "      <th>num_sold</th>\n",
       "    </tr>\n",
       "  </thead>\n",
       "  <tbody>\n",
       "    <tr>\n",
       "      <th>0</th>\n",
       "      <td>0</td>\n",
       "      <td>2010-01-01</td>\n",
       "      <td>Canada</td>\n",
       "      <td>Discount Stickers</td>\n",
       "      <td>Holographic Goose</td>\n",
       "      <td>NaN</td>\n",
       "    </tr>\n",
       "    <tr>\n",
       "      <th>1</th>\n",
       "      <td>1</td>\n",
       "      <td>2010-01-01</td>\n",
       "      <td>Canada</td>\n",
       "      <td>Discount Stickers</td>\n",
       "      <td>Kaggle</td>\n",
       "      <td>973.0</td>\n",
       "    </tr>\n",
       "    <tr>\n",
       "      <th>2</th>\n",
       "      <td>2</td>\n",
       "      <td>2010-01-01</td>\n",
       "      <td>Canada</td>\n",
       "      <td>Discount Stickers</td>\n",
       "      <td>Kaggle Tiers</td>\n",
       "      <td>906.0</td>\n",
       "    </tr>\n",
       "    <tr>\n",
       "      <th>3</th>\n",
       "      <td>3</td>\n",
       "      <td>2010-01-01</td>\n",
       "      <td>Canada</td>\n",
       "      <td>Discount Stickers</td>\n",
       "      <td>Kerneler</td>\n",
       "      <td>423.0</td>\n",
       "    </tr>\n",
       "    <tr>\n",
       "      <th>4</th>\n",
       "      <td>4</td>\n",
       "      <td>2010-01-01</td>\n",
       "      <td>Canada</td>\n",
       "      <td>Discount Stickers</td>\n",
       "      <td>Kerneler Dark Mode</td>\n",
       "      <td>491.0</td>\n",
       "    </tr>\n",
       "  </tbody>\n",
       "</table>\n",
       "</div>"
      ],
      "text/plain": [
       "   id        date country              store             product  num_sold\n",
       "0   0  2010-01-01  Canada  Discount Stickers   Holographic Goose       NaN\n",
       "1   1  2010-01-01  Canada  Discount Stickers              Kaggle     973.0\n",
       "2   2  2010-01-01  Canada  Discount Stickers        Kaggle Tiers     906.0\n",
       "3   3  2010-01-01  Canada  Discount Stickers            Kerneler     423.0\n",
       "4   4  2010-01-01  Canada  Discount Stickers  Kerneler Dark Mode     491.0"
      ]
     },
     "execution_count": 3,
     "metadata": {},
     "output_type": "execute_result"
    }
   ],
   "source": [
    "train_df.head()"
   ]
  },
  {
   "cell_type": "code",
   "execution_count": 4,
   "id": "8f346d91",
   "metadata": {
    "execution": {
     "iopub.execute_input": "2025-01-24T04:00:40.936387Z",
     "iopub.status.busy": "2025-01-24T04:00:40.936059Z",
     "iopub.status.idle": "2025-01-24T04:00:41.011171Z",
     "shell.execute_reply": "2025-01-24T04:00:41.009951Z"
    },
    "papermill": {
     "duration": 0.08031,
     "end_time": "2025-01-24T04:00:41.012673",
     "exception": false,
     "start_time": "2025-01-24T04:00:40.932363",
     "status": "completed"
    },
    "tags": []
   },
   "outputs": [
    {
     "name": "stdout",
     "output_type": "stream",
     "text": [
      "<class 'pandas.core.frame.DataFrame'>\n",
      "RangeIndex: 230130 entries, 0 to 230129\n",
      "Data columns (total 6 columns):\n",
      " #   Column    Non-Null Count   Dtype  \n",
      "---  ------    --------------   -----  \n",
      " 0   id        230130 non-null  int64  \n",
      " 1   date      230130 non-null  object \n",
      " 2   country   230130 non-null  object \n",
      " 3   store     230130 non-null  object \n",
      " 4   product   230130 non-null  object \n",
      " 5   num_sold  221259 non-null  float64\n",
      "dtypes: float64(1), int64(1), object(4)\n",
      "memory usage: 10.5+ MB\n"
     ]
    }
   ],
   "source": [
    "train_df.info()"
   ]
  },
  {
   "cell_type": "code",
   "execution_count": 5,
   "id": "229cd391",
   "metadata": {
    "execution": {
     "iopub.execute_input": "2025-01-24T04:00:41.019763Z",
     "iopub.status.busy": "2025-01-24T04:00:41.019472Z",
     "iopub.status.idle": "2025-01-24T04:00:41.024225Z",
     "shell.execute_reply": "2025-01-24T04:00:41.023118Z"
    },
    "papermill": {
     "duration": 0.010029,
     "end_time": "2025-01-24T04:00:41.025823",
     "exception": false,
     "start_time": "2025-01-24T04:00:41.015794",
     "status": "completed"
    },
    "tags": []
   },
   "outputs": [],
   "source": [
    "def get_unique_counts(df) -> dict:\n",
    "\n",
    "    unique_counts = {}\n",
    "    \n",
    "    for col in df.columns:\n",
    "        unique_val_count = df[col].nunique()  # or len(df[col].unique())\n",
    "        unique_counts[col] = unique_val_count\n",
    "        \n",
    "        # Print the column name and its unique-value count\n",
    "        print(f\" {col} : {unique_val_count}\")\n",
    "    \n",
    "    return unique_counts\n"
   ]
  },
  {
   "cell_type": "code",
   "execution_count": 6,
   "id": "2447c818",
   "metadata": {
    "execution": {
     "iopub.execute_input": "2025-01-24T04:00:41.033052Z",
     "iopub.status.busy": "2025-01-24T04:00:41.032653Z",
     "iopub.status.idle": "2025-01-24T04:00:41.105439Z",
     "shell.execute_reply": "2025-01-24T04:00:41.104238Z"
    },
    "papermill": {
     "duration": 0.07809,
     "end_time": "2025-01-24T04:00:41.107088",
     "exception": false,
     "start_time": "2025-01-24T04:00:41.028998",
     "status": "completed"
    },
    "tags": []
   },
   "outputs": [
    {
     "name": "stdout",
     "output_type": "stream",
     "text": [
      " id : 230130\n",
      " date : 2557\n",
      " country : 6\n",
      " store : 3\n",
      " product : 5\n",
      " num_sold : 4037\n"
     ]
    }
   ],
   "source": [
    "unique_vals = get_unique_counts(train_df)"
   ]
  },
  {
   "cell_type": "code",
   "execution_count": 7,
   "id": "edbe7db1",
   "metadata": {
    "execution": {
     "iopub.execute_input": "2025-01-24T04:00:41.114574Z",
     "iopub.status.busy": "2025-01-24T04:00:41.114199Z",
     "iopub.status.idle": "2025-01-24T04:00:41.171536Z",
     "shell.execute_reply": "2025-01-24T04:00:41.170511Z"
    },
    "papermill": {
     "duration": 0.062953,
     "end_time": "2025-01-24T04:00:41.173302",
     "exception": false,
     "start_time": "2025-01-24T04:00:41.110349",
     "status": "completed"
    },
    "tags": []
   },
   "outputs": [
    {
     "data": {
      "text/plain": [
       "id             0\n",
       "date           0\n",
       "country        0\n",
       "store          0\n",
       "product        0\n",
       "num_sold    8871\n",
       "dtype: int64"
      ]
     },
     "execution_count": 7,
     "metadata": {},
     "output_type": "execute_result"
    }
   ],
   "source": [
    "train_df.isnull().sum()"
   ]
  },
  {
   "cell_type": "code",
   "execution_count": 8,
   "id": "501f8bcb",
   "metadata": {
    "execution": {
     "iopub.execute_input": "2025-01-24T04:00:41.180748Z",
     "iopub.status.busy": "2025-01-24T04:00:41.180425Z",
     "iopub.status.idle": "2025-01-24T04:00:41.201846Z",
     "shell.execute_reply": "2025-01-24T04:00:41.201005Z"
    },
    "papermill": {
     "duration": 0.02676,
     "end_time": "2025-01-24T04:00:41.203421",
     "exception": false,
     "start_time": "2025-01-24T04:00:41.176661",
     "status": "completed"
    },
    "tags": []
   },
   "outputs": [
    {
     "name": "stdout",
     "output_type": "stream",
     "text": [
      "number sold column descriptive statistics\n"
     ]
    },
    {
     "data": {
      "text/plain": [
       "count    221259.000000\n",
       "mean        752.527382\n",
       "std         690.165445\n",
       "min           5.000000\n",
       "25%         219.000000\n",
       "50%         605.000000\n",
       "75%        1114.000000\n",
       "max        5939.000000\n",
       "Name: num_sold, dtype: float64"
      ]
     },
     "execution_count": 8,
     "metadata": {},
     "output_type": "execute_result"
    }
   ],
   "source": [
    "print('number sold column descriptive statistics')\n",
    "train_df['num_sold'].describe()"
   ]
  },
  {
   "cell_type": "code",
   "execution_count": 9,
   "id": "7991195d",
   "metadata": {
    "execution": {
     "iopub.execute_input": "2025-01-24T04:00:41.211069Z",
     "iopub.status.busy": "2025-01-24T04:00:41.210700Z",
     "iopub.status.idle": "2025-01-24T04:00:41.216981Z",
     "shell.execute_reply": "2025-01-24T04:00:41.216194Z"
    },
    "papermill": {
     "duration": 0.011735,
     "end_time": "2025-01-24T04:00:41.218521",
     "exception": false,
     "start_time": "2025-01-24T04:00:41.206786",
     "status": "completed"
    },
    "tags": []
   },
   "outputs": [],
   "source": [
    "#feature engineering dates \n",
    "\n",
    "def date_transform(df, col):\n",
    "    df[col] = pd.to_datetime(df[col])\n",
    "    df['year'] = df[col].dt.year.astype('int')\n",
    "    df['quarter'] = df[col].dt.quarter.astype('int')\n",
    "    df['month'] = df[col].dt.month.astype('int')\n",
    "    df['day_of_week'] = df[col].dt.dayofweek.astype('int')\n",
    "    df['day'] = df[col].dt.day.astype('int')\n",
    "    df['week_of_year'] = df[col].dt.isocalendar().week.astype('int')\n",
    "    "
   ]
  }
 ],
 "metadata": {
  "kaggle": {
   "accelerator": "none",
   "dataSources": [
    {
     "databundleVersionId": 10652996,
     "sourceId": 85723,
     "sourceType": "competition"
    }
   ],
   "dockerImageVersionId": 30839,
   "isGpuEnabled": false,
   "isInternetEnabled": true,
   "language": "python",
   "sourceType": "notebook"
  },
  "kernelspec": {
   "display_name": "Python 3",
   "language": "python",
   "name": "python3"
  },
  "language_info": {
   "codemirror_mode": {
    "name": "ipython",
    "version": 3
   },
   "file_extension": ".py",
   "mimetype": "text/x-python",
   "name": "python",
   "nbconvert_exporter": "python",
   "pygments_lexer": "ipython3",
   "version": "3.10.12"
  },
  "papermill": {
   "default_parameters": {},
   "duration": 5.304176,
   "end_time": "2025-01-24T04:00:41.740336",
   "environment_variables": {},
   "exception": null,
   "input_path": "__notebook__.ipynb",
   "output_path": "__notebook__.ipynb",
   "parameters": {},
   "start_time": "2025-01-24T04:00:36.436160",
   "version": "2.6.0"
  }
 },
 "nbformat": 4,
 "nbformat_minor": 5
}
