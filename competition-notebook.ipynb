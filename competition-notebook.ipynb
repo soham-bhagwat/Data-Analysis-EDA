{
 "cells": [
  {
   "cell_type": "code",
   "execution_count": 1,
   "id": "d33cbd94",
   "metadata": {
    "_cell_guid": "b1076dfc-b9ad-4769-8c92-a6c4dae69d19",
    "_uuid": "8f2839f25d086af736a60e9eeb907d3b93b6e0e5",
    "execution": {
     "iopub.execute_input": "2024-09-01T13:21:02.352790Z",
     "iopub.status.busy": "2024-09-01T13:21:02.352369Z",
     "iopub.status.idle": "2024-09-01T13:21:04.489554Z",
     "shell.execute_reply": "2024-09-01T13:21:04.488313Z"
    },
    "papermill": {
     "duration": 2.147172,
     "end_time": "2024-09-01T13:21:04.492604",
     "exception": false,
     "start_time": "2024-09-01T13:21:02.345432",
     "status": "completed"
    },
    "tags": []
   },
   "outputs": [
    {
     "name": "stdout",
     "output_type": "stream",
     "text": [
      "/kaggle/input/playground-series-s4e9/sample_submission.csv\n",
      "/kaggle/input/playground-series-s4e9/train.csv\n",
      "/kaggle/input/playground-series-s4e9/test.csv\n"
     ]
    }
   ],
   "source": [
    "# This Python 3 environment comes with many helpful analytics libraries installed\n",
    "# It is defined by the kaggle/python Docker image: https://github.com/kaggle/docker-python\n",
    "# For example, here's several helpful packages to load\n",
    "\n",
    "import numpy as np # linear algebra\n",
    "import pandas as pd # data processing, CSV file I/O (e.g. pd.read_csv)\n",
    "import seaborn as sns\n",
    "import matplotlib.pyplot as plt\n",
    "\n",
    "# Input data files are available in the read-only \"../input/\" directory\n",
    "# For example, running this (by clicking run or pressing Shift+Enter) will list all files under the input directory\n",
    "\n",
    "import os\n",
    "for dirname, _, filenames in os.walk('/kaggle/input'):\n",
    "    for filename in filenames:\n",
    "        print(os.path.join(dirname, filename))\n",
    "\n",
    "# You can write up to 20GB to the current directory (/kaggle/working/) that gets preserved as output when you create a version using \"Save & Run All\" \n",
    "# You can also write temporary files to /kaggle/temp/, but they won't be saved outside of the current session"
   ]
  },
  {
   "cell_type": "code",
   "execution_count": 2,
   "id": "291f8a62",
   "metadata": {
    "execution": {
     "iopub.execute_input": "2024-09-01T13:21:04.504200Z",
     "iopub.status.busy": "2024-09-01T13:21:04.503622Z",
     "iopub.status.idle": "2024-09-01T13:21:05.449108Z",
     "shell.execute_reply": "2024-09-01T13:21:05.447973Z"
    },
    "papermill": {
     "duration": 0.9542,
     "end_time": "2024-09-01T13:21:05.451756",
     "exception": false,
     "start_time": "2024-09-01T13:21:04.497556",
     "status": "completed"
    },
    "tags": []
   },
   "outputs": [
    {
     "data": {
      "text/html": [
       "<div>\n",
       "<style scoped>\n",
       "    .dataframe tbody tr th:only-of-type {\n",
       "        vertical-align: middle;\n",
       "    }\n",
       "\n",
       "    .dataframe tbody tr th {\n",
       "        vertical-align: top;\n",
       "    }\n",
       "\n",
       "    .dataframe thead th {\n",
       "        text-align: right;\n",
       "    }\n",
       "</style>\n",
       "<table border=\"1\" class=\"dataframe\">\n",
       "  <thead>\n",
       "    <tr style=\"text-align: right;\">\n",
       "      <th></th>\n",
       "      <th>id</th>\n",
       "      <th>brand</th>\n",
       "      <th>model</th>\n",
       "      <th>model_year</th>\n",
       "      <th>milage</th>\n",
       "      <th>fuel_type</th>\n",
       "      <th>engine</th>\n",
       "      <th>transmission</th>\n",
       "      <th>ext_col</th>\n",
       "      <th>int_col</th>\n",
       "      <th>accident</th>\n",
       "      <th>clean_title</th>\n",
       "      <th>price</th>\n",
       "    </tr>\n",
       "  </thead>\n",
       "  <tbody>\n",
       "    <tr>\n",
       "      <th>0</th>\n",
       "      <td>0</td>\n",
       "      <td>MINI</td>\n",
       "      <td>Cooper S Base</td>\n",
       "      <td>2007</td>\n",
       "      <td>213000</td>\n",
       "      <td>Gasoline</td>\n",
       "      <td>172.0HP 1.6L 4 Cylinder Engine Gasoline Fuel</td>\n",
       "      <td>A/T</td>\n",
       "      <td>Yellow</td>\n",
       "      <td>Gray</td>\n",
       "      <td>None reported</td>\n",
       "      <td>Yes</td>\n",
       "      <td>4200</td>\n",
       "    </tr>\n",
       "    <tr>\n",
       "      <th>1</th>\n",
       "      <td>1</td>\n",
       "      <td>Lincoln</td>\n",
       "      <td>LS V8</td>\n",
       "      <td>2002</td>\n",
       "      <td>143250</td>\n",
       "      <td>Gasoline</td>\n",
       "      <td>252.0HP 3.9L 8 Cylinder Engine Gasoline Fuel</td>\n",
       "      <td>A/T</td>\n",
       "      <td>Silver</td>\n",
       "      <td>Beige</td>\n",
       "      <td>At least 1 accident or damage reported</td>\n",
       "      <td>Yes</td>\n",
       "      <td>4999</td>\n",
       "    </tr>\n",
       "    <tr>\n",
       "      <th>2</th>\n",
       "      <td>2</td>\n",
       "      <td>Chevrolet</td>\n",
       "      <td>Silverado 2500 LT</td>\n",
       "      <td>2002</td>\n",
       "      <td>136731</td>\n",
       "      <td>E85 Flex Fuel</td>\n",
       "      <td>320.0HP 5.3L 8 Cylinder Engine Flex Fuel Capab...</td>\n",
       "      <td>A/T</td>\n",
       "      <td>Blue</td>\n",
       "      <td>Gray</td>\n",
       "      <td>None reported</td>\n",
       "      <td>Yes</td>\n",
       "      <td>13900</td>\n",
       "    </tr>\n",
       "    <tr>\n",
       "      <th>3</th>\n",
       "      <td>3</td>\n",
       "      <td>Genesis</td>\n",
       "      <td>G90 5.0 Ultimate</td>\n",
       "      <td>2017</td>\n",
       "      <td>19500</td>\n",
       "      <td>Gasoline</td>\n",
       "      <td>420.0HP 5.0L 8 Cylinder Engine Gasoline Fuel</td>\n",
       "      <td>Transmission w/Dual Shift Mode</td>\n",
       "      <td>Black</td>\n",
       "      <td>Black</td>\n",
       "      <td>None reported</td>\n",
       "      <td>Yes</td>\n",
       "      <td>45000</td>\n",
       "    </tr>\n",
       "    <tr>\n",
       "      <th>4</th>\n",
       "      <td>4</td>\n",
       "      <td>Mercedes-Benz</td>\n",
       "      <td>Metris Base</td>\n",
       "      <td>2021</td>\n",
       "      <td>7388</td>\n",
       "      <td>Gasoline</td>\n",
       "      <td>208.0HP 2.0L 4 Cylinder Engine Gasoline Fuel</td>\n",
       "      <td>7-Speed A/T</td>\n",
       "      <td>Black</td>\n",
       "      <td>Beige</td>\n",
       "      <td>None reported</td>\n",
       "      <td>Yes</td>\n",
       "      <td>97500</td>\n",
       "    </tr>\n",
       "  </tbody>\n",
       "</table>\n",
       "</div>"
      ],
      "text/plain": [
       "   id          brand              model  model_year  milage      fuel_type  \\\n",
       "0   0           MINI      Cooper S Base        2007  213000       Gasoline   \n",
       "1   1        Lincoln              LS V8        2002  143250       Gasoline   \n",
       "2   2      Chevrolet  Silverado 2500 LT        2002  136731  E85 Flex Fuel   \n",
       "3   3        Genesis   G90 5.0 Ultimate        2017   19500       Gasoline   \n",
       "4   4  Mercedes-Benz        Metris Base        2021    7388       Gasoline   \n",
       "\n",
       "                                              engine  \\\n",
       "0       172.0HP 1.6L 4 Cylinder Engine Gasoline Fuel   \n",
       "1       252.0HP 3.9L 8 Cylinder Engine Gasoline Fuel   \n",
       "2  320.0HP 5.3L 8 Cylinder Engine Flex Fuel Capab...   \n",
       "3       420.0HP 5.0L 8 Cylinder Engine Gasoline Fuel   \n",
       "4       208.0HP 2.0L 4 Cylinder Engine Gasoline Fuel   \n",
       "\n",
       "                     transmission ext_col int_col  \\\n",
       "0                             A/T  Yellow    Gray   \n",
       "1                             A/T  Silver   Beige   \n",
       "2                             A/T    Blue    Gray   \n",
       "3  Transmission w/Dual Shift Mode   Black   Black   \n",
       "4                     7-Speed A/T   Black   Beige   \n",
       "\n",
       "                                 accident clean_title  price  \n",
       "0                           None reported         Yes   4200  \n",
       "1  At least 1 accident or damage reported         Yes   4999  \n",
       "2                           None reported         Yes  13900  \n",
       "3                           None reported         Yes  45000  \n",
       "4                           None reported         Yes  97500  "
      ]
     },
     "execution_count": 2,
     "metadata": {},
     "output_type": "execute_result"
    }
   ],
   "source": [
    "train_df = pd.read_csv('/kaggle/input/playground-series-s4e9/train.csv')\n",
    "train_df.head()"
   ]
  },
  {
   "cell_type": "code",
   "execution_count": 3,
   "id": "6ac9b542",
   "metadata": {
    "execution": {
     "iopub.execute_input": "2024-09-01T13:21:05.464133Z",
     "iopub.status.busy": "2024-09-01T13:21:05.463671Z",
     "iopub.status.idle": "2024-09-01T13:21:05.666091Z",
     "shell.execute_reply": "2024-09-01T13:21:05.665051Z"
    },
    "papermill": {
     "duration": 0.211879,
     "end_time": "2024-09-01T13:21:05.669037",
     "exception": false,
     "start_time": "2024-09-01T13:21:05.457158",
     "status": "completed"
    },
    "tags": []
   },
   "outputs": [
    {
     "name": "stdout",
     "output_type": "stream",
     "text": [
      "<class 'pandas.core.frame.DataFrame'>\n",
      "RangeIndex: 188533 entries, 0 to 188532\n",
      "Data columns (total 13 columns):\n",
      " #   Column        Non-Null Count   Dtype \n",
      "---  ------        --------------   ----- \n",
      " 0   id            188533 non-null  int64 \n",
      " 1   brand         188533 non-null  object\n",
      " 2   model         188533 non-null  object\n",
      " 3   model_year    188533 non-null  int64 \n",
      " 4   milage        188533 non-null  int64 \n",
      " 5   fuel_type     183450 non-null  object\n",
      " 6   engine        188533 non-null  object\n",
      " 7   transmission  188533 non-null  object\n",
      " 8   ext_col       188533 non-null  object\n",
      " 9   int_col       188533 non-null  object\n",
      " 10  accident      186081 non-null  object\n",
      " 11  clean_title   167114 non-null  object\n",
      " 12  price         188533 non-null  int64 \n",
      "dtypes: int64(4), object(9)\n",
      "memory usage: 18.7+ MB\n"
     ]
    }
   ],
   "source": [
    "train_df.info()"
   ]
  },
  {
   "cell_type": "code",
   "execution_count": 4,
   "id": "f59beac6",
   "metadata": {
    "execution": {
     "iopub.execute_input": "2024-09-01T13:21:05.681172Z",
     "iopub.status.busy": "2024-09-01T13:21:05.680727Z",
     "iopub.status.idle": "2024-09-01T13:21:05.729262Z",
     "shell.execute_reply": "2024-09-01T13:21:05.728094Z"
    },
    "papermill": {
     "duration": 0.057743,
     "end_time": "2024-09-01T13:21:05.732005",
     "exception": false,
     "start_time": "2024-09-01T13:21:05.674262",
     "status": "completed"
    },
    "tags": []
   },
   "outputs": [
    {
     "data": {
      "text/html": [
       "<div>\n",
       "<style scoped>\n",
       "    .dataframe tbody tr th:only-of-type {\n",
       "        vertical-align: middle;\n",
       "    }\n",
       "\n",
       "    .dataframe tbody tr th {\n",
       "        vertical-align: top;\n",
       "    }\n",
       "\n",
       "    .dataframe thead th {\n",
       "        text-align: right;\n",
       "    }\n",
       "</style>\n",
       "<table border=\"1\" class=\"dataframe\">\n",
       "  <thead>\n",
       "    <tr style=\"text-align: right;\">\n",
       "      <th></th>\n",
       "      <th>id</th>\n",
       "      <th>model_year</th>\n",
       "      <th>milage</th>\n",
       "      <th>price</th>\n",
       "    </tr>\n",
       "  </thead>\n",
       "  <tbody>\n",
       "    <tr>\n",
       "      <th>count</th>\n",
       "      <td>188533.000000</td>\n",
       "      <td>188533.000000</td>\n",
       "      <td>188533.000000</td>\n",
       "      <td>1.885330e+05</td>\n",
       "    </tr>\n",
       "    <tr>\n",
       "      <th>mean</th>\n",
       "      <td>94266.000000</td>\n",
       "      <td>2015.829998</td>\n",
       "      <td>65705.295174</td>\n",
       "      <td>4.387802e+04</td>\n",
       "    </tr>\n",
       "    <tr>\n",
       "      <th>std</th>\n",
       "      <td>54424.933488</td>\n",
       "      <td>5.660967</td>\n",
       "      <td>49798.158076</td>\n",
       "      <td>7.881952e+04</td>\n",
       "    </tr>\n",
       "    <tr>\n",
       "      <th>min</th>\n",
       "      <td>0.000000</td>\n",
       "      <td>1974.000000</td>\n",
       "      <td>100.000000</td>\n",
       "      <td>2.000000e+03</td>\n",
       "    </tr>\n",
       "    <tr>\n",
       "      <th>25%</th>\n",
       "      <td>47133.000000</td>\n",
       "      <td>2013.000000</td>\n",
       "      <td>24115.000000</td>\n",
       "      <td>1.700000e+04</td>\n",
       "    </tr>\n",
       "    <tr>\n",
       "      <th>50%</th>\n",
       "      <td>94266.000000</td>\n",
       "      <td>2017.000000</td>\n",
       "      <td>57785.000000</td>\n",
       "      <td>3.082500e+04</td>\n",
       "    </tr>\n",
       "    <tr>\n",
       "      <th>75%</th>\n",
       "      <td>141399.000000</td>\n",
       "      <td>2020.000000</td>\n",
       "      <td>95400.000000</td>\n",
       "      <td>4.990000e+04</td>\n",
       "    </tr>\n",
       "    <tr>\n",
       "      <th>max</th>\n",
       "      <td>188532.000000</td>\n",
       "      <td>2024.000000</td>\n",
       "      <td>405000.000000</td>\n",
       "      <td>2.954083e+06</td>\n",
       "    </tr>\n",
       "  </tbody>\n",
       "</table>\n",
       "</div>"
      ],
      "text/plain": [
       "                  id     model_year         milage         price\n",
       "count  188533.000000  188533.000000  188533.000000  1.885330e+05\n",
       "mean    94266.000000    2015.829998   65705.295174  4.387802e+04\n",
       "std     54424.933488       5.660967   49798.158076  7.881952e+04\n",
       "min         0.000000    1974.000000     100.000000  2.000000e+03\n",
       "25%     47133.000000    2013.000000   24115.000000  1.700000e+04\n",
       "50%     94266.000000    2017.000000   57785.000000  3.082500e+04\n",
       "75%    141399.000000    2020.000000   95400.000000  4.990000e+04\n",
       "max    188532.000000    2024.000000  405000.000000  2.954083e+06"
      ]
     },
     "execution_count": 4,
     "metadata": {},
     "output_type": "execute_result"
    }
   ],
   "source": [
    "train_df.describe()"
   ]
  },
  {
   "cell_type": "code",
   "execution_count": 5,
   "id": "094d08ea",
   "metadata": {
    "execution": {
     "iopub.execute_input": "2024-09-01T13:21:05.745150Z",
     "iopub.status.busy": "2024-09-01T13:21:05.744717Z",
     "iopub.status.idle": "2024-09-01T13:21:05.750941Z",
     "shell.execute_reply": "2024-09-01T13:21:05.749671Z"
    },
    "papermill": {
     "duration": 0.01591,
     "end_time": "2024-09-01T13:21:05.753498",
     "exception": false,
     "start_time": "2024-09-01T13:21:05.737588",
     "status": "completed"
    },
    "tags": []
   },
   "outputs": [],
   "source": [
    "def get_missing_val(df):\n",
    "    for cols in df.columns:\n",
    "        print(cols, ' : ', df[cols].isna().sum())"
   ]
  },
  {
   "cell_type": "code",
   "execution_count": 6,
   "id": "95c698f7",
   "metadata": {
    "execution": {
     "iopub.execute_input": "2024-09-01T13:21:05.766143Z",
     "iopub.status.busy": "2024-09-01T13:21:05.765728Z",
     "iopub.status.idle": "2024-09-01T13:21:05.771584Z",
     "shell.execute_reply": "2024-09-01T13:21:05.770448Z"
    },
    "papermill": {
     "duration": 0.015069,
     "end_time": "2024-09-01T13:21:05.774024",
     "exception": false,
     "start_time": "2024-09-01T13:21:05.758955",
     "status": "completed"
    },
    "tags": []
   },
   "outputs": [],
   "source": [
    "def get_unique_vals(df):\n",
    "    print('Printing unique values')\n",
    "    for cols in df.columns:\n",
    "        print(cols, ':', df[cols].nunique())"
   ]
  },
  {
   "cell_type": "code",
   "execution_count": 7,
   "id": "0c79af97",
   "metadata": {
    "execution": {
     "iopub.execute_input": "2024-09-01T13:21:05.786787Z",
     "iopub.status.busy": "2024-09-01T13:21:05.786362Z",
     "iopub.status.idle": "2024-09-01T13:21:05.964498Z",
     "shell.execute_reply": "2024-09-01T13:21:05.963221Z"
    },
    "papermill": {
     "duration": 0.187637,
     "end_time": "2024-09-01T13:21:05.967181",
     "exception": false,
     "start_time": "2024-09-01T13:21:05.779544",
     "status": "completed"
    },
    "tags": []
   },
   "outputs": [
    {
     "name": "stdout",
     "output_type": "stream",
     "text": [
      "Printing unique values\n",
      "id : 188533\n",
      "brand : 57\n",
      "model : 1897\n",
      "model_year : 34\n",
      "milage : 6651\n",
      "fuel_type : 7\n",
      "engine : 1117\n",
      "transmission : 52\n",
      "ext_col : 319\n",
      "int_col : 156\n",
      "accident : 2\n",
      "clean_title : 1\n",
      "price : 1569\n"
     ]
    }
   ],
   "source": [
    "get_unique_vals(train_df)"
   ]
  },
  {
   "cell_type": "code",
   "execution_count": 8,
   "id": "2a047acc",
   "metadata": {
    "execution": {
     "iopub.execute_input": "2024-09-01T13:21:05.980027Z",
     "iopub.status.busy": "2024-09-01T13:21:05.979624Z",
     "iopub.status.idle": "2024-09-01T13:21:06.168946Z",
     "shell.execute_reply": "2024-09-01T13:21:06.167781Z"
    },
    "papermill": {
     "duration": 0.198664,
     "end_time": "2024-09-01T13:21:06.171478",
     "exception": false,
     "start_time": "2024-09-01T13:21:05.972814",
     "status": "completed"
    },
    "tags": []
   },
   "outputs": [
    {
     "name": "stdout",
     "output_type": "stream",
     "text": [
      "id  :  0\n",
      "brand  :  0\n",
      "model  :  0\n",
      "model_year  :  0\n",
      "milage  :  0\n",
      "fuel_type  :  5083\n",
      "engine  :  0\n",
      "transmission  :  0\n",
      "ext_col  :  0\n",
      "int_col  :  0\n",
      "accident  :  2452\n",
      "clean_title  :  21419\n",
      "price  :  0\n"
     ]
    }
   ],
   "source": [
    "get_missing_val(train_df)"
   ]
  },
  {
   "cell_type": "markdown",
   "id": "db7fdeae",
   "metadata": {
    "papermill": {
     "duration": 0.005573,
     "end_time": "2024-09-01T13:21:06.182892",
     "exception": false,
     "start_time": "2024-09-01T13:21:06.177319",
     "status": "completed"
    },
    "tags": []
   },
   "source": [
    "#### EDA"
   ]
  },
  {
   "cell_type": "code",
   "execution_count": 9,
   "id": "ca5206c1",
   "metadata": {
    "execution": {
     "iopub.execute_input": "2024-09-01T13:21:06.196342Z",
     "iopub.status.busy": "2024-09-01T13:21:06.195895Z",
     "iopub.status.idle": "2024-09-01T13:21:06.446835Z",
     "shell.execute_reply": "2024-09-01T13:21:06.445688Z"
    },
    "papermill": {
     "duration": 0.260848,
     "end_time": "2024-09-01T13:21:06.449511",
     "exception": false,
     "start_time": "2024-09-01T13:21:06.188663",
     "status": "completed"
    },
    "tags": []
   },
   "outputs": [
    {
     "name": "stdout",
     "output_type": "stream",
     "text": [
      "187695\n"
     ]
    },
    {
     "data": {
      "image/png": "[encoded data removed]",
      "text/plain": [
       "<Figure size 640x480 with 1 Axes>"
      ]
     },
     "metadata": {},
     "output_type": "display_data"
    }
   ],
   "source": [
    "#Distribution of Target Variable\n",
    "filtered_df = train_df[train_df['price'] < 400000]\n",
    "print(filtered_df.shape[0])\n",
    "# Create the boxplot\n",
    "sns.boxplot(data=filtered_df['price'], orient='h')\n",
    "\n",
    "#Show the plot\n",
    "plt.show()"
   ]
  },
  {
   "cell_type": "code",
   "execution_count": 10,
   "id": "6bbbcfaf",
   "metadata": {
    "execution": {
     "iopub.execute_input": "2024-09-01T13:21:06.463711Z",
     "iopub.status.busy": "2024-09-01T13:21:06.463278Z",
     "iopub.status.idle": "2024-09-01T13:21:07.047539Z",
     "shell.execute_reply": "2024-09-01T13:21:07.046347Z"
    },
    "papermill": {
     "duration": 0.594295,
     "end_time": "2024-09-01T13:21:07.050007",
     "exception": false,
     "start_time": "2024-09-01T13:21:06.455712",
     "status": "completed"
    },
    "tags": []
   },
   "outputs": [
    {
     "name": "stderr",
     "output_type": "stream",
     "text": [
      "/opt/conda/lib/python3.10/site-packages/seaborn/_oldcore.py:1119: FutureWarning: use_inf_as_na option is deprecated and will be removed in a future version. Convert inf values to NaN before operating instead.\n",
      "  with pd.option_context('mode.use_inf_as_na', True):\n"
     ]
    },
    {
     "data": {
      "image/png": "[encoded data removed]",
      "text/plain": [
       "<Figure size 640x480 with 1 Axes>"
      ]
     },
     "metadata": {},
     "output_type": "display_data"
    }
   ],
   "source": [
    "sns.histplot(train_df, x = 'milage')\n",
    "plt.show()"
   ]
  }
 ],
 "metadata": {
  "kaggle": {
   "accelerator": "none",
   "dataSources": [
    {
     "databundleVersionId": 9057646,
     "sourceId": 76728,
     "sourceType": "competition"
    }
   ],
   "dockerImageVersionId": 30761,
   "isGpuEnabled": false,
   "isInternetEnabled": true,
   "language": "python",
   "sourceType": "notebook"
  },
  "kernelspec": {
   "display_name": "Python 3",
   "language": "python",
   "name": "python3"
  },
  "language_info": {
   "codemirror_mode": {
    "name": "ipython",
    "version": 3
   },
   "file_extension": ".py",
   "mimetype": "text/x-python",
   "name": "python",
   "nbconvert_exporter": "python",
   "pygments_lexer": "ipython3",
   "version": "3.10.14"
  },
  "papermill": {
   "default_parameters": {},
   "duration": 8.289921,
   "end_time": "2024-09-01T13:21:07.680072",
   "environment_variables": {},
   "exception": null,
   "input_path": "__notebook__.ipynb",
   "output_path": "__notebook__.ipynb",
   "parameters": {},
   "start_time": "2024-09-01T13:20:59.390151",
   "version": "2.6.0"
  }
 },
 "nbformat": 4,
 "nbformat_minor": 5
}
