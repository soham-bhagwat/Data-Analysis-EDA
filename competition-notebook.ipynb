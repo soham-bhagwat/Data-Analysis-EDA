{
 "cells": [
  {
   "cell_type": "code",
   "execution_count": 1,
   "id": "b720dd63",
   "metadata": {
    "_cell_guid": "b1076dfc-b9ad-4769-8c92-a6c4dae69d19",
    "_uuid": "8f2839f25d086af736a60e9eeb907d3b93b6e0e5",
    "execution": {
     "iopub.execute_input": "2024-09-02T21:08:50.454566Z",
     "iopub.status.busy": "2024-09-02T21:08:50.454110Z",
     "iopub.status.idle": "2024-09-02T21:08:52.634329Z",
     "shell.execute_reply": "2024-09-02T21:08:52.632937Z"
    },
    "papermill": {
     "duration": 2.189722,
     "end_time": "2024-09-02T21:08:52.636814",
     "exception": false,
     "start_time": "2024-09-02T21:08:50.447092",
     "status": "completed"
    },
    "tags": []
   },
   "outputs": [
    {
     "name": "stdout",
     "output_type": "stream",
     "text": [
      "/kaggle/input/playground-series-s4e9/sample_submission.csv\n",
      "/kaggle/input/playground-series-s4e9/train.csv\n",
      "/kaggle/input/playground-series-s4e9/test.csv\n"
     ]
    }
   ],
   "source": [
    "\n",
    "import numpy as np # linear algebra\n",
    "import pandas as pd # data processing, CSV file I/O (e.g. pd.read_csv)\n",
    "import seaborn as sns\n",
    "import matplotlib.pyplot as plt\n",
    "import matplotlib.pyplot as plt\n",
    "import matplotlib.ticker as ticker\n",
    "\n",
    "import os\n",
    "for dirname, _, filenames in os.walk('/kaggle/input'):\n",
    "    for filename in filenames:\n",
    "        print(os.path.join(dirname, filename))\n",
    "\n"
   ]
  },
  {
   "cell_type": "code",
   "execution_count": 2,
   "id": "0d087823",
   "metadata": {
    "execution": {
     "iopub.execute_input": "2024-09-02T21:08:52.648990Z",
     "iopub.status.busy": "2024-09-02T21:08:52.648446Z",
     "iopub.status.idle": "2024-09-02T21:08:53.953008Z",
     "shell.execute_reply": "2024-09-02T21:08:53.951921Z"
    },
    "papermill": {
     "duration": 1.313642,
     "end_time": "2024-09-02T21:08:53.955750",
     "exception": false,
     "start_time": "2024-09-02T21:08:52.642108",
     "status": "completed"
    },
    "tags": []
   },
   "outputs": [],
   "source": [
    "train_df = pd.read_csv('/kaggle/input/playground-series-s4e9/train.csv')\n",
    "test_df = pd.read_csv('/kaggle/input/playground-series-s4e9/test.csv')\n"
   ]
  },
  {
   "cell_type": "code",
   "execution_count": 3,
   "id": "b50aad7b",
   "metadata": {
    "execution": {
     "iopub.execute_input": "2024-09-02T21:08:53.967492Z",
     "iopub.status.busy": "2024-09-02T21:08:53.967078Z",
     "iopub.status.idle": "2024-09-02T21:08:53.994447Z",
     "shell.execute_reply": "2024-09-02T21:08:53.993419Z"
    },
    "papermill": {
     "duration": 0.036196,
     "end_time": "2024-09-02T21:08:53.997080",
     "exception": false,
     "start_time": "2024-09-02T21:08:53.960884",
     "status": "completed"
    },
    "tags": []
   },
   "outputs": [
    {
     "data": {
      "text/html": [
       "<div>\n",
       "<style scoped>\n",
       "    .dataframe tbody tr th:only-of-type {\n",
       "        vertical-align: middle;\n",
       "    }\n",
       "\n",
       "    .dataframe tbody tr th {\n",
       "        vertical-align: top;\n",
       "    }\n",
       "\n",
       "    .dataframe thead th {\n",
       "        text-align: right;\n",
       "    }\n",
       "</style>\n",
       "<table border=\"1\" class=\"dataframe\">\n",
       "  <thead>\n",
       "    <tr style=\"text-align: right;\">\n",
       "      <th></th>\n",
       "      <th>id</th>\n",
       "      <th>brand</th>\n",
       "      <th>model</th>\n",
       "      <th>model_year</th>\n",
       "      <th>milage</th>\n",
       "      <th>fuel_type</th>\n",
       "      <th>engine</th>\n",
       "      <th>transmission</th>\n",
       "      <th>ext_col</th>\n",
       "      <th>int_col</th>\n",
       "      <th>accident</th>\n",
       "      <th>clean_title</th>\n",
       "      <th>price</th>\n",
       "    </tr>\n",
       "  </thead>\n",
       "  <tbody>\n",
       "    <tr>\n",
       "      <th>0</th>\n",
       "      <td>0</td>\n",
       "      <td>MINI</td>\n",
       "      <td>Cooper S Base</td>\n",
       "      <td>2007</td>\n",
       "      <td>213000</td>\n",
       "      <td>Gasoline</td>\n",
       "      <td>172.0HP 1.6L 4 Cylinder Engine Gasoline Fuel</td>\n",
       "      <td>A/T</td>\n",
       "      <td>Yellow</td>\n",
       "      <td>Gray</td>\n",
       "      <td>None reported</td>\n",
       "      <td>Yes</td>\n",
       "      <td>4200</td>\n",
       "    </tr>\n",
       "    <tr>\n",
       "      <th>1</th>\n",
       "      <td>1</td>\n",
       "      <td>Lincoln</td>\n",
       "      <td>LS V8</td>\n",
       "      <td>2002</td>\n",
       "      <td>143250</td>\n",
       "      <td>Gasoline</td>\n",
       "      <td>252.0HP 3.9L 8 Cylinder Engine Gasoline Fuel</td>\n",
       "      <td>A/T</td>\n",
       "      <td>Silver</td>\n",
       "      <td>Beige</td>\n",
       "      <td>At least 1 accident or damage reported</td>\n",
       "      <td>Yes</td>\n",
       "      <td>4999</td>\n",
       "    </tr>\n",
       "    <tr>\n",
       "      <th>2</th>\n",
       "      <td>2</td>\n",
       "      <td>Chevrolet</td>\n",
       "      <td>Silverado 2500 LT</td>\n",
       "      <td>2002</td>\n",
       "      <td>136731</td>\n",
       "      <td>E85 Flex Fuel</td>\n",
       "      <td>320.0HP 5.3L 8 Cylinder Engine Flex Fuel Capab...</td>\n",
       "      <td>A/T</td>\n",
       "      <td>Blue</td>\n",
       "      <td>Gray</td>\n",
       "      <td>None reported</td>\n",
       "      <td>Yes</td>\n",
       "      <td>13900</td>\n",
       "    </tr>\n",
       "    <tr>\n",
       "      <th>3</th>\n",
       "      <td>3</td>\n",
       "      <td>Genesis</td>\n",
       "      <td>G90 5.0 Ultimate</td>\n",
       "      <td>2017</td>\n",
       "      <td>19500</td>\n",
       "      <td>Gasoline</td>\n",
       "      <td>420.0HP 5.0L 8 Cylinder Engine Gasoline Fuel</td>\n",
       "      <td>Transmission w/Dual Shift Mode</td>\n",
       "      <td>Black</td>\n",
       "      <td>Black</td>\n",
       "      <td>None reported</td>\n",
       "      <td>Yes</td>\n",
       "      <td>45000</td>\n",
       "    </tr>\n",
       "    <tr>\n",
       "      <th>4</th>\n",
       "      <td>4</td>\n",
       "      <td>Mercedes-Benz</td>\n",
       "      <td>Metris Base</td>\n",
       "      <td>2021</td>\n",
       "      <td>7388</td>\n",
       "      <td>Gasoline</td>\n",
       "      <td>208.0HP 2.0L 4 Cylinder Engine Gasoline Fuel</td>\n",
       "      <td>7-Speed A/T</td>\n",
       "      <td>Black</td>\n",
       "      <td>Beige</td>\n",
       "      <td>None reported</td>\n",
       "      <td>Yes</td>\n",
       "      <td>97500</td>\n",
       "    </tr>\n",
       "  </tbody>\n",
       "</table>\n",
       "</div>"
      ],
      "text/plain": [
       "   id          brand              model  model_year  milage      fuel_type  \\\n",
       "0   0           MINI      Cooper S Base        2007  213000       Gasoline   \n",
       "1   1        Lincoln              LS V8        2002  143250       Gasoline   \n",
       "2   2      Chevrolet  Silverado 2500 LT        2002  136731  E85 Flex Fuel   \n",
       "3   3        Genesis   G90 5.0 Ultimate        2017   19500       Gasoline   \n",
       "4   4  Mercedes-Benz        Metris Base        2021    7388       Gasoline   \n",
       "\n",
       "                                              engine  \\\n",
       "0       172.0HP 1.6L 4 Cylinder Engine Gasoline Fuel   \n",
       "1       252.0HP 3.9L 8 Cylinder Engine Gasoline Fuel   \n",
       "2  320.0HP 5.3L 8 Cylinder Engine Flex Fuel Capab...   \n",
       "3       420.0HP 5.0L 8 Cylinder Engine Gasoline Fuel   \n",
       "4       208.0HP 2.0L 4 Cylinder Engine Gasoline Fuel   \n",
       "\n",
       "                     transmission ext_col int_col  \\\n",
       "0                             A/T  Yellow    Gray   \n",
       "1                             A/T  Silver   Beige   \n",
       "2                             A/T    Blue    Gray   \n",
       "3  Transmission w/Dual Shift Mode   Black   Black   \n",
       "4                     7-Speed A/T   Black   Beige   \n",
       "\n",
       "                                 accident clean_title  price  \n",
       "0                           None reported         Yes   4200  \n",
       "1  At least 1 accident or damage reported         Yes   4999  \n",
       "2                           None reported         Yes  13900  \n",
       "3                           None reported         Yes  45000  \n",
       "4                           None reported         Yes  97500  "
      ]
     },
     "execution_count": 3,
     "metadata": {},
     "output_type": "execute_result"
    }
   ],
   "source": [
    "train_df.head()"
   ]
  },
  {
   "cell_type": "code",
   "execution_count": 4,
   "id": "b1b530da",
   "metadata": {
    "execution": {
     "iopub.execute_input": "2024-09-02T21:08:54.010021Z",
     "iopub.status.busy": "2024-09-02T21:08:54.009601Z",
     "iopub.status.idle": "2024-09-02T21:08:54.025737Z",
     "shell.execute_reply": "2024-09-02T21:08:54.024423Z"
    },
    "papermill": {
     "duration": 0.025149,
     "end_time": "2024-09-02T21:08:54.028024",
     "exception": false,
     "start_time": "2024-09-02T21:08:54.002875",
     "status": "completed"
    },
    "tags": []
   },
   "outputs": [
    {
     "data": {
      "text/html": [
       "<div>\n",
       "<style scoped>\n",
       "    .dataframe tbody tr th:only-of-type {\n",
       "        vertical-align: middle;\n",
       "    }\n",
       "\n",
       "    .dataframe tbody tr th {\n",
       "        vertical-align: top;\n",
       "    }\n",
       "\n",
       "    .dataframe thead th {\n",
       "        text-align: right;\n",
       "    }\n",
       "</style>\n",
       "<table border=\"1\" class=\"dataframe\">\n",
       "  <thead>\n",
       "    <tr style=\"text-align: right;\">\n",
       "      <th></th>\n",
       "      <th>id</th>\n",
       "      <th>brand</th>\n",
       "      <th>model</th>\n",
       "      <th>model_year</th>\n",
       "      <th>milage</th>\n",
       "      <th>fuel_type</th>\n",
       "      <th>engine</th>\n",
       "      <th>transmission</th>\n",
       "      <th>ext_col</th>\n",
       "      <th>int_col</th>\n",
       "      <th>accident</th>\n",
       "      <th>clean_title</th>\n",
       "    </tr>\n",
       "  </thead>\n",
       "  <tbody>\n",
       "    <tr>\n",
       "      <th>0</th>\n",
       "      <td>188533</td>\n",
       "      <td>Land</td>\n",
       "      <td>Rover LR2 Base</td>\n",
       "      <td>2015</td>\n",
       "      <td>98000</td>\n",
       "      <td>Gasoline</td>\n",
       "      <td>240.0HP 2.0L 4 Cylinder Engine Gasoline Fuel</td>\n",
       "      <td>6-Speed A/T</td>\n",
       "      <td>White</td>\n",
       "      <td>Beige</td>\n",
       "      <td>None reported</td>\n",
       "      <td>Yes</td>\n",
       "    </tr>\n",
       "    <tr>\n",
       "      <th>1</th>\n",
       "      <td>188534</td>\n",
       "      <td>Land</td>\n",
       "      <td>Rover Defender SE</td>\n",
       "      <td>2020</td>\n",
       "      <td>9142</td>\n",
       "      <td>Hybrid</td>\n",
       "      <td>395.0HP 3.0L Straight 6 Cylinder Engine Gasoli...</td>\n",
       "      <td>8-Speed A/T</td>\n",
       "      <td>Silver</td>\n",
       "      <td>Black</td>\n",
       "      <td>None reported</td>\n",
       "      <td>Yes</td>\n",
       "    </tr>\n",
       "    <tr>\n",
       "      <th>2</th>\n",
       "      <td>188535</td>\n",
       "      <td>Ford</td>\n",
       "      <td>Expedition Limited</td>\n",
       "      <td>2022</td>\n",
       "      <td>28121</td>\n",
       "      <td>Gasoline</td>\n",
       "      <td>3.5L V6 24V PDI DOHC Twin Turbo</td>\n",
       "      <td>10-Speed Automatic</td>\n",
       "      <td>White</td>\n",
       "      <td>Ebony</td>\n",
       "      <td>None reported</td>\n",
       "      <td>NaN</td>\n",
       "    </tr>\n",
       "    <tr>\n",
       "      <th>3</th>\n",
       "      <td>188536</td>\n",
       "      <td>Audi</td>\n",
       "      <td>A6 2.0T Sport</td>\n",
       "      <td>2016</td>\n",
       "      <td>61258</td>\n",
       "      <td>Gasoline</td>\n",
       "      <td>2.0 Liter TFSI</td>\n",
       "      <td>Automatic</td>\n",
       "      <td>Silician Yellow</td>\n",
       "      <td>Black</td>\n",
       "      <td>None reported</td>\n",
       "      <td>NaN</td>\n",
       "    </tr>\n",
       "    <tr>\n",
       "      <th>4</th>\n",
       "      <td>188537</td>\n",
       "      <td>Audi</td>\n",
       "      <td>A6 2.0T Premium Plus</td>\n",
       "      <td>2018</td>\n",
       "      <td>59000</td>\n",
       "      <td>Gasoline</td>\n",
       "      <td>252.0HP 2.0L 4 Cylinder Engine Gasoline Fuel</td>\n",
       "      <td>A/T</td>\n",
       "      <td>Gray</td>\n",
       "      <td>Black</td>\n",
       "      <td>None reported</td>\n",
       "      <td>Yes</td>\n",
       "    </tr>\n",
       "  </tbody>\n",
       "</table>\n",
       "</div>"
      ],
      "text/plain": [
       "       id brand                 model  model_year  milage fuel_type  \\\n",
       "0  188533  Land        Rover LR2 Base        2015   98000  Gasoline   \n",
       "1  188534  Land     Rover Defender SE        2020    9142    Hybrid   \n",
       "2  188535  Ford    Expedition Limited        2022   28121  Gasoline   \n",
       "3  188536  Audi         A6 2.0T Sport        2016   61258  Gasoline   \n",
       "4  188537  Audi  A6 2.0T Premium Plus        2018   59000  Gasoline   \n",
       "\n",
       "                                              engine        transmission  \\\n",
       "0       240.0HP 2.0L 4 Cylinder Engine Gasoline Fuel         6-Speed A/T   \n",
       "1  395.0HP 3.0L Straight 6 Cylinder Engine Gasoli...         8-Speed A/T   \n",
       "2                    3.5L V6 24V PDI DOHC Twin Turbo  10-Speed Automatic   \n",
       "3                                     2.0 Liter TFSI           Automatic   \n",
       "4       252.0HP 2.0L 4 Cylinder Engine Gasoline Fuel                 A/T   \n",
       "\n",
       "           ext_col int_col       accident clean_title  \n",
       "0            White   Beige  None reported         Yes  \n",
       "1           Silver   Black  None reported         Yes  \n",
       "2            White   Ebony  None reported         NaN  \n",
       "3  Silician Yellow   Black  None reported         NaN  \n",
       "4             Gray   Black  None reported         Yes  "
      ]
     },
     "execution_count": 4,
     "metadata": {},
     "output_type": "execute_result"
    }
   ],
   "source": [
    "test_df.head()"
   ]
  },
  {
   "cell_type": "code",
   "execution_count": 5,
   "id": "9702abb3",
   "metadata": {
    "execution": {
     "iopub.execute_input": "2024-09-02T21:08:54.041247Z",
     "iopub.status.busy": "2024-09-02T21:08:54.040835Z",
     "iopub.status.idle": "2024-09-02T21:08:54.094684Z",
     "shell.execute_reply": "2024-09-02T21:08:54.093525Z"
    },
    "papermill": {
     "duration": 0.063082,
     "end_time": "2024-09-02T21:08:54.097051",
     "exception": false,
     "start_time": "2024-09-02T21:08:54.033969",
     "status": "completed"
    },
    "tags": []
   },
   "outputs": [
    {
     "data": {
      "text/html": [
       "<div>\n",
       "<style scoped>\n",
       "    .dataframe tbody tr th:only-of-type {\n",
       "        vertical-align: middle;\n",
       "    }\n",
       "\n",
       "    .dataframe tbody tr th {\n",
       "        vertical-align: top;\n",
       "    }\n",
       "\n",
       "    .dataframe thead th {\n",
       "        text-align: right;\n",
       "    }\n",
       "</style>\n",
       "<table border=\"1\" class=\"dataframe\">\n",
       "  <thead>\n",
       "    <tr style=\"text-align: right;\">\n",
       "      <th></th>\n",
       "      <th>id</th>\n",
       "      <th>model_year</th>\n",
       "      <th>milage</th>\n",
       "      <th>price</th>\n",
       "    </tr>\n",
       "  </thead>\n",
       "  <tbody>\n",
       "    <tr>\n",
       "      <th>count</th>\n",
       "      <td>188533.000000</td>\n",
       "      <td>188533.000000</td>\n",
       "      <td>188533.000000</td>\n",
       "      <td>1.885330e+05</td>\n",
       "    </tr>\n",
       "    <tr>\n",
       "      <th>mean</th>\n",
       "      <td>94266.000000</td>\n",
       "      <td>2015.829998</td>\n",
       "      <td>65705.295174</td>\n",
       "      <td>4.387802e+04</td>\n",
       "    </tr>\n",
       "    <tr>\n",
       "      <th>std</th>\n",
       "      <td>54424.933488</td>\n",
       "      <td>5.660967</td>\n",
       "      <td>49798.158076</td>\n",
       "      <td>7.881952e+04</td>\n",
       "    </tr>\n",
       "    <tr>\n",
       "      <th>min</th>\n",
       "      <td>0.000000</td>\n",
       "      <td>1974.000000</td>\n",
       "      <td>100.000000</td>\n",
       "      <td>2.000000e+03</td>\n",
       "    </tr>\n",
       "    <tr>\n",
       "      <th>25%</th>\n",
       "      <td>47133.000000</td>\n",
       "      <td>2013.000000</td>\n",
       "      <td>24115.000000</td>\n",
       "      <td>1.700000e+04</td>\n",
       "    </tr>\n",
       "    <tr>\n",
       "      <th>50%</th>\n",
       "      <td>94266.000000</td>\n",
       "      <td>2017.000000</td>\n",
       "      <td>57785.000000</td>\n",
       "      <td>3.082500e+04</td>\n",
       "    </tr>\n",
       "    <tr>\n",
       "      <th>75%</th>\n",
       "      <td>141399.000000</td>\n",
       "      <td>2020.000000</td>\n",
       "      <td>95400.000000</td>\n",
       "      <td>4.990000e+04</td>\n",
       "    </tr>\n",
       "    <tr>\n",
       "      <th>max</th>\n",
       "      <td>188532.000000</td>\n",
       "      <td>2024.000000</td>\n",
       "      <td>405000.000000</td>\n",
       "      <td>2.954083e+06</td>\n",
       "    </tr>\n",
       "  </tbody>\n",
       "</table>\n",
       "</div>"
      ],
      "text/plain": [
       "                  id     model_year         milage         price\n",
       "count  188533.000000  188533.000000  188533.000000  1.885330e+05\n",
       "mean    94266.000000    2015.829998   65705.295174  4.387802e+04\n",
       "std     54424.933488       5.660967   49798.158076  7.881952e+04\n",
       "min         0.000000    1974.000000     100.000000  2.000000e+03\n",
       "25%     47133.000000    2013.000000   24115.000000  1.700000e+04\n",
       "50%     94266.000000    2017.000000   57785.000000  3.082500e+04\n",
       "75%    141399.000000    2020.000000   95400.000000  4.990000e+04\n",
       "max    188532.000000    2024.000000  405000.000000  2.954083e+06"
      ]
     },
     "execution_count": 5,
     "metadata": {},
     "output_type": "execute_result"
    }
   ],
   "source": [
    "train_df.describe()"
   ]
  },
  {
   "cell_type": "code",
   "execution_count": 6,
   "id": "ac00986f",
   "metadata": {
    "execution": {
     "iopub.execute_input": "2024-09-02T21:08:54.111099Z",
     "iopub.status.busy": "2024-09-02T21:08:54.110675Z",
     "iopub.status.idle": "2024-09-02T21:08:54.211258Z",
     "shell.execute_reply": "2024-09-02T21:08:54.210153Z"
    },
    "papermill": {
     "duration": 0.110894,
     "end_time": "2024-09-02T21:08:54.213916",
     "exception": false,
     "start_time": "2024-09-02T21:08:54.103022",
     "status": "completed"
    },
    "tags": []
   },
   "outputs": [
    {
     "name": "stdout",
     "output_type": "stream",
     "text": [
      "<class 'pandas.core.frame.DataFrame'>\n",
      "RangeIndex: 188533 entries, 0 to 188532\n",
      "Data columns (total 13 columns):\n",
      " #   Column        Non-Null Count   Dtype \n",
      "---  ------        --------------   ----- \n",
      " 0   id            188533 non-null  int64 \n",
      " 1   brand         188533 non-null  object\n",
      " 2   model         188533 non-null  object\n",
      " 3   model_year    188533 non-null  int64 \n",
      " 4   milage        188533 non-null  int64 \n",
      " 5   fuel_type     183450 non-null  object\n",
      " 6   engine        188533 non-null  object\n",
      " 7   transmission  188533 non-null  object\n",
      " 8   ext_col       188533 non-null  object\n",
      " 9   int_col       188533 non-null  object\n",
      " 10  accident      186081 non-null  object\n",
      " 11  clean_title   167114 non-null  object\n",
      " 12  price         188533 non-null  int64 \n",
      "dtypes: int64(4), object(9)\n",
      "memory usage: 18.7+ MB\n"
     ]
    }
   ],
   "source": [
    "train_df.info()"
   ]
  },
  {
   "cell_type": "code",
   "execution_count": 7,
   "id": "52a54870",
   "metadata": {
    "execution": {
     "iopub.execute_input": "2024-09-02T21:08:54.228083Z",
     "iopub.status.busy": "2024-09-02T21:08:54.227225Z",
     "iopub.status.idle": "2024-09-02T21:08:54.314141Z",
     "shell.execute_reply": "2024-09-02T21:08:54.312992Z"
    },
    "papermill": {
     "duration": 0.096493,
     "end_time": "2024-09-02T21:08:54.316439",
     "exception": false,
     "start_time": "2024-09-02T21:08:54.219946",
     "status": "completed"
    },
    "tags": []
   },
   "outputs": [
    {
     "data": {
      "text/plain": [
       "fuel_type       5083\n",
       "accident        2452\n",
       "clean_title    21419\n",
       "dtype: int64"
      ]
     },
     "execution_count": 7,
     "metadata": {},
     "output_type": "execute_result"
    }
   ],
   "source": [
    "null_stats = train_df.isnull().sum(axis=0)\n",
    "null_stats[null_stats != 0]"
   ]
  },
  {
   "cell_type": "code",
   "execution_count": 8,
   "id": "a0a18b73",
   "metadata": {
    "execution": {
     "iopub.execute_input": "2024-09-02T21:08:54.330769Z",
     "iopub.status.busy": "2024-09-02T21:08:54.329818Z",
     "iopub.status.idle": "2024-09-02T21:08:54.570934Z",
     "shell.execute_reply": "2024-09-02T21:08:54.569768Z"
    },
    "papermill": {
     "duration": 0.251159,
     "end_time": "2024-09-02T21:08:54.573588",
     "exception": false,
     "start_time": "2024-09-02T21:08:54.322429",
     "status": "completed"
    },
    "tags": []
   },
   "outputs": [],
   "source": [
    "train_df.fillna('missing', inplace=True)\n",
    "test_df.fillna('missing', inplace=True)"
   ]
  },
  {
   "cell_type": "code",
   "execution_count": 9,
   "id": "9b1488c9",
   "metadata": {
    "execution": {
     "iopub.execute_input": "2024-09-02T21:08:54.587239Z",
     "iopub.status.busy": "2024-09-02T21:08:54.586831Z",
     "iopub.status.idle": "2024-09-02T21:08:59.382645Z",
     "shell.execute_reply": "2024-09-02T21:08:59.381456Z"
    },
    "papermill": {
     "duration": 4.805555,
     "end_time": "2024-09-02T21:08:59.385199",
     "exception": false,
     "start_time": "2024-09-02T21:08:54.579644",
     "status": "completed"
    },
    "tags": []
   },
   "outputs": [
    {
     "name": "stderr",
     "output_type": "stream",
     "text": [
      "/opt/conda/lib/python3.10/site-packages/seaborn/_oldcore.py:1119: FutureWarning: use_inf_as_na option is deprecated and will be removed in a future version. Convert inf values to NaN before operating instead.\n",
      "  with pd.option_context('mode.use_inf_as_na', True):\n"
     ]
    },
    {
     "data": {
      "text/plain": [
       "<seaborn.axisgrid.FacetGrid at 0x7f8e5b5ac100>"
      ]
     },
     "execution_count": 9,
     "metadata": {},
     "output_type": "execute_result"
    },
    {
     "data": {
      "image/png": "[encoded data removed]",
      "text/plain": [
       "<Figure size 500x500 with 1 Axes>"
      ]
     },
     "metadata": {},
     "output_type": "display_data"
    }
   ],
   "source": [
    "sns.displot(data = train_df,x = 'price' )\n"
   ]
  },
  {
   "cell_type": "code",
   "execution_count": 10,
   "id": "8c5ee44c",
   "metadata": {
    "execution": {
     "iopub.execute_input": "2024-09-02T21:08:59.400779Z",
     "iopub.status.busy": "2024-09-02T21:08:59.399692Z",
     "iopub.status.idle": "2024-09-02T21:09:00.399384Z",
     "shell.execute_reply": "2024-09-02T21:09:00.397785Z"
    },
    "papermill": {
     "duration": 1.010259,
     "end_time": "2024-09-02T21:09:00.402093",
     "exception": false,
     "start_time": "2024-09-02T21:08:59.391834",
     "status": "completed"
    },
    "tags": []
   },
   "outputs": [
    {
     "data": {
      "text/plain": [
       "<Axes: xlabel='price', ylabel='milage'>"
      ]
     },
     "execution_count": 10,
     "metadata": {},
     "output_type": "execute_result"
    },
    {
     "data": {
      "image/png": "[encoded data removed]",
      "text/plain": [
       "<Figure size 640x480 with 1 Axes>"
      ]
     },
     "metadata": {},
     "output_type": "display_data"
    }
   ],
   "source": [
    "sns.scatterplot(data = train_df, x = 'price', y = 'milage')"
   ]
  },
  {
   "cell_type": "code",
   "execution_count": 11,
   "id": "cdf7aaba",
   "metadata": {
    "execution": {
     "iopub.execute_input": "2024-09-02T21:09:00.419957Z",
     "iopub.status.busy": "2024-09-02T21:09:00.418691Z",
     "iopub.status.idle": "2024-09-02T21:09:00.448302Z",
     "shell.execute_reply": "2024-09-02T21:09:00.447109Z"
    },
    "papermill": {
     "duration": 0.041041,
     "end_time": "2024-09-02T21:09:00.450989",
     "exception": false,
     "start_time": "2024-09-02T21:09:00.409948",
     "status": "completed"
    },
    "tags": []
   },
   "outputs": [],
   "source": [
    "#Prepping data\n",
    "X = train_df.drop(['id','price'], axis = 1)\n",
    "y = train_df.price"
   ]
  },
  {
   "cell_type": "code",
   "execution_count": 12,
   "id": "28a3e8ae",
   "metadata": {
    "execution": {
     "iopub.execute_input": "2024-09-02T21:09:00.468049Z",
     "iopub.status.busy": "2024-09-02T21:09:00.467642Z",
     "iopub.status.idle": "2024-09-02T21:09:00.478166Z",
     "shell.execute_reply": "2024-09-02T21:09:00.476660Z"
    },
    "papermill": {
     "duration": 0.02209,
     "end_time": "2024-09-02T21:09:00.480654",
     "exception": false,
     "start_time": "2024-09-02T21:09:00.458564",
     "status": "completed"
    },
    "tags": []
   },
   "outputs": [
    {
     "name": "stdout",
     "output_type": "stream",
     "text": [
      "brand           object\n",
      "model           object\n",
      "model_year       int64\n",
      "milage           int64\n",
      "fuel_type       object\n",
      "engine          object\n",
      "transmission    object\n",
      "ext_col         object\n",
      "int_col         object\n",
      "accident        object\n",
      "clean_title     object\n",
      "dtype: object\n"
     ]
    },
    {
     "data": {
      "text/plain": [
       "['brand',\n",
       " 'model',\n",
       " 'model_year',\n",
       " 'milage',\n",
       " 'fuel_type',\n",
       " 'engine',\n",
       " 'transmission',\n",
       " 'ext_col',\n",
       " 'int_col',\n",
       " 'accident',\n",
       " 'clean_title']"
      ]
     },
     "execution_count": 12,
     "metadata": {},
     "output_type": "execute_result"
    }
   ],
   "source": [
    "\n",
    "print(X.dtypes)\n",
    "\n",
    "categorical_features_indices = X.columns[np.where(X.dtypes != float)[0]].values.tolist()\n",
    "categorical_features_indices"
   ]
  },
  {
   "cell_type": "code",
   "execution_count": 13,
   "id": "3401a9d6",
   "metadata": {
    "execution": {
     "iopub.execute_input": "2024-09-02T21:09:00.498744Z",
     "iopub.status.busy": "2024-09-02T21:09:00.497762Z",
     "iopub.status.idle": "2024-09-02T21:09:00.927047Z",
     "shell.execute_reply": "2024-09-02T21:09:00.925572Z"
    },
    "papermill": {
     "duration": 0.441132,
     "end_time": "2024-09-02T21:09:00.929774",
     "exception": false,
     "start_time": "2024-09-02T21:09:00.488642",
     "status": "completed"
    },
    "tags": []
   },
   "outputs": [],
   "source": [
    "#Data Splitting\n",
    "from sklearn.model_selection import train_test_split\n",
    "X_train, X_validation, y_train, y_validation = train_test_split(X, y, train_size = 0.75, random_state = 42)\n",
    "X_test = test_df"
   ]
  },
  {
   "cell_type": "code",
   "execution_count": 14,
   "id": "6c70213a",
   "metadata": {
    "execution": {
     "iopub.execute_input": "2024-09-02T21:09:00.948032Z",
     "iopub.status.busy": "2024-09-02T21:09:00.947549Z",
     "iopub.status.idle": "2024-09-02T21:09:01.367103Z",
     "shell.execute_reply": "2024-09-02T21:09:01.365742Z"
    },
    "papermill": {
     "duration": 0.432516,
     "end_time": "2024-09-02T21:09:01.370430",
     "exception": false,
     "start_time": "2024-09-02T21:09:00.937914",
     "status": "completed"
    },
    "tags": []
   },
   "outputs": [],
   "source": [
    "from catboost import CatBoost, CatBoostRegressor, Pool"
   ]
  },
  {
   "cell_type": "code",
   "execution_count": 15,
   "id": "880d46db",
   "metadata": {
    "execution": {
     "iopub.execute_input": "2024-09-02T21:09:01.388441Z",
     "iopub.status.busy": "2024-09-02T21:09:01.388024Z",
     "iopub.status.idle": "2024-09-02T21:10:44.122003Z",
     "shell.execute_reply": "2024-09-02T21:10:44.120521Z"
    },
    "papermill": {
     "duration": 102.746176,
     "end_time": "2024-09-02T21:10:44.124671",
     "exception": false,
     "start_time": "2024-09-02T21:09:01.378495",
     "status": "completed"
    },
    "tags": []
   },
   "outputs": [
    {
     "data": {
      "application/vnd.jupyter.widget-view+json": {
       "model_id": "cfb83603dfb1433f8909b3f65f40bdc2",
       "version_major": 2,
       "version_minor": 0
      },
      "text/plain": [
       "MetricVisualizer(layout=Layout(align_self='stretch', height='500px'))"
      ]
     },
     "metadata": {},
     "output_type": "display_data"
    },
    {
     "name": "stdout",
     "output_type": "stream",
     "text": [
      "0:\tlearn: 80161.6399203\ttest: 71027.8216604\tbest: 71027.8216604 (0)\ttotal: 291ms\tremaining: 2m 25s\n",
      "1:\tlearn: 79470.7196374\ttest: 70247.8353876\tbest: 70247.8353876 (1)\ttotal: 405ms\tremaining: 1m 40s\n",
      "2:\tlearn: 78905.3339107\ttest: 69599.7079480\tbest: 69599.7079480 (2)\ttotal: 597ms\tremaining: 1m 38s\n",
      "3:\tlearn: 78426.5171019\ttest: 69034.5661457\tbest: 69034.5661457 (3)\ttotal: 736ms\tremaining: 1m 31s\n",
      "4:\tlearn: 78037.0758716\ttest: 68551.5976366\tbest: 68551.5976366 (4)\ttotal: 919ms\tremaining: 1m 31s\n",
      "5:\tlearn: 77691.0583202\ttest: 68156.6360880\tbest: 68156.6360880 (5)\ttotal: 1.03s\tremaining: 1m 24s\n",
      "6:\tlearn: 77398.7245937\ttest: 67818.0476482\tbest: 67818.0476482 (6)\ttotal: 1.18s\tremaining: 1m 22s\n",
      "7:\tlearn: 77168.7402355\ttest: 67566.1564076\tbest: 67566.1564076 (7)\ttotal: 1.29s\tremaining: 1m 19s\n",
      "8:\tlearn: 76958.9104358\ttest: 67344.4607545\tbest: 67344.4607545 (8)\ttotal: 1.43s\tremaining: 1m 17s\n",
      "9:\tlearn: 76764.3677734\ttest: 67139.3206010\tbest: 67139.3206010 (9)\ttotal: 1.58s\tremaining: 1m 17s\n",
      "10:\tlearn: 76618.8538360\ttest: 66973.2997572\tbest: 66973.2997572 (10)\ttotal: 1.76s\tremaining: 1m 18s\n",
      "11:\tlearn: 76474.1701823\ttest: 66821.5019521\tbest: 66821.5019521 (11)\ttotal: 1.86s\tremaining: 1m 15s\n",
      "12:\tlearn: 76367.8390618\ttest: 66701.2100259\tbest: 66701.2100259 (12)\ttotal: 2s\tremaining: 1m 14s\n",
      "13:\tlearn: 76256.5946136\ttest: 66576.4081025\tbest: 66576.4081025 (13)\ttotal: 2.19s\tremaining: 1m 16s\n",
      "14:\tlearn: 76176.1259789\ttest: 66496.0449559\tbest: 66496.0449559 (14)\ttotal: 2.32s\tremaining: 1m 14s\n",
      "15:\tlearn: 76088.7603619\ttest: 66400.3495724\tbest: 66400.3495724 (15)\ttotal: 2.46s\tremaining: 1m 14s\n",
      "16:\tlearn: 76025.4275445\ttest: 66331.1272715\tbest: 66331.1272715 (16)\ttotal: 2.59s\tremaining: 1m 13s\n",
      "17:\tlearn: 75948.7673587\ttest: 66253.6523587\tbest: 66253.6523587 (17)\ttotal: 2.77s\tremaining: 1m 14s\n",
      "18:\tlearn: 75880.8428272\ttest: 66189.2714527\tbest: 66189.2714527 (18)\ttotal: 2.9s\tremaining: 1m 13s\n",
      "19:\tlearn: 75837.9090192\ttest: 66162.2774394\tbest: 66162.2774394 (19)\ttotal: 3.02s\tremaining: 1m 12s\n",
      "20:\tlearn: 75789.8795564\ttest: 66116.3222597\tbest: 66116.3222597 (20)\ttotal: 3.23s\tremaining: 1m 13s\n",
      "21:\tlearn: 75739.5291282\ttest: 66071.2749834\tbest: 66071.2749834 (21)\ttotal: 3.37s\tremaining: 1m 13s\n",
      "22:\tlearn: 75705.8370408\ttest: 66033.0160758\tbest: 66033.0160758 (22)\ttotal: 3.49s\tremaining: 1m 12s\n",
      "23:\tlearn: 75681.8735582\ttest: 66006.4064000\tbest: 66006.4064000 (23)\ttotal: 3.59s\tremaining: 1m 11s\n",
      "24:\tlearn: 75672.3421572\ttest: 65996.6687535\tbest: 65996.6687535 (24)\ttotal: 3.8s\tremaining: 1m 12s\n",
      "25:\tlearn: 75648.3671321\ttest: 65973.1382557\tbest: 65973.1382557 (25)\ttotal: 4s\tremaining: 1m 12s\n",
      "26:\tlearn: 75620.9224701\ttest: 65955.6526412\tbest: 65955.6526412 (26)\ttotal: 4.22s\tremaining: 1m 13s\n",
      "27:\tlearn: 75599.1059104\ttest: 65939.3963465\tbest: 65939.3963465 (27)\ttotal: 4.37s\tremaining: 1m 13s\n",
      "28:\tlearn: 75568.3314924\ttest: 65912.7083422\tbest: 65912.7083422 (28)\ttotal: 4.56s\tremaining: 1m 14s\n",
      "29:\tlearn: 75549.5458351\ttest: 65897.7796651\tbest: 65897.7796651 (29)\ttotal: 4.77s\tremaining: 1m 14s\n",
      "30:\tlearn: 75529.4765295\ttest: 65879.8554836\tbest: 65879.8554836 (30)\ttotal: 4.98s\tremaining: 1m 15s\n",
      "31:\tlearn: 75517.0295209\ttest: 65867.9092773\tbest: 65867.9092773 (31)\ttotal: 5.14s\tremaining: 1m 15s\n",
      "32:\tlearn: 75504.3963968\ttest: 65857.2194358\tbest: 65857.2194358 (32)\ttotal: 5.37s\tremaining: 1m 15s\n",
      "33:\tlearn: 75471.8399849\ttest: 65830.9373764\tbest: 65830.9373764 (33)\ttotal: 5.56s\tremaining: 1m 16s\n",
      "34:\tlearn: 75429.5550222\ttest: 65821.0076976\tbest: 65821.0076976 (34)\ttotal: 5.68s\tremaining: 1m 15s\n",
      "35:\tlearn: 75418.9893018\ttest: 65817.5069786\tbest: 65817.5069786 (35)\ttotal: 5.87s\tremaining: 1m 15s\n",
      "36:\tlearn: 75411.4631822\ttest: 65814.0852266\tbest: 65814.0852266 (36)\ttotal: 6.09s\tremaining: 1m 16s\n",
      "37:\tlearn: 75399.9809039\ttest: 65805.7500009\tbest: 65805.7500009 (37)\ttotal: 6.24s\tremaining: 1m 15s\n",
      "38:\tlearn: 75376.4534242\ttest: 65796.9743463\tbest: 65796.9743463 (38)\ttotal: 6.44s\tremaining: 1m 16s\n",
      "39:\tlearn: 75362.4321191\ttest: 65787.5013628\tbest: 65787.5013628 (39)\ttotal: 6.64s\tremaining: 1m 16s\n",
      "40:\tlearn: 75355.8418781\ttest: 65786.1221248\tbest: 65786.1221248 (40)\ttotal: 6.8s\tremaining: 1m 16s\n",
      "41:\tlearn: 75339.9045545\ttest: 65781.5442711\tbest: 65781.5442711 (41)\ttotal: 6.97s\tremaining: 1m 15s\n",
      "42:\tlearn: 75309.3758670\ttest: 65782.8553985\tbest: 65781.5442711 (41)\ttotal: 7.25s\tremaining: 1m 17s\n",
      "43:\tlearn: 75293.9426954\ttest: 65776.4450153\tbest: 65776.4450153 (43)\ttotal: 7.52s\tremaining: 1m 17s\n",
      "44:\tlearn: 75286.0334559\ttest: 65772.5673237\tbest: 65772.5673237 (44)\ttotal: 7.77s\tremaining: 1m 18s\n",
      "45:\tlearn: 75274.0934215\ttest: 65769.4421325\tbest: 65769.4421325 (45)\ttotal: 8s\tremaining: 1m 18s\n",
      "46:\tlearn: 75263.4849396\ttest: 65766.6832342\tbest: 65766.6832342 (46)\ttotal: 8.26s\tremaining: 1m 19s\n",
      "47:\tlearn: 75251.0482966\ttest: 65760.4609489\tbest: 65760.4609489 (47)\ttotal: 8.57s\tremaining: 1m 20s\n",
      "48:\tlearn: 75231.2832293\ttest: 65756.0049508\tbest: 65756.0049508 (48)\ttotal: 8.84s\tremaining: 1m 21s\n",
      "49:\tlearn: 75216.4124874\ttest: 65753.8266026\tbest: 65753.8266026 (49)\ttotal: 9.13s\tremaining: 1m 22s\n",
      "50:\tlearn: 75199.5887718\ttest: 65743.0013066\tbest: 65743.0013066 (50)\ttotal: 9.35s\tremaining: 1m 22s\n",
      "51:\tlearn: 75184.5750681\ttest: 65741.1962743\tbest: 65741.1962743 (51)\ttotal: 9.54s\tremaining: 1m 22s\n",
      "52:\tlearn: 75162.3214428\ttest: 65734.1632169\tbest: 65734.1632169 (52)\ttotal: 9.77s\tremaining: 1m 22s\n",
      "53:\tlearn: 75144.7435734\ttest: 65731.9412739\tbest: 65731.9412739 (53)\ttotal: 9.95s\tremaining: 1m 22s\n",
      "54:\tlearn: 75135.7683618\ttest: 65728.4897031\tbest: 65728.4897031 (54)\ttotal: 10.1s\tremaining: 1m 22s\n",
      "55:\tlearn: 75126.8323050\ttest: 65720.9262725\tbest: 65720.9262725 (55)\ttotal: 10.4s\tremaining: 1m 22s\n",
      "56:\tlearn: 75124.1968107\ttest: 65719.7918423\tbest: 65719.7918423 (56)\ttotal: 10.5s\tremaining: 1m 21s\n",
      "57:\tlearn: 75119.2044750\ttest: 65718.9463962\tbest: 65718.9463962 (57)\ttotal: 10.8s\tremaining: 1m 21s\n",
      "58:\tlearn: 75118.6800582\ttest: 65719.0898069\tbest: 65718.9463962 (57)\ttotal: 11s\tremaining: 1m 21s\n",
      "59:\tlearn: 75108.0009052\ttest: 65716.6839758\tbest: 65716.6839758 (59)\ttotal: 11.2s\tremaining: 1m 21s\n",
      "60:\tlearn: 75101.0422231\ttest: 65716.3478243\tbest: 65716.3478243 (60)\ttotal: 11.3s\tremaining: 1m 21s\n",
      "61:\tlearn: 75097.6351031\ttest: 65711.4913783\tbest: 65711.4913783 (61)\ttotal: 11.5s\tremaining: 1m 21s\n",
      "62:\tlearn: 75089.5764006\ttest: 65709.2599661\tbest: 65709.2599661 (62)\ttotal: 11.7s\tremaining: 1m 21s\n",
      "63:\tlearn: 75060.9859218\ttest: 65708.9285858\tbest: 65708.9285858 (63)\ttotal: 11.9s\tremaining: 1m 21s\n",
      "64:\tlearn: 75060.8063470\ttest: 65708.9442766\tbest: 65708.9285858 (63)\ttotal: 12s\tremaining: 1m 20s\n",
      "65:\tlearn: 75040.8630054\ttest: 65711.0210650\tbest: 65708.9285858 (63)\ttotal: 12.2s\tremaining: 1m 20s\n",
      "66:\tlearn: 75026.7140357\ttest: 65710.0894804\tbest: 65708.9285858 (63)\ttotal: 12.4s\tremaining: 1m 20s\n",
      "67:\tlearn: 75017.7296133\ttest: 65709.4503384\tbest: 65708.9285858 (63)\ttotal: 12.6s\tremaining: 1m 20s\n",
      "68:\tlearn: 75014.8934385\ttest: 65709.0468536\tbest: 65708.9285858 (63)\ttotal: 12.8s\tremaining: 1m 20s\n",
      "69:\tlearn: 75010.2342937\ttest: 65709.7802737\tbest: 65708.9285858 (63)\ttotal: 13s\tremaining: 1m 19s\n",
      "70:\tlearn: 75001.6149181\ttest: 65709.2861110\tbest: 65708.9285858 (63)\ttotal: 13.3s\tremaining: 1m 20s\n",
      "71:\tlearn: 75001.1270863\ttest: 65708.6341351\tbest: 65708.6341351 (71)\ttotal: 13.4s\tremaining: 1m 19s\n",
      "72:\tlearn: 74977.7881873\ttest: 65708.4965288\tbest: 65708.4965288 (72)\ttotal: 13.5s\tremaining: 1m 19s\n",
      "73:\tlearn: 74970.4005993\ttest: 65707.1713298\tbest: 65707.1713298 (73)\ttotal: 13.7s\tremaining: 1m 18s\n",
      "74:\tlearn: 74953.9243740\ttest: 65703.5340572\tbest: 65703.5340572 (74)\ttotal: 13.9s\tremaining: 1m 18s\n",
      "75:\tlearn: 74947.8106979\ttest: 65699.2139549\tbest: 65699.2139549 (75)\ttotal: 14.1s\tremaining: 1m 18s\n",
      "76:\tlearn: 74927.7353581\ttest: 65697.4684940\tbest: 65697.4684940 (76)\ttotal: 14.3s\tremaining: 1m 18s\n",
      "77:\tlearn: 74909.4947609\ttest: 65694.0166891\tbest: 65694.0166891 (77)\ttotal: 14.5s\tremaining: 1m 18s\n",
      "78:\tlearn: 74897.6807695\ttest: 65680.7967992\tbest: 65680.7967992 (78)\ttotal: 14.7s\tremaining: 1m 18s\n",
      "79:\tlearn: 74892.4407050\ttest: 65681.3687943\tbest: 65680.7967992 (78)\ttotal: 14.9s\tremaining: 1m 18s\n",
      "80:\tlearn: 74891.6164171\ttest: 65680.3521436\tbest: 65680.3521436 (80)\ttotal: 15.1s\tremaining: 1m 17s\n",
      "81:\tlearn: 74889.4868011\ttest: 65680.2874697\tbest: 65680.2874697 (81)\ttotal: 15.3s\tremaining: 1m 18s\n",
      "82:\tlearn: 74882.1792456\ttest: 65675.8635829\tbest: 65675.8635829 (82)\ttotal: 15.6s\tremaining: 1m 18s\n",
      "83:\tlearn: 74876.0862823\ttest: 65675.8570876\tbest: 65675.8570876 (83)\ttotal: 15.8s\tremaining: 1m 18s\n",
      "84:\tlearn: 74867.3981746\ttest: 65677.1387779\tbest: 65675.8570876 (83)\ttotal: 16s\tremaining: 1m 18s\n",
      "85:\tlearn: 74861.3755367\ttest: 65671.5278993\tbest: 65671.5278993 (85)\ttotal: 16.3s\tremaining: 1m 18s\n",
      "86:\tlearn: 74859.3727585\ttest: 65671.7364839\tbest: 65671.5278993 (85)\ttotal: 16.5s\tremaining: 1m 18s\n",
      "87:\tlearn: 74856.7051393\ttest: 65670.1380977\tbest: 65670.1380977 (87)\ttotal: 16.7s\tremaining: 1m 18s\n",
      "88:\tlearn: 74856.1715911\ttest: 65669.9691022\tbest: 65669.9691022 (88)\ttotal: 16.8s\tremaining: 1m 17s\n",
      "89:\tlearn: 74854.8085574\ttest: 65669.5129606\tbest: 65669.5129606 (89)\ttotal: 17.1s\tremaining: 1m 17s\n",
      "90:\tlearn: 74846.4006451\ttest: 65668.9688313\tbest: 65668.9688313 (90)\ttotal: 17.3s\tremaining: 1m 17s\n",
      "91:\tlearn: 74846.1249909\ttest: 65668.8095501\tbest: 65668.8095501 (91)\ttotal: 17.5s\tremaining: 1m 17s\n",
      "92:\tlearn: 74835.3373633\ttest: 65665.3606559\tbest: 65665.3606559 (92)\ttotal: 17.7s\tremaining: 1m 17s\n",
      "93:\tlearn: 74835.2545938\ttest: 65665.2923519\tbest: 65665.2923519 (93)\ttotal: 17.8s\tremaining: 1m 16s\n",
      "94:\tlearn: 74831.8986804\ttest: 65661.2337281\tbest: 65661.2337281 (94)\ttotal: 18s\tremaining: 1m 16s\n",
      "95:\tlearn: 74831.4071707\ttest: 65660.9755771\tbest: 65660.9755771 (95)\ttotal: 18.1s\tremaining: 1m 16s\n",
      "96:\tlearn: 74821.9849781\ttest: 65656.7420451\tbest: 65656.7420451 (96)\ttotal: 18.3s\tremaining: 1m 15s\n",
      "97:\tlearn: 74809.9337461\ttest: 65655.7307722\tbest: 65655.7307722 (97)\ttotal: 18.5s\tremaining: 1m 15s\n",
      "98:\tlearn: 74803.8902793\ttest: 65655.6565929\tbest: 65655.6565929 (98)\ttotal: 18.7s\tremaining: 1m 15s\n",
      "99:\tlearn: 74773.2788920\ttest: 65658.0017645\tbest: 65655.6565929 (98)\ttotal: 18.9s\tremaining: 1m 15s\n",
      "100:\tlearn: 74767.5286060\ttest: 65658.9942288\tbest: 65655.6565929 (98)\ttotal: 19s\tremaining: 1m 15s\n",
      "101:\tlearn: 74759.2365896\ttest: 65654.3119142\tbest: 65654.3119142 (101)\ttotal: 19.2s\tremaining: 1m 15s\n",
      "102:\tlearn: 74756.4961723\ttest: 65654.6927249\tbest: 65654.3119142 (101)\ttotal: 19.5s\tremaining: 1m 15s\n",
      "103:\tlearn: 74754.6881919\ttest: 65655.4004762\tbest: 65654.3119142 (101)\ttotal: 19.7s\tremaining: 1m 14s\n",
      "104:\tlearn: 74750.3017752\ttest: 65652.9416433\tbest: 65652.9416433 (104)\ttotal: 19.9s\tremaining: 1m 14s\n",
      "105:\tlearn: 74749.6150881\ttest: 65652.8184574\tbest: 65652.8184574 (105)\ttotal: 20s\tremaining: 1m 14s\n",
      "106:\tlearn: 74747.6245464\ttest: 65651.5326122\tbest: 65651.5326122 (106)\ttotal: 20.2s\tremaining: 1m 14s\n",
      "107:\tlearn: 74745.3334541\ttest: 65648.6517275\tbest: 65648.6517275 (107)\ttotal: 20.4s\tremaining: 1m 13s\n",
      "108:\tlearn: 74744.7518773\ttest: 65648.7752965\tbest: 65648.6517275 (107)\ttotal: 20.6s\tremaining: 1m 13s\n",
      "109:\tlearn: 74743.2497669\ttest: 65648.5913434\tbest: 65648.5913434 (109)\ttotal: 20.8s\tremaining: 1m 13s\n",
      "110:\tlearn: 74739.4379093\ttest: 65648.9521320\tbest: 65648.5913434 (109)\ttotal: 20.9s\tremaining: 1m 13s\n",
      "111:\tlearn: 74738.2209317\ttest: 65648.6108033\tbest: 65648.5913434 (109)\ttotal: 21.1s\tremaining: 1m 13s\n",
      "112:\tlearn: 74737.3021873\ttest: 65648.3072245\tbest: 65648.3072245 (112)\ttotal: 21.2s\tremaining: 1m 12s\n",
      "113:\tlearn: 74736.7466078\ttest: 65648.3907768\tbest: 65648.3072245 (112)\ttotal: 21.4s\tremaining: 1m 12s\n",
      "114:\tlearn: 74731.9493362\ttest: 65648.1426209\tbest: 65648.1426209 (114)\ttotal: 21.6s\tremaining: 1m 12s\n",
      "115:\tlearn: 74724.0787715\ttest: 65650.0489103\tbest: 65648.1426209 (114)\ttotal: 21.7s\tremaining: 1m 11s\n",
      "116:\tlearn: 74701.2416799\ttest: 65649.0810188\tbest: 65648.1426209 (114)\ttotal: 22s\tremaining: 1m 11s\n",
      "117:\tlearn: 74701.1259202\ttest: 65649.2148189\tbest: 65648.1426209 (114)\ttotal: 22.1s\tremaining: 1m 11s\n",
      "118:\tlearn: 74688.9779434\ttest: 65647.6204324\tbest: 65647.6204324 (118)\ttotal: 22.3s\tremaining: 1m 11s\n",
      "119:\tlearn: 74688.7039860\ttest: 65647.6769645\tbest: 65647.6204324 (118)\ttotal: 22.4s\tremaining: 1m 10s\n",
      "120:\tlearn: 74677.4188272\ttest: 65648.2451344\tbest: 65647.6204324 (118)\ttotal: 22.6s\tremaining: 1m 10s\n",
      "121:\tlearn: 74674.1632712\ttest: 65650.3165212\tbest: 65647.6204324 (118)\ttotal: 22.8s\tremaining: 1m 10s\n",
      "122:\tlearn: 74670.4564120\ttest: 65650.9780516\tbest: 65647.6204324 (118)\ttotal: 23s\tremaining: 1m 10s\n",
      "123:\tlearn: 74662.1877057\ttest: 65651.3852992\tbest: 65647.6204324 (118)\ttotal: 23.2s\tremaining: 1m 10s\n",
      "124:\tlearn: 74656.5022166\ttest: 65649.1929738\tbest: 65647.6204324 (118)\ttotal: 23.4s\tremaining: 1m 10s\n",
      "125:\tlearn: 74636.8305224\ttest: 65649.1073868\tbest: 65647.6204324 (118)\ttotal: 23.6s\tremaining: 1m 10s\n",
      "126:\tlearn: 74636.7473655\ttest: 65648.9320585\tbest: 65647.6204324 (118)\ttotal: 23.8s\tremaining: 1m 9s\n",
      "127:\tlearn: 74636.7176783\ttest: 65648.9317308\tbest: 65647.6204324 (118)\ttotal: 23.8s\tremaining: 1m 9s\n",
      "128:\tlearn: 74636.2299601\ttest: 65648.8978511\tbest: 65647.6204324 (118)\ttotal: 24s\tremaining: 1m 8s\n",
      "129:\tlearn: 74629.5717388\ttest: 65648.9029415\tbest: 65647.6204324 (118)\ttotal: 24.1s\tremaining: 1m 8s\n",
      "130:\tlearn: 74626.6285665\ttest: 65647.7795717\tbest: 65647.6204324 (118)\ttotal: 24.4s\tremaining: 1m 8s\n",
      "131:\tlearn: 74624.1994519\ttest: 65647.5797791\tbest: 65647.5797791 (131)\ttotal: 24.5s\tremaining: 1m 8s\n",
      "132:\tlearn: 74622.2962355\ttest: 65646.8643434\tbest: 65646.8643434 (132)\ttotal: 24.8s\tremaining: 1m 8s\n",
      "133:\tlearn: 74614.5641310\ttest: 65646.4016449\tbest: 65646.4016449 (133)\ttotal: 25s\tremaining: 1m 8s\n",
      "134:\tlearn: 74612.8003614\ttest: 65645.7559118\tbest: 65645.7559118 (134)\ttotal: 25.2s\tremaining: 1m 8s\n",
      "135:\tlearn: 74612.7071880\ttest: 65645.9062011\tbest: 65645.7559118 (134)\ttotal: 25.3s\tremaining: 1m 7s\n",
      "136:\tlearn: 74609.9781620\ttest: 65645.4246071\tbest: 65645.4246071 (136)\ttotal: 25.6s\tremaining: 1m 7s\n",
      "137:\tlearn: 74609.8333321\ttest: 65645.1680328\tbest: 65645.1680328 (137)\ttotal: 25.8s\tremaining: 1m 7s\n",
      "138:\tlearn: 74606.3257887\ttest: 65643.1400768\tbest: 65643.1400768 (138)\ttotal: 25.9s\tremaining: 1m 7s\n",
      "139:\tlearn: 74603.0308798\ttest: 65640.6027543\tbest: 65640.6027543 (139)\ttotal: 26.2s\tremaining: 1m 7s\n",
      "140:\tlearn: 74591.7198268\ttest: 65639.0260683\tbest: 65639.0260683 (140)\ttotal: 26.4s\tremaining: 1m 7s\n",
      "141:\tlearn: 74580.0992656\ttest: 65639.9942965\tbest: 65639.0260683 (140)\ttotal: 26.6s\tremaining: 1m 7s\n",
      "142:\tlearn: 74556.1658663\ttest: 65640.4568267\tbest: 65639.0260683 (140)\ttotal: 26.8s\tremaining: 1m 7s\n",
      "143:\tlearn: 74551.2705026\ttest: 65637.7191000\tbest: 65637.7191000 (143)\ttotal: 27s\tremaining: 1m 6s\n",
      "144:\tlearn: 74549.8791450\ttest: 65637.1373693\tbest: 65637.1373693 (144)\ttotal: 27.2s\tremaining: 1m 6s\n",
      "145:\tlearn: 74548.6009360\ttest: 65636.7469267\tbest: 65636.7469267 (145)\ttotal: 27.4s\tremaining: 1m 6s\n",
      "146:\tlearn: 74548.4848147\ttest: 65636.5483776\tbest: 65636.5483776 (146)\ttotal: 27.5s\tremaining: 1m 5s\n",
      "147:\tlearn: 74540.0118096\ttest: 65634.6895517\tbest: 65634.6895517 (147)\ttotal: 27.7s\tremaining: 1m 5s\n",
      "148:\tlearn: 74539.1044488\ttest: 65634.2741394\tbest: 65634.2741394 (148)\ttotal: 27.9s\tremaining: 1m 5s\n",
      "149:\tlearn: 74524.5423284\ttest: 65635.8413776\tbest: 65634.2741394 (148)\ttotal: 28.1s\tremaining: 1m 5s\n",
      "150:\tlearn: 74516.9041599\ttest: 65634.4842349\tbest: 65634.2741394 (148)\ttotal: 28.3s\tremaining: 1m 5s\n",
      "151:\tlearn: 74515.6130676\ttest: 65634.4085066\tbest: 65634.2741394 (148)\ttotal: 28.5s\tremaining: 1m 5s\n",
      "152:\tlearn: 74513.9576078\ttest: 65634.7761951\tbest: 65634.2741394 (148)\ttotal: 28.7s\tremaining: 1m 5s\n",
      "153:\tlearn: 74511.9006408\ttest: 65634.7415957\tbest: 65634.2741394 (148)\ttotal: 28.9s\tremaining: 1m 4s\n",
      "154:\tlearn: 74511.7657367\ttest: 65634.5689386\tbest: 65634.2741394 (148)\ttotal: 29.1s\tremaining: 1m 4s\n",
      "155:\tlearn: 74503.6749352\ttest: 65632.6818034\tbest: 65632.6818034 (155)\ttotal: 29.3s\tremaining: 1m 4s\n",
      "156:\tlearn: 74499.4388195\ttest: 65634.9217578\tbest: 65632.6818034 (155)\ttotal: 29.4s\tremaining: 1m 4s\n",
      "157:\tlearn: 74493.3079896\ttest: 65635.5792985\tbest: 65632.6818034 (155)\ttotal: 29.6s\tremaining: 1m 4s\n",
      "158:\tlearn: 74484.9368111\ttest: 65634.9214820\tbest: 65632.6818034 (155)\ttotal: 29.8s\tremaining: 1m 3s\n",
      "159:\tlearn: 74482.2546310\ttest: 65634.0133625\tbest: 65632.6818034 (155)\ttotal: 30s\tremaining: 1m 3s\n",
      "160:\tlearn: 74481.6162519\ttest: 65633.9621269\tbest: 65632.6818034 (155)\ttotal: 30.2s\tremaining: 1m 3s\n",
      "161:\tlearn: 74480.6226051\ttest: 65633.7020031\tbest: 65632.6818034 (155)\ttotal: 30.4s\tremaining: 1m 3s\n",
      "162:\tlearn: 74476.8967111\ttest: 65632.5316776\tbest: 65632.5316776 (162)\ttotal: 30.6s\tremaining: 1m 3s\n",
      "163:\tlearn: 74476.7263794\ttest: 65632.5224354\tbest: 65632.5224354 (163)\ttotal: 30.8s\tremaining: 1m 3s\n",
      "164:\tlearn: 74472.0341427\ttest: 65633.3663885\tbest: 65632.5224354 (163)\ttotal: 31s\tremaining: 1m 2s\n",
      "165:\tlearn: 74470.6024253\ttest: 65633.4433381\tbest: 65632.5224354 (163)\ttotal: 31.2s\tremaining: 1m 2s\n",
      "166:\tlearn: 74462.7176827\ttest: 65634.8621556\tbest: 65632.5224354 (163)\ttotal: 31.4s\tremaining: 1m 2s\n",
      "167:\tlearn: 74462.3689453\ttest: 65634.8091154\tbest: 65632.5224354 (163)\ttotal: 31.6s\tremaining: 1m 2s\n",
      "168:\tlearn: 74455.1833104\ttest: 65633.5498061\tbest: 65632.5224354 (163)\ttotal: 31.8s\tremaining: 1m 2s\n",
      "169:\tlearn: 74454.0215225\ttest: 65633.7421628\tbest: 65632.5224354 (163)\ttotal: 31.9s\tremaining: 1m 2s\n",
      "170:\tlearn: 74442.5010399\ttest: 65632.3900408\tbest: 65632.3900408 (170)\ttotal: 32.1s\tremaining: 1m 1s\n",
      "171:\tlearn: 74441.5209261\ttest: 65631.9411374\tbest: 65631.9411374 (171)\ttotal: 32.3s\tremaining: 1m 1s\n",
      "172:\tlearn: 74432.4080545\ttest: 65630.6928664\tbest: 65630.6928664 (172)\ttotal: 32.5s\tremaining: 1m 1s\n",
      "173:\tlearn: 74430.2586012\ttest: 65629.6328991\tbest: 65629.6328991 (173)\ttotal: 32.8s\tremaining: 1m 1s\n",
      "174:\tlearn: 74428.5715670\ttest: 65630.0130699\tbest: 65629.6328991 (173)\ttotal: 33s\tremaining: 1m 1s\n",
      "175:\tlearn: 74426.3918167\ttest: 65629.7898223\tbest: 65629.6328991 (173)\ttotal: 33.2s\tremaining: 1m 1s\n",
      "176:\tlearn: 74419.7531606\ttest: 65628.7420709\tbest: 65628.7420709 (176)\ttotal: 33.4s\tremaining: 1m\n",
      "177:\tlearn: 74409.4638903\ttest: 65630.2507299\tbest: 65628.7420709 (176)\ttotal: 33.7s\tremaining: 1m\n",
      "178:\tlearn: 74409.1006563\ttest: 65630.3262590\tbest: 65628.7420709 (176)\ttotal: 33.8s\tremaining: 1m\n",
      "179:\tlearn: 74407.2398195\ttest: 65629.9046023\tbest: 65628.7420709 (176)\ttotal: 34s\tremaining: 1m\n",
      "180:\tlearn: 74394.8798515\ttest: 65629.4910301\tbest: 65628.7420709 (176)\ttotal: 34.2s\tremaining: 1m\n",
      "181:\tlearn: 74384.9338110\ttest: 65628.8068266\tbest: 65628.7420709 (176)\ttotal: 34.5s\tremaining: 1m\n",
      "182:\tlearn: 74380.8425027\ttest: 65629.3846573\tbest: 65628.7420709 (176)\ttotal: 34.7s\tremaining: 1m\n",
      "183:\tlearn: 74374.6649935\ttest: 65628.5677404\tbest: 65628.5677404 (183)\ttotal: 34.9s\tremaining: 59.9s\n",
      "184:\tlearn: 74368.9000686\ttest: 65627.9277543\tbest: 65627.9277543 (184)\ttotal: 35s\tremaining: 59.6s\n",
      "185:\tlearn: 74367.1475582\ttest: 65628.5725796\tbest: 65627.9277543 (184)\ttotal: 35.2s\tremaining: 59.4s\n",
      "186:\tlearn: 74364.9885624\ttest: 65627.9387465\tbest: 65627.9277543 (184)\ttotal: 35.4s\tremaining: 59.2s\n",
      "187:\tlearn: 74359.8595696\ttest: 65630.1024500\tbest: 65627.9277543 (184)\ttotal: 35.5s\tremaining: 59s\n",
      "188:\tlearn: 74350.1985858\ttest: 65629.2272537\tbest: 65627.9277543 (184)\ttotal: 35.7s\tremaining: 58.8s\n",
      "189:\tlearn: 74346.0541410\ttest: 65629.5990073\tbest: 65627.9277543 (184)\ttotal: 35.9s\tremaining: 58.6s\n",
      "190:\tlearn: 74340.5582125\ttest: 65628.3616732\tbest: 65627.9277543 (184)\ttotal: 36.2s\tremaining: 58.5s\n",
      "191:\tlearn: 74340.1772365\ttest: 65628.3422279\tbest: 65627.9277543 (184)\ttotal: 36.4s\tremaining: 58.3s\n",
      "192:\tlearn: 74328.7909109\ttest: 65623.8546323\tbest: 65623.8546323 (192)\ttotal: 36.6s\tremaining: 58.2s\n",
      "193:\tlearn: 74321.2348980\ttest: 65622.6985605\tbest: 65622.6985605 (193)\ttotal: 36.8s\tremaining: 58.1s\n",
      "194:\tlearn: 74317.5478807\ttest: 65619.8980492\tbest: 65619.8980492 (194)\ttotal: 37.1s\tremaining: 58s\n",
      "195:\tlearn: 74312.9855310\ttest: 65619.7047222\tbest: 65619.7047222 (195)\ttotal: 37.2s\tremaining: 57.8s\n",
      "196:\tlearn: 74298.2494409\ttest: 65617.1617430\tbest: 65617.1617430 (196)\ttotal: 37.5s\tremaining: 57.7s\n",
      "197:\tlearn: 74296.9531778\ttest: 65616.2081078\tbest: 65616.2081078 (197)\ttotal: 37.8s\tremaining: 57.6s\n",
      "198:\tlearn: 74295.8087170\ttest: 65615.7539777\tbest: 65615.7539777 (198)\ttotal: 38s\tremaining: 57.5s\n",
      "199:\tlearn: 74295.3578972\ttest: 65616.1258700\tbest: 65615.7539777 (198)\ttotal: 38.1s\tremaining: 57.2s\n",
      "200:\tlearn: 74291.7873159\ttest: 65617.3528279\tbest: 65615.7539777 (198)\ttotal: 38.4s\tremaining: 57.1s\n",
      "201:\tlearn: 74286.4277502\ttest: 65616.9140536\tbest: 65615.7539777 (198)\ttotal: 38.6s\tremaining: 56.9s\n",
      "202:\tlearn: 74280.4220918\ttest: 65617.6548543\tbest: 65615.7539777 (198)\ttotal: 38.8s\tremaining: 56.7s\n",
      "203:\tlearn: 74279.9142172\ttest: 65617.4435401\tbest: 65615.7539777 (198)\ttotal: 39s\tremaining: 56.5s\n",
      "204:\tlearn: 74259.2501038\ttest: 65617.1858459\tbest: 65615.7539777 (198)\ttotal: 39.2s\tremaining: 56.4s\n",
      "205:\tlearn: 74258.6763858\ttest: 65617.4521983\tbest: 65615.7539777 (198)\ttotal: 39.4s\tremaining: 56.2s\n",
      "206:\tlearn: 74258.4649606\ttest: 65617.6744019\tbest: 65615.7539777 (198)\ttotal: 39.6s\tremaining: 56.1s\n",
      "207:\tlearn: 74258.1661189\ttest: 65617.5975369\tbest: 65615.7539777 (198)\ttotal: 39.9s\tremaining: 56s\n",
      "208:\tlearn: 74256.5698799\ttest: 65617.6086953\tbest: 65615.7539777 (198)\ttotal: 40.2s\tremaining: 56s\n",
      "209:\tlearn: 74254.6657502\ttest: 65616.8903435\tbest: 65615.7539777 (198)\ttotal: 40.5s\tremaining: 56s\n",
      "210:\tlearn: 74245.4028935\ttest: 65617.6565193\tbest: 65615.7539777 (198)\ttotal: 40.8s\tremaining: 55.9s\n",
      "211:\tlearn: 74244.3417315\ttest: 65617.2570237\tbest: 65615.7539777 (198)\ttotal: 41.1s\tremaining: 55.8s\n",
      "212:\tlearn: 74240.1409708\ttest: 65617.3739529\tbest: 65615.7539777 (198)\ttotal: 41.3s\tremaining: 55.7s\n",
      "213:\tlearn: 74235.7173660\ttest: 65617.0062622\tbest: 65615.7539777 (198)\ttotal: 41.6s\tremaining: 55.6s\n",
      "214:\tlearn: 74215.7030868\ttest: 65617.5803502\tbest: 65615.7539777 (198)\ttotal: 41.9s\tremaining: 55.5s\n",
      "215:\tlearn: 74201.6535871\ttest: 65620.3342351\tbest: 65615.7539777 (198)\ttotal: 42.1s\tremaining: 55.3s\n",
      "216:\tlearn: 74192.4833295\ttest: 65622.2036991\tbest: 65615.7539777 (198)\ttotal: 42.3s\tremaining: 55.1s\n",
      "217:\tlearn: 74190.5856757\ttest: 65622.4066495\tbest: 65615.7539777 (198)\ttotal: 42.6s\tremaining: 55.1s\n",
      "218:\tlearn: 74189.1956719\ttest: 65622.6446317\tbest: 65615.7539777 (198)\ttotal: 42.8s\tremaining: 54.9s\n",
      "219:\tlearn: 74187.6825712\ttest: 65622.2144759\tbest: 65615.7539777 (198)\ttotal: 43s\tremaining: 54.7s\n",
      "220:\tlearn: 74184.3258144\ttest: 65622.8762785\tbest: 65615.7539777 (198)\ttotal: 43.2s\tremaining: 54.6s\n",
      "221:\tlearn: 74178.7680570\ttest: 65622.9989847\tbest: 65615.7539777 (198)\ttotal: 43.5s\tremaining: 54.4s\n",
      "222:\tlearn: 74174.0834492\ttest: 65623.5095211\tbest: 65615.7539777 (198)\ttotal: 43.7s\tremaining: 54.2s\n",
      "223:\tlearn: 74167.5627406\ttest: 65620.6928581\tbest: 65615.7539777 (198)\ttotal: 43.9s\tremaining: 54.1s\n",
      "224:\tlearn: 74165.1660737\ttest: 65619.9335340\tbest: 65615.7539777 (198)\ttotal: 44.1s\tremaining: 53.9s\n",
      "225:\tlearn: 74151.3098145\ttest: 65622.2964136\tbest: 65615.7539777 (198)\ttotal: 44.3s\tremaining: 53.7s\n",
      "226:\tlearn: 74151.0484739\ttest: 65622.2443810\tbest: 65615.7539777 (198)\ttotal: 44.6s\tremaining: 53.6s\n",
      "227:\tlearn: 74150.6345637\ttest: 65622.5206510\tbest: 65615.7539777 (198)\ttotal: 44.7s\tremaining: 53.4s\n",
      "228:\tlearn: 74136.7422577\ttest: 65619.9114038\tbest: 65615.7539777 (198)\ttotal: 44.9s\tremaining: 53.1s\n",
      "229:\tlearn: 74129.7702094\ttest: 65620.3467847\tbest: 65615.7539777 (198)\ttotal: 45.1s\tremaining: 53s\n",
      "230:\tlearn: 74126.9961754\ttest: 65619.1652693\tbest: 65615.7539777 (198)\ttotal: 45.3s\tremaining: 52.8s\n",
      "231:\tlearn: 74125.7993902\ttest: 65618.3584016\tbest: 65615.7539777 (198)\ttotal: 45.6s\tremaining: 52.7s\n",
      "232:\tlearn: 74097.1009431\ttest: 65617.3085098\tbest: 65615.7539777 (198)\ttotal: 45.8s\tremaining: 52.5s\n",
      "233:\tlearn: 74090.9751401\ttest: 65618.5224333\tbest: 65615.7539777 (198)\ttotal: 46s\tremaining: 52.2s\n",
      "234:\tlearn: 74090.7286864\ttest: 65618.5299003\tbest: 65615.7539777 (198)\ttotal: 46.1s\tremaining: 52s\n",
      "235:\tlearn: 74084.1255335\ttest: 65616.1462487\tbest: 65615.7539777 (198)\ttotal: 46.3s\tremaining: 51.8s\n",
      "236:\tlearn: 74083.2406780\ttest: 65616.2137766\tbest: 65615.7539777 (198)\ttotal: 46.5s\tremaining: 51.6s\n",
      "237:\tlearn: 74077.6020323\ttest: 65615.8098773\tbest: 65615.7539777 (198)\ttotal: 46.7s\tremaining: 51.4s\n",
      "238:\tlearn: 74077.4093788\ttest: 65615.8117126\tbest: 65615.7539777 (198)\ttotal: 46.9s\tremaining: 51.2s\n",
      "239:\tlearn: 74065.4249504\ttest: 65619.1691003\tbest: 65615.7539777 (198)\ttotal: 47.1s\tremaining: 51.1s\n",
      "240:\tlearn: 74064.8738772\ttest: 65619.2731554\tbest: 65615.7539777 (198)\ttotal: 47.4s\tremaining: 50.9s\n",
      "241:\tlearn: 74061.6469453\ttest: 65618.6446644\tbest: 65615.7539777 (198)\ttotal: 47.6s\tremaining: 50.8s\n",
      "242:\tlearn: 74060.1420154\ttest: 65618.3413436\tbest: 65615.7539777 (198)\ttotal: 47.8s\tremaining: 50.6s\n",
      "243:\tlearn: 74058.2874038\ttest: 65618.7171773\tbest: 65615.7539777 (198)\ttotal: 48.1s\tremaining: 50.4s\n",
      "244:\tlearn: 74049.2815498\ttest: 65618.2007175\tbest: 65615.7539777 (198)\ttotal: 48.3s\tremaining: 50.3s\n",
      "245:\tlearn: 74047.9393978\ttest: 65619.4631283\tbest: 65615.7539777 (198)\ttotal: 48.5s\tremaining: 50.1s\n",
      "246:\tlearn: 74047.0298421\ttest: 65619.7092884\tbest: 65615.7539777 (198)\ttotal: 48.7s\tremaining: 49.9s\n",
      "247:\tlearn: 74043.7699185\ttest: 65620.3553333\tbest: 65615.7539777 (198)\ttotal: 49s\tremaining: 49.8s\n",
      "248:\tlearn: 74041.6572776\ttest: 65619.8130669\tbest: 65615.7539777 (198)\ttotal: 49.3s\tremaining: 49.6s\n",
      "249:\tlearn: 74038.7938363\ttest: 65619.3126775\tbest: 65615.7539777 (198)\ttotal: 49.5s\tremaining: 49.5s\n",
      "250:\tlearn: 74037.8585701\ttest: 65618.9018528\tbest: 65615.7539777 (198)\ttotal: 49.7s\tremaining: 49.3s\n",
      "251:\tlearn: 74037.1726928\ttest: 65618.4480529\tbest: 65615.7539777 (198)\ttotal: 49.9s\tremaining: 49.1s\n",
      "252:\tlearn: 74034.3253779\ttest: 65617.8982985\tbest: 65615.7539777 (198)\ttotal: 50.1s\tremaining: 48.9s\n",
      "253:\tlearn: 74031.2776045\ttest: 65619.3952913\tbest: 65615.7539777 (198)\ttotal: 50.3s\tremaining: 48.7s\n",
      "254:\tlearn: 74027.7462755\ttest: 65619.5299655\tbest: 65615.7539777 (198)\ttotal: 50.5s\tremaining: 48.5s\n",
      "255:\tlearn: 74021.6367029\ttest: 65616.8037526\tbest: 65615.7539777 (198)\ttotal: 50.7s\tremaining: 48.3s\n",
      "256:\tlearn: 74018.2747346\ttest: 65617.4192794\tbest: 65615.7539777 (198)\ttotal: 50.9s\tremaining: 48.1s\n",
      "257:\tlearn: 74015.1978638\ttest: 65618.3175968\tbest: 65615.7539777 (198)\ttotal: 51.1s\tremaining: 48s\n",
      "258:\tlearn: 73996.3377086\ttest: 65616.6644059\tbest: 65615.7539777 (198)\ttotal: 51.3s\tremaining: 47.7s\n",
      "259:\tlearn: 73992.2245944\ttest: 65616.9214078\tbest: 65615.7539777 (198)\ttotal: 51.5s\tremaining: 47.5s\n",
      "260:\tlearn: 73989.2349330\ttest: 65615.7756594\tbest: 65615.7539777 (198)\ttotal: 51.7s\tremaining: 47.3s\n",
      "261:\tlearn: 73984.7520284\ttest: 65616.5328378\tbest: 65615.7539777 (198)\ttotal: 51.9s\tremaining: 47.1s\n",
      "262:\tlearn: 73984.1034625\ttest: 65616.7374546\tbest: 65615.7539777 (198)\ttotal: 52.1s\tremaining: 47s\n",
      "263:\tlearn: 73983.6958981\ttest: 65616.8479453\tbest: 65615.7539777 (198)\ttotal: 52.3s\tremaining: 46.7s\n",
      "264:\tlearn: 73983.1630844\ttest: 65616.7780750\tbest: 65615.7539777 (198)\ttotal: 52.5s\tremaining: 46.5s\n",
      "265:\tlearn: 73977.6747130\ttest: 65618.7491491\tbest: 65615.7539777 (198)\ttotal: 52.7s\tremaining: 46.4s\n",
      "266:\tlearn: 73972.3745436\ttest: 65617.3725112\tbest: 65615.7539777 (198)\ttotal: 52.9s\tremaining: 46.2s\n",
      "267:\tlearn: 73972.2921417\ttest: 65617.6776928\tbest: 65615.7539777 (198)\ttotal: 53.2s\tremaining: 46s\n",
      "268:\tlearn: 73970.7507099\ttest: 65617.5549721\tbest: 65615.7539777 (198)\ttotal: 53.4s\tremaining: 45.9s\n",
      "269:\tlearn: 73968.6723033\ttest: 65616.9363052\tbest: 65615.7539777 (198)\ttotal: 53.6s\tremaining: 45.7s\n",
      "270:\tlearn: 73962.5385191\ttest: 65614.2445031\tbest: 65614.2445031 (270)\ttotal: 53.8s\tremaining: 45.5s\n",
      "271:\tlearn: 73957.9456671\ttest: 65614.6051435\tbest: 65614.2445031 (270)\ttotal: 54s\tremaining: 45.3s\n",
      "272:\tlearn: 73950.4422815\ttest: 65615.4578971\tbest: 65614.2445031 (270)\ttotal: 54.2s\tremaining: 45.1s\n",
      "273:\tlearn: 73943.0362920\ttest: 65618.9113840\tbest: 65614.2445031 (270)\ttotal: 54.4s\tremaining: 44.9s\n",
      "274:\tlearn: 73942.0589665\ttest: 65619.6682759\tbest: 65614.2445031 (270)\ttotal: 54.7s\tremaining: 44.7s\n",
      "275:\tlearn: 73939.6055230\ttest: 65619.7207985\tbest: 65614.2445031 (270)\ttotal: 54.9s\tremaining: 44.6s\n",
      "276:\tlearn: 73938.4103148\ttest: 65619.9986717\tbest: 65614.2445031 (270)\ttotal: 55.2s\tremaining: 44.4s\n",
      "277:\tlearn: 73937.2462301\ttest: 65621.2218458\tbest: 65614.2445031 (270)\ttotal: 55.4s\tremaining: 44.2s\n",
      "278:\tlearn: 73935.9231845\ttest: 65619.9194978\tbest: 65614.2445031 (270)\ttotal: 55.6s\tremaining: 44s\n",
      "279:\tlearn: 73935.7626312\ttest: 65619.9565980\tbest: 65614.2445031 (270)\ttotal: 55.8s\tremaining: 43.8s\n",
      "280:\tlearn: 73934.7729344\ttest: 65618.8862410\tbest: 65614.2445031 (270)\ttotal: 56s\tremaining: 43.7s\n",
      "281:\tlearn: 73934.6136386\ttest: 65618.9580455\tbest: 65614.2445031 (270)\ttotal: 56.1s\tremaining: 43.4s\n",
      "282:\tlearn: 73927.2355244\ttest: 65618.1688929\tbest: 65614.2445031 (270)\ttotal: 56.3s\tremaining: 43.2s\n",
      "283:\tlearn: 73921.1512939\ttest: 65618.6736983\tbest: 65614.2445031 (270)\ttotal: 56.5s\tremaining: 43s\n",
      "284:\tlearn: 73915.5307332\ttest: 65618.8958751\tbest: 65614.2445031 (270)\ttotal: 56.7s\tremaining: 42.8s\n",
      "285:\tlearn: 73909.9254177\ttest: 65618.6418083\tbest: 65614.2445031 (270)\ttotal: 56.9s\tremaining: 42.6s\n",
      "286:\tlearn: 73905.9652173\ttest: 65619.4528557\tbest: 65614.2445031 (270)\ttotal: 57.2s\tremaining: 42.4s\n",
      "287:\tlearn: 73904.1280294\ttest: 65620.4335774\tbest: 65614.2445031 (270)\ttotal: 57.3s\tremaining: 42.2s\n",
      "288:\tlearn: 73903.9995865\ttest: 65620.4850030\tbest: 65614.2445031 (270)\ttotal: 57.5s\tremaining: 41.9s\n",
      "289:\tlearn: 73903.8712588\ttest: 65620.5684405\tbest: 65614.2445031 (270)\ttotal: 57.6s\tremaining: 41.7s\n",
      "290:\tlearn: 73903.7705784\ttest: 65620.6338934\tbest: 65614.2445031 (270)\ttotal: 57.7s\tremaining: 41.4s\n",
      "291:\tlearn: 73899.8866283\ttest: 65621.3776750\tbest: 65614.2445031 (270)\ttotal: 57.9s\tremaining: 41.2s\n",
      "292:\tlearn: 73893.9376977\ttest: 65622.4216503\tbest: 65614.2445031 (270)\ttotal: 58.2s\tremaining: 41.1s\n",
      "293:\tlearn: 73893.1217898\ttest: 65623.1676189\tbest: 65614.2445031 (270)\ttotal: 58.4s\tremaining: 40.9s\n",
      "294:\tlearn: 73889.6107368\ttest: 65621.9131253\tbest: 65614.2445031 (270)\ttotal: 58.6s\tremaining: 40.7s\n",
      "295:\tlearn: 73884.3198812\ttest: 65620.8566654\tbest: 65614.2445031 (270)\ttotal: 58.8s\tremaining: 40.5s\n",
      "296:\tlearn: 73878.9031988\ttest: 65622.9872224\tbest: 65614.2445031 (270)\ttotal: 59s\tremaining: 40.3s\n",
      "297:\tlearn: 73873.8958136\ttest: 65621.0436494\tbest: 65614.2445031 (270)\ttotal: 59.3s\tremaining: 40.2s\n",
      "298:\tlearn: 73873.8040984\ttest: 65621.1134048\tbest: 65614.2445031 (270)\ttotal: 59.5s\tremaining: 40s\n",
      "299:\tlearn: 73872.9332689\ttest: 65620.9552285\tbest: 65614.2445031 (270)\ttotal: 59.7s\tremaining: 39.8s\n",
      "300:\tlearn: 73872.8518298\ttest: 65621.0302149\tbest: 65614.2445031 (270)\ttotal: 59.8s\tremaining: 39.5s\n",
      "301:\tlearn: 73872.5314250\ttest: 65621.1948289\tbest: 65614.2445031 (270)\ttotal: 60s\tremaining: 39.3s\n",
      "302:\tlearn: 73860.8725866\ttest: 65624.8315293\tbest: 65614.2445031 (270)\ttotal: 1m\tremaining: 39.1s\n",
      "303:\tlearn: 73860.5315005\ttest: 65624.9993985\tbest: 65614.2445031 (270)\ttotal: 1m\tremaining: 38.9s\n",
      "304:\tlearn: 73860.1039470\ttest: 65624.9576114\tbest: 65614.2445031 (270)\ttotal: 1m\tremaining: 38.6s\n",
      "305:\tlearn: 73855.2665348\ttest: 65626.3922372\tbest: 65614.2445031 (270)\ttotal: 1m\tremaining: 38.5s\n",
      "306:\tlearn: 73846.8973224\ttest: 65627.7773119\tbest: 65614.2445031 (270)\ttotal: 1m\tremaining: 38.3s\n",
      "307:\tlearn: 73846.2154978\ttest: 65628.4924785\tbest: 65614.2445031 (270)\ttotal: 1m 1s\tremaining: 38.1s\n",
      "308:\tlearn: 73842.6798646\ttest: 65629.3032616\tbest: 65614.2445031 (270)\ttotal: 1m 1s\tremaining: 37.9s\n",
      "309:\tlearn: 73840.2738328\ttest: 65629.9665533\tbest: 65614.2445031 (270)\ttotal: 1m 1s\tremaining: 37.7s\n",
      "310:\tlearn: 73835.9433383\ttest: 65629.9772370\tbest: 65614.2445031 (270)\ttotal: 1m 1s\tremaining: 37.4s\n",
      "311:\tlearn: 73833.4827429\ttest: 65629.0635520\tbest: 65614.2445031 (270)\ttotal: 1m 1s\tremaining: 37.2s\n",
      "312:\tlearn: 73831.0452639\ttest: 65630.7640731\tbest: 65614.2445031 (270)\ttotal: 1m 1s\tremaining: 37s\n",
      "313:\tlearn: 73830.9298698\ttest: 65630.6080462\tbest: 65614.2445031 (270)\ttotal: 1m 2s\tremaining: 36.8s\n",
      "314:\tlearn: 73824.3295822\ttest: 65630.6959692\tbest: 65614.2445031 (270)\ttotal: 1m 2s\tremaining: 36.6s\n",
      "315:\tlearn: 73819.6885950\ttest: 65631.4186575\tbest: 65614.2445031 (270)\ttotal: 1m 2s\tremaining: 36.5s\n",
      "316:\tlearn: 73811.3623273\ttest: 65628.9865457\tbest: 65614.2445031 (270)\ttotal: 1m 2s\tremaining: 36.3s\n",
      "317:\tlearn: 73806.3067813\ttest: 65628.6606689\tbest: 65614.2445031 (270)\ttotal: 1m 3s\tremaining: 36.1s\n",
      "318:\tlearn: 73805.1148959\ttest: 65628.5771850\tbest: 65614.2445031 (270)\ttotal: 1m 3s\tremaining: 35.9s\n",
      "319:\tlearn: 73788.3399902\ttest: 65627.1378393\tbest: 65614.2445031 (270)\ttotal: 1m 3s\tremaining: 35.7s\n",
      "320:\tlearn: 73781.5674568\ttest: 65626.5817956\tbest: 65614.2445031 (270)\ttotal: 1m 3s\tremaining: 35.5s\n",
      "321:\tlearn: 73772.8133395\ttest: 65628.8026496\tbest: 65614.2445031 (270)\ttotal: 1m 3s\tremaining: 35.3s\n",
      "322:\tlearn: 73768.0823127\ttest: 65628.5879748\tbest: 65614.2445031 (270)\ttotal: 1m 4s\tremaining: 35.1s\n",
      "323:\tlearn: 73759.3428171\ttest: 65629.9821284\tbest: 65614.2445031 (270)\ttotal: 1m 4s\tremaining: 34.9s\n",
      "324:\tlearn: 73759.0115363\ttest: 65630.1839772\tbest: 65614.2445031 (270)\ttotal: 1m 4s\tremaining: 34.7s\n",
      "325:\tlearn: 73758.1181238\ttest: 65629.6998729\tbest: 65614.2445031 (270)\ttotal: 1m 4s\tremaining: 34.6s\n",
      "326:\tlearn: 73755.2315315\ttest: 65629.7425209\tbest: 65614.2445031 (270)\ttotal: 1m 4s\tremaining: 34.4s\n",
      "327:\tlearn: 73748.7761622\ttest: 65626.6023425\tbest: 65614.2445031 (270)\ttotal: 1m 5s\tremaining: 34.2s\n",
      "328:\tlearn: 73747.2140793\ttest: 65627.5185887\tbest: 65614.2445031 (270)\ttotal: 1m 5s\tremaining: 34s\n",
      "329:\tlearn: 73745.3456404\ttest: 65626.7626818\tbest: 65614.2445031 (270)\ttotal: 1m 5s\tremaining: 33.8s\n",
      "330:\tlearn: 73742.9831655\ttest: 65626.7309757\tbest: 65614.2445031 (270)\ttotal: 1m 5s\tremaining: 33.6s\n",
      "331:\tlearn: 73742.6338021\ttest: 65626.9196017\tbest: 65614.2445031 (270)\ttotal: 1m 5s\tremaining: 33.4s\n",
      "332:\tlearn: 73731.8599611\ttest: 65628.8651336\tbest: 65614.2445031 (270)\ttotal: 1m 6s\tremaining: 33.2s\n",
      "333:\tlearn: 73730.5111091\ttest: 65629.8106468\tbest: 65614.2445031 (270)\ttotal: 1m 6s\tremaining: 33s\n",
      "334:\tlearn: 73730.4223945\ttest: 65630.0933841\tbest: 65614.2445031 (270)\ttotal: 1m 6s\tremaining: 32.8s\n",
      "335:\tlearn: 73722.3006203\ttest: 65630.8550114\tbest: 65614.2445031 (270)\ttotal: 1m 6s\tremaining: 32.6s\n",
      "336:\tlearn: 73722.0669476\ttest: 65631.0250272\tbest: 65614.2445031 (270)\ttotal: 1m 7s\tremaining: 32.4s\n",
      "337:\tlearn: 73701.5023434\ttest: 65631.8666806\tbest: 65614.2445031 (270)\ttotal: 1m 7s\tremaining: 32.2s\n",
      "338:\tlearn: 73698.4400760\ttest: 65632.0442184\tbest: 65614.2445031 (270)\ttotal: 1m 7s\tremaining: 32s\n",
      "339:\tlearn: 73697.0310266\ttest: 65632.7564120\tbest: 65614.2445031 (270)\ttotal: 1m 7s\tremaining: 31.9s\n",
      "340:\tlearn: 73693.3730985\ttest: 65632.2098949\tbest: 65614.2445031 (270)\ttotal: 1m 7s\tremaining: 31.7s\n",
      "341:\tlearn: 73693.1306767\ttest: 65632.1330889\tbest: 65614.2445031 (270)\ttotal: 1m 8s\tremaining: 31.5s\n",
      "342:\tlearn: 73677.8228740\ttest: 65631.0781696\tbest: 65614.2445031 (270)\ttotal: 1m 8s\tremaining: 31.3s\n",
      "343:\tlearn: 73677.5985542\ttest: 65631.1754649\tbest: 65614.2445031 (270)\ttotal: 1m 8s\tremaining: 31.1s\n",
      "344:\tlearn: 73674.7616144\ttest: 65630.7062493\tbest: 65614.2445031 (270)\ttotal: 1m 8s\tremaining: 30.9s\n",
      "345:\tlearn: 73664.4715693\ttest: 65630.3326444\tbest: 65614.2445031 (270)\ttotal: 1m 8s\tremaining: 30.7s\n",
      "346:\tlearn: 73654.7384398\ttest: 65633.3044169\tbest: 65614.2445031 (270)\ttotal: 1m 9s\tremaining: 30.5s\n",
      "347:\tlearn: 73653.5873929\ttest: 65634.2236519\tbest: 65614.2445031 (270)\ttotal: 1m 9s\tremaining: 30.3s\n",
      "348:\tlearn: 73650.8315249\ttest: 65633.1161481\tbest: 65614.2445031 (270)\ttotal: 1m 9s\tremaining: 30.1s\n",
      "349:\tlearn: 73645.8833866\ttest: 65634.0395840\tbest: 65614.2445031 (270)\ttotal: 1m 9s\tremaining: 29.9s\n",
      "350:\tlearn: 73641.4452432\ttest: 65633.8565950\tbest: 65614.2445031 (270)\ttotal: 1m 9s\tremaining: 29.7s\n",
      "351:\tlearn: 73638.7410032\ttest: 65634.3799204\tbest: 65614.2445031 (270)\ttotal: 1m 10s\tremaining: 29.5s\n",
      "352:\tlearn: 73637.8270536\ttest: 65634.8231043\tbest: 65614.2445031 (270)\ttotal: 1m 10s\tremaining: 29.3s\n",
      "353:\tlearn: 73629.8652764\ttest: 65635.1620858\tbest: 65614.2445031 (270)\ttotal: 1m 10s\tremaining: 29.1s\n",
      "354:\tlearn: 73627.6308743\ttest: 65633.2928974\tbest: 65614.2445031 (270)\ttotal: 1m 10s\tremaining: 28.9s\n",
      "355:\tlearn: 73627.0323831\ttest: 65634.0148981\tbest: 65614.2445031 (270)\ttotal: 1m 11s\tremaining: 28.7s\n",
      "356:\tlearn: 73626.7493344\ttest: 65633.9139279\tbest: 65614.2445031 (270)\ttotal: 1m 11s\tremaining: 28.5s\n",
      "357:\tlearn: 73625.3557009\ttest: 65634.8412312\tbest: 65614.2445031 (270)\ttotal: 1m 11s\tremaining: 28.3s\n",
      "358:\tlearn: 73624.8610719\ttest: 65635.5324122\tbest: 65614.2445031 (270)\ttotal: 1m 11s\tremaining: 28.1s\n",
      "359:\tlearn: 73623.2390420\ttest: 65635.1881974\tbest: 65614.2445031 (270)\ttotal: 1m 11s\tremaining: 27.9s\n",
      "360:\tlearn: 73622.8028402\ttest: 65635.4461507\tbest: 65614.2445031 (270)\ttotal: 1m 11s\tremaining: 27.7s\n",
      "361:\tlearn: 73618.6457127\ttest: 65634.0922200\tbest: 65614.2445031 (270)\ttotal: 1m 12s\tremaining: 27.5s\n",
      "362:\tlearn: 73618.2818755\ttest: 65634.2664915\tbest: 65614.2445031 (270)\ttotal: 1m 12s\tremaining: 27.3s\n",
      "363:\tlearn: 73617.1826656\ttest: 65635.4890261\tbest: 65614.2445031 (270)\ttotal: 1m 12s\tremaining: 27.2s\n",
      "364:\tlearn: 73614.8349720\ttest: 65634.6548957\tbest: 65614.2445031 (270)\ttotal: 1m 12s\tremaining: 27s\n",
      "365:\tlearn: 73612.5821360\ttest: 65634.6201862\tbest: 65614.2445031 (270)\ttotal: 1m 13s\tremaining: 26.8s\n",
      "366:\tlearn: 73611.7614820\ttest: 65635.4796479\tbest: 65614.2445031 (270)\ttotal: 1m 13s\tremaining: 26.6s\n",
      "367:\tlearn: 73611.5586591\ttest: 65635.6486350\tbest: 65614.2445031 (270)\ttotal: 1m 13s\tremaining: 26.5s\n",
      "368:\tlearn: 73608.5655662\ttest: 65635.0148895\tbest: 65614.2445031 (270)\ttotal: 1m 14s\tremaining: 26.3s\n",
      "369:\tlearn: 73594.6321475\ttest: 65634.3203708\tbest: 65614.2445031 (270)\ttotal: 1m 14s\tremaining: 26.1s\n",
      "370:\tlearn: 73594.4595597\ttest: 65634.6269009\tbest: 65614.2445031 (270)\ttotal: 1m 14s\tremaining: 25.9s\n",
      "371:\tlearn: 73590.3403438\ttest: 65635.8261809\tbest: 65614.2445031 (270)\ttotal: 1m 14s\tremaining: 25.7s\n",
      "372:\tlearn: 73588.0714791\ttest: 65636.7702664\tbest: 65614.2445031 (270)\ttotal: 1m 14s\tremaining: 25.5s\n",
      "373:\tlearn: 73584.4927028\ttest: 65637.1918959\tbest: 65614.2445031 (270)\ttotal: 1m 15s\tremaining: 25.4s\n",
      "374:\tlearn: 73584.1227704\ttest: 65637.1272037\tbest: 65614.2445031 (270)\ttotal: 1m 15s\tremaining: 25.2s\n",
      "375:\tlearn: 73583.7194229\ttest: 65637.8385178\tbest: 65614.2445031 (270)\ttotal: 1m 15s\tremaining: 25s\n",
      "376:\tlearn: 73582.6968615\ttest: 65638.6850102\tbest: 65614.2445031 (270)\ttotal: 1m 15s\tremaining: 24.8s\n",
      "377:\tlearn: 73581.7543579\ttest: 65639.0020010\tbest: 65614.2445031 (270)\ttotal: 1m 16s\tremaining: 24.6s\n",
      "378:\tlearn: 73581.5979060\ttest: 65638.8743535\tbest: 65614.2445031 (270)\ttotal: 1m 16s\tremaining: 24.4s\n",
      "379:\tlearn: 73573.0996513\ttest: 65639.0522847\tbest: 65614.2445031 (270)\ttotal: 1m 16s\tremaining: 24.2s\n",
      "380:\tlearn: 73554.3907849\ttest: 65640.8646713\tbest: 65614.2445031 (270)\ttotal: 1m 16s\tremaining: 24s\n",
      "381:\tlearn: 73554.2701776\ttest: 65641.1344474\tbest: 65614.2445031 (270)\ttotal: 1m 16s\tremaining: 23.7s\n",
      "382:\tlearn: 73552.5278130\ttest: 65640.8305873\tbest: 65614.2445031 (270)\ttotal: 1m 17s\tremaining: 23.5s\n",
      "383:\tlearn: 73550.7526016\ttest: 65641.1890305\tbest: 65614.2445031 (270)\ttotal: 1m 17s\tremaining: 23.3s\n",
      "384:\tlearn: 73547.2513341\ttest: 65641.3462546\tbest: 65614.2445031 (270)\ttotal: 1m 17s\tremaining: 23.1s\n",
      "385:\tlearn: 73542.1211377\ttest: 65641.3985122\tbest: 65614.2445031 (270)\ttotal: 1m 17s\tremaining: 22.9s\n",
      "386:\tlearn: 73541.1604417\ttest: 65642.5843400\tbest: 65614.2445031 (270)\ttotal: 1m 17s\tremaining: 22.7s\n",
      "387:\tlearn: 73539.1367339\ttest: 65639.9213845\tbest: 65614.2445031 (270)\ttotal: 1m 18s\tremaining: 22.5s\n",
      "388:\tlearn: 73538.0069636\ttest: 65639.5784876\tbest: 65614.2445031 (270)\ttotal: 1m 18s\tremaining: 22.3s\n",
      "389:\tlearn: 73524.7840829\ttest: 65642.4018759\tbest: 65614.2445031 (270)\ttotal: 1m 18s\tremaining: 22.1s\n",
      "390:\tlearn: 73508.0904700\ttest: 65642.5797077\tbest: 65614.2445031 (270)\ttotal: 1m 18s\tremaining: 22s\n",
      "391:\tlearn: 73506.9499600\ttest: 65643.3621682\tbest: 65614.2445031 (270)\ttotal: 1m 18s\tremaining: 21.8s\n",
      "392:\tlearn: 73504.7690793\ttest: 65642.9835271\tbest: 65614.2445031 (270)\ttotal: 1m 19s\tremaining: 21.6s\n",
      "393:\tlearn: 73502.7734218\ttest: 65643.4420191\tbest: 65614.2445031 (270)\ttotal: 1m 19s\tremaining: 21.3s\n",
      "394:\tlearn: 73500.9113391\ttest: 65643.1452129\tbest: 65614.2445031 (270)\ttotal: 1m 19s\tremaining: 21.1s\n",
      "395:\tlearn: 73500.1036227\ttest: 65644.2167993\tbest: 65614.2445031 (270)\ttotal: 1m 19s\tremaining: 20.9s\n",
      "396:\tlearn: 73491.3832229\ttest: 65644.9449882\tbest: 65614.2445031 (270)\ttotal: 1m 19s\tremaining: 20.7s\n",
      "397:\tlearn: 73478.9806086\ttest: 65644.8481579\tbest: 65614.2445031 (270)\ttotal: 1m 20s\tremaining: 20.5s\n",
      "398:\tlearn: 73474.4281581\ttest: 65644.5135013\tbest: 65614.2445031 (270)\ttotal: 1m 20s\tremaining: 20.3s\n",
      "399:\tlearn: 73473.5367952\ttest: 65645.3215899\tbest: 65614.2445031 (270)\ttotal: 1m 20s\tremaining: 20.1s\n",
      "400:\tlearn: 73468.6101773\ttest: 65645.7540662\tbest: 65614.2445031 (270)\ttotal: 1m 20s\tremaining: 19.9s\n",
      "401:\tlearn: 73465.7197004\ttest: 65646.0865453\tbest: 65614.2445031 (270)\ttotal: 1m 20s\tremaining: 19.7s\n",
      "402:\tlearn: 73450.0346449\ttest: 65644.3473875\tbest: 65614.2445031 (270)\ttotal: 1m 21s\tremaining: 19.5s\n",
      "403:\tlearn: 73445.2605582\ttest: 65644.2719120\tbest: 65614.2445031 (270)\ttotal: 1m 21s\tremaining: 19.3s\n",
      "404:\tlearn: 73444.8934879\ttest: 65644.9511970\tbest: 65614.2445031 (270)\ttotal: 1m 21s\tremaining: 19.1s\n",
      "405:\tlearn: 73444.2683180\ttest: 65645.4024576\tbest: 65614.2445031 (270)\ttotal: 1m 21s\tremaining: 18.9s\n",
      "406:\tlearn: 73443.6793825\ttest: 65646.1553990\tbest: 65614.2445031 (270)\ttotal: 1m 21s\tremaining: 18.7s\n",
      "407:\tlearn: 73441.8102297\ttest: 65646.2648875\tbest: 65614.2445031 (270)\ttotal: 1m 22s\tremaining: 18.5s\n",
      "408:\tlearn: 73438.5183427\ttest: 65645.7180746\tbest: 65614.2445031 (270)\ttotal: 1m 22s\tremaining: 18.3s\n",
      "409:\tlearn: 73432.5692450\ttest: 65644.7753810\tbest: 65614.2445031 (270)\ttotal: 1m 22s\tremaining: 18.1s\n",
      "410:\tlearn: 73430.0936314\ttest: 65644.0154914\tbest: 65614.2445031 (270)\ttotal: 1m 22s\tremaining: 17.9s\n",
      "411:\tlearn: 73416.7636943\ttest: 65642.7716676\tbest: 65614.2445031 (270)\ttotal: 1m 23s\tremaining: 17.7s\n",
      "412:\tlearn: 73416.6568970\ttest: 65642.9256848\tbest: 65614.2445031 (270)\ttotal: 1m 23s\tremaining: 17.5s\n",
      "413:\tlearn: 73407.1704673\ttest: 65642.9533287\tbest: 65614.2445031 (270)\ttotal: 1m 23s\tremaining: 17.3s\n",
      "414:\tlearn: 73404.7120668\ttest: 65643.4062875\tbest: 65614.2445031 (270)\ttotal: 1m 23s\tremaining: 17.1s\n",
      "415:\tlearn: 73404.4420479\ttest: 65643.6206275\tbest: 65614.2445031 (270)\ttotal: 1m 23s\tremaining: 16.9s\n",
      "416:\tlearn: 73398.4332594\ttest: 65642.7641721\tbest: 65614.2445031 (270)\ttotal: 1m 24s\tremaining: 16.7s\n",
      "417:\tlearn: 73396.9448518\ttest: 65641.5891763\tbest: 65614.2445031 (270)\ttotal: 1m 24s\tremaining: 16.5s\n",
      "418:\tlearn: 73392.6637930\ttest: 65641.9665104\tbest: 65614.2445031 (270)\ttotal: 1m 24s\tremaining: 16.3s\n",
      "419:\tlearn: 73392.1655056\ttest: 65642.4089376\tbest: 65614.2445031 (270)\ttotal: 1m 24s\tremaining: 16.1s\n",
      "420:\tlearn: 73382.0075850\ttest: 65641.2949584\tbest: 65614.2445031 (270)\ttotal: 1m 24s\tremaining: 15.9s\n",
      "421:\tlearn: 73375.6026617\ttest: 65641.8227238\tbest: 65614.2445031 (270)\ttotal: 1m 25s\tremaining: 15.7s\n",
      "422:\tlearn: 73373.2963805\ttest: 65642.3000512\tbest: 65614.2445031 (270)\ttotal: 1m 25s\tremaining: 15.5s\n",
      "423:\tlearn: 73373.2075974\ttest: 65642.4266310\tbest: 65614.2445031 (270)\ttotal: 1m 25s\tremaining: 15.3s\n",
      "424:\tlearn: 73355.5490355\ttest: 65641.5435330\tbest: 65614.2445031 (270)\ttotal: 1m 25s\tremaining: 15.1s\n",
      "425:\tlearn: 73354.2877038\ttest: 65641.9651357\tbest: 65614.2445031 (270)\ttotal: 1m 25s\tremaining: 14.9s\n",
      "426:\tlearn: 73353.9188028\ttest: 65641.8896353\tbest: 65614.2445031 (270)\ttotal: 1m 26s\tremaining: 14.7s\n",
      "427:\tlearn: 73347.9330448\ttest: 65642.8039952\tbest: 65614.2445031 (270)\ttotal: 1m 26s\tremaining: 14.5s\n",
      "428:\tlearn: 73346.9199331\ttest: 65642.9945831\tbest: 65614.2445031 (270)\ttotal: 1m 26s\tremaining: 14.3s\n",
      "429:\tlearn: 73344.1290929\ttest: 65643.6450906\tbest: 65614.2445031 (270)\ttotal: 1m 26s\tremaining: 14.1s\n",
      "430:\tlearn: 73343.6487649\ttest: 65644.3235410\tbest: 65614.2445031 (270)\ttotal: 1m 26s\tremaining: 13.9s\n",
      "431:\tlearn: 73339.4638032\ttest: 65641.9183261\tbest: 65614.2445031 (270)\ttotal: 1m 27s\tremaining: 13.7s\n",
      "432:\tlearn: 73338.0587691\ttest: 65642.1932963\tbest: 65614.2445031 (270)\ttotal: 1m 27s\tremaining: 13.5s\n",
      "433:\tlearn: 73336.7635041\ttest: 65642.1979788\tbest: 65614.2445031 (270)\ttotal: 1m 27s\tremaining: 13.3s\n",
      "434:\tlearn: 73336.0063234\ttest: 65641.3909752\tbest: 65614.2445031 (270)\ttotal: 1m 27s\tremaining: 13.1s\n",
      "435:\tlearn: 73335.2467231\ttest: 65641.3678979\tbest: 65614.2445031 (270)\ttotal: 1m 28s\tremaining: 12.9s\n",
      "436:\tlearn: 73334.1165838\ttest: 65641.6256052\tbest: 65614.2445031 (270)\ttotal: 1m 28s\tremaining: 12.7s\n",
      "437:\tlearn: 73333.3611468\ttest: 65641.9792180\tbest: 65614.2445031 (270)\ttotal: 1m 28s\tremaining: 12.5s\n",
      "438:\tlearn: 73327.3643895\ttest: 65641.9927629\tbest: 65614.2445031 (270)\ttotal: 1m 28s\tremaining: 12.3s\n",
      "439:\tlearn: 73325.7123598\ttest: 65640.3849809\tbest: 65614.2445031 (270)\ttotal: 1m 28s\tremaining: 12.1s\n",
      "440:\tlearn: 73320.1572535\ttest: 65640.4732646\tbest: 65614.2445031 (270)\ttotal: 1m 29s\tremaining: 11.9s\n",
      "441:\tlearn: 73319.1209896\ttest: 65640.7093600\tbest: 65614.2445031 (270)\ttotal: 1m 29s\tremaining: 11.7s\n",
      "442:\tlearn: 73318.4990855\ttest: 65640.4705840\tbest: 65614.2445031 (270)\ttotal: 1m 29s\tremaining: 11.5s\n",
      "443:\tlearn: 73311.3529129\ttest: 65642.0610989\tbest: 65614.2445031 (270)\ttotal: 1m 29s\tremaining: 11.3s\n",
      "444:\tlearn: 73308.2237090\ttest: 65639.4858528\tbest: 65614.2445031 (270)\ttotal: 1m 29s\tremaining: 11.1s\n",
      "445:\tlearn: 73308.0423158\ttest: 65639.6051137\tbest: 65614.2445031 (270)\ttotal: 1m 30s\tremaining: 10.9s\n",
      "446:\tlearn: 73302.3455936\ttest: 65640.2876873\tbest: 65614.2445031 (270)\ttotal: 1m 30s\tremaining: 10.7s\n",
      "447:\tlearn: 73301.6702636\ttest: 65640.5143103\tbest: 65614.2445031 (270)\ttotal: 1m 30s\tremaining: 10.5s\n",
      "448:\tlearn: 73300.1840034\ttest: 65639.7858872\tbest: 65614.2445031 (270)\ttotal: 1m 30s\tremaining: 10.3s\n",
      "449:\tlearn: 73295.5811422\ttest: 65639.0009272\tbest: 65614.2445031 (270)\ttotal: 1m 31s\tremaining: 10.1s\n",
      "450:\tlearn: 73293.2694195\ttest: 65637.7972937\tbest: 65614.2445031 (270)\ttotal: 1m 31s\tremaining: 9.92s\n",
      "451:\tlearn: 73291.7091538\ttest: 65637.5374924\tbest: 65614.2445031 (270)\ttotal: 1m 31s\tremaining: 9.72s\n",
      "452:\tlearn: 73291.4021468\ttest: 65638.2093391\tbest: 65614.2445031 (270)\ttotal: 1m 31s\tremaining: 9.52s\n",
      "453:\tlearn: 73287.7379215\ttest: 65640.0762300\tbest: 65614.2445031 (270)\ttotal: 1m 31s\tremaining: 9.32s\n",
      "454:\tlearn: 73285.0459963\ttest: 65641.5032145\tbest: 65614.2445031 (270)\ttotal: 1m 32s\tremaining: 9.12s\n",
      "455:\tlearn: 73281.1637674\ttest: 65641.1326568\tbest: 65614.2445031 (270)\ttotal: 1m 32s\tremaining: 8.91s\n",
      "456:\tlearn: 73277.9604168\ttest: 65641.3351437\tbest: 65614.2445031 (270)\ttotal: 1m 32s\tremaining: 8.71s\n",
      "457:\tlearn: 73269.7552366\ttest: 65642.4030737\tbest: 65614.2445031 (270)\ttotal: 1m 32s\tremaining: 8.51s\n",
      "458:\tlearn: 73269.3476783\ttest: 65642.8474737\tbest: 65614.2445031 (270)\ttotal: 1m 32s\tremaining: 8.31s\n",
      "459:\tlearn: 73266.3899562\ttest: 65642.8372275\tbest: 65614.2445031 (270)\ttotal: 1m 33s\tremaining: 8.11s\n",
      "460:\tlearn: 73263.6216822\ttest: 65642.8435865\tbest: 65614.2445031 (270)\ttotal: 1m 33s\tremaining: 7.89s\n",
      "461:\tlearn: 73263.1524748\ttest: 65642.7107039\tbest: 65614.2445031 (270)\ttotal: 1m 33s\tremaining: 7.69s\n",
      "462:\tlearn: 73261.9832320\ttest: 65643.4691307\tbest: 65614.2445031 (270)\ttotal: 1m 33s\tremaining: 7.49s\n",
      "463:\tlearn: 73245.3948143\ttest: 65642.6984897\tbest: 65614.2445031 (270)\ttotal: 1m 34s\tremaining: 7.29s\n",
      "464:\tlearn: 73238.7245091\ttest: 65641.8082051\tbest: 65614.2445031 (270)\ttotal: 1m 34s\tremaining: 7.1s\n",
      "465:\tlearn: 73238.4590384\ttest: 65642.4371351\tbest: 65614.2445031 (270)\ttotal: 1m 34s\tremaining: 6.9s\n",
      "466:\tlearn: 73224.7453070\ttest: 65643.0521610\tbest: 65614.2445031 (270)\ttotal: 1m 34s\tremaining: 6.69s\n",
      "467:\tlearn: 73222.2988088\ttest: 65642.9714205\tbest: 65614.2445031 (270)\ttotal: 1m 34s\tremaining: 6.49s\n",
      "468:\tlearn: 73214.9431621\ttest: 65641.3596947\tbest: 65614.2445031 (270)\ttotal: 1m 35s\tremaining: 6.29s\n",
      "469:\tlearn: 73212.2135394\ttest: 65642.3953319\tbest: 65614.2445031 (270)\ttotal: 1m 35s\tremaining: 6.08s\n",
      "470:\tlearn: 73211.1606646\ttest: 65642.8592739\tbest: 65614.2445031 (270)\ttotal: 1m 35s\tremaining: 5.88s\n",
      "471:\tlearn: 73209.6367448\ttest: 65642.0138061\tbest: 65614.2445031 (270)\ttotal: 1m 35s\tremaining: 5.68s\n",
      "472:\tlearn: 73208.9437746\ttest: 65642.3423407\tbest: 65614.2445031 (270)\ttotal: 1m 35s\tremaining: 5.48s\n",
      "473:\tlearn: 73203.8827285\ttest: 65642.8553415\tbest: 65614.2445031 (270)\ttotal: 1m 36s\tremaining: 5.28s\n",
      "474:\tlearn: 73195.9555381\ttest: 65642.9068348\tbest: 65614.2445031 (270)\ttotal: 1m 36s\tremaining: 5.08s\n",
      "475:\tlearn: 73194.2633595\ttest: 65644.1084739\tbest: 65614.2445031 (270)\ttotal: 1m 36s\tremaining: 4.87s\n",
      "476:\tlearn: 73193.2591193\ttest: 65644.5583079\tbest: 65614.2445031 (270)\ttotal: 1m 36s\tremaining: 4.67s\n",
      "477:\tlearn: 73189.0176892\ttest: 65644.7128988\tbest: 65614.2445031 (270)\ttotal: 1m 37s\tremaining: 4.47s\n",
      "478:\tlearn: 73188.7762142\ttest: 65644.7618311\tbest: 65614.2445031 (270)\ttotal: 1m 37s\tremaining: 4.26s\n",
      "479:\tlearn: 73187.4250848\ttest: 65644.9337946\tbest: 65614.2445031 (270)\ttotal: 1m 37s\tremaining: 4.06s\n",
      "480:\tlearn: 73185.2193319\ttest: 65646.8426675\tbest: 65614.2445031 (270)\ttotal: 1m 37s\tremaining: 3.86s\n",
      "481:\tlearn: 73184.0385093\ttest: 65646.7618137\tbest: 65614.2445031 (270)\ttotal: 1m 37s\tremaining: 3.65s\n",
      "482:\tlearn: 73183.3903308\ttest: 65647.2092413\tbest: 65614.2445031 (270)\ttotal: 1m 38s\tremaining: 3.45s\n",
      "483:\tlearn: 73182.9752981\ttest: 65647.1458645\tbest: 65614.2445031 (270)\ttotal: 1m 38s\tremaining: 3.25s\n",
      "484:\tlearn: 73182.3058960\ttest: 65647.2737229\tbest: 65614.2445031 (270)\ttotal: 1m 38s\tremaining: 3.04s\n",
      "485:\tlearn: 73177.2066549\ttest: 65642.8198928\tbest: 65614.2445031 (270)\ttotal: 1m 38s\tremaining: 2.84s\n",
      "486:\tlearn: 73176.3399731\ttest: 65643.4327586\tbest: 65614.2445031 (270)\ttotal: 1m 38s\tremaining: 2.64s\n",
      "487:\tlearn: 73174.4317021\ttest: 65642.4697916\tbest: 65614.2445031 (270)\ttotal: 1m 39s\tremaining: 2.44s\n",
      "488:\tlearn: 73174.1912056\ttest: 65643.0881068\tbest: 65614.2445031 (270)\ttotal: 1m 39s\tremaining: 2.23s\n",
      "489:\tlearn: 73174.0759686\ttest: 65642.9925156\tbest: 65614.2445031 (270)\ttotal: 1m 39s\tremaining: 2.03s\n",
      "490:\tlearn: 73171.8292345\ttest: 65642.6923075\tbest: 65614.2445031 (270)\ttotal: 1m 39s\tremaining: 1.83s\n",
      "491:\tlearn: 73168.8790613\ttest: 65644.6414502\tbest: 65614.2445031 (270)\ttotal: 1m 40s\tremaining: 1.63s\n",
      "492:\tlearn: 73167.8762442\ttest: 65644.7412771\tbest: 65614.2445031 (270)\ttotal: 1m 40s\tremaining: 1.42s\n",
      "493:\tlearn: 73166.6538903\ttest: 65644.5895429\tbest: 65614.2445031 (270)\ttotal: 1m 40s\tremaining: 1.22s\n",
      "494:\tlearn: 73165.6991386\ttest: 65644.8385032\tbest: 65614.2445031 (270)\ttotal: 1m 40s\tremaining: 1.02s\n",
      "495:\tlearn: 73159.1162115\ttest: 65643.5740049\tbest: 65614.2445031 (270)\ttotal: 1m 40s\tremaining: 813ms\n",
      "496:\tlearn: 73141.8332994\ttest: 65643.9106357\tbest: 65614.2445031 (270)\ttotal: 1m 41s\tremaining: 611ms\n",
      "497:\tlearn: 73141.6645373\ttest: 65644.1774701\tbest: 65614.2445031 (270)\ttotal: 1m 41s\tremaining: 407ms\n",
      "498:\tlearn: 73141.5216558\ttest: 65644.4397818\tbest: 65614.2445031 (270)\ttotal: 1m 41s\tremaining: 204ms\n",
      "499:\tlearn: 73141.1875349\ttest: 65644.4186310\tbest: 65614.2445031 (270)\ttotal: 1m 41s\tremaining: 0us\n",
      "\n",
      "bestTest = 65614.2445\n",
      "bestIteration = 270\n",
      "\n",
      "Shrink model to first 271 iterations.\n"
     ]
    }
   ],
   "source": [
    "model = CatBoostRegressor(custom_metric= ['R2', 'RMSE'], learning_rate=0.1, n_estimators=500)\n",
    "model.fit( X_train, y_train,\n",
    "    cat_features=categorical_features_indices,\n",
    "    eval_set=(X_validation, y_validation),\n",
    "#     logging_level='Verbose',  # you can uncomment this for text output\n",
    "    plot=True\n",
    ");"
   ]
  },
  {
   "cell_type": "code",
   "execution_count": null,
   "id": "da48a40b",
   "metadata": {
    "papermill": {
     "duration": 0.030158,
     "end_time": "2024-09-02T21:10:44.185306",
     "exception": false,
     "start_time": "2024-09-02T21:10:44.155148",
     "status": "completed"
    },
    "tags": []
   },
   "outputs": [],
   "source": []
  },
  {
   "cell_type": "code",
   "execution_count": 16,
   "id": "dfd42ff4",
   "metadata": {
    "execution": {
     "iopub.execute_input": "2024-09-02T21:10:44.302871Z",
     "iopub.status.busy": "2024-09-02T21:10:44.302410Z",
     "iopub.status.idle": "2024-09-02T21:10:44.943056Z",
     "shell.execute_reply": "2024-09-02T21:10:44.941857Z"
    },
    "papermill": {
     "duration": 0.730221,
     "end_time": "2024-09-02T21:10:44.945667",
     "exception": false,
     "start_time": "2024-09-02T21:10:44.215446",
     "status": "completed"
    },
    "tags": []
   },
   "outputs": [],
   "source": [
    "X_test[categorical_features_indices] = X_test[categorical_features_indices].astype(str)\n",
    "\n",
    "submisstion = pd.DataFrame()\n",
    "submisstion['id'] = X_test['id']\n",
    "submisstion['price'] = model.predict(X_test.drop('id', axis = 1))"
   ]
  },
  {
   "cell_type": "code",
   "execution_count": 17,
   "id": "7bde6fca",
   "metadata": {
    "execution": {
     "iopub.execute_input": "2024-09-02T21:10:45.009073Z",
     "iopub.status.busy": "2024-09-02T21:10:45.007821Z",
     "iopub.status.idle": "2024-09-02T21:10:45.292024Z",
     "shell.execute_reply": "2024-09-02T21:10:45.290742Z"
    },
    "papermill": {
     "duration": 0.318961,
     "end_time": "2024-09-02T21:10:45.294676",
     "exception": false,
     "start_time": "2024-09-02T21:10:44.975715",
     "status": "completed"
    },
    "tags": []
   },
   "outputs": [],
   "source": [
    "submisstion.to_csv(\n",
    "    'submission_baseline1.csv', index=False\n",
    ")"
   ]
  },
  {
   "cell_type": "markdown",
   "id": "2f2783e6",
   "metadata": {
    "papermill": {
     "duration": 0.030647,
     "end_time": "2024-09-02T21:10:45.357075",
     "exception": false,
     "start_time": "2024-09-02T21:10:45.326428",
     "status": "completed"
    },
    "tags": []
   },
   "source": [
    "#### EDA"
   ]
  }
 ],
 "metadata": {
  "kaggle": {
   "accelerator": "none",
   "dataSources": [
    {
     "databundleVersionId": 9057646,
     "sourceId": 76728,
     "sourceType": "competition"
    }
   ],
   "dockerImageVersionId": 30761,
   "isGpuEnabled": false,
   "isInternetEnabled": true,
   "language": "python",
   "sourceType": "notebook"
  },
  "kernelspec": {
   "display_name": "Python 3",
   "language": "python",
   "name": "python3"
  },
  "language_info": {
   "codemirror_mode": {
    "name": "ipython",
    "version": 3
   },
   "file_extension": ".py",
   "mimetype": "text/x-python",
   "name": "python",
   "nbconvert_exporter": "python",
   "pygments_lexer": "ipython3",
   "version": "3.10.14"
  },
  "papermill": {
   "default_parameters": {},
   "duration": 118.803846,
   "end_time": "2024-09-02T21:10:46.315096",
   "environment_variables": {},
   "exception": null,
   "input_path": "__notebook__.ipynb",
   "output_path": "__notebook__.ipynb",
   "parameters": {},
   "start_time": "2024-09-02T21:08:47.511250",
   "version": "2.6.0"
  },
  "widgets": {
   "application/vnd.jupyter.widget-state+json": {
    "state": {
     "8b1e803b45de4cf38e8e2b9f8a21e7a6": {
      "model_module": "@jupyter-widgets/base",
      "model_module_version": "1.2.0",
      "model_name": "LayoutModel",
      "state": {
       "_model_module": "@jupyter-widgets/base",
       "_model_module_version": "1.2.0",
       "_model_name": "LayoutModel",
       "_view_count": null,
       "_view_module": "@jupyter-widgets/base",
       "_view_module_version": "1.2.0",
       "_view_name": "LayoutView",
       "align_content": null,
       "align_items": null,
       "align_self": "stretch",
       "border": null,
       "bottom": null,
       "display": null,
       "flex": null,
       "flex_flow": null,
       "grid_area": null,
       "grid_auto_columns": null,
       "grid_auto_flow": null,
       "grid_auto_rows": null,
       "grid_column": null,
       "grid_gap": null,
       "grid_row": null,
       "grid_template_areas": null,
       "grid_template_columns": null,
       "grid_template_rows": null,
       "height": "500px",
       "justify_content": null,
       "justify_items": null,
       "left": null,
       "margin": null,
       "max_height": null,
       "max_width": null,
       "min_height": null,
       "min_width": null,
       "object_fit": null,
       "object_position": null,
       "order": null,
       "overflow": null,
       "overflow_x": null,
       "overflow_y": null,
       "padding": null,
       "right": null,
       "top": null,
       "visibility": null,
       "width": null
      }
     },
     "cfb83603dfb1433f8909b3f65f40bdc2": {
      "model_module": "catboost-widget",
      "model_module_version": "^1.0.0",
      "model_name": "CatboostWidgetModel",
      "state": {
       "_dom_classes": [],
       "_model_module": "catboost-widget",
       "_model_module_version": "^1.0.0",
       "_model_name": "CatboostWidgetModel",
       "_view_count": null,
       "_view_module": "catboost-widget",
       "_view_module_version": "^1.0.0",
       "_view_name": "CatboostWidgetView",
       "data": {
        "catboost_info": {
         "content": {
          "data": {
           "iterations": [
            {
             "iteration": 0,
             "learn": [
              80161.63992,
              0.01982033614
             ],
             "passed_time": 0.2908535152,
             "remaining_time": 145.1359041,
             "test": [
              71027.82166,
              0.02650467213
             ]
            },
            {
             "iteration": 1,
             "learn": [
              79470.71964,
              0.03664403076
             ],
             "passed_time": 0.4047405728,
             "remaining_time": 100.7804026,
             "test": [
              70247.83539,
              0.04776799705
             ]
            },
            {
             "iteration": 2,
             "learn": [
              78905.33391,
              0.05030265189
             ],
             "passed_time": 0.5967487631,
             "remaining_time": 98.86137842,
             "test": [
              69599.70795,
              0.06525809052
             ]
            },
            {
             "iteration": 3,
             "learn": [
              78426.5171,
              0.06179367085
             ],
             "passed_time": 0.7358499763,
             "remaining_time": 91.24539707,
             "test": [
              69034.56615,
              0.08037645898
             ]
            },
            {
             "iteration": 4,
             "learn": [
              78037.07587,
              0.07108820718
             ],
             "passed_time": 0.9192128743,
             "remaining_time": 91.00207456,
             "test": [
              68551.59764,
              0.09319889251
             ]
            },
            {
             "iteration": 5,
             "learn": [
              77691.05832,
              0.07930756164
             ],
             "passed_time": 1.029231539,
             "remaining_time": 84.74006337,
             "test": [
              68156.63609,
              0.1036179005
             ]
            },
            {
             "iteration": 6,
             "learn": [
              77398.72459,
              0.08622323722
             ],
             "passed_time": 1.178298412,
             "remaining_time": 82.98587385,
             "test": [
              67818.04765,
              0.1125018701
             ]
            },
            {
             "iteration": 7,
             "learn": [
              77168.74024,
              0.09164560392
             ],
             "passed_time": 1.29084685,
             "remaining_time": 79.38708127,
             "test": [
              67566.15641,
              0.1190823557
             ]
            },
            {
             "iteration": 8,
             "learn": [
              76958.91044,
              0.09657870741
             ],
             "passed_time": 1.427692103,
             "remaining_time": 77.88853582,
             "test": [
              67344.46075,
              0.1248537425
             ]
            },
            {
             "iteration": 9,
             "learn": [
              76764.36777,
              0.1011404103
             ],
             "passed_time": 1.578803672,
             "remaining_time": 77.36137994,
             "test": [
              67139.3206,
              0.1301772451
             ]
            },
            {
             "iteration": 10,
             "learn": [
              76618.85384,
              0.1045449229
             ],
             "passed_time": 1.76092044,
             "remaining_time": 78.28091776,
             "test": [
              66973.29976,
              0.134473689
             ]
            },
            {
             "iteration": 11,
             "learn": [
              76474.17018,
              0.1079236053
             ],
             "passed_time": 1.857958347,
             "remaining_time": 75.55697277,
             "test": [
              66821.50195,
              0.1383927463
             ]
            },
            {
             "iteration": 12,
             "learn": [
              76367.83906,
              0.1104026002
             ],
             "passed_time": 1.998193188,
             "remaining_time": 74.85539096,
             "test": [
              66701.21003,
              0.1414920812
             ]
            },
            {
             "iteration": 13,
             "learn": [
              76256.59461,
              0.112992452
             ],
             "passed_time": 2.193990558,
             "remaining_time": 76.16281507,
             "test": [
              66576.4081,
              0.1447017142
             ]
            },
            {
             "iteration": 14,
             "learn": [
              76176.12598,
              0.1148634673
             ],
             "passed_time": 2.319094682,
             "remaining_time": 74.9840614,
             "test": [
              66496.04496,
              0.1467652974
             ]
            },
            {
             "iteration": 15,
             "learn": [
              76088.76036,
              0.116892611
             ],
             "passed_time": 2.465842155,
             "remaining_time": 74.5917252,
             "test": [
              66400.34957,
              0.1492193341
             ]
            },
            {
             "iteration": 16,
             "learn": [
              76025.42754,
              0.1183621159
             ],
             "passed_time": 2.587044614,
             "remaining_time": 73.50250286,
             "test": [
              66331.12727,
              0.1509922856
             ]
            },
            {
             "iteration": 17,
             "learn": [
              75948.76736,
              0.1201392173
             ],
             "passed_time": 2.76737684,
             "remaining_time": 74.10420206,
             "test": [
              66253.65236,
              0.1529744134
             ]
            },
            {
             "iteration": 18,
             "learn": [
              75880.84283,
              0.1217123148
             ],
             "passed_time": 2.903850242,
             "remaining_time": 73.5132614,
             "test": [
              66189.27145,
              0.1546197801
             ]
            },
            {
             "iteration": 19,
             "learn": [
              75837.90902,
              0.1227059139
             ],
             "passed_time": 3.016464499,
             "remaining_time": 72.39514797,
             "test": [
              66162.27744,
              0.1553091834
             ]
            },
            {
             "iteration": 20,
             "learn": [
              75789.87956,
              0.1238167731
             ],
             "passed_time": 3.226569414,
             "remaining_time": 73.59651187,
             "test": [
              66116.32226,
              0.1564821913
             ]
            },
            {
             "iteration": 21,
             "learn": [
              75739.52913,
              0.1249805577
             ],
             "passed_time": 3.369695606,
             "remaining_time": 73.21429545,
             "test": [
              66071.27498,
              0.1576312339
             ]
            },
            {
             "iteration": 22,
             "learn": [
              75705.83704,
              0.1257588745
             ],
             "passed_time": 3.491962875,
             "remaining_time": 72.42027354,
             "test": [
              66033.01608,
              0.1586065073
             ]
            },
            {
             "iteration": 23,
             "learn": [
              75681.87356,
              0.1263122412
             ],
             "passed_time": 3.591407505,
             "remaining_time": 71.22958218,
             "test": [
              66006.4064,
              0.1592844923
             ]
            },
            {
             "iteration": 24,
             "learn": [
              75672.34216,
              0.1265322924
             ],
             "passed_time": 3.801603671,
             "remaining_time": 72.23046974,
             "test": [
              65996.66875,
              0.1595325284
             ]
            },
            {
             "iteration": 25,
             "learn": [
              75648.36713,
              0.1270856807
             ],
             "passed_time": 3.999651259,
             "remaining_time": 72.9167191,
             "test": [
              65973.13826,
              0.1601317433
             ]
            },
            {
             "iteration": 26,
             "learn": [
              75620.92247,
              0.1277189394
             ],
             "passed_time": 4.220934973,
             "remaining_time": 73.94452749,
             "test": [
              65955.65264,
              0.1605768841
             ]
            },
            {
             "iteration": 27,
             "learn": [
              75599.10591,
              0.1282221712
             ],
             "passed_time": 4.374370726,
             "remaining_time": 73.73939224,
             "test": [
              65939.39635,
              0.1609906235
             ]
            },
            {
             "iteration": 28,
             "learn": [
              75568.33149,
              0.1289317826
             ],
             "passed_time": 4.564759494,
             "remaining_time": 74.1379904,
             "test": [
              65912.70834,
              0.1616696396
             ]
            },
            {
             "iteration": 29,
             "learn": [
              75549.54584,
              0.1293648094
             ],
             "passed_time": 4.773449091,
             "remaining_time": 74.78403576,
             "test": [
              65897.77967,
              0.1620493462
             ]
            },
            {
             "iteration": 30,
             "learn": [
              75529.47653,
              0.1298273065
             ],
             "passed_time": 4.981339749,
             "remaining_time": 75.36284975,
             "test": [
              65879.85548,
              0.162505129
             ]
            },
            {
             "iteration": 31,
             "learn": [
              75517.02952,
              0.130114086
             ],
             "passed_time": 5.138637905,
             "remaining_time": 75.15257936,
             "test": [
              65867.90928,
              0.1628088327
             ]
            },
            {
             "iteration": 32,
             "learn": [
              75504.3964,
              0.1304051054
             ],
             "passed_time": 5.367394942,
             "remaining_time": 75.95677085,
             "test": [
              65857.21944,
              0.1630805497
             ]
            },
            {
             "iteration": 33,
             "learn": [
              75471.83998,
              0.1311548574
             ],
             "passed_time": 5.560068101,
             "remaining_time": 76.20563926,
             "test": [
              65830.93738,
              0.1637484059
             ]
            },
            {
             "iteration": 34,
             "learn": [
              75429.55502,
              0.1321281685
             ],
             "passed_time": 5.678028363,
             "remaining_time": 75.43666254,
             "test": [
              65821.0077,
              0.1640006607
             ]
            },
            {
             "iteration": 35,
             "learn": [
              75418.9893,
              0.1323712841
             ],
             "passed_time": 5.870451303,
             "remaining_time": 75.66359457,
             "test": [
              65817.50698,
              0.1640895843
             ]
            },
            {
             "iteration": 36,
             "learn": [
              75411.46318,
              0.1325444381
             ],
             "passed_time": 6.086972376,
             "remaining_time": 76.16941108,
             "test": [
              65814.08523,
              0.1641764975
             ]
            },
            {
             "iteration": 37,
             "learn": [
              75399.9809,
              0.1328085785
             ],
             "passed_time": 6.242241337,
             "remaining_time": 75.8925131,
             "test": [
              65805.75,
              0.1643881949
             ]
            },
            {
             "iteration": 38,
             "learn": [
              75376.45342,
              0.1333496833
             ],
             "passed_time": 6.437275452,
             "remaining_time": 76.09189701,
             "test": [
              65796.97435,
              0.1646110493
             ]
            },
            {
             "iteration": 39,
             "learn": [
              75362.43212,
              0.1336720768
             ],
             "passed_time": 6.639260969,
             "remaining_time": 76.35150114,
             "test": [
              65787.50136,
              0.1648515788
             ]
            },
            {
             "iteration": 40,
             "learn": [
              75355.84188,
              0.1338235863
             ],
             "passed_time": 6.805827504,
             "remaining_time": 76.19206888,
             "test": [
              65786.12212,
              0.1648865963
             ]
            },
            {
             "iteration": 41,
             "learn": [
              75339.90455,
              0.1341899301
             ],
             "passed_time": 6.967772276,
             "remaining_time": 75.98189768,
             "test": [
              65781.54427,
              0.1650028182
             ]
            },
            {
             "iteration": 42,
             "learn": [
              75309.37587,
              0.1348914624
             ],
             "passed_time": 7.248319304,
             "remaining_time": 77.0344633,
             "test": [
              65782.8554,
              0.1649695323
             ]
            },
            {
             "iteration": 43,
             "learn": [
              75293.9427,
              0.135246
             ],
             "passed_time": 7.519875752,
             "remaining_time": 77.93325779,
             "test": [
              65776.44502,
              0.1651322679
             ]
            },
            {
             "iteration": 44,
             "learn": [
              75286.03346,
              0.1354276663
             ],
             "passed_time": 7.774274972,
             "remaining_time": 78.60655805,
             "test": [
              65772.56732,
              0.1652307002
             ]
            },
            {
             "iteration": 45,
             "learn": [
              75274.09342,
              0.1357018793
             ],
             "passed_time": 8.001705258,
             "remaining_time": 78.97335189,
             "test": [
              65769.44213,
              0.1653100266
             ]
            },
            {
             "iteration": 46,
             "learn": [
              75263.48494,
              0.1359454756
             ],
             "passed_time": 8.264526445,
             "remaining_time": 79.65596765,
             "test": [
              65766.68323,
              0.1653800524
             ]
            },
            {
             "iteration": 47,
             "learn": [
              75251.0483,
              0.1362310072
             ],
             "passed_time": 8.56767765,
             "remaining_time": 80.67896453,
             "test": [
              65760.46095,
              0.1655379742
             ]
            },
            {
             "iteration": 48,
             "learn": [
              75231.28323,
              0.1366846941
             ],
             "passed_time": 8.844754746,
             "remaining_time": 81.4078447,
             "test": [
              65756.00495,
              0.1656510584
             ]
            },
            {
             "iteration": 49,
             "learn": [
              75216.41249,
              0.1370259583
             ],
             "passed_time": 9.130955334,
             "remaining_time": 82.17859801,
             "test": [
              65753.8266,
              0.1657063377
             ]
            },
            {
             "iteration": 50,
             "learn": [
              75199.58877,
              0.1374119593
             ],
             "passed_time": 9.350143859,
             "remaining_time": 82.31793319,
             "test": [
              65743.00131,
              0.1659810208
             ]
            },
            {
             "iteration": 51,
             "learn": [
              75184.57507,
              0.1377563588
             ],
             "passed_time": 9.541879062,
             "remaining_time": 82.20695807,
             "test": [
              65741.19627,
              0.1660268176
             ]
            },
            {
             "iteration": 52,
             "learn": [
              75162.32144,
              0.1382667083
             ],
             "passed_time": 9.767845677,
             "remaining_time": 82.38164184,
             "test": [
              65734.16322,
              0.1662052466
             ]
            },
            {
             "iteration": 53,
             "learn": [
              75144.74357,
              0.1386697205
             ],
             "passed_time": 9.948839751,
             "remaining_time": 82.17004683,
             "test": [
              65731.94127,
              0.1662616134
             ]
            },
            {
             "iteration": 54,
             "learn": [
              75135.76836,
              0.138875461
             ],
             "passed_time": 10.14948353,
             "remaining_time": 82.11854857,
             "test": [
              65728.4897,
              0.16634917
             ]
            },
            {
             "iteration": 55,
             "learn": [
              75126.83231,
              0.1390802796
             ],
             "passed_time": 10.36771983,
             "remaining_time": 82.2012072,
             "test": [
              65720.92627,
              0.1665410167
             ]
            },
            {
             "iteration": 56,
             "learn": [
              75124.19681,
              0.1391406817
             ],
             "passed_time": 10.5302695,
             "remaining_time": 81.84051555,
             "test": [
              65719.79184,
              0.1665697897
             ]
            },
            {
             "iteration": 57,
             "learn": [
              75119.20448,
              0.1392550937
             ],
             "passed_time": 10.75625235,
             "remaining_time": 81.970061,
             "test": [
              65718.9464,
              0.1665912327
             ]
            },
            {
             "iteration": 58,
             "learn": [
              75118.68006,
              0.1392671116
             ],
             "passed_time": 10.96756255,
             "remaining_time": 81.97788277,
             "test": [
              65719.08981,
              0.1665875954
             ]
            },
            {
             "iteration": 59,
             "learn": [
              75108.00091,
              0.1395118242
             ],
             "passed_time": 11.17080337,
             "remaining_time": 81.91922474,
             "test": [
              65716.68398,
              0.1666486131
             ]
            },
            {
             "iteration": 60,
             "learn": [
              75101.04222,
              0.1396712636
             ],
             "passed_time": 11.33463109,
             "remaining_time": 81.57218112,
             "test": [
              65716.34782,
              0.1666571385
             ]
            },
            {
             "iteration": 61,
             "learn": [
              75097.6351,
              0.1397493231
             ],
             "passed_time": 11.52951353,
             "remaining_time": 81.45043427,
             "test": [
              65711.49138,
              0.1667803022
             ]
            },
            {
             "iteration": 62,
             "learn": [
              75089.5764,
              0.1399339397
             ],
             "passed_time": 11.70471008,
             "remaining_time": 81.18981434,
             "test": [
              65709.25997,
              0.1668368897
             ]
            },
            {
             "iteration": 63,
             "learn": [
              75060.98592,
              0.1405887581
             ],
             "passed_time": 11.90801352,
             "remaining_time": 81.1233421,
             "test": [
              65708.92859,
              0.1668452932
             ]
            },
            {
             "iteration": 64,
             "learn": [
              75060.80635,
              0.1405928702
             ],
             "passed_time": 11.97301898,
             "remaining_time": 80.12712703,
             "test": [
              65708.94428,
              0.1668448953
             ]
            },
            {
             "iteration": 65,
             "learn": [
              75040.86301,
              0.1410494912
             ],
             "passed_time": 12.18560134,
             "remaining_time": 80.12956035,
             "test": [
              65711.02107,
              0.1667922293
             ]
            },
            {
             "iteration": 66,
             "learn": [
              75026.71404,
              0.1413733713
             ],
             "passed_time": 12.43497161,
             "remaining_time": 80.36332397,
             "test": [
              65710.08948,
              0.1668158539
             ]
            },
            {
             "iteration": 67,
             "learn": [
              75017.72961,
              0.1415789994
             ],
             "passed_time": 12.63948041,
             "remaining_time": 80.29787553,
             "test": [
              65709.45034,
              0.1668320621
             ]
            },
            {
             "iteration": 68,
             "learn": [
              75014.89344,
              0.1416439064
             ],
             "passed_time": 12.82109128,
             "remaining_time": 80.0853673,
             "test": [
              65709.04685,
              0.1668422941
             ]
            },
            {
             "iteration": 69,
             "learn": [
              75010.23429,
              0.1417505274
             ],
             "passed_time": 12.99349676,
             "remaining_time": 79.81719436,
             "test": [
              65709.78027,
              0.1668236952
             ]
            },
            {
             "iteration": 70,
             "learn": [
              75001.61492,
              0.1419477578
             ],
             "passed_time": 13.26628271,
             "remaining_time": 80.15824344,
             "test": [
              65709.28611,
              0.1668362267
             ]
            },
            {
             "iteration": 71,
             "learn": [
              75001.12709,
              0.1419589198
             ],
             "passed_time": 13.38696895,
             "remaining_time": 79.57809321,
             "test": [
              65708.63414,
              0.1668527602
             ]
            },
            {
             "iteration": 72,
             "learn": [
              74977.78819,
              0.1424928482
             ],
             "passed_time": 13.51424854,
             "remaining_time": 79.0490976,
             "test": [
              65708.49653,
              0.1668562497
             ]
            },
            {
             "iteration": 73,
             "learn": [
              74970.4006,
              0.1426618209
             ],
             "passed_time": 13.71558396,
             "remaining_time": 78.95728065,
             "test": [
              65707.17133,
              0.1668898548
             ]
            },
            {
             "iteration": 74,
             "learn": [
              74953.92437,
              0.1430386135
             ],
             "passed_time": 13.92731897,
             "remaining_time": 78.92147415,
             "test": [
              65703.53406,
              0.1669820872
             ]
            },
            {
             "iteration": 75,
             "learn": [
              74947.8107,
              0.1431784052
             ],
             "passed_time": 14.11223519,
             "remaining_time": 78.73141739,
             "test": [
              65699.21395,
              0.1670916278
             ]
            },
            {
             "iteration": 76,
             "learn": [
              74927.73536,
              0.1436373561
             ],
             "passed_time": 14.30319564,
             "remaining_time": 78.57469815,
             "test": [
              65697.46849,
              0.1671358838
             ]
            },
            {
             "iteration": 77,
             "learn": [
              74909.49476,
              0.1440542555
             ],
             "passed_time": 14.49978887,
             "remaining_time": 78.44757567,
             "test": [
              65694.01669,
              0.1672234004
             ]
            },
            {
             "iteration": 78,
             "learn": [
              74897.68077,
              0.144324217
             ],
             "passed_time": 14.69366356,
             "remaining_time": 78.30420707,
             "test": [
              65680.7968,
              0.1675585331
             ]
            },
            {
             "iteration": 79,
             "learn": [
              74892.4407,
              0.144443944
             ],
             "passed_time": 14.91376789,
             "remaining_time": 78.29728145,
             "test": [
              65681.36879,
              0.167544034
             ]
            },
            {
             "iteration": 80,
             "learn": [
              74891.61642,
              0.1444627769
             ],
             "passed_time": 15.06285064,
             "remaining_time": 77.91770889,
             "test": [
              65680.35214,
              0.1675698042
             ]
            },
            {
             "iteration": 81,
             "learn": [
              74889.4868,
              0.1445114323
             ],
             "passed_time": 15.34778382,
             "remaining_time": 78.23626387,
             "test": [
              65680.28747,
              0.1675714436
             ]
            },
            {
             "iteration": 82,
             "learn": [
              74882.17925,
              0.1446783776
             ],
             "passed_time": 15.58989844,
             "remaining_time": 78.32515238,
             "test": [
              65675.86358,
              0.167683576
             ]
            },
            {
             "iteration": 83,
             "learn": [
              74876.08628,
              0.1448175624
             ],
             "passed_time": 15.80287011,
             "remaining_time": 78.26183292,
             "test": [
              65675.85709,
              0.1676837406
             ]
            },
            {
             "iteration": 84,
             "learn": [
              74867.39817,
              0.1450160099
             ],
             "passed_time": 16.02880351,
             "remaining_time": 78.25827596,
             "test": [
              65677.13878,
              0.1676512544
             ]
            },
            {
             "iteration": 85,
             "learn": [
              74861.37554,
              0.1451535612
             ],
             "passed_time": 16.28249229,
             "remaining_time": 78.38316055,
             "test": [
              65671.5279,
              0.1677934654
             ]
            },
            {
             "iteration": 86,
             "learn": [
              74859.37276,
              0.1451993002
             ],
             "passed_time": 16.49524675,
             "remaining_time": 78.30502192,
             "test": [
              65671.73648,
              0.1677881789
             ]
            },
            {
             "iteration": 87,
             "learn": [
              74856.70514,
              0.1452602209
             ],
             "passed_time": 16.68741515,
             "remaining_time": 78.12744364,
             "test": [
              65670.1381,
              0.1678286889
             ]
            },
            {
             "iteration": 88,
             "learn": [
              74856.17159,
              0.1452724054
             ],
             "passed_time": 16.84861865,
             "remaining_time": 77.80654229,
             "test": [
              65669.9691,
              0.1678329719
             ]
            },
            {
             "iteration": 89,
             "learn": [
              74854.80856,
              0.145303532
             ],
             "passed_time": 17.10302656,
             "remaining_time": 77.91378764,
             "test": [
              65669.51296,
              0.1678445323
             ]
            },
            {
             "iteration": 90,
             "learn": [
              74846.40065,
              0.1454955253
             ],
             "passed_time": 17.25256188,
             "remaining_time": 77.54173418,
             "test": [
              65668.96883,
              0.1678583225
             ]
            },
            {
             "iteration": 91,
             "learn": [
              74846.12499,
              0.1455018195
             ],
             "passed_time": 17.47357909,
             "remaining_time": 77.49152466,
             "test": [
              65668.80955,
              0.1678623592
             ]
            },
            {
             "iteration": 92,
             "learn": [
              74835.33736,
              0.1457481206
             ],
             "passed_time": 17.68798975,
             "remaining_time": 77.40872933,
             "test": [
              65665.36066,
              0.1679497639
             ]
            },
            {
             "iteration": 93,
             "learn": [
              74835.25459,
              0.1457500103
             ],
             "passed_time": 17.78819898,
             "remaining_time": 76.8298807,
             "test": [
              65665.29235,
              0.1679514949
             ]
            },
            {
             "iteration": 94,
             "learn": [
              74831.89868,
              0.1458266245
             ],
             "passed_time": 17.97513683,
             "remaining_time": 76.63084649,
             "test": [
              65661.23373,
              0.1680543458
             ]
            },
            {
             "iteration": 95,
             "learn": [
              74831.40717,
              0.1458378452
             ],
             "passed_time": 18.11344477,
             "remaining_time": 76.22741341,
             "test": [
              65660.97558,
              0.1680608874
             ]
            },
            {
             "iteration": 96,
             "learn": [
              74821.98498,
              0.1460529307
             ],
             "passed_time": 18.28002958,
             "remaining_time": 75.94692704,
             "test": [
              65656.74205,
              0.1681681636
             ]
            },
            {
             "iteration": 97,
             "learn": [
              74809.93375,
              0.1463279912
             ],
             "passed_time": 18.49649846,
             "remaining_time": 75.87339162,
             "test": [
              65655.73077,
              0.1681937878
             ]
            },
            {
             "iteration": 98,
             "learn": [
              74803.89028,
              0.1464659122
             ],
             "passed_time": 18.6785774,
             "remaining_time": 75.6576721,
             "test": [
              65655.65659,
              0.1681956674
             ]
            },
            {
             "iteration": 99,
             "learn": [
              74773.27889,
              0.1471643388
             ],
             "passed_time": 18.85778785,
             "remaining_time": 75.4311514,
             "test": [
              65658.00176,
              0.1681362435
             ]
            },
            {
             "iteration": 100,
             "learn": [
              74767.52861,
              0.147295505
             ],
             "passed_time": 19.04506708,
             "remaining_time": 75.23744324,
             "test": [
              65658.99423,
              0.1681110949
             ]
            },
            {
             "iteration": 101,
             "learn": [
              74759.23659,
              0.1474846311
             ],
             "passed_time": 19.24679742,
             "remaining_time": 75.10024875,
             "test": [
              65654.31191,
              0.168229739
             ]
            },
            {
             "iteration": 102,
             "learn": [
              74756.49617,
              0.1475471306
             ],
             "passed_time": 19.47110911,
             "remaining_time": 75.04883803,
             "test": [
              65654.69272,
              0.1682200901
             ]
            },
            {
             "iteration": 103,
             "learn": [
              74754.68819,
              0.1475883631
             ],
             "passed_time": 19.67737395,
             "remaining_time": 74.92538542,
             "test": [
              65655.40048,
              0.168202157
             ]
            },
            {
             "iteration": 104,
             "learn": [
              74750.30178,
              0.1476883949
             ],
             "passed_time": 19.86105439,
             "remaining_time": 74.71539507,
             "test": [
              65652.94164,
              0.1682644584
             ]
            },
            {
             "iteration": 105,
             "learn": [
              74749.61509,
              0.1477040542
             ],
             "passed_time": 19.99365629,
             "remaining_time": 74.31604318,
             "test": [
              65652.81846,
              0.1682675796
             ]
            },
            {
             "iteration": 106,
             "learn": [
              74747.62455,
              0.1477494459
             ],
             "passed_time": 20.16255125,
             "remaining_time": 74.05497795,
             "test": [
              65651.53261,
              0.1683001592
             ]
            },
            {
             "iteration": 107,
             "learn": [
              74745.33345,
              0.1478016899
             ],
             "passed_time": 20.3870846,
             "remaining_time": 73.99756634,
             "test": [
              65648.65173,
              0.1683731499
             ]
            },
            {
             "iteration": 108,
             "learn": [
              74744.75188,
              0.1478149513
             ],
             "passed_time": 20.56443282,
             "remaining_time": 73.76782782,
             "test": [
              65648.7753,
              0.1683700192
             ]
            },
            {
             "iteration": 109,
             "learn": [
              74743.24977,
              0.1478492029
             ],
             "passed_time": 20.76189165,
             "remaining_time": 73.61034313,
             "test": [
              65648.59134,
              0.1683746798
             ]
            },
            {
             "iteration": 110,
             "learn": [
              74739.43791,
              0.147936119
             ],
             "passed_time": 20.93962625,
             "remaining_time": 73.38301453,
             "test": [
              65648.95213,
              0.168365539
             ]
            },
            {
             "iteration": 111,
             "learn": [
              74738.22093,
              0.147963867
             ],
             "passed_time": 21.12451546,
             "remaining_time": 73.18135712,
             "test": [
              65648.6108,
              0.1683741868
             ]
            },
            {
             "iteration": 112,
             "learn": [
              74737.30219,
              0.1479848147
             ],
             "passed_time": 21.24345742,
             "remaining_time": 72.75414177,
             "test": [
              65648.30722,
              0.1683818781
             ]
            },
            {
             "iteration": 113,
             "learn": [
              74736.74661,
              0.147997482
             ],
             "passed_time": 21.39557069,
             "remaining_time": 72.44465164,
             "test": [
              65648.39078,
              0.1683797613
             ]
            },
            {
             "iteration": 114,
             "learn": [
              74731.94934,
              0.1481068568
             ],
             "passed_time": 21.55068896,
             "remaining_time": 72.14795869,
             "test": [
              65648.14262,
              0.1683860485
             ]
            },
            {
             "iteration": 115,
             "learn": [
              74724.07877,
              0.1482862854
             ],
             "passed_time": 21.73065674,
             "remaining_time": 71.93596713,
             "test": [
              65650.04891,
              0.168337751
             ]
            },
            {
             "iteration": 116,
             "learn": [
              74701.24168,
              0.1488068055
             ],
             "passed_time": 21.95216815,
             "remaining_time": 71.86051624,
             "test": [
              65649.08102,
              0.1683622735
             ]
            },
            {
             "iteration": 117,
             "learn": [
              74701.12592,
              0.1488094436
             ],
             "passed_time": 22.09531727,
             "remaining_time": 71.52890847,
             "test": [
              65649.21482,
              0.1683588836
             ]
            },
            {
             "iteration": 118,
             "learn": [
              74688.97794,
              0.1490862641
             ],
             "passed_time": 22.28578307,
             "remaining_time": 71.35196093,
             "test": [
              65647.62043,
              0.1683992783
             ]
            },
            {
             "iteration": 119,
             "learn": [
              74688.70399,
              0.1490925064
             ],
             "passed_time": 22.36720038,
             "remaining_time": 70.82946786,
             "test": [
              65647.67696,
              0.1683978461
             ]
            },
            {
             "iteration": 120,
             "learn": [
              74677.41883,
              0.1493496243
             ],
             "passed_time": 22.58335739,
             "remaining_time": 70.73630126,
             "test": [
              65648.24513,
              0.1683834512
             ]
            },
            {
             "iteration": 121,
             "learn": [
              74674.16327,
              0.1494237907
             ],
             "passed_time": 22.80395887,
             "remaining_time": 70.65488897,
             "test": [
              65650.31652,
              0.1683309707
             ]
            },
            {
             "iteration": 122,
             "learn": [
              74670.45641,
              0.1495082346
             ],
             "passed_time": 22.99637665,
             "remaining_time": 70.48482925,
             "test": [
              65650.97805,
              0.1683142099
             ]
            },
            {
             "iteration": 123,
             "learn": [
              74662.18771,
              0.1496965842
             ],
             "passed_time": 23.20319496,
             "remaining_time": 70.35807505,
             "test": [
              65651.3853,
              0.1683038916
             ]
            },
            {
             "iteration": 124,
             "learn": [
              74656.50222,
              0.1498260797
             ],
             "passed_time": 23.4330456,
             "remaining_time": 70.2991368,
             "test": [
              65649.19297,
              0.168359437
             ]
            },
            {
             "iteration": 125,
             "learn": [
              74636.83052,
              0.1502740556
             ],
             "passed_time": 23.63386707,
             "remaining_time": 70.15131972,
             "test": [
              65649.10739,
              0.1683616055
             ]
            },
            {
             "iteration": 126,
             "learn": [
              74636.74737,
              0.1502759491
             ],
             "passed_time": 23.76535651,
             "remaining_time": 69.7990392,
             "test": [
              65648.93206,
              0.1683660476
             ]
            },
            {
             "iteration": 127,
             "learn": [
              74636.71768,
              0.150276625
             ],
             "passed_time": 23.82319949,
             "remaining_time": 69.23617351,
             "test": [
              65648.93173,
              0.1683660559
             ]
            },
            {
             "iteration": 128,
             "learn": [
              74636.22996,
              0.1502877301
             ],
             "passed_time": 23.95628211,
             "remaining_time": 68.89752452,
             "test": [
              65648.89785,
              0.1683669142
             ]
            },
            {
             "iteration": 129,
             "learn": [
              74629.57174,
              0.1504393273
             ],
             "passed_time": 24.13064959,
             "remaining_time": 68.67954114,
             "test": [
              65648.90294,
              0.1683667853
             ]
            },
            {
             "iteration": 130,
             "learn": [
              74626.62857,
              0.1505063343
             ],
             "passed_time": 24.39144725,
             "remaining_time": 68.70567966,
             "test": [
              65647.77957,
              0.1683952465
             ]
            },
            {
             "iteration": 131,
             "learn": [
              74624.19945,
              0.1505616359
             ],
             "passed_time": 24.53897677,
             "remaining_time": 68.4116928,
             "test": [
              65647.57978,
              0.1684003083
             ]
            },
            {
             "iteration": 132,
             "learn": [
              74622.29624,
              0.1506049635
             ],
             "passed_time": 24.75013638,
             "remaining_time": 68.29548911,
             "test": [
              65646.86434,
              0.1684184339
             ]
            },
            {
             "iteration": 133,
             "learn": [
              74614.56413,
              0.1507809771
             ],
             "passed_time": 24.99997862,
             "remaining_time": 68.28352369,
             "test": [
              65646.40164,
              0.1684301564
             ]
            },
            {
             "iteration": 134,
             "learn": [
              74612.80036,
              0.150821125
             ],
             "passed_time": 25.15829982,
             "remaining_time": 68.02058839,
             "test": [
              65645.75591,
              0.1684465158
             ]
            },
            {
             "iteration": 135,
             "learn": [
              74612.70719,
              0.1508232459
             ],
             "passed_time": 25.29718142,
             "remaining_time": 67.70716203,
             "test": [
              65645.9062,
              0.1684427083
             ]
            },
            {
             "iteration": 136,
             "learn": [
              74609.97816,
              0.1508853635
             ],
             "passed_time": 25.55694198,
             "remaining_time": 67.7165689,
             "test": [
              65645.42461,
              0.1684549092
             ]
            },
            {
             "iteration": 137,
             "learn": [
              74609.83333,
              0.1508886601
             ],
             "passed_time": 25.76551385,
             "remaining_time": 67.58779721,
             "test": [
              65645.16803,
              0.1684614094
             ]
            },
            {
             "iteration": 138,
             "learn": [
              74606.32579,
              0.1509684947
             ],
             "passed_time": 25.95004334,
             "remaining_time": 67.3954363,
             "test": [
              65643.14008,
              0.1685127855
             ]
            },
            {
             "iteration": 139,
             "learn": [
              74603.03088,
              0.1510434862
             ],
             "passed_time": 26.1709422,
             "remaining_time": 67.29670851,
             "test": [
              65640.60275,
              0.1685770637
             ]
            },
            {
             "iteration": 140,
             "learn": [
              74591.71983,
              0.1513008984
             ],
             "passed_time": 26.40297562,
             "remaining_time": 67.2245975,
             "test": [
              65639.02607,
              0.1686170048
             ]
            },
            {
             "iteration": 141,
             "learn": [
              74580.09927,
              0.1515653136
             ],
             "passed_time": 26.64275169,
             "remaining_time": 67.16975426,
             "test": [
              65639.9943,
              0.1685924774
             ]
            },
            {
             "iteration": 142,
             "learn": [
              74556.16587,
              0.1521097663
             ],
             "passed_time": 26.84749882,
             "remaining_time": 67.02487467,
             "test": [
              65640.45683,
              0.1685807604
             ]
            },
            {
             "iteration": 143,
             "learn": [
              74551.2705,
              0.1522211077
             ],
             "passed_time": 27.03251776,
             "remaining_time": 66.83039114,
             "test": [
              65637.7191,
              0.1686501125
             ]
            },
            {
             "iteration": 144,
             "learn": [
              74549.87915,
              0.1522527517
             ],
             "passed_time": 27.17331971,
             "remaining_time": 66.52778273,
             "test": [
              65637.13737,
              0.1686648485
             ]
            },
            {
             "iteration": 145,
             "learn": [
              74548.60094,
              0.1522818219
             ],
             "passed_time": 27.36687361,
             "remaining_time": 66.35529628,
             "test": [
              65636.74693,
              0.1686747389
             ]
            },
            {
             "iteration": 146,
             "learn": [
              74548.48481,
              0.1522844628
             ],
             "passed_time": 27.474918,
             "remaining_time": 65.97718404,
             "test": [
              65636.54838,
              0.1686797684
             ]
            },
            {
             "iteration": 147,
             "learn": [
              74540.01181,
              0.1524771506
             ],
             "passed_time": 27.67517008,
             "remaining_time": 65.82202614,
             "test": [
              65634.68955,
              0.1687268536
             ]
            },
            {
             "iteration": 148,
             "learn": [
              74539.10445,
              0.1524977839
             ],
             "passed_time": 27.88602342,
             "remaining_time": 65.69123638,
             "test": [
              65634.27414,
              0.1687373761
             ]
            },
            {
             "iteration": 149,
             "learn": [
              74524.54233,
              0.1528288913
             ],
             "passed_time": 28.12367663,
             "remaining_time": 65.62191215,
             "test": [
              65635.84138,
              0.1686976773
             ]
            },
            {
             "iteration": 150,
             "learn": [
              74516.90416,
              0.1530025389
             ],
             "passed_time": 28.33550113,
             "remaining_time": 65.49066156,
             "test": [
              65634.48423,
              0.1687320544
             ]
            },
            {
             "iteration": 151,
             "learn": [
              74515.61307,
              0.1530318891
             ],
             "passed_time": 28.46470703,
             "remaining_time": 65.16919768,
             "test": [
              65634.40851,
              0.1687339726
             ]
            },
            {
             "iteration": 152,
             "learn": [
              74513.95761,
              0.1530695216
             ],
             "passed_time": 28.68482246,
             "remaining_time": 65.05642742,
             "test": [
              65634.7762,
              0.1687246589
             ]
            },
            {
             "iteration": 153,
             "learn": [
              74511.90064,
              0.1531162802
             ],
             "passed_time": 28.87994133,
             "remaining_time": 64.88610196,
             "test": [
              65634.7416,
              0.1687255354
             ]
            },
            {
             "iteration": 154,
             "learn": [
              74511.76574,
              0.1531193468
             ],
             "passed_time": 29.06719826,
             "remaining_time": 64.69795743,
             "test": [
              65634.56894,
              0.1687299088
             ]
            },
            {
             "iteration": 155,
             "learn": [
              74503.67494,
              0.1533032525
             ],
             "passed_time": 29.27148624,
             "remaining_time": 64.54737992,
             "test": [
              65632.6818,
              0.1687777097
             ]
            },
            {
             "iteration": 156,
             "learn": [
              74499.43882,
              0.1533995324
             ],
             "passed_time": 29.42950302,
             "remaining_time": 64.29502889,
             "test": [
              65634.92176,
              0.1687209718
             ]
            },
            {
             "iteration": 157,
             "learn": [
              74493.30799,
              0.1535388664
             ],
             "passed_time": 29.64550025,
             "remaining_time": 64.16937396,
             "test": [
              65635.5793,
              0.1687043159
             ]
            },
            {
             "iteration": 158,
             "learn": [
              74484.93681,
              0.1537290977
             ],
             "passed_time": 29.81164171,
             "remaining_time": 63.93565927,
             "test": [
              65634.92148,
              0.1687209788
             ]
            },
            {
             "iteration": 159,
             "learn": [
              74482.25463,
              0.1537900445
             ],
             "passed_time": 29.9885009,
             "remaining_time": 63.72556441,
             "test": [
              65634.01336,
              0.1687439816
             ]
            },
            {
             "iteration": 160,
             "learn": [
              74481.61625,
              0.15380455
             ],
             "passed_time": 30.19075623,
             "remaining_time": 63.56935628,
             "test": [
              65633.96213,
              0.1687452794
             ]
            },
            {
             "iteration": 161,
             "learn": [
              74480.62261,
              0.1538271277
             ],
             "passed_time": 30.38743575,
             "remaining_time": 63.40094619,
             "test": [
              65633.702,
              0.1687518684
             ]
            },
            {
             "iteration": 162,
             "learn": [
              74476.89671,
              0.1539117852
             ],
             "passed_time": 30.64205802,
             "remaining_time": 63.35198498,
             "test": [
              65632.53168,
              0.1687815123
             ]
            },
            {
             "iteration": 163,
             "learn": [
              74476.72638,
              0.1539156553
             ],
             "passed_time": 30.78020171,
             "remaining_time": 63.06187666,
             "test": [
              65632.52244,
              0.1687817464
             ]
            },
            {
             "iteration": 164,
             "learn": [
              74472.03414,
              0.1540222632
             ],
             "passed_time": 31.01109863,
             "remaining_time": 62.96192751,
             "test": [
              65633.36639,
              0.1687603694
             ]
            },
            {
             "iteration": 165,
             "learn": [
              74470.60243,
              0.1540547905
             ],
             "passed_time": 31.20188662,
             "remaining_time": 62.77969958,
             "test": [
              65633.44334,
              0.1687584203
             ]
            },
            {
             "iteration": 166,
             "learn": [
              74462.71768,
              0.1542339138
             ],
             "passed_time": 31.40707592,
             "remaining_time": 62.62608552,
             "test": [
              65634.86216,
              0.1687224815
             ]
            },
            {
             "iteration": 167,
             "learn": [
              74462.36895,
              0.1542418358
             ],
             "passed_time": 31.58749594,
             "remaining_time": 62.42290864,
             "test": [
              65634.80912,
              0.1687238251
             ]
            },
            {
             "iteration": 168,
             "learn": [
              74455.18331,
              0.1544050596
             ],
             "passed_time": 31.77325338,
             "remaining_time": 62.23045485,
             "test": [
              65633.54981,
              0.1687557235
             ]
            },
            {
             "iteration": 169,
             "learn": [
              74454.02152,
              0.1544314485
             ],
             "passed_time": 31.94443788,
             "remaining_time": 62.00979118,
             "test": [
              65633.74216,
              0.1687508511
             ]
            },
            {
             "iteration": 170,
             "learn": [
              74442.50104,
              0.1546931027
             ],
             "passed_time": 32.12664535,
             "remaining_time": 61.81091415,
             "test": [
              65632.39004,
              0.1687850999
             ]
            },
            {
             "iteration": 171,
             "learn": [
              74441.52093,
              0.1547153613
             ],
             "passed_time": 32.30079457,
             "remaining_time": 61.59686406,
             "test": [
              65631.94114,
              0.1687964703
             ]
            },
            {
             "iteration": 172,
             "learn": [
              74432.40805,
              0.1549223022
             ],
             "passed_time": 32.53531715,
             "remaining_time": 61.49739138,
             "test": [
              65630.69287,
              0.1688280878
             ]
            },
            {
             "iteration": 173,
             "learn": [
              74430.2586,
              0.1549711097
             ],
             "passed_time": 32.75907121,
             "remaining_time": 61.3761909,
             "test": [
              65629.6329,
              0.1688549352
             ]
            },
            {
             "iteration": 174,
             "learn": [
              74428.57157,
              0.1550094161
             ],
             "passed_time": 32.96479564,
             "remaining_time": 61.22033476,
             "test": [
              65630.01307,
              0.1688453061
             ]
            },
            {
             "iteration": 175,
             "learn": [
              74426.39182,
              0.1550589089
             ],
             "passed_time": 33.20132444,
             "remaining_time": 61.12061999,
             "test": [
              65629.78982,
              0.1688509606
             ]
            },
            {
             "iteration": 176,
             "learn": [
              74419.75316,
              0.1552096357
             ],
             "passed_time": 33.38660622,
             "remaining_time": 60.92584074,
             "test": [
              65628.74207,
              0.1688774983
             ]
            },
            {
             "iteration": 177,
             "learn": [
              74409.46389,
              0.1554432208
             ],
             "passed_time": 33.65647085,
             "remaining_time": 60.8841776,
             "test": [
              65630.25073,
              0.1688392865
             ]
            },
            {
             "iteration": 178,
             "learn": [
              74409.10066,
              0.1554514663
             ],
             "passed_time": 33.82735452,
             "remaining_time": 60.66246258,
             "test": [
              65630.32626,
              0.1688373735
             ]
            },
            {
             "iteration": 179,
             "learn": [
              74407.23982,
              0.155493707
             ],
             "passed_time": 34.03411394,
             "remaining_time": 60.50509145,
             "test": [
              65629.9046,
              0.1688480534
             ]
            },
            {
             "iteration": 180,
             "learn": [
              74394.87985,
              0.1557742497
             ],
             "passed_time": 34.22551678,
             "remaining_time": 60.32010968,
             "test": [
              65629.49103,
              0.1688585285
             ]
            },
            {
             "iteration": 181,
             "learn": [
              74384.93381,
              0.155999968
             ],
             "passed_time": 34.46331047,
             "remaining_time": 60.2161139,
             "test": [
              65628.80683,
              0.1688758582
             ]
            },
            {
             "iteration": 182,
             "learn": [
              74380.8425,
              0.1560928086
             ],
             "passed_time": 34.67524558,
             "remaining_time": 60.06586256,
             "test": [
              65629.38466,
              0.1688612228
             ]
            },
            {
             "iteration": 183,
             "learn": [
              74374.66499,
              0.1562329798
             ],
             "passed_time": 34.87466326,
             "remaining_time": 59.89344342,
             "test": [
              65628.56774,
              0.1688819137
             ]
            },
            {
             "iteration": 184,
             "learn": [
              74368.90007,
              0.1563637788
             ],
             "passed_time": 34.98197988,
             "remaining_time": 59.56391169,
             "test": [
              65627.92775,
              0.1688981232
             ]
            },
            {
             "iteration": 185,
             "learn": [
              74367.14756,
              0.1564035391
             ],
             "passed_time": 35.1932808,
             "remaining_time": 59.41231275,
             "test": [
              65628.57258,
              0.1688817912
             ]
            },
            {
             "iteration": 186,
             "learn": [
              74364.98856,
              0.1564525202
             ],
             "passed_time": 35.38853797,
             "remaining_time": 59.23322131,
             "test": [
              65627.93875,
              0.1688978448
             ]
            },
            {
             "iteration": 187,
             "learn": [
              74359.85957,
              0.1565688761
             ],
             "passed_time": 35.53268669,
             "remaining_time": 58.96913961,
             "test": [
              65630.10245,
              0.1688430422
             ]
            },
            {
             "iteration": 188,
             "learn": [
              74350.19859,
              0.1567880224
             ],
             "passed_time": 35.71326528,
             "remaining_time": 58.7662725,
             "test": [
              65629.22725,
              0.1688652095
             ]
            },
            {
             "iteration": 189,
             "learn": [
              74346.05414,
              0.1568820248
             ],
             "passed_time": 35.94301054,
             "remaining_time": 58.6438593,
             "test": [
              65629.59901,
              0.1688557937
             ]
            },
            {
             "iteration": 190,
             "learn": [
              74340.55821,
              0.1570066728
             ],
             "passed_time": 36.16759486,
             "remaining_time": 58.51197284,
             "test": [
              65628.36167,
              0.168887133
             ]
            },
            {
             "iteration": 191,
             "learn": [
              74340.17724,
              0.157015313
             ],
             "passed_time": 36.37197927,
             "remaining_time": 58.34671674,
             "test": [
              65628.34223,
              0.1688876255
             ]
            },
            {
             "iteration": 192,
             "learn": [
              74328.79091,
              0.157273525
             ],
             "passed_time": 36.56264622,
             "remaining_time": 58.15923518,
             "test": [
              65623.85463,
              0.1690012827
             ]
            },
            {
             "iteration": 193,
             "learn": [
              74321.2349,
              0.1574448538
             ],
             "passed_time": 36.80773476,
             "remaining_time": 58.05756101,
             "test": [
              65622.69856,
              0.1690305613
             ]
            },
            {
             "iteration": 194,
             "learn": [
              74317.54788,
              0.1575284487
             ],
             "passed_time": 37.05117014,
             "remaining_time": 57.95183022,
             "test": [
              65619.89805,
              0.1691014846
             ]
            },
            {
             "iteration": 195,
             "learn": [
              74312.98553,
              0.1576318841
             ],
             "passed_time": 37.2381516,
             "remaining_time": 57.75713309,
             "test": [
              65619.70472,
              0.1691063805
             ]
            },
            {
             "iteration": 196,
             "learn": [
              74298.24944,
              0.1579659302
             ],
             "passed_time": 37.49593604,
             "remaining_time": 57.67141432,
             "test": [
              65617.16174,
              0.169170779
             ]
            },
            {
             "iteration": 197,
             "learn": [
              74296.95318,
              0.1579953114
             ],
             "passed_time": 37.79212229,
             "remaining_time": 57.64252995,
             "test": [
              65616.20811,
              0.1691949282
             ]
            },
            {
             "iteration": 198,
             "learn": [
              74295.80872,
              0.1580212515
             ],
             "passed_time": 38.01244666,
             "remaining_time": 57.49621329,
             "test": [
              65615.75398,
              0.1692064282
             ]
            },
            {
             "iteration": 199,
             "learn": [
              74295.3579,
              0.1580314695
             ],
             "passed_time": 38.15092681,
             "remaining_time": 57.22639021,
             "test": [
              65616.12587,
              0.1691970108
             ]
            },
            {
             "iteration": 200,
             "learn": [
              74291.78732,
              0.1581123964
             ],
             "passed_time": 38.38458296,
             "remaining_time": 57.09945425,
             "test": [
              65617.35283,
              0.16916594
             ]
            },
            {
             "iteration": 201,
             "learn": [
              74286.42775,
              0.1582338631
             ],
             "passed_time": 38.57460372,
             "remaining_time": 56.90708865,
             "test": [
              65616.91405,
              0.1691770514
             ]
            },
            {
             "iteration": 202,
             "learn": [
              74280.42209,
              0.1583699621
             ],
             "passed_time": 38.78331798,
             "remaining_time": 56.74209577,
             "test": [
              65617.65485,
              0.1691582916
             ]
            },
            {
             "iteration": 203,
             "learn": [
              74279.91422,
              0.158381471
             ],
             "passed_time": 38.95928323,
             "remaining_time": 56.52915606,
             "test": [
              65617.44354,
              0.1691636429
             ]
            },
            {
             "iteration": 204,
             "learn": [
              74259.2501,
              0.1588496697
             ],
             "passed_time": 39.21138555,
             "remaining_time": 56.42614019,
             "test": [
              65617.18585,
              0.1691701686
             ]
            },
            {
             "iteration": 205,
             "learn": [
              74258.67639,
              0.1588626669
             ],
             "passed_time": 39.40001321,
             "remaining_time": 56.23108682,
             "test": [
              65617.4522,
              0.1691634236
             ]
            },
            {
             "iteration": 206,
             "learn": [
              74258.46496,
              0.1588674566
             ],
             "passed_time": 39.62244357,
             "remaining_time": 56.08394187,
             "test": [
              65617.6744,
              0.1691577966
             ]
            },
            {
             "iteration": 207,
             "learn": [
              74258.16612,
              0.1588742266
             ],
             "passed_time": 39.89468815,
             "remaining_time": 56.00600452,
             "test": [
              65617.59754,
              0.1691597431
             ]
            },
            {
             "iteration": 208,
             "learn": [
              74256.56988,
              0.1589103876
             ],
             "passed_time": 40.2107093,
             "remaining_time": 55.98715984,
             "test": [
              65617.6087,
              0.1691594605
             ]
            },
            {
             "iteration": 209,
             "learn": [
              74254.66575,
              0.1589535224
             ],
             "passed_time": 40.55058171,
             "remaining_time": 55.99842236,
             "test": [
              65616.89034,
              0.1691776518
             ]
            },
            {
             "iteration": 210,
             "learn": [
              74245.40289,
              0.1591633411
             ],
             "passed_time": 40.78436774,
             "remaining_time": 55.86105344,
             "test": [
              65617.65652,
              0.1691582495
             ]
            },
            {
             "iteration": 211,
             "learn": [
              74244.34173,
              0.1591873765
             ],
             "passed_time": 41.07509073,
             "remaining_time": 55.80012325,
             "test": [
              65617.25702,
              0.1691683661
             ]
            },
            {
             "iteration": 212,
             "learn": [
              74240.14097,
              0.1592825205
             ],
             "passed_time": 41.31416232,
             "remaining_time": 55.66743937,
             "test": [
              65617.37395,
              0.1691654051
             ]
            },
            {
             "iteration": 213,
             "learn": [
              74235.71737,
              0.1593827059
             ],
             "passed_time": 41.58729476,
             "remaining_time": 55.57928178,
             "test": [
              65617.00626,
              0.1691747163
             ]
            },
            {
             "iteration": 214,
             "learn": [
              74215.70309,
              0.1598359131
             ],
             "passed_time": 41.8601253,
             "remaining_time": 55.4890033,
             "test": [
              65617.58035,
              0.1691601783
             ]
            },
            {
             "iteration": 215,
             "learn": [
              74201.65359,
              0.1601539797
             ],
             "passed_time": 42.06481014,
             "remaining_time": 55.30743555,
             "test": [
              65620.33424,
              0.1690904383
             ]
            },
            {
             "iteration": 216,
             "learn": [
              74192.48333,
              0.1603615527
             ],
             "passed_time": 42.28134676,
             "remaining_time": 55.14111122,
             "test": [
              65622.2037,
              0.1690430939
             ]
            },
            {
             "iteration": 217,
             "learn": [
              74190.58568,
              0.1604045037
             ],
             "passed_time": 42.55757723,
             "remaining_time": 55.05154486,
             "test": [
              65622.40665,
              0.1690379541
             ]
            },
            {
             "iteration": 218,
             "learn": [
              74189.19567,
              0.1604359641
             ],
             "passed_time": 42.75811248,
             "remaining_time": 54.86314888,
             "test": [
              65622.64463,
              0.1690319271
             ]
            },
            {
             "iteration": 219,
             "learn": [
              74187.68257,
              0.1604702098
             ],
             "passed_time": 42.9836182,
             "remaining_time": 54.70642317,
             "test": [
              65622.21448,
              0.169042821
             ]
            },
            {
             "iteration": 220,
             "learn": [
              74184.32581,
              0.1605461802
             ],
             "passed_time": 43.22336364,
             "remaining_time": 54.56705183,
             "test": [
              65622.87628,
              0.1690260605
             ]
            },
            {
             "iteration": 221,
             "learn": [
              74178.76806,
              0.1606719563
             ],
             "passed_time": 43.45304184,
             "remaining_time": 54.41416951,
             "test": [
              65622.99898,
              0.1690229528
             ]
            },
            {
             "iteration": 222,
             "learn": [
              74174.08345,
              0.160777965
             ],
             "passed_time": 43.6512455,
             "remaining_time": 54.22150225,
             "test": [
              65623.50952,
              0.169010023
             ]
            },
            {
             "iteration": 223,
             "learn": [
              74167.56274,
              0.160925512
             ],
             "passed_time": 43.87554695,
             "remaining_time": 54.06094178,
             "test": [
              65620.69286,
              0.1690813563
             ]
            },
            {
             "iteration": 224,
             "learn": [
              74165.16607,
              0.1609797392
             ],
             "passed_time": 44.06560335,
             "remaining_time": 53.85795966,
             "test": [
              65619.93353,
              0.169100586
             ]
            },
            {
             "iteration": 225,
             "learn": [
              74151.30981,
              0.1612932178
             ],
             "passed_time": 44.3247533,
             "remaining_time": 53.7388602,
             "test": [
              65622.29641,
              0.1690407459
             ]
            },
            {
             "iteration": 226,
             "learn": [
              74151.04847,
              0.1612991297
             ],
             "passed_time": 44.55604377,
             "remaining_time": 53.5850218,
             "test": [
              65622.24438,
              0.1690420636
             ]
            },
            {
             "iteration": 227,
             "learn": [
              74150.63456,
              0.1613084929
             ],
             "passed_time": 44.73375682,
             "remaining_time": 53.36658708,
             "test": [
              65622.52065,
              0.169035067
             ]
            },
            {
             "iteration": 228,
             "learn": [
              74136.74226,
              0.1616227253
             ],
             "passed_time": 44.8920176,
             "remaining_time": 53.12548808,
             "test": [
              65619.9114,
              0.1691011464
             ]
            },
            {
             "iteration": 229,
             "learn": [
              74129.77021,
              0.1617804051
             ],
             "passed_time": 45.11552727,
             "remaining_time": 52.96170593,
             "test": [
              65620.34678,
              0.1690901205
             ]
            },
            {
             "iteration": 230,
             "learn": [
              74126.99618,
              0.1618431385
             ],
             "passed_time": 45.31453819,
             "remaining_time": 52.7688778,
             "test": [
              65619.16527,
              0.1691200419
             ]
            },
            {
             "iteration": 231,
             "learn": [
              74125.79939,
              0.1618702025
             ],
             "passed_time": 45.62504336,
             "remaining_time": 52.70479147,
             "test": [
              65618.3584,
              0.1691404751
             ]
            },
            {
             "iteration": 232,
             "learn": [
              74097.10094,
              0.1625190553
             ],
             "passed_time": 45.81574793,
             "remaining_time": 52.50130771,
             "test": [
              65617.30851,
              0.1691670623
             ]
            },
            {
             "iteration": 233,
             "learn": [
              74090.97514,
              0.1626575231
             ],
             "passed_time": 45.95798758,
             "remaining_time": 52.24284059,
             "test": [
              65618.52243,
              0.1691363211
             ]
            },
            {
             "iteration": 234,
             "learn": [
              74090.72869,
              0.1626630937
             ],
             "passed_time": 46.12205083,
             "remaining_time": 52.00997221,
             "test": [
              65618.5299,
              0.1691361321
             ]
            },
            {
             "iteration": 235,
             "learn": [
              74084.12553,
              0.1628123382
             ],
             "passed_time": 46.32403542,
             "remaining_time": 51.82010742,
             "test": [
              65616.14625,
              0.1691964947
             ]
            },
            {
             "iteration": 236,
             "learn": [
              74083.24068,
              0.1628323367
             ],
             "passed_time": 46.50968051,
             "remaining_time": 51.61200833,
             "test": [
              65616.21378,
              0.1691947847
             ]
            },
            {
             "iteration": 237,
             "learn": [
              74077.60203,
              0.1629597694
             ],
             "passed_time": 46.67805888,
             "remaining_time": 51.38509003,
             "test": [
              65615.80988,
              0.1692050127
             ]
            },
            {
             "iteration": 238,
             "learn": [
              74077.40938,
              0.1629641232
             ],
             "passed_time": 46.88820818,
             "remaining_time": 51.20427755,
             "test": [
              65615.81171,
              0.1692049662
             ]
            },
            {
             "iteration": 239,
             "learn": [
              74065.42495,
              0.1632349368
             ],
             "passed_time": 47.1299413,
             "remaining_time": 51.05743641,
             "test": [
              65619.1691,
              0.1691199448
             ]
            },
            {
             "iteration": 240,
             "learn": [
              74064.87388,
              0.1632473884
             ],
             "passed_time": 47.36219541,
             "remaining_time": 50.89962079,
             "test": [
              65619.27316,
              0.1691173097
             ]
            },
            {
             "iteration": 241,
             "learn": [
              74061.64695,
              0.1633202997
             ],
             "passed_time": 47.636615,
             "remaining_time": 50.78614327,
             "test": [
              65618.64466,
              0.1691332258
             ]
            },
            {
             "iteration": 242,
             "learn": [
              74060.14202,
              0.163354302
             ],
             "passed_time": 47.84642581,
             "remaining_time": 50.60301001,
             "test": [
              65618.34134,
              0.1691409071
             ]
            },
            {
             "iteration": 243,
             "learn": [
              74058.2874,
              0.163396204
             ],
             "passed_time": 48.05461991,
             "remaining_time": 50.41796188,
             "test": [
              65618.71718,
              0.1691313894
             ]
            },
            {
             "iteration": 244,
             "learn": [
              74049.28155,
              0.1635996619
             ],
             "passed_time": 48.30804658,
             "remaining_time": 50.27980359,
             "test": [
              65618.20072,
              0.1691444683
             ]
            },
            {
             "iteration": 245,
             "learn": [
              74047.9394,
              0.1636299813
             ],
             "passed_time": 48.51425054,
             "remaining_time": 50.09194974,
             "test": [
              65619.46313,
              0.1691124988
             ]
            },
            {
             "iteration": 246,
             "learn": [
              74047.02984,
              0.163650528
             ],
             "passed_time": 48.71345093,
             "remaining_time": 49.89677363,
             "test": [
              65619.70929,
              0.1691062649
             ]
            },
            {
             "iteration": 247,
             "learn": [
              74043.76992,
              0.1637241671
             ],
             "passed_time": 48.96876231,
             "remaining_time": 49.75858106,
             "test": [
              65620.35533,
              0.169089904
             ]
            },
            {
             "iteration": 248,
             "learn": [
              74041.65728,
              0.1637718882
             ],
             "passed_time": 49.25412866,
             "remaining_time": 49.64974415,
             "test": [
              65619.81307,
              0.1691036367
             ]
            },
            {
             "iteration": 249,
             "learn": [
              74038.79384,
              0.1638365665
             ],
             "passed_time": 49.51023039,
             "remaining_time": 49.51023039,
             "test": [
              65619.31268,
              0.1691163088
             ]
            },
            {
             "iteration": 250,
             "learn": [
              74037.85857,
              0.1638576913
             ],
             "passed_time": 49.72136504,
             "remaining_time": 49.32517887,
             "test": [
              65618.90185,
              0.1691267127
             ]
            },
            {
             "iteration": 251,
             "learn": [
              74037.17269,
              0.1638731831
             ],
             "passed_time": 49.92565463,
             "remaining_time": 49.13318392,
             "test": [
              65618.44805,
              0.1691382048
             ]
            },
            {
             "iteration": 252,
             "learn": [
              74034.32538,
              0.1639374932
             ],
             "passed_time": 50.12575519,
             "remaining_time": 48.9370021,
             "test": [
              65617.8983,
              0.1691521267
             ]
            },
            {
             "iteration": 253,
             "learn": [
              74031.2776,
              0.1640063283
             ],
             "passed_time": 50.32669359,
             "remaining_time": 48.74160088,
             "test": [
              65619.39529,
              0.1691142167
             ]
            },
            {
             "iteration": 254,
             "learn": [
              74027.74628,
              0.164086081
             ],
             "passed_time": 50.48660875,
             "remaining_time": 48.50674174,
             "test": [
              65619.52997,
              0.1691108061
             ]
            },
            {
             "iteration": 255,
             "learn": [
              74021.6367,
              0.1642240527
             ],
             "passed_time": 50.71239641,
             "remaining_time": 48.33525283,
             "test": [
              65616.80375,
              0.1691798446
             ]
            },
            {
             "iteration": 256,
             "learn": [
              74018.27473,
              0.1642999707
             ],
             "passed_time": 50.9071009,
             "remaining_time": 48.13395144,
             "test": [
              65617.41928,
              0.1691642572
             ]
            },
            {
             "iteration": 257,
             "learn": [
              74015.19786,
              0.1643694478
             ],
             "passed_time": 51.13849172,
             "remaining_time": 47.96711239,
             "test": [
              65618.3176,
              0.1691415084
             ]
            },
            {
             "iteration": 258,
             "learn": [
              73996.33771,
              0.1647952553
             ],
             "passed_time": 51.27930675,
             "remaining_time": 47.71549393,
             "test": [
              65616.66441,
              0.1691833733
             ]
            },
            {
             "iteration": 259,
             "learn": [
              73992.22459,
              0.1648881031
             ],
             "passed_time": 51.47738958,
             "remaining_time": 47.51759038,
             "test": [
              65616.92141,
              0.1691768651
             ]
            },
            {
             "iteration": 260,
             "learn": [
              73989.23493,
              0.1649555872
             ],
             "passed_time": 51.67082661,
             "remaining_time": 47.31543127,
             "test": [
              65615.77566,
              0.1692058792
             ]
            },
            {
             "iteration": 261,
             "learn": [
              73984.75203,
              0.1650567725
             ],
             "passed_time": 51.89754834,
             "remaining_time": 47.14357445,
             "test": [
              65616.53284,
              0.169186705
             ]
            },
            {
             "iteration": 262,
             "learn": [
              73984.10346,
              0.165071411
             ],
             "passed_time": 52.11157008,
             "remaining_time": 46.95985593,
             "test": [
              65616.73745,
              0.1691815234
             ]
            },
            {
             "iteration": 263,
             "learn": [
              73983.6959,
              0.1650806099
             ],
             "passed_time": 52.28157528,
             "remaining_time": 46.73655972,
             "test": [
              65616.84795,
              0.1691787254
             ]
            },
            {
             "iteration": 264,
             "learn": [
              73983.16308,
              0.1650926357
             ],
             "passed_time": 52.48880988,
             "remaining_time": 46.54668046,
             "test": [
              65616.77808,
              0.1691804948
             ]
            },
            {
             "iteration": 265,
             "learn": [
              73977.67471,
              0.1652165047
             ],
             "passed_time": 52.71185498,
             "remaining_time": 46.3705792,
             "test": [
              65618.74915,
              0.1691305798
             ]
            },
            {
             "iteration": 266,
             "learn": [
              73972.37454,
              0.1653361174
             ],
             "passed_time": 52.92532604,
             "remaining_time": 46.18577141,
             "test": [
              65617.37251,
              0.1691654416
             ]
            },
            {
             "iteration": 267,
             "learn": [
              73972.29214,
              0.165337977
             ],
             "passed_time": 53.18005036,
             "remaining_time": 46.03646151,
             "test": [
              65617.67769,
              0.1691577133
             ]
            },
            {
             "iteration": 268,
             "learn": [
              73970.75071,
              0.1653727619
             ],
             "passed_time": 53.43571122,
             "remaining_time": 45.88717209,
             "test": [
              65617.55497,
              0.169160821
             ]
            },
            {
             "iteration": 269,
             "learn": [
              73968.6723,
              0.1654196635
             ],
             "passed_time": 53.59075664,
             "remaining_time": 45.65138529,
             "test": [
              65616.93631,
              0.1691764879
             ]
            },
            {
             "iteration": 270,
             "learn": [
              73962.53852,
              0.1655580713
             ],
             "passed_time": 53.80272597,
             "remaining_time": 45.46429612,
             "test": [
              65614.2445,
              0.1692446522
             ]
            },
            {
             "iteration": 271,
             "learn": [
              73957.94567,
              0.1656617008
             ],
             "passed_time": 54.00066794,
             "remaining_time": 45.26526577,
             "test": [
              65614.60514,
              0.1692355199
             ]
            },
            {
             "iteration": 272,
             "learn": [
              73950.44228,
              0.1658309874
             ],
             "passed_time": 54.22126617,
             "remaining_time": 45.08508213,
             "test": [
              65615.4579,
              0.1692139258
             ]
            },
            {
             "iteration": 273,
             "learn": [
              73943.03629,
              0.1659980598
             ],
             "passed_time": 54.43951789,
             "remaining_time": 44.90266804,
             "test": [
              65618.91138,
              0.1691264713
             ]
            },
            {
             "iteration": 274,
             "learn": [
              73942.05897,
              0.1660201061
             ],
             "passed_time": 54.65302878,
             "remaining_time": 44.71611445,
             "test": [
              65619.66828,
              0.1691073035
             ]
            },
            {
             "iteration": 275,
             "learn": [
              73939.60552,
              0.1660754491
             ],
             "passed_time": 54.9018195,
             "remaining_time": 44.55799843,
             "test": [
              65619.7208,
              0.1691059734
             ]
            },
            {
             "iteration": 276,
             "learn": [
              73938.41031,
              0.1661024091
             ],
             "passed_time": 55.1661587,
             "remaining_time": 44.41174509,
             "test": [
              65619.99867,
              0.1690989364
             ]
            },
            {
             "iteration": 277,
             "learn": [
              73937.24623,
              0.1661286666
             ],
             "passed_time": 55.3713864,
             "remaining_time": 44.21743806,
             "test": [
              65621.22185,
              0.1690679597
             ]
            },
            {
             "iteration": 278,
             "learn": [
              73935.92318,
              0.1661585092
             ],
             "passed_time": 55.58483535,
             "remaining_time": 44.02956492,
             "test": [
              65619.9195,
              0.1691009414
             ]
            },
            {
             "iteration": 279,
             "learn": [
              73935.76263,
              0.1661621306
             ],
             "passed_time": 55.79763439,
             "remaining_time": 43.84099845,
             "test": [
              65619.9566,
              0.1691000019
             ]
            },
            {
             "iteration": 280,
             "learn": [
              73934.77293,
              0.1661844538
             ],
             "passed_time": 56.01513528,
             "remaining_time": 43.65592394,
             "test": [
              65618.88624,
              0.169127108
             ]
            },
            {
             "iteration": 281,
             "learn": [
              73934.61364,
              0.1661880468
             ],
             "passed_time": 56.11904882,
             "remaining_time": 43.38281079,
             "test": [
              65618.95805,
              0.1691252896
             ]
            },
            {
             "iteration": 282,
             "learn": [
              73927.23552,
              0.1663544547
             ],
             "passed_time": 56.31213722,
             "remaining_time": 43.1792713,
             "test": [
              65618.16889,
              0.1691452742
             ]
            },
            {
             "iteration": 283,
             "learn": [
              73921.15129,
              0.1664916676
             ],
             "passed_time": 56.49600935,
             "remaining_time": 42.96879584,
             "test": [
              65618.6737,
              0.1691324905
             ]
            },
            {
             "iteration": 284,
             "learn": [
              73915.53073,
              0.1666184136
             ],
             "passed_time": 56.71752412,
             "remaining_time": 42.78690416,
             "test": [
              65618.89588,
              0.1691268641
             ]
            },
            {
             "iteration": 285,
             "learn": [
              73909.92542,
              0.1667448062
             ],
             "passed_time": 56.9378433,
             "remaining_time": 42.60384079,
             "test": [
              65618.64181,
              0.1691332981
             ]
            },
            {
             "iteration": 286,
             "learn": [
              73905.96522,
              0.1668340979
             ],
             "passed_time": 57.17270543,
             "remaining_time": 42.431311,
             "test": [
              65619.45286,
              0.1691127589
             ]
            },
            {
             "iteration": 287,
             "learn": [
              73904.12803,
              0.1668755198
             ],
             "passed_time": 57.34302215,
             "remaining_time": 42.21083575,
             "test": [
              65620.43358,
              0.1690879225
             ]
            },
            {
             "iteration": 288,
             "learn": [
              73903.99959,
              0.1668784157
             ],
             "passed_time": 57.45483258,
             "remaining_time": 41.94799196,
             "test": [
              65620.485,
              0.1690866202
             ]
            },
            {
             "iteration": 289,
             "learn": [
              73903.87126,
              0.166881309
             ],
             "passed_time": 57.55774363,
             "remaining_time": 41.67974539,
             "test": [
              65620.56844,
              0.1690845071
             ]
            },
            {
             "iteration": 290,
             "learn": [
              73903.77058,
              0.1668835789
             ],
             "passed_time": 57.66155128,
             "remaining_time": 41.4132791,
             "test": [
              65620.63389,
              0.1690828495
             ]
            },
            {
             "iteration": 291,
             "learn": [
              73899.88663,
              0.1669711441
             ],
             "passed_time": 57.88268999,
             "remaining_time": 41.2315052,
             "test": [
              65621.37767,
              0.1690640133
             ]
            },
            {
             "iteration": 292,
             "learn": [
              73893.9377,
              0.1671052561
             ],
             "passed_time": 58.16692671,
             "remaining_time": 41.09404037,
             "test": [
              65622.42165,
              0.1690375742
             ]
            },
            {
             "iteration": 293,
             "learn": [
              73893.12179,
              0.167123649
             ],
             "passed_time": 58.41380231,
             "remaining_time": 40.9293989,
             "test": [
              65623.16762,
              0.169018682
             ]
            },
            {
             "iteration": 294,
             "learn": [
              73889.61074,
              0.1672027958
             ],
             "passed_time": 58.56988643,
             "remaining_time": 40.70110752,
             "test": [
              65621.91313,
              0.1690504528
             ]
            },
            {
             "iteration": 295,
             "learn": [
              73884.31988,
              0.1673220562
             ],
             "passed_time": 58.78464835,
             "remaining_time": 40.51374413,
             "test": [
              65620.85667,
              0.1690772079
             ]
            },
            {
             "iteration": 296,
             "learn": [
              73878.9032,
              0.167444144
             ],
             "passed_time": 59.000088,
             "remaining_time": 40.32665948,
             "test": [
              65622.98722,
              0.1690232507
             ]
            },
            {
             "iteration": 297,
             "learn": [
              73873.89581,
              0.1675569986
             ],
             "passed_time": 59.29990296,
             "remaining_time": 40.19657852,
             "test": [
              65621.04365,
              0.1690724725
             ]
            },
            {
             "iteration": 298,
             "learn": [
              73873.8041,
              0.1675590655
             ],
             "passed_time": 59.51555819,
             "remaining_time": 40.00878661,
             "test": [
              65621.1134,
              0.1690707059
             ]
            },
            {
             "iteration": 299,
             "learn": [
              73872.93327,
              0.1675786912
             ],
             "passed_time": 59.68869632,
             "remaining_time": 39.79246422,
             "test": [
              65620.95523,
              0.1690747118
             ]
            },
            {
             "iteration": 300,
             "learn": [
              73872.85183,
              0.1675805265
             ],
             "passed_time": 59.79977689,
             "remaining_time": 39.53540067,
             "test": [
              65621.03021,
              0.1690728127
             ]
            },
            {
             "iteration": 301,
             "learn": [
              73872.53143,
              0.1675877473
             ],
             "passed_time": 59.96570136,
             "remaining_time": 39.31526115,
             "test": [
              65621.19483,
              0.1690686439
             ]
            },
            {
             "iteration": 302,
             "learn": [
              73860.87259,
              0.1678504754
             ],
             "passed_time": 60.1253014,
             "remaining_time": 39.09136758,
             "test": [
              65624.83153,
              0.1689765415
             ]
            },
            {
             "iteration": 303,
             "learn": [
              73860.5315,
              0.167858161
             ],
             "passed_time": 60.25857859,
             "remaining_time": 38.85092567,
             "test": [
              65624.9994,
              0.16897229
             ]
            },
            {
             "iteration": 304,
             "learn": [
              73860.10395,
              0.167867795
             ],
             "passed_time": 60.42234059,
             "remaining_time": 38.63067677,
             "test": [
              65624.95761,
              0.1689733483
             ]
            },
            {
             "iteration": 305,
             "learn": [
              73855.26653,
              0.1679767912
             ],
             "passed_time": 60.69732789,
             "remaining_time": 38.48131245,
             "test": [
              65626.39224,
              0.1689370138
             ]
            },
            {
             "iteration": 306,
             "learn": [
              73846.89732,
              0.1681653487
             ],
             "passed_time": 60.91375477,
             "remaining_time": 38.29431489,
             "test": [
              65627.77731,
              0.1689019335
             ]
            },
            {
             "iteration": 307,
             "learn": [
              73846.2155,
              0.1681807092
             ],
             "passed_time": 61.09592717,
             "remaining_time": 38.08577278,
             "test": [
              65628.49248,
              0.1688838199
             ]
            },
            {
             "iteration": 308,
             "learn": [
              73842.67986,
              0.1682603596
             ],
             "passed_time": 61.2849406,
             "remaining_time": 37.88162995,
             "test": [
              65629.30326,
              0.1688632844
             ]
            },
            {
             "iteration": 309,
             "learn": [
              73840.27383,
              0.1683145602
             ],
             "passed_time": 61.44952392,
             "remaining_time": 37.66261144,
             "test": [
              65629.96655,
              0.1688464843
             ]
            },
            {
             "iteration": 310,
             "learn": [
              73835.94334,
              0.1684121087
             ],
             "passed_time": 61.61278874,
             "remaining_time": 37.44314171,
             "test": [
              65629.97724,
              0.1688462137
             ]
            },
            {
             "iteration": 311,
             "learn": [
              73833.48274,
              0.1684675334
             ],
             "passed_time": 61.80920806,
             "remaining_time": 37.24400998,
             "test": [
              65629.06355,
              0.1688693558
             ]
            },
            {
             "iteration": 312,
             "learn": [
              73831.04526,
              0.1685224355
             ],
             "passed_time": 61.9721574,
             "remaining_time": 37.02489915,
             "test": [
              65630.76407,
              0.1688262842
             ]
            },
            {
             "iteration": 313,
             "learn": [
              73830.92987,
              0.1685250346
             ],
             "passed_time": 62.17476182,
             "remaining_time": 36.82963598,
             "test": [
              65630.60805,
              0.1688302362
             ]
            },
            {
             "iteration": 314,
             "learn": [
              73824.32958,
              0.1686736913
             ],
             "passed_time": 62.40293519,
             "remaining_time": 36.64934289,
             "test": [
              65630.69597,
              0.1688280092
             ]
            },
            {
             "iteration": 315,
             "learn": [
              73819.6886,
              0.1687782111
             ],
             "passed_time": 62.63560164,
             "remaining_time": 36.47136298,
             "test": [
              65631.41866,
              0.1688097043
             ]
            },
            {
             "iteration": 316,
             "learn": [
              73811.36233,
              0.1689657108
             ],
             "passed_time": 62.92024949,
             "remaining_time": 36.32304623,
             "test": [
              65628.98655,
              0.1688713062
             ]
            },
            {
             "iteration": 317,
             "learn": [
              73806.30678,
              0.1690795466
             ],
             "passed_time": 63.09810336,
             "remaining_time": 36.11275098,
             "test": [
              65628.66067,
              0.16887956
             ]
            },
            {
             "iteration": 318,
             "learn": [
              73805.1149,
              0.1691063832
             ],
             "passed_time": 63.2388143,
             "remaining_time": 35.88158429,
             "test": [
              65628.57719,
              0.1688816745
             ]
            },
            {
             "iteration": 319,
             "learn": [
              73788.33999,
              0.1694840421
             ],
             "passed_time": 63.48766353,
             "remaining_time": 35.71181074,
             "test": [
              65627.13784,
              0.1689181298
             ]
            },
            {
             "iteration": 320,
             "learn": [
              73781.56746,
              0.16963649
             ],
             "passed_time": 63.71809659,
             "remaining_time": 35.53127505,
             "test": [
              65626.5818,
              0.1689322128
             ]
            },
            {
             "iteration": 321,
             "learn": [
              73772.81334,
              0.1698335221
             ],
             "passed_time": 63.87908365,
             "remaining_time": 35.31204003,
             "test": [
              65628.80265,
              0.1688759639
             ]
            },
            {
             "iteration": 322,
             "learn": [
              73768.08231,
              0.1699399953
             ],
             "passed_time": 64.05138751,
             "remaining_time": 35.09936715,
             "test": [
              65628.58797,
              0.1688814012
             ]
            },
            {
             "iteration": 323,
             "learn": [
              73759.34282,
              0.1701366623
             ],
             "passed_time": 64.25878599,
             "remaining_time": 34.90600721,
             "test": [
              65629.98213,
              0.1688460898
             ]
            },
            {
             "iteration": 324,
             "learn": [
              73759.01154,
              0.1701441168
             ],
             "passed_time": 64.47609902,
             "remaining_time": 34.71789947,
             "test": [
              65630.18398,
              0.1688409773
             ]
            },
            {
             "iteration": 325,
             "learn": [
              73758.11812,
              0.17016422
             ],
             "passed_time": 64.74179642,
             "remaining_time": 34.55543735,
             "test": [
              65629.69987,
              0.1688532389
             ]
            },
            {
             "iteration": 326,
             "learn": [
              73755.23153,
              0.1702291716
             ],
             "passed_time": 64.93149372,
             "remaining_time": 34.35213582,
             "test": [
              65629.74252,
              0.1688521587
             ]
            },
            {
             "iteration": 327,
             "learn": [
              73748.77616,
              0.1703744153
             ],
             "passed_time": 65.19337193,
             "remaining_time": 34.18676821,
             "test": [
              65626.60234,
              0.1689316925
             ]
            },
            {
             "iteration": 328,
             "learn": [
              73747.21408,
              0.1704095598
             ],
             "passed_time": 65.45660395,
             "remaining_time": 34.02151755,
             "test": [
              65627.51859,
              0.1689084864
             ]
            },
            {
             "iteration": 329,
             "learn": [
              73745.34564,
              0.1704515958
             ],
             "passed_time": 65.61849854,
             "remaining_time": 33.80346894,
             "test": [
              65626.76268,
              0.1689276315
             ]
            },
            {
             "iteration": 330,
             "learn": [
              73742.98317,
              0.170504745
             ],
             "passed_time": 65.783634,
             "remaining_time": 33.58741434,
             "test": [
              65626.73098,
              0.1689284345
             ]
            },
            {
             "iteration": 331,
             "learn": [
              73742.6338,
              0.1705126046
             ],
             "passed_time": 65.98853785,
             "remaining_time": 33.39179024,
             "test": [
              65626.9196,
              0.1689236572
             ]
            },
            {
             "iteration": 332,
             "learn": [
              73731.85996,
              0.1707549641
             ],
             "passed_time": 66.14635932,
             "remaining_time": 33.17249852,
             "test": [
              65628.86513,
              0.1688743814
             ]
            },
            {
             "iteration": 333,
             "learn": [
              73730.51111,
              0.1707853043
             ],
             "passed_time": 66.35897753,
             "remaining_time": 32.98080919,
             "test": [
              65629.81065,
              0.1688504332
             ]
            },
            {
             "iteration": 334,
             "learn": [
              73730.42239,
              0.1707872997
             ],
             "passed_time": 66.59196536,
             "remaining_time": 32.79902772,
             "test": [
              65630.09338,
              0.1688432719
             ]
            },
            {
             "iteration": 335,
             "learn": [
              73722.30062,
              0.1709699735
             ],
             "passed_time": 66.79136247,
             "remaining_time": 32.60054597,
             "test": [
              65630.85501,
              0.1688239809
             ]
            },
            {
             "iteration": 336,
             "learn": [
              73722.06695,
              0.1709752289
             ],
             "passed_time": 67.01235725,
             "remaining_time": 32.41250514,
             "test": [
              65631.02503,
              0.1688196746
             ]
            },
            {
             "iteration": 337,
             "learn": [
              73701.50234,
              0.1714376736
             ],
             "passed_time": 67.26235914,
             "remaining_time": 32.23817213,
             "test": [
              65631.86668,
              0.1687983563
             ]
            },
            {
             "iteration": 338,
             "learn": [
              73698.44008,
              0.171506525
             ],
             "passed_time": 67.48483935,
             "remaining_time": 32.05032193,
             "test": [
              65632.04422,
              0.1687938594
             ]
            },
            {
             "iteration": 339,
             "learn": [
              73697.03103,
              0.1715382049
             ],
             "passed_time": 67.70124127,
             "remaining_time": 31.85940766,
             "test": [
              65632.75641,
              0.1687758199
             ]
            },
            {
             "iteration": 340,
             "learn": [
              73693.3731,
              0.1716204437
             ],
             "passed_time": 67.92165751,
             "remaining_time": 31.67021567,
             "test": [
              65632.20989,
              0.1687896629
             ]
            },
            {
             "iteration": 341,
             "learn": [
              73693.13068,
              0.1716258937
             ],
             "passed_time": 68.13707647,
             "remaining_time": 31.4785324,
             "test": [
              65632.13309,
              0.1687916084
             ]
            },
            {
             "iteration": 342,
             "learn": [
              73677.82287,
              0.1719700037
             ],
             "passed_time": 68.38288354,
             "remaining_time": 31.30062016,
             "test": [
              65631.07817,
              0.1688183285
             ]
            },
            {
             "iteration": 343,
             "learn": [
              73677.59855,
              0.1719750458
             ],
             "passed_time": 68.51835933,
             "remaining_time": 31.07227923,
             "test": [
              65631.17546,
              0.1688158641
             ]
            },
            {
             "iteration": 344,
             "learn": [
              73674.76161,
              0.1720388104
             ],
             "passed_time": 68.73374423,
             "remaining_time": 30.88037784,
             "test": [
              65630.70625,
              0.1688277488
             ]
            },
            {
             "iteration": 345,
             "learn": [
              73664.47157,
              0.1722700744
             ],
             "passed_time": 68.96283451,
             "remaining_time": 30.69444079,
             "test": [
              65630.33264,
              0.1688372117
             ]
            },
            {
             "iteration": 346,
             "learn": [
              73654.73844,
              0.1724887924
             ],
             "passed_time": 69.13480873,
             "remaining_time": 30.48307129,
             "test": [
              65633.30442,
              0.1687619392
             ]
            },
            {
             "iteration": 347,
             "learn": [
              73653.58739,
              0.1725146562
             ],
             "passed_time": 69.31903061,
             "remaining_time": 30.27727774,
             "test": [
              65634.22365,
              0.168738655
             ]
            },
            {
             "iteration": 348,
             "learn": [
              73650.83152,
              0.1725765784
             ],
             "passed_time": 69.52890579,
             "remaining_time": 30.08270709,
             "test": [
              65633.11615,
              0.168766708
             ]
            },
            {
             "iteration": 349,
             "learn": [
              73645.88339,
              0.1726877535
             ],
             "passed_time": 69.76004048,
             "remaining_time": 29.8971602,
             "test": [
              65634.03958,
              0.1687433174
             ]
            },
            {
             "iteration": 350,
             "learn": [
              73641.44524,
              0.1727874636
             ],
             "passed_time": 69.95053637,
             "remaining_time": 29.69410233,
             "test": [
              65633.8566,
              0.1687479526
             ]
            },
            {
             "iteration": 351,
             "learn": [
              73638.741,
              0.1728482158
             ],
             "passed_time": 70.11925336,
             "remaining_time": 29.4819588,
             "test": [
              65634.37992,
              0.1687346967
             ]
            },
            {
             "iteration": 352,
             "learn": [
              73637.82705,
              0.1728687477
             ],
             "passed_time": 70.35861209,
             "remaining_time": 29.29947869,
             "test": [
              65634.8231,
              0.1687234707
             ]
            },
            {
             "iteration": 353,
             "learn": [
              73629.86528,
              0.1730475981
             ],
             "passed_time": 70.55423638,
             "remaining_time": 29.09863986,
             "test": [
              65635.16209,
              0.1687148842
             ]
            },
            {
             "iteration": 354,
             "learn": [
              73627.63087,
              0.1730977874
             ],
             "passed_time": 70.7795179,
             "remaining_time": 28.90994393,
             "test": [
              65633.2929,
              0.1687622309
             ]
            },
            {
             "iteration": 355,
             "learn": [
              73627.03238,
              0.1731112305
             ],
             "passed_time": 71.00076073,
             "remaining_time": 28.71940884,
             "test": [
              65634.0149,
              0.1687439427
             ]
            },
            {
             "iteration": 356,
             "learn": [
              73626.74933,
              0.1731175882
             ],
             "passed_time": 71.19797892,
             "remaining_time": 28.51907839,
             "test": [
              65633.91393,
              0.1687465003
             ]
            },
            {
             "iteration": 357,
             "learn": [
              73625.3557,
              0.173148891
             ],
             "passed_time": 71.37407785,
             "remaining_time": 28.31038842,
             "test": [
              65634.84123,
              0.1687230116
             ]
            },
            {
             "iteration": 358,
             "learn": [
              73624.86107,
              0.1731600009
             ],
             "passed_time": 71.49739448,
             "remaining_time": 28.08114936,
             "test": [
              65635.53241,
              0.1687055036
             ]
            },
            {
             "iteration": 359,
             "learn": [
              73623.23904,
              0.1731964327
             ],
             "passed_time": 71.68807536,
             "remaining_time": 27.87869597,
             "test": [
              65635.1882,
              0.1687142228
             ]
            },
            {
             "iteration": 360,
             "learn": [
              73622.80284,
              0.1732062299
             ],
             "passed_time": 71.90031001,
             "remaining_time": 27.6846069,
             "test": [
              65635.44615,
              0.1687076887
             ]
            },
            {
             "iteration": 361,
             "learn": [
              73618.64571,
              0.1732995975
             ],
             "passed_time": 72.13426763,
             "remaining_time": 27.49869871,
             "test": [
              65634.09222,
              0.1687419842
             ]
            },
            {
             "iteration": 362,
             "learn": [
              73618.28188,
              0.1733077689
             ],
             "passed_time": 72.45323793,
             "remaining_time": 27.34461046,
             "test": [
              65634.26649,
              0.1687375699
             ]
            },
            {
             "iteration": 363,
             "learn": [
              73617.18267,
              0.1733324557
             ],
             "passed_time": 72.68050498,
             "remaining_time": 27.15535351,
             "test": [
              65635.48903,
              0.1687066026
             ]
            },
            {
             "iteration": 364,
             "learn": [
              73614.83497,
              0.1733851807
             ],
             "passed_time": 72.95541616,
             "remaining_time": 26.98351009,
             "test": [
              65634.6549,
              0.1687277315
             ]
            },
            {
             "iteration": 365,
             "learn": [
              73612.58214,
              0.1734357737
             ],
             "passed_time": 73.22261428,
             "remaining_time": 26.80827955,
             "test": [
              65634.62019,
              0.1687286107
             ]
            },
            {
             "iteration": 366,
             "learn": [
              73611.76148,
              0.1734542031
             ],
             "passed_time": 73.5016735,
             "remaining_time": 26.63684625,
             "test": [
              65635.47965,
              0.1687068402
             ]
            },
            {
             "iteration": 367,
             "learn": [
              73611.55866,
              0.1734587579
             ],
             "passed_time": 73.78717873,
             "remaining_time": 26.4671402,
             "test": [
              65635.64864,
              0.1687025596
             ]
            },
            {
             "iteration": 368,
             "learn": [
              73608.56557,
              0.1735259719
             ],
             "passed_time": 74.05464105,
             "remaining_time": 26.29040102,
             "test": [
              65635.01489,
              0.1687186127
             ]
            },
            {
             "iteration": 369,
             "learn": [
              73594.63215,
              0.17383883
             ],
             "passed_time": 74.35843832,
             "remaining_time": 26.12593779,
             "test": [
              65634.32037,
              0.1687362051
             ]
            },
            {
             "iteration": 370,
             "learn": [
              73594.45956,
              0.1738427049
             ],
             "passed_time": 74.55992263,
             "remaining_time": 25.9251483,
             "test": [
              65634.6269,
              0.1687284406
             ]
            },
            {
             "iteration": 371,
             "learn": [
              73590.34034,
              0.1739351854
             ],
             "passed_time": 74.7633783,
             "remaining_time": 25.72503339,
             "test": [
              65635.82618,
              0.1686980622
             ]
            },
            {
             "iteration": 372,
             "learn": [
              73588.07148,
              0.1739861214
             ],
             "passed_time": 74.99671669,
             "remaining_time": 25.53507512,
             "test": [
              65636.77027,
              0.1686741477
             ]
            },
            {
             "iteration": 373,
             "learn": [
              73584.4927,
              0.1740664618
             ],
             "passed_time": 75.2580837,
             "remaining_time": 25.35432767,
             "test": [
              65637.1919,
              0.1686634673
             ]
            },
            {
             "iteration": 374,
             "learn": [
              73584.12277,
              0.1740747663
             ],
             "passed_time": 75.55672498,
             "remaining_time": 25.18557499,
             "test": [
              65637.1272,
              0.168665106
             ]
            },
            {
             "iteration": 375,
             "learn": [
              73583.71942,
              0.1740838208
             ],
             "passed_time": 75.75371841,
             "remaining_time": 24.98260926,
             "test": [
              65637.83852,
              0.1686470875
             ]
            },
            {
             "iteration": 376,
             "learn": [
              73582.69686,
              0.1741067754
             ],
             "passed_time": 75.95757697,
             "remaining_time": 24.78191503,
             "test": [
              65638.68501,
              0.1686256444
             ]
            },
            {
             "iteration": 377,
             "learn": [
              73581.75436,
              0.1741279326
             ],
             "passed_time": 76.17780476,
             "remaining_time": 24.58648725,
             "test": [
              65639.002,
              0.1686176144
             ]
            },
            {
             "iteration": 378,
             "learn": [
              73581.59791,
              0.1741314446
             ],
             "passed_time": 76.28131661,
             "remaining_time": 24.35366573,
             "test": [
              65638.87435,
              0.168620848
             ]
            },
            {
             "iteration": 379,
             "learn": [
              73573.09965,
              0.1743221998
             ],
             "passed_time": 76.53207876,
             "remaining_time": 24.16802487,
             "test": [
              65639.05228,
              0.1686163406
             ]
            },
            {
             "iteration": 380,
             "learn": [
              73554.39078,
              0.1747420688
             ],
             "passed_time": 76.69576836,
             "remaining_time": 23.95484628,
             "test": [
              65640.86467,
              0.1685704287
             ]
            },
            {
             "iteration": 381,
             "learn": [
              73554.27018,
              0.1747447752
             ],
             "passed_time": 76.88445973,
             "remaining_time": 23.74964987,
             "test": [
              65641.13445,
              0.1685635945
             ]
            },
            {
             "iteration": 382,
             "learn": [
              73552.52781,
              0.1747838722
             ],
             "passed_time": 77.04604443,
             "remaining_time": 23.536259,
             "test": [
              65640.83059,
              0.1685712921
             ]
            },
            {
             "iteration": 383,
             "learn": [
              73550.7526,
              0.1748237054
             ],
             "passed_time": 77.23400033,
             "remaining_time": 23.33110427,
             "test": [
              65641.18903,
              0.1685622118
             ]
            },
            {
             "iteration": 384,
             "learn": [
              73547.25133,
              0.174902266
             ],
             "passed_time": 77.4055327,
             "remaining_time": 23.12113314,
             "test": [
              65641.34625,
              0.1685582288
             ]
            },
            {
             "iteration": 385,
             "learn": [
              73542.12114,
              0.1750173693
             ],
             "passed_time": 77.64849998,
             "remaining_time": 22.93245854,
             "test": [
              65641.39851,
              0.168556905
             ]
            },
            {
             "iteration": 386,
             "learn": [
              73541.16044,
              0.175038923
             ],
             "passed_time": 77.84534472,
             "remaining_time": 22.73003605,
             "test": [
              65642.58434,
              0.1685268643
             ]
            },
            {
             "iteration": 387,
             "learn": [
              73539.13673,
              0.1750843249
             ],
             "passed_time": 78.04261081,
             "remaining_time": 22.52776395,
             "test": [
              65639.92138,
              0.1685943245
             ]
            },
            {
             "iteration": 388,
             "learn": [
              73538.00696,
              0.1751096709
             ],
             "passed_time": 78.27206679,
             "remaining_time": 22.33470286,
             "test": [
              65639.57849,
              0.1686030108
             ]
            },
            {
             "iteration": 389,
             "learn": [
              73524.78408,
              0.1754062915
             ],
             "passed_time": 78.53299018,
             "remaining_time": 22.15033056,
             "test": [
              65642.40188,
              0.1685314867
             ]
            },
            {
             "iteration": 390,
             "learn": [
              73508.09047,
              0.1757806928
             ],
             "passed_time": 78.78620049,
             "remaining_time": 21.9634165,
             "test": [
              65642.57971,
              0.1685269816
             ]
            },
            {
             "iteration": 391,
             "learn": [
              73506.94996,
              0.1758062688
             ],
             "passed_time": 78.96170267,
             "remaining_time": 21.75475482,
             "test": [
              65643.36217,
              0.1685071592
             ]
            },
            {
             "iteration": 392,
             "learn": [
              73504.76908,
              0.1758551741
             ],
             "passed_time": 79.16747756,
             "remaining_time": 21.55450407,
             "test": [
              65642.98353,
              0.1685167515
             ]
            },
            {
             "iteration": 393,
             "learn": [
              73502.77342,
              0.1758999247
             ],
             "passed_time": 79.35086627,
             "remaining_time": 21.3482026,
             "test": [
              65643.44202,
              0.1685051362
             ]
            },
            {
             "iteration": 394,
             "learn": [
              73500.91134,
              0.1759416788
             ],
             "passed_time": 79.46699097,
             "remaining_time": 21.12413684,
             "test": [
              65643.14521,
              0.1685126554
             ]
            },
            {
             "iteration": 395,
             "learn": [
              73500.10362,
              0.1759597902
             ],
             "passed_time": 79.65885327,
             "remaining_time": 20.92050692,
             "test": [
              65644.2168,
              0.1684855081
             ]
            },
            {
             "iteration": 396,
             "learn": [
              73491.38322,
              0.1761553147
             ],
             "passed_time": 79.8455902,
             "remaining_time": 20.71560653,
             "test": [
              65644.94499,
              0.1684670601
             ]
            },
            {
             "iteration": 397,
             "learn": [
              73478.98061,
              0.1764333599
             ],
             "passed_time": 80.05192242,
             "remaining_time": 20.51581931,
             "test": [
              65644.84816,
              0.1684695132
             ]
            },
            {
             "iteration": 398,
             "learn": [
              73474.42816,
              0.1765354063
             ],
             "passed_time": 80.32639008,
             "remaining_time": 20.33324661,
             "test": [
              65644.5135,
              0.1684779914
             ]
            },
            {
             "iteration": 399,
             "learn": [
              73473.5368,
              0.176555386
             ],
             "passed_time": 80.51357845,
             "remaining_time": 20.12839461,
             "test": [
              65645.32159,
              0.1684575191
             ]
            },
            {
             "iteration": 400,
             "learn": [
              73468.61018,
              0.1766658111
             ],
             "passed_time": 80.72730479,
             "remaining_time": 19.93018248,
             "test": [
              65645.75407,
              0.1684465626
             ]
            },
            {
             "iteration": 401,
             "learn": [
              73465.7197,
              0.1767305948
             ],
             "passed_time": 80.90519639,
             "remaining_time": 19.72315733,
             "test": [
              65646.08655,
              0.1684381393
             ]
            },
            {
             "iteration": 402,
             "learn": [
              73450.03464,
              0.1770820961
             ],
             "passed_time": 81.15146373,
             "remaining_time": 19.53273445,
             "test": [
              65644.34739,
              0.1684821998
             ]
            },
            {
             "iteration": 403,
             "learn": [
              73445.26056,
              0.1771890682
             ],
             "passed_time": 81.37246497,
             "remaining_time": 19.33603128,
             "test": [
              65644.27191,
              0.1684841119
             ]
            },
            {
             "iteration": 404,
             "learn": [
              73444.89349,
              0.1771972928
             ],
             "passed_time": 81.57931444,
             "remaining_time": 19.13588857,
             "test": [
              65644.9512,
              0.1684669028
             ]
            },
            {
             "iteration": 405,
             "learn": [
              73444.26832,
              0.1772113003
             ],
             "passed_time": 81.77050576,
             "remaining_time": 18.93208754,
             "test": [
              65645.40246,
              0.1684554704
             ]
            },
            {
             "iteration": 406,
             "learn": [
              73443.67938,
              0.1772244958
             ],
             "passed_time": 81.93808215,
             "remaining_time": 18.72295243,
             "test": [
              65646.1554,
              0.1684363949
             ]
            },
            {
             "iteration": 407,
             "learn": [
              73441.81023,
              0.1772663748
             ],
             "passed_time": 82.14365902,
             "remaining_time": 18.52258978,
             "test": [
              65646.26489,
              0.1684336211
             ]
            },
            {
             "iteration": 408,
             "learn": [
              73438.51834,
              0.177340128
             ],
             "passed_time": 82.33197252,
             "remaining_time": 18.31836063,
             "test": [
              65645.71807,
              0.1684474744
             ]
            },
            {
             "iteration": 409,
             "learn": [
              73432.56925,
              0.1774734065
             ],
             "passed_time": 82.47407335,
             "remaining_time": 18.10406488,
             "test": [
              65644.77538,
              0.1684713569
             ]
            },
            {
             "iteration": 410,
             "learn": [
              73430.09363,
              0.1775288648
             ],
             "passed_time": 82.7577084,
             "remaining_time": 17.92076897,
             "test": [
              65644.01549,
              0.168490608
             ]
            },
            {
             "iteration": 411,
             "learn": [
              73416.76369,
              0.1778274479
             ],
             "passed_time": 83.00672527,
             "remaining_time": 17.72959181,
             "test": [
              65642.77167,
              0.1685221186
             ]
            },
            {
             "iteration": 412,
             "learn": [
              73416.6569,
              0.1778298399
             ],
             "passed_time": 83.19607966,
             "remaining_time": 17.52556642,
             "test": [
              65642.92568,
              0.1685182168
             ]
            },
            {
             "iteration": 413,
             "learn": [
              73407.17047,
              0.1780422973
             ],
             "passed_time": 83.4269686,
             "remaining_time": 17.33023985,
             "test": [
              65642.95333,
              0.1685175165
             ]
            },
            {
             "iteration": 414,
             "learn": [
              73404.71207,
              0.178097351
             ],
             "passed_time": 83.64826515,
             "remaining_time": 17.1327772,
             "test": [
              65643.40629,
              0.1685060415
             ]
            },
            {
             "iteration": 415,
             "learn": [
              73404.44205,
              0.1781033977
             ],
             "passed_time": 83.87174186,
             "remaining_time": 16.93564018,
             "test": [
              65643.62063,
              0.1685006114
             ]
            },
            {
             "iteration": 416,
             "learn": [
              73398.43326,
              0.1782379509
             ],
             "passed_time": 84.11100233,
             "remaining_time": 16.74151845,
             "test": [
              65642.76417,
              0.1685223085
             ]
            },
            {
             "iteration": 417,
             "learn": [
              73396.94485,
              0.1782712787
             ],
             "passed_time": 84.32507418,
             "remaining_time": 16.54223943,
             "test": [
              65641.58918,
              0.1685520749
             ]
            },
            {
             "iteration": 418,
             "learn": [
              73392.66379,
              0.1783671346
             ],
             "passed_time": 84.51700976,
             "remaining_time": 16.33861048,
             "test": [
              65641.96651,
              0.1685425159
             ]
            },
            {
             "iteration": 419,
             "learn": [
              73392.16551,
              0.1783782913
             ],
             "passed_time": 84.70530916,
             "remaining_time": 16.1343446,
             "test": [
              65642.40894,
              0.1685313078
             ]
            },
            {
             "iteration": 420,
             "learn": [
              73382.00758,
              0.1786057104
             ],
             "passed_time": 84.89416315,
             "remaining_time": 15.93025864,
             "test": [
              65641.29496,
              0.1685595283
             ]
            },
            {
             "iteration": 421,
             "learn": [
              73375.60266,
              0.1787490899
             ],
             "passed_time": 85.10183504,
             "remaining_time": 15.72972306,
             "test": [
              65641.82272,
              0.1685461584
             ]
            },
            {
             "iteration": 422,
             "learn": [
              73373.29638,
              0.1788007148
             ],
             "passed_time": 85.34009921,
             "remaining_time": 15.53472255,
             "test": [
              65642.30005,
              0.1685340662
             ]
            },
            {
             "iteration": 423,
             "learn": [
              73373.2076,
              0.1788027021
             ],
             "passed_time": 85.55078605,
             "remaining_time": 15.33457486,
             "test": [
              65642.42663,
              0.1685308596
             ]
            },
            {
             "iteration": 424,
             "learn": [
              73355.54904,
              0.1791979259
             ],
             "passed_time": 85.7506515,
             "remaining_time": 15.13246791,
             "test": [
              65641.54353,
              0.1685532312
             ]
            },
            {
             "iteration": 425,
             "learn": [
              73354.2877,
              0.1792261527
             ],
             "passed_time": 85.97605572,
             "remaining_time": 14.9348078,
             "test": [
              65641.96514,
              0.1685425507
             ]
            },
            {
             "iteration": 426,
             "learn": [
              73353.9188,
              0.1792344081
             ],
             "passed_time": 86.23643701,
             "remaining_time": 14.74299743,
             "test": [
              65641.88964,
              0.1685444634
             ]
            },
            {
             "iteration": 427,
             "learn": [
              73347.93304,
              0.1793683533
             ],
             "passed_time": 86.42888296,
             "remaining_time": 14.53943826,
             "test": [
              65642.804,
              0.1685212997
             ]
            },
            {
             "iteration": 428,
             "learn": [
              73346.91993,
              0.1793910229
             ],
             "passed_time": 86.56749216,
             "remaining_time": 14.32702085,
             "test": [
              65642.99458,
              0.1685164714
             ]
            },
            {
             "iteration": 429,
             "learn": [
              73344.12909,
              0.1794534699
             ],
             "passed_time": 86.75998649,
             "remaining_time": 14.12371873,
             "test": [
              65643.64509,
              0.1684999917
             ]
            },
            {
             "iteration": 430,
             "learn": [
              73343.64876,
              0.1794642173
             ],
             "passed_time": 86.96355341,
             "remaining_time": 13.92223941,
             "test": [
              65644.32354,
              0.1684828039
             ]
            },
            {
             "iteration": 431,
             "learn": [
              73339.4638,
              0.1795578536
             ],
             "passed_time": 87.16991617,
             "remaining_time": 13.72119051,
             "test": [
              65641.91833,
              0.1685437365
             ]
            },
            {
             "iteration": 432,
             "learn": [
              73338.05877,
              0.1795892892
             ],
             "passed_time": 87.40961108,
             "remaining_time": 13.52527469,
             "test": [
              65642.1933,
              0.1685367707
             ]
            },
            {
             "iteration": 433,
             "learn": [
              73336.7635,
              0.1796182685
             ],
             "passed_time": 87.66934711,
             "remaining_time": 13.33220486,
             "test": [
              65642.19798,
              0.1685366521
             ]
            },
            {
             "iteration": 434,
             "learn": [
              73336.00632,
              0.1796352088
             ],
             "passed_time": 87.86652319,
             "remaining_time": 13.12948048,
             "test": [
              65641.39098,
              0.1685570959
             ]
            },
            {
             "iteration": 435,
             "learn": [
              73335.24672,
              0.1796522031
             ],
             "passed_time": 88.10965554,
             "remaining_time": 12.93352742,
             "test": [
              65641.3679,
              0.1685576805
             ]
            },
            {
             "iteration": 436,
             "learn": [
              73334.11658,
              0.1796774869
             ],
             "passed_time": 88.23352904,
             "remaining_time": 12.72016551,
             "test": [
              65641.62561,
              0.1685511521
             ]
            },
            {
             "iteration": 437,
             "learn": [
              73333.36115,
              0.1796943876
             ],
             "passed_time": 88.47649549,
             "remaining_time": 12.52407014,
             "test": [
              65641.97922,
              0.168542194
             ]
            },
            {
             "iteration": 438,
             "learn": [
              73327.36439,
              0.1798285414
             ],
             "passed_time": 88.69543706,
             "remaining_time": 12.32442292,
             "test": [
              65641.99276,
              0.1685418508
             ]
            },
            {
             "iteration": 439,
             "learn": [
              73325.71236,
              0.1798654971
             ],
             "passed_time": 88.93590273,
             "remaining_time": 12.1276231,
             "test": [
              65640.38498,
              0.1685825805
             ]
            },
            {
             "iteration": 440,
             "learn": [
              73320.15725,
              0.1799897581
             ],
             "passed_time": 89.15251415,
             "remaining_time": 11.92743387,
             "test": [
              65640.47326,
              0.168580344
             ]
            },
            {
             "iteration": 441,
             "learn": [
              73319.12099,
              0.180012937
             ],
             "passed_time": 89.31883079,
             "remaining_time": 11.72057056,
             "test": [
              65640.70936,
              0.1685743631
             ]
            },
            {
             "iteration": 442,
             "learn": [
              73318.49909,
              0.1800268474
             ],
             "passed_time": 89.55300634,
             "remaining_time": 11.52262158,
             "test": [
              65640.47058,
              0.1685804119
             ]
            },
            {
             "iteration": 443,
             "learn": [
              73311.35291,
              0.1801866811
             ],
             "passed_time": 89.73382894,
             "remaining_time": 11.31778023,
             "test": [
              65642.0611,
              0.1685401197
             ]
            },
            {
             "iteration": 444,
             "learn": [
              73308.22371,
              0.1802566651
             ],
             "passed_time": 89.9710342,
             "remaining_time": 11.12001546,
             "test": [
              65639.48585,
              0.1686053575
             ]
            },
            {
             "iteration": 445,
             "learn": [
              73308.04232,
              0.1802607218
             ],
             "passed_time": 90.19121436,
             "remaining_time": 10.9200125,
             "test": [
              65639.60511,
              0.1686023363
             ]
            },
            {
             "iteration": 446,
             "learn": [
              73302.34559,
              0.1803881197
             ],
             "passed_time": 90.39137247,
             "remaining_time": 10.71754528,
             "test": [
              65640.28769,
              0.1685850451
             ]
            },
            {
             "iteration": 447,
             "learn": [
              73301.67026,
              0.1804032217
             ],
             "passed_time": 90.56812848,
             "remaining_time": 10.51237206,
             "test": [
              65640.51431,
              0.1685793042
             ]
            },
            {
             "iteration": 448,
             "learn": [
              73300.184,
              0.1804364576
             ],
             "passed_time": 90.79549661,
             "remaining_time": 10.31307422,
             "test": [
              65639.78589,
              0.1685977569
             ]
            },
            {
             "iteration": 449,
             "learn": [
              73295.58114,
              0.1805393828
             ],
             "passed_time": 91.04381302,
             "remaining_time": 10.11597922,
             "test": [
              65639.00093,
              0.1686176416
             ]
            },
            {
             "iteration": 450,
             "learn": [
              73293.26942,
              0.1805910731
             ],
             "passed_time": 91.27939979,
             "remaining_time": 9.917274035,
             "test": [
              65637.79729,
              0.1686481317
             ]
            },
            {
             "iteration": 451,
             "learn": [
              73291.70915,
              0.1806259598
             ],
             "passed_time": 91.49334959,
             "remaining_time": 9.716107921,
             "test": [
              65637.53749,
              0.1686547129
             ]
            },
            {
             "iteration": 452,
             "learn": [
              73291.40215,
              0.1806328243
             ],
             "passed_time": 91.71337763,
             "remaining_time": 9.515516002,
             "test": [
              65638.20934,
              0.168637694
             ]
            },
            {
             "iteration": 453,
             "learn": [
              73287.73792,
              0.1807147512
             ],
             "passed_time": 91.99304923,
             "remaining_time": 9.32088164,
             "test": [
              65640.07623,
              0.1685904019
             ]
            },
            {
             "iteration": 454,
             "learn": [
              73285.046,
              0.1807749363
             ],
             "passed_time": 92.18017112,
             "remaining_time": 9.11672022,
             "test": [
              65641.50321,
              0.1685542526
             ]
            },
            {
             "iteration": 455,
             "learn": [
              73281.16377,
              0.1808617299
             ],
             "passed_time": 92.37245378,
             "remaining_time": 8.913131505,
             "test": [
              65641.13266,
              0.1685636399
             ]
            },
            {
             "iteration": 456,
             "learn": [
              73277.96042,
              0.1809333425
             ],
             "passed_time": 92.56965754,
             "remaining_time": 8.710055305,
             "test": [
              65641.33514,
              0.1685585103
             ]
            },
            {
             "iteration": 457,
             "learn": [
              73269.75524,
              0.1811167596
             ],
             "passed_time": 92.78878385,
             "remaining_time": 8.509015113,
             "test": [
              65642.40307,
              0.1685314563
             ]
            },
            {
             "iteration": 458,
             "learn": [
              73269.34768,
              0.1811258695
             ],
             "passed_time": 92.9972092,
             "remaining_time": 8.306940255,
             "test": [
              65642.84747,
              0.1685201982
             ]
            },
            {
             "iteration": 459,
             "learn": [
              73266.38996,
              0.1811919805
             ],
             "passed_time": 93.22585599,
             "remaining_time": 8.106596173,
             "test": [
              65642.83723,
              0.1685204578
             ]
            },
            {
             "iteration": 460,
             "learn": [
              73263.62168,
              0.1812538545
             ],
             "passed_time": 93.32827108,
             "remaining_time": 7.895450265,
             "test": [
              65642.84359,
              0.1685202967
             ]
            },
            {
             "iteration": 461,
             "learn": [
              73263.15247,
              0.1812643415
             ],
             "passed_time": 93.49805773,
             "remaining_time": 7.690316437,
             "test": [
              65642.7107,
              0.168523663
             ]
            },
            {
             "iteration": 462,
             "learn": [
              73261.98323,
              0.1812904746
             ],
             "passed_time": 93.73340484,
             "remaining_time": 7.490574469,
             "test": [
              65643.46913,
              0.1685044494
             ]
            },
            {
             "iteration": 463,
             "learn": [
              73245.39481,
              0.1816611868
             ],
             "passed_time": 94.00040673,
             "remaining_time": 7.293135005,
             "test": [
              65642.69849,
              0.1685239725
             ]
            },
            {
             "iteration": 464,
             "learn": [
              73238.72451,
              0.1818102289
             ],
             "passed_time": 94.29624017,
             "remaining_time": 7.097566464,
             "test": [
              65641.80821,
              0.1685465262
             ]
            },
            {
             "iteration": 465,
             "learn": [
              73238.45904,
              0.1818161603
             ],
             "passed_time": 94.51872213,
             "remaining_time": 6.896215778,
             "test": [
              65642.43714,
              0.1685305935
             ]
            },
            {
             "iteration": 466,
             "learn": [
              73224.74531,
              0.1821225376
             ],
             "passed_time": 94.7368627,
             "remaining_time": 6.694467814,
             "test": [
              65643.05216,
              0.1685150128
             ]
            },
            {
             "iteration": 467,
             "learn": [
              73222.29881,
              0.1821771886
             ],
             "passed_time": 94.9114472,
             "remaining_time": 6.489671604,
             "test": [
              65642.97142,
              0.1685170582
             ]
            },
            {
             "iteration": 468,
             "learn": [
              73214.94316,
              0.1823414914
             ],
             "passed_time": 95.11654655,
             "remaining_time": 6.287021201,
             "test": [
              65641.35969,
              0.1685578883
             ]
            },
            {
             "iteration": 469,
             "learn": [
              73212.21354,
              0.1824024587
             ],
             "passed_time": 95.32857056,
             "remaining_time": 6.084802376,
             "test": [
              65642.39533,
              0.1685316525
             ]
            },
            {
             "iteration": 470,
             "learn": [
              73211.16066,
              0.1824259745
             ],
             "passed_time": 95.53454613,
             "remaining_time": 5.882169507,
             "test": [
              65642.85927,
              0.1685198993
             ]
            },
            {
             "iteration": 471,
             "learn": [
              73209.63674,
              0.1824600104
             ],
             "passed_time": 95.78924572,
             "remaining_time": 5.682412882,
             "test": [
              65642.01381,
              0.1685413177
             ]
            },
            {
             "iteration": 472,
             "learn": [
              73208.94377,
              0.1824754873
             ],
             "passed_time": 95.97297283,
             "remaining_time": 5.478372656,
             "test": [
              65642.34234,
              0.1685329949
             ]
            },
            {
             "iteration": 473,
             "learn": [
              73203.88273,
              0.1825885168
             ],
             "passed_time": 96.22438726,
             "remaining_time": 5.278130947,
             "test": [
              65642.85534,
              0.1685199989
             ]
            },
            {
             "iteration": 474,
             "learn": [
              73195.95554,
              0.1827655409
             ],
             "passed_time": 96.44248335,
             "remaining_time": 5.075920176,
             "test": [
              65642.90683,
              0.1685186944
             ]
            },
            {
             "iteration": 475,
             "learn": [
              73194.26336,
              0.1828033269
             ],
             "passed_time": 96.68430502,
             "remaining_time": 4.874838909,
             "test": [
              65644.10847,
              0.1684882524
             ]
            },
            {
             "iteration": 476,
             "learn": [
              73193.25912,
              0.1828257509
             ],
             "passed_time": 96.85857879,
             "remaining_time": 4.670329795,
             "test": [
              65644.55831,
              0.1684768563
             ]
            },
            {
             "iteration": 477,
             "learn": [
              73189.01769,
              0.182920456
             ],
             "passed_time": 97.03735812,
             "remaining_time": 4.466154558,
             "test": [
              65644.7129,
              0.1684729399
             ]
            },
            {
             "iteration": 478,
             "learn": [
              73188.77621,
              0.1829258476
             ],
             "passed_time": 97.29823464,
             "remaining_time": 4.265684609,
             "test": [
              65644.76183,
              0.1684717002
             ]
            },
            {
             "iteration": 479,
             "learn": [
              73187.42508,
              0.1829560152
             ],
             "passed_time": 97.53071463,
             "remaining_time": 4.063779776,
             "test": [
              65644.93379,
              0.1684673437
             ]
            },
            {
             "iteration": 480,
             "learn": [
              73185.21933,
              0.1830052633
             ],
             "passed_time": 97.71316925,
             "remaining_time": 3.859771758,
             "test": [
              65646.84267,
              0.1684189831
             ]
            },
            {
             "iteration": 481,
             "learn": [
              73184.03851,
              0.183031627
             ],
             "passed_time": 97.88239568,
             "remaining_time": 3.655359175,
             "test": [
              65646.76181,
              0.1684210315
             ]
            },
            {
             "iteration": 482,
             "learn": [
              73183.39033,
              0.1830460984
             ],
             "passed_time": 98.12153358,
             "remaining_time": 3.453552942,
             "test": [
              65647.20924,
              0.1684096959
             ]
            },
            {
             "iteration": 483,
             "learn": [
              73182.9753,
              0.1830553645
             ],
             "passed_time": 98.29110223,
             "remaining_time": 3.249292636,
             "test": [
              65647.14586,
              0.1684113016
             ]
            },
            {
             "iteration": 484,
             "learn": [
              73182.3059,
              0.1830703096
             ],
             "passed_time": 98.48130725,
             "remaining_time": 3.045813626,
             "test": [
              65647.27372,
              0.1684080623
             ]
            },
            {
             "iteration": 485,
             "learn": [
              73177.20665,
              0.1831841506
             ],
             "passed_time": 98.66352194,
             "remaining_time": 2.842159068,
             "test": [
              65642.81989,
              0.1685208969
             ]
            },
            {
             "iteration": 486,
             "learn": [
              73176.33997,
              0.1832034986
             ],
             "passed_time": 98.83872006,
             "remaining_time": 2.638405258,
             "test": [
              65643.43276,
              0.1685053709
             ]
            },
            {
             "iteration": 487,
             "learn": [
              73174.4317,
              0.1832460984
             ],
             "passed_time": 99.1078471,
             "remaining_time": 2.437078207,
             "test": [
              65642.46979,
              0.1685297662
             ]
            },
            {
             "iteration": 488,
             "learn": [
              73174.19121,
              0.1832514671
             ],
             "passed_time": 99.32771286,
             "remaining_time": 2.234365729,
             "test": [
              65643.08811,
              0.1685141021
             ]
            },
            {
             "iteration": 489,
             "learn": [
              73174.07597,
              0.1832540396
             ],
             "passed_time": 99.49994512,
             "remaining_time": 2.030611125,
             "test": [
              65642.99252,
              0.1685165238
             ]
            },
            {
             "iteration": 490,
             "learn": [
              73171.82923,
              0.1833041935
             ],
             "passed_time": 99.72561055,
             "remaining_time": 1.827964348,
             "test": [
              65642.69231,
              0.1685241291
             ]
            },
            {
             "iteration": 491,
             "learn": [
              73168.87906,
              0.183370048
             ],
             "passed_time": 99.99966396,
             "remaining_time": 1.626010796,
             "test": [
              65644.64145,
              0.16847475
             ]
            },
            {
             "iteration": 492,
             "learn": [
              73167.87624,
              0.1833924325
             ],
             "passed_time": 100.2513645,
             "remaining_time": 1.423447366,
             "test": [
              65644.74128,
              0.1684722209
             ]
            },
            {
             "iteration": 493,
             "learn": [
              73166.65389,
              0.183419717
             ],
             "passed_time": 100.4685225,
             "remaining_time": 1.220265456,
             "test": [
              65644.58954,
              0.168476065
             ]
            },
            {
             "iteration": 494,
             "learn": [
              73165.69914,
              0.183441028
             ],
             "passed_time": 100.6750725,
             "remaining_time": 1.016919924,
             "test": [
              65644.8385,
              0.1684697578
             ]
            },
            {
             "iteration": 495,
             "learn": [
              73159.11621,
              0.1835879577
             ],
             "passed_time": 100.8578303,
             "remaining_time": 0.8133695991,
             "test": [
              65643.574,
              0.1685017926
             ]
            },
            {
             "iteration": 496,
             "learn": [
              73141.8333,
              0.183973646
             ],
             "passed_time": 101.1587448,
             "remaining_time": 0.6106161657,
             "test": [
              65643.91064,
              0.1684932644
             ]
            },
            {
             "iteration": 497,
             "learn": [
              73141.66454,
              0.1839774117
             ],
             "passed_time": 101.3965548,
             "remaining_time": 0.4072150794,
             "test": [
              65644.17747,
              0.1684865045
             ]
            },
            {
             "iteration": 498,
             "learn": [
              73141.52166,
              0.1839805999
             ],
             "passed_time": 101.6192449,
             "remaining_time": 0.2036457814,
             "test": [
              65644.43978,
              0.1684798591
             ]
            },
            {
             "iteration": 499,
             "learn": [
              73141.18753,
              0.1839880553
             ],
             "passed_time": 101.7787479,
             "remaining_time": 0,
             "test": [
              65644.41863,
              0.1684803949
             ]
            }
           ],
           "meta": {
            "iteration_count": 500,
            "launch_mode": "Train",
            "learn_metrics": [
             {
              "best_value": "Min",
              "name": "RMSE"
             },
             {
              "best_value": "Max",
              "name": "R2"
             }
            ],
            "learn_sets": [
             "learn"
            ],
            "name": "experiment",
            "parameters": "",
            "test_metrics": [
             {
              "best_value": "Min",
              "name": "RMSE"
             },
             {
              "best_value": "Max",
              "name": "R2"
             }
            ],
            "test_sets": [
             "test"
            ]
           }
          },
          "passed_iterations": 499,
          "total_iterations": 500
         },
         "name": "catboost_info",
         "path": "catboost_info"
        }
       },
       "layout": "IPY_MODEL_8b1e803b45de4cf38e8e2b9f8a21e7a6"
      }
     }
    },
    "version_major": 2,
    "version_minor": 0
   }
  }
 },
 "nbformat": 4,
 "nbformat_minor": 5
}
