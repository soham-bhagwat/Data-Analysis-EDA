{
 "cells": [
  {
   "cell_type": "code",
   "execution_count": 1,
   "id": "7b37d346",
   "metadata": {
    "_cell_guid": "b1076dfc-b9ad-4769-8c92-a6c4dae69d19",
    "_uuid": "8f2839f25d086af736a60e9eeb907d3b93b6e0e5",
    "execution": {
     "iopub.execute_input": "2024-09-01T21:29:38.610533Z",
     "iopub.status.busy": "2024-09-01T21:29:38.610023Z",
     "iopub.status.idle": "2024-09-01T21:29:40.930167Z",
     "shell.execute_reply": "2024-09-01T21:29:40.928879Z"
    },
    "papermill": {
     "duration": 2.330813,
     "end_time": "2024-09-01T21:29:40.932709",
     "exception": false,
     "start_time": "2024-09-01T21:29:38.601896",
     "status": "completed"
    },
    "tags": []
   },
   "outputs": [
    {
     "name": "stdout",
     "output_type": "stream",
     "text": [
      "/kaggle/input/playground-series-s4e9/sample_submission.csv\n",
      "/kaggle/input/playground-series-s4e9/train.csv\n",
      "/kaggle/input/playground-series-s4e9/test.csv\n"
     ]
    }
   ],
   "source": [
    "# This Python 3 environment comes with many helpful analytics libraries installed\n",
    "# It is defined by the kaggle/python Docker image: https://github.com/kaggle/docker-python\n",
    "# For example, here's several helpful packages to load\n",
    "\n",
    "import numpy as np # linear algebra\n",
    "import pandas as pd # data processing, CSV file I/O (e.g. pd.read_csv)\n",
    "import seaborn as sns\n",
    "import matplotlib.pyplot as plt\n",
    "\n",
    "# Input data files are available in the read-only \"../input/\" directory\n",
    "# For example, running this (by clicking run or pressing Shift+Enter) will list all files under the input directory\n",
    "\n",
    "import os\n",
    "for dirname, _, filenames in os.walk('/kaggle/input'):\n",
    "    for filename in filenames:\n",
    "        print(os.path.join(dirname, filename))\n",
    "\n",
    "# You can write up to 20GB to the current directory (/kaggle/working/) that gets preserved as output when you create a version using \"Save & Run All\" \n",
    "# You can also write temporary files to /kaggle/temp/, but they won't be saved outside of the current session"
   ]
  },
  {
   "cell_type": "code",
   "execution_count": 2,
   "id": "2746623d",
   "metadata": {
    "execution": {
     "iopub.execute_input": "2024-09-01T21:29:40.946453Z",
     "iopub.status.busy": "2024-09-01T21:29:40.945917Z",
     "iopub.status.idle": "2024-09-01T21:29:42.280384Z",
     "shell.execute_reply": "2024-09-01T21:29:42.279043Z"
    },
    "papermill": {
     "duration": 1.344026,
     "end_time": "2024-09-01T21:29:42.282838",
     "exception": false,
     "start_time": "2024-09-01T21:29:40.938812",
     "status": "completed"
    },
    "tags": []
   },
   "outputs": [
    {
     "data": {
      "text/html": [
       "<div>\n",
       "<style scoped>\n",
       "    .dataframe tbody tr th:only-of-type {\n",
       "        vertical-align: middle;\n",
       "    }\n",
       "\n",
       "    .dataframe tbody tr th {\n",
       "        vertical-align: top;\n",
       "    }\n",
       "\n",
       "    .dataframe thead th {\n",
       "        text-align: right;\n",
       "    }\n",
       "</style>\n",
       "<table border=\"1\" class=\"dataframe\">\n",
       "  <thead>\n",
       "    <tr style=\"text-align: right;\">\n",
       "      <th></th>\n",
       "      <th>id</th>\n",
       "      <th>brand</th>\n",
       "      <th>model</th>\n",
       "      <th>model_year</th>\n",
       "      <th>milage</th>\n",
       "      <th>fuel_type</th>\n",
       "      <th>engine</th>\n",
       "      <th>transmission</th>\n",
       "      <th>ext_col</th>\n",
       "      <th>int_col</th>\n",
       "      <th>accident</th>\n",
       "      <th>clean_title</th>\n",
       "      <th>price</th>\n",
       "    </tr>\n",
       "  </thead>\n",
       "  <tbody>\n",
       "    <tr>\n",
       "      <th>0</th>\n",
       "      <td>0</td>\n",
       "      <td>MINI</td>\n",
       "      <td>Cooper S Base</td>\n",
       "      <td>2007</td>\n",
       "      <td>213000</td>\n",
       "      <td>Gasoline</td>\n",
       "      <td>172.0HP 1.6L 4 Cylinder Engine Gasoline Fuel</td>\n",
       "      <td>A/T</td>\n",
       "      <td>Yellow</td>\n",
       "      <td>Gray</td>\n",
       "      <td>None reported</td>\n",
       "      <td>Yes</td>\n",
       "      <td>4200</td>\n",
       "    </tr>\n",
       "    <tr>\n",
       "      <th>1</th>\n",
       "      <td>1</td>\n",
       "      <td>Lincoln</td>\n",
       "      <td>LS V8</td>\n",
       "      <td>2002</td>\n",
       "      <td>143250</td>\n",
       "      <td>Gasoline</td>\n",
       "      <td>252.0HP 3.9L 8 Cylinder Engine Gasoline Fuel</td>\n",
       "      <td>A/T</td>\n",
       "      <td>Silver</td>\n",
       "      <td>Beige</td>\n",
       "      <td>At least 1 accident or damage reported</td>\n",
       "      <td>Yes</td>\n",
       "      <td>4999</td>\n",
       "    </tr>\n",
       "    <tr>\n",
       "      <th>2</th>\n",
       "      <td>2</td>\n",
       "      <td>Chevrolet</td>\n",
       "      <td>Silverado 2500 LT</td>\n",
       "      <td>2002</td>\n",
       "      <td>136731</td>\n",
       "      <td>E85 Flex Fuel</td>\n",
       "      <td>320.0HP 5.3L 8 Cylinder Engine Flex Fuel Capab...</td>\n",
       "      <td>A/T</td>\n",
       "      <td>Blue</td>\n",
       "      <td>Gray</td>\n",
       "      <td>None reported</td>\n",
       "      <td>Yes</td>\n",
       "      <td>13900</td>\n",
       "    </tr>\n",
       "    <tr>\n",
       "      <th>3</th>\n",
       "      <td>3</td>\n",
       "      <td>Genesis</td>\n",
       "      <td>G90 5.0 Ultimate</td>\n",
       "      <td>2017</td>\n",
       "      <td>19500</td>\n",
       "      <td>Gasoline</td>\n",
       "      <td>420.0HP 5.0L 8 Cylinder Engine Gasoline Fuel</td>\n",
       "      <td>Transmission w/Dual Shift Mode</td>\n",
       "      <td>Black</td>\n",
       "      <td>Black</td>\n",
       "      <td>None reported</td>\n",
       "      <td>Yes</td>\n",
       "      <td>45000</td>\n",
       "    </tr>\n",
       "    <tr>\n",
       "      <th>4</th>\n",
       "      <td>4</td>\n",
       "      <td>Mercedes-Benz</td>\n",
       "      <td>Metris Base</td>\n",
       "      <td>2021</td>\n",
       "      <td>7388</td>\n",
       "      <td>Gasoline</td>\n",
       "      <td>208.0HP 2.0L 4 Cylinder Engine Gasoline Fuel</td>\n",
       "      <td>7-Speed A/T</td>\n",
       "      <td>Black</td>\n",
       "      <td>Beige</td>\n",
       "      <td>None reported</td>\n",
       "      <td>Yes</td>\n",
       "      <td>97500</td>\n",
       "    </tr>\n",
       "  </tbody>\n",
       "</table>\n",
       "</div>"
      ],
      "text/plain": [
       "   id          brand              model  model_year  milage      fuel_type  \\\n",
       "0   0           MINI      Cooper S Base        2007  213000       Gasoline   \n",
       "1   1        Lincoln              LS V8        2002  143250       Gasoline   \n",
       "2   2      Chevrolet  Silverado 2500 LT        2002  136731  E85 Flex Fuel   \n",
       "3   3        Genesis   G90 5.0 Ultimate        2017   19500       Gasoline   \n",
       "4   4  Mercedes-Benz        Metris Base        2021    7388       Gasoline   \n",
       "\n",
       "                                              engine  \\\n",
       "0       172.0HP 1.6L 4 Cylinder Engine Gasoline Fuel   \n",
       "1       252.0HP 3.9L 8 Cylinder Engine Gasoline Fuel   \n",
       "2  320.0HP 5.3L 8 Cylinder Engine Flex Fuel Capab...   \n",
       "3       420.0HP 5.0L 8 Cylinder Engine Gasoline Fuel   \n",
       "4       208.0HP 2.0L 4 Cylinder Engine Gasoline Fuel   \n",
       "\n",
       "                     transmission ext_col int_col  \\\n",
       "0                             A/T  Yellow    Gray   \n",
       "1                             A/T  Silver   Beige   \n",
       "2                             A/T    Blue    Gray   \n",
       "3  Transmission w/Dual Shift Mode   Black   Black   \n",
       "4                     7-Speed A/T   Black   Beige   \n",
       "\n",
       "                                 accident clean_title  price  \n",
       "0                           None reported         Yes   4200  \n",
       "1  At least 1 accident or damage reported         Yes   4999  \n",
       "2                           None reported         Yes  13900  \n",
       "3                           None reported         Yes  45000  \n",
       "4                           None reported         Yes  97500  "
      ]
     },
     "execution_count": 2,
     "metadata": {},
     "output_type": "execute_result"
    }
   ],
   "source": [
    "df = pd.read_csv('/kaggle/input/playground-series-s4e9/train.csv')\n",
    "test_df = pd.read_csv('/kaggle/input/playground-series-s4e9/test.csv')\n",
    "df.head()"
   ]
  },
  {
   "cell_type": "code",
   "execution_count": 3,
   "id": "d45db892",
   "metadata": {
    "execution": {
     "iopub.execute_input": "2024-09-01T21:29:42.296914Z",
     "iopub.status.busy": "2024-09-01T21:29:42.296467Z",
     "iopub.status.idle": "2024-09-01T21:29:42.403035Z",
     "shell.execute_reply": "2024-09-01T21:29:42.401595Z"
    },
    "papermill": {
     "duration": 0.116881,
     "end_time": "2024-09-01T21:29:42.405905",
     "exception": false,
     "start_time": "2024-09-01T21:29:42.289024",
     "status": "completed"
    },
    "tags": []
   },
   "outputs": [
    {
     "name": "stdout",
     "output_type": "stream",
     "text": [
      "<class 'pandas.core.frame.DataFrame'>\n",
      "RangeIndex: 188533 entries, 0 to 188532\n",
      "Data columns (total 13 columns):\n",
      " #   Column        Non-Null Count   Dtype \n",
      "---  ------        --------------   ----- \n",
      " 0   id            188533 non-null  int64 \n",
      " 1   brand         188533 non-null  object\n",
      " 2   model         188533 non-null  object\n",
      " 3   model_year    188533 non-null  int64 \n",
      " 4   milage        188533 non-null  int64 \n",
      " 5   fuel_type     183450 non-null  object\n",
      " 6   engine        188533 non-null  object\n",
      " 7   transmission  188533 non-null  object\n",
      " 8   ext_col       188533 non-null  object\n",
      " 9   int_col       188533 non-null  object\n",
      " 10  accident      186081 non-null  object\n",
      " 11  clean_title   167114 non-null  object\n",
      " 12  price         188533 non-null  int64 \n",
      "dtypes: int64(4), object(9)\n",
      "memory usage: 18.7+ MB\n"
     ]
    }
   ],
   "source": [
    "df.info()"
   ]
  },
  {
   "cell_type": "code",
   "execution_count": null,
   "id": "ee05de33",
   "metadata": {
    "papermill": {
     "duration": 0.005802,
     "end_time": "2024-09-01T21:29:42.417953",
     "exception": false,
     "start_time": "2024-09-01T21:29:42.412151",
     "status": "completed"
    },
    "tags": []
   },
   "outputs": [],
   "source": []
  },
  {
   "cell_type": "code",
   "execution_count": 4,
   "id": "0cfed4ee",
   "metadata": {
    "execution": {
     "iopub.execute_input": "2024-09-01T21:29:42.432166Z",
     "iopub.status.busy": "2024-09-01T21:29:42.431590Z",
     "iopub.status.idle": "2024-09-01T21:29:42.482885Z",
     "shell.execute_reply": "2024-09-01T21:29:42.481755Z"
    },
    "papermill": {
     "duration": 0.061161,
     "end_time": "2024-09-01T21:29:42.485353",
     "exception": false,
     "start_time": "2024-09-01T21:29:42.424192",
     "status": "completed"
    },
    "tags": []
   },
   "outputs": [
    {
     "data": {
      "text/html": [
       "<div>\n",
       "<style scoped>\n",
       "    .dataframe tbody tr th:only-of-type {\n",
       "        vertical-align: middle;\n",
       "    }\n",
       "\n",
       "    .dataframe tbody tr th {\n",
       "        vertical-align: top;\n",
       "    }\n",
       "\n",
       "    .dataframe thead th {\n",
       "        text-align: right;\n",
       "    }\n",
       "</style>\n",
       "<table border=\"1\" class=\"dataframe\">\n",
       "  <thead>\n",
       "    <tr style=\"text-align: right;\">\n",
       "      <th></th>\n",
       "      <th>id</th>\n",
       "      <th>model_year</th>\n",
       "      <th>milage</th>\n",
       "      <th>price</th>\n",
       "    </tr>\n",
       "  </thead>\n",
       "  <tbody>\n",
       "    <tr>\n",
       "      <th>count</th>\n",
       "      <td>188533.000000</td>\n",
       "      <td>188533.000000</td>\n",
       "      <td>188533.000000</td>\n",
       "      <td>1.885330e+05</td>\n",
       "    </tr>\n",
       "    <tr>\n",
       "      <th>mean</th>\n",
       "      <td>94266.000000</td>\n",
       "      <td>2015.829998</td>\n",
       "      <td>65705.295174</td>\n",
       "      <td>4.387802e+04</td>\n",
       "    </tr>\n",
       "    <tr>\n",
       "      <th>std</th>\n",
       "      <td>54424.933488</td>\n",
       "      <td>5.660967</td>\n",
       "      <td>49798.158076</td>\n",
       "      <td>7.881952e+04</td>\n",
       "    </tr>\n",
       "    <tr>\n",
       "      <th>min</th>\n",
       "      <td>0.000000</td>\n",
       "      <td>1974.000000</td>\n",
       "      <td>100.000000</td>\n",
       "      <td>2.000000e+03</td>\n",
       "    </tr>\n",
       "    <tr>\n",
       "      <th>25%</th>\n",
       "      <td>47133.000000</td>\n",
       "      <td>2013.000000</td>\n",
       "      <td>24115.000000</td>\n",
       "      <td>1.700000e+04</td>\n",
       "    </tr>\n",
       "    <tr>\n",
       "      <th>50%</th>\n",
       "      <td>94266.000000</td>\n",
       "      <td>2017.000000</td>\n",
       "      <td>57785.000000</td>\n",
       "      <td>3.082500e+04</td>\n",
       "    </tr>\n",
       "    <tr>\n",
       "      <th>75%</th>\n",
       "      <td>141399.000000</td>\n",
       "      <td>2020.000000</td>\n",
       "      <td>95400.000000</td>\n",
       "      <td>4.990000e+04</td>\n",
       "    </tr>\n",
       "    <tr>\n",
       "      <th>max</th>\n",
       "      <td>188532.000000</td>\n",
       "      <td>2024.000000</td>\n",
       "      <td>405000.000000</td>\n",
       "      <td>2.954083e+06</td>\n",
       "    </tr>\n",
       "  </tbody>\n",
       "</table>\n",
       "</div>"
      ],
      "text/plain": [
       "                  id     model_year         milage         price\n",
       "count  188533.000000  188533.000000  188533.000000  1.885330e+05\n",
       "mean    94266.000000    2015.829998   65705.295174  4.387802e+04\n",
       "std     54424.933488       5.660967   49798.158076  7.881952e+04\n",
       "min         0.000000    1974.000000     100.000000  2.000000e+03\n",
       "25%     47133.000000    2013.000000   24115.000000  1.700000e+04\n",
       "50%     94266.000000    2017.000000   57785.000000  3.082500e+04\n",
       "75%    141399.000000    2020.000000   95400.000000  4.990000e+04\n",
       "max    188532.000000    2024.000000  405000.000000  2.954083e+06"
      ]
     },
     "execution_count": 4,
     "metadata": {},
     "output_type": "execute_result"
    }
   ],
   "source": [
    "df.describe()"
   ]
  },
  {
   "cell_type": "code",
   "execution_count": 5,
   "id": "400d3992",
   "metadata": {
    "execution": {
     "iopub.execute_input": "2024-09-01T21:29:42.500202Z",
     "iopub.status.busy": "2024-09-01T21:29:42.499631Z",
     "iopub.status.idle": "2024-09-01T21:29:42.505322Z",
     "shell.execute_reply": "2024-09-01T21:29:42.504014Z"
    },
    "papermill": {
     "duration": 0.016445,
     "end_time": "2024-09-01T21:29:42.508287",
     "exception": false,
     "start_time": "2024-09-01T21:29:42.491842",
     "status": "completed"
    },
    "tags": []
   },
   "outputs": [],
   "source": [
    "def get_missing_val(df):\n",
    "    for cols in df.columns:\n",
    "        print(cols, ' : ', df[cols].isna().sum())"
   ]
  },
  {
   "cell_type": "code",
   "execution_count": 6,
   "id": "cabb9b5e",
   "metadata": {
    "execution": {
     "iopub.execute_input": "2024-09-01T21:29:42.523422Z",
     "iopub.status.busy": "2024-09-01T21:29:42.523038Z",
     "iopub.status.idle": "2024-09-01T21:29:42.529286Z",
     "shell.execute_reply": "2024-09-01T21:29:42.527870Z"
    },
    "papermill": {
     "duration": 0.016643,
     "end_time": "2024-09-01T21:29:42.531746",
     "exception": false,
     "start_time": "2024-09-01T21:29:42.515103",
     "status": "completed"
    },
    "tags": []
   },
   "outputs": [],
   "source": [
    "def get_unique_vals(df):\n",
    "    print('Printing unique values')\n",
    "    for cols in df.columns:\n",
    "        print(cols, ':', df[cols].nunique())"
   ]
  },
  {
   "cell_type": "code",
   "execution_count": 7,
   "id": "1968540a",
   "metadata": {
    "execution": {
     "iopub.execute_input": "2024-09-01T21:29:42.546347Z",
     "iopub.status.busy": "2024-09-01T21:29:42.545899Z",
     "iopub.status.idle": "2024-09-01T21:29:42.674674Z",
     "shell.execute_reply": "2024-09-01T21:29:42.673533Z"
    },
    "papermill": {
     "duration": 0.139032,
     "end_time": "2024-09-01T21:29:42.677248",
     "exception": false,
     "start_time": "2024-09-01T21:29:42.538216",
     "status": "completed"
    },
    "tags": []
   },
   "outputs": [
    {
     "name": "stdout",
     "output_type": "stream",
     "text": [
      "Printing unique values\n",
      "id : 188533\n",
      "brand : 57\n",
      "model : 1897\n",
      "model_year : 34\n",
      "milage : 6651\n",
      "fuel_type : 7\n",
      "engine : 1117\n",
      "transmission : 52\n",
      "ext_col : 319\n",
      "int_col : 156\n",
      "accident : 2\n",
      "clean_title : 1\n",
      "price : 1569\n"
     ]
    }
   ],
   "source": [
    "get_unique_vals(df)"
   ]
  },
  {
   "cell_type": "code",
   "execution_count": 8,
   "id": "e9b38119",
   "metadata": {
    "execution": {
     "iopub.execute_input": "2024-09-01T21:29:42.692610Z",
     "iopub.status.busy": "2024-09-01T21:29:42.691649Z",
     "iopub.status.idle": "2024-09-01T21:29:42.780387Z",
     "shell.execute_reply": "2024-09-01T21:29:42.778985Z"
    },
    "papermill": {
     "duration": 0.099281,
     "end_time": "2024-09-01T21:29:42.783072",
     "exception": false,
     "start_time": "2024-09-01T21:29:42.683791",
     "status": "completed"
    },
    "tags": []
   },
   "outputs": [
    {
     "name": "stdout",
     "output_type": "stream",
     "text": [
      "id  :  0\n",
      "brand  :  0\n",
      "model  :  0\n",
      "model_year  :  0\n",
      "milage  :  0\n",
      "fuel_type  :  5083\n",
      "engine  :  0\n",
      "transmission  :  0\n",
      "ext_col  :  0\n",
      "int_col  :  0\n",
      "accident  :  2452\n",
      "clean_title  :  21419\n",
      "price  :  0\n"
     ]
    }
   ],
   "source": [
    "get_missing_val(df)"
   ]
  },
  {
   "cell_type": "markdown",
   "id": "d2bb57bc",
   "metadata": {
    "papermill": {
     "duration": 0.006881,
     "end_time": "2024-09-01T21:29:42.796655",
     "exception": false,
     "start_time": "2024-09-01T21:29:42.789774",
     "status": "completed"
    },
    "tags": []
   },
   "source": [
    "#### EDA"
   ]
  },
  {
   "cell_type": "code",
   "execution_count": 9,
   "id": "0bf23002",
   "metadata": {
    "execution": {
     "iopub.execute_input": "2024-09-01T21:29:42.811903Z",
     "iopub.status.busy": "2024-09-01T21:29:42.811488Z",
     "iopub.status.idle": "2024-09-01T21:29:43.077920Z",
     "shell.execute_reply": "2024-09-01T21:29:43.076798Z"
    },
    "papermill": {
     "duration": 0.276806,
     "end_time": "2024-09-01T21:29:43.080271",
     "exception": false,
     "start_time": "2024-09-01T21:29:42.803465",
     "status": "completed"
    },
    "tags": []
   },
   "outputs": [
    {
     "name": "stdout",
     "output_type": "stream",
     "text": [
      "188212\n"
     ]
    },
    {
     "data": {
      "image/png": "[encoded data removed]",
      "text/plain": [
       "<Figure size 640x480 with 1 Axes>"
      ]
     },
     "metadata": {},
     "output_type": "display_data"
    }
   ],
   "source": [
    "#Distribution of Target Variable\n",
    "filtered_df = df[df['price'] < 400000]\n",
    "filtered_df = df[df['milage'] < 250000]\n",
    "\n",
    "print(filtered_df.shape[0])\n",
    "# Create the boxplot\n",
    "sns.boxplot(data=filtered_df['price'], orient='h')\n",
    "\n",
    "#Show the plot\n",
    "plt.show()"
   ]
  },
  {
   "cell_type": "code",
   "execution_count": 10,
   "id": "f9e589dd",
   "metadata": {
    "execution": {
     "iopub.execute_input": "2024-09-01T21:29:43.095872Z",
     "iopub.status.busy": "2024-09-01T21:29:43.095430Z",
     "iopub.status.idle": "2024-09-01T21:29:43.621308Z",
     "shell.execute_reply": "2024-09-01T21:29:43.620113Z"
    },
    "papermill": {
     "duration": 0.536662,
     "end_time": "2024-09-01T21:29:43.623898",
     "exception": false,
     "start_time": "2024-09-01T21:29:43.087236",
     "status": "completed"
    },
    "tags": []
   },
   "outputs": [
    {
     "name": "stderr",
     "output_type": "stream",
     "text": [
      "/opt/conda/lib/python3.10/site-packages/seaborn/_oldcore.py:1119: FutureWarning: use_inf_as_na option is deprecated and will be removed in a future version. Convert inf values to NaN before operating instead.\n",
      "  with pd.option_context('mode.use_inf_as_na', True):\n"
     ]
    },
    {
     "data": {
      "image/png": "[encoded data removed]",
      "text/plain": [
       "<Figure size 640x480 with 1 Axes>"
      ]
     },
     "metadata": {},
     "output_type": "display_data"
    }
   ],
   "source": [
    "sns.histplot(df, x = 'milage')\n",
    "plt.show()"
   ]
  },
  {
   "cell_type": "code",
   "execution_count": 11,
   "id": "457eb13e",
   "metadata": {
    "execution": {
     "iopub.execute_input": "2024-09-01T21:29:43.641553Z",
     "iopub.status.busy": "2024-09-01T21:29:43.641128Z",
     "iopub.status.idle": "2024-09-01T21:29:44.639861Z",
     "shell.execute_reply": "2024-09-01T21:29:44.638555Z"
    },
    "papermill": {
     "duration": 1.010812,
     "end_time": "2024-09-01T21:29:44.642961",
     "exception": false,
     "start_time": "2024-09-01T21:29:43.632149",
     "status": "completed"
    },
    "tags": []
   },
   "outputs": [
    {
     "data": {
      "text/plain": [
       "<Axes: xlabel='price', ylabel='milage'>"
      ]
     },
     "execution_count": 11,
     "metadata": {},
     "output_type": "execute_result"
    },
    {
     "data": {
      "image/png": "[encoded data removed]",
      "text/plain": [
       "<Figure size 640x480 with 1 Axes>"
      ]
     },
     "metadata": {},
     "output_type": "display_data"
    }
   ],
   "source": [
    "#milage vs price\n",
    "sns.scatterplot(data = filtered_df, x = 'price', y = 'milage')"
   ]
  },
  {
   "cell_type": "code",
   "execution_count": 12,
   "id": "115dc1ad",
   "metadata": {
    "execution": {
     "iopub.execute_input": "2024-09-01T21:29:44.661633Z",
     "iopub.status.busy": "2024-09-01T21:29:44.661242Z",
     "iopub.status.idle": "2024-09-01T21:29:45.284923Z",
     "shell.execute_reply": "2024-09-01T21:29:45.283505Z"
    },
    "papermill": {
     "duration": 0.636074,
     "end_time": "2024-09-01T21:29:45.287666",
     "exception": false,
     "start_time": "2024-09-01T21:29:44.651592",
     "status": "completed"
    },
    "tags": []
   },
   "outputs": [
    {
     "name": "stderr",
     "output_type": "stream",
     "text": [
      "/opt/conda/lib/python3.10/site-packages/seaborn/_oldcore.py:1119: FutureWarning: use_inf_as_na option is deprecated and will be removed in a future version. Convert inf values to NaN before operating instead.\n",
      "  with pd.option_context('mode.use_inf_as_na', True):\n"
     ]
    },
    {
     "data": {
      "text/plain": [
       "<Figure size 1200x600 with 0 Axes>"
      ]
     },
     "metadata": {},
     "output_type": "display_data"
    },
    {
     "data": {
      "image/png": "[encoded data removed]",
      "text/plain": [
       "<Figure size 720x600 with 1 Axes>"
      ]
     },
     "metadata": {},
     "output_type": "display_data"
    }
   ],
   "source": [
    "#accidents\n",
    "plt.figure(figsize=(12, 6)) \n",
    "sns.displot(data = df, x = 'accident', height=6, aspect=1.2)\n",
    "plt.xlabel('Accidents')\n",
    "plt.ylabel('Counts')\n",
    "plt.title('Accident distribution plot')\n",
    "plt.show()"
   ]
  },
  {
   "cell_type": "code",
   "execution_count": 13,
   "id": "3a391c42",
   "metadata": {
    "execution": {
     "iopub.execute_input": "2024-09-01T21:29:45.309650Z",
     "iopub.status.busy": "2024-09-01T21:29:45.308338Z",
     "iopub.status.idle": "2024-09-01T21:29:45.315909Z",
     "shell.execute_reply": "2024-09-01T21:29:45.314824Z"
    },
    "papermill": {
     "duration": 0.021071,
     "end_time": "2024-09-01T21:29:45.318460",
     "exception": false,
     "start_time": "2024-09-01T21:29:45.297389",
     "status": "completed"
    },
    "tags": []
   },
   "outputs": [
    {
     "data": {
      "text/plain": [
       "Index(['id', 'brand', 'model', 'model_year', 'milage', 'fuel_type', 'engine',\n",
       "       'transmission', 'ext_col', 'int_col', 'accident', 'clean_title',\n",
       "       'price'],\n",
       "      dtype='object')"
      ]
     },
     "execution_count": 13,
     "metadata": {},
     "output_type": "execute_result"
    }
   ],
   "source": [
    "df.columns"
   ]
  },
  {
   "cell_type": "code",
   "execution_count": 14,
   "id": "ec417873",
   "metadata": {
    "execution": {
     "iopub.execute_input": "2024-09-01T21:29:45.339731Z",
     "iopub.status.busy": "2024-09-01T21:29:45.339260Z",
     "iopub.status.idle": "2024-09-01T21:29:45.345118Z",
     "shell.execute_reply": "2024-09-01T21:29:45.343807Z"
    },
    "papermill": {
     "duration": 0.019848,
     "end_time": "2024-09-01T21:29:45.348109",
     "exception": false,
     "start_time": "2024-09-01T21:29:45.328261",
     "status": "completed"
    },
    "tags": []
   },
   "outputs": [],
   "source": [
    "categorical_features_names = ['brand','model','fuel_type','engine','transmission','ext_col', 'int_col', 'accident','clean_title']"
   ]
  },
  {
   "cell_type": "code",
   "execution_count": 15,
   "id": "c417c39e",
   "metadata": {
    "execution": {
     "iopub.execute_input": "2024-09-01T21:29:45.368379Z",
     "iopub.status.busy": "2024-09-01T21:29:45.367979Z",
     "iopub.status.idle": "2024-09-01T21:29:45.529973Z",
     "shell.execute_reply": "2024-09-01T21:29:45.528814Z"
    },
    "papermill": {
     "duration": 0.174804,
     "end_time": "2024-09-01T21:29:45.532394",
     "exception": false,
     "start_time": "2024-09-01T21:29:45.357590",
     "status": "completed"
    },
    "tags": []
   },
   "outputs": [
    {
     "data": {
      "text/plain": [
       "brand             57\n",
       "model           1897\n",
       "fuel_type          7\n",
       "engine          1117\n",
       "transmission      52\n",
       "ext_col          319\n",
       "int_col          156\n",
       "accident           2\n",
       "clean_title        1\n",
       "dtype: int64"
      ]
     },
     "execution_count": 15,
     "metadata": {},
     "output_type": "execute_result"
    }
   ],
   "source": [
    "df[categorical_features_names].nunique()"
   ]
  },
  {
   "cell_type": "code",
   "execution_count": 16,
   "id": "157d8ae1",
   "metadata": {
    "execution": {
     "iopub.execute_input": "2024-09-01T21:29:45.553766Z",
     "iopub.status.busy": "2024-09-01T21:29:45.553338Z",
     "iopub.status.idle": "2024-09-01T21:29:45.770484Z",
     "shell.execute_reply": "2024-09-01T21:29:45.768810Z"
    },
    "papermill": {
     "duration": 0.230879,
     "end_time": "2024-09-01T21:29:45.773481",
     "exception": false,
     "start_time": "2024-09-01T21:29:45.542602",
     "status": "completed"
    },
    "tags": []
   },
   "outputs": [],
   "source": [
    "df[categorical_features_names] = df[categorical_features_names].fillna('missing')"
   ]
  },
  {
   "cell_type": "code",
   "execution_count": 17,
   "id": "dd792488",
   "metadata": {
    "execution": {
     "iopub.execute_input": "2024-09-01T21:29:45.794521Z",
     "iopub.status.busy": "2024-09-01T21:29:45.794098Z",
     "iopub.status.idle": "2024-09-01T21:29:45.838349Z",
     "shell.execute_reply": "2024-09-01T21:29:45.836873Z"
    },
    "papermill": {
     "duration": 0.057941,
     "end_time": "2024-09-01T21:29:45.841287",
     "exception": false,
     "start_time": "2024-09-01T21:29:45.783346",
     "status": "completed"
    },
    "tags": []
   },
   "outputs": [],
   "source": [
    "df = df.drop(['id'],axis = 1)"
   ]
  },
  {
   "cell_type": "code",
   "execution_count": 18,
   "id": "7702785f",
   "metadata": {
    "execution": {
     "iopub.execute_input": "2024-09-01T21:29:45.863147Z",
     "iopub.status.busy": "2024-09-01T21:29:45.861677Z",
     "iopub.status.idle": "2024-09-01T21:29:47.068104Z",
     "shell.execute_reply": "2024-09-01T21:29:47.066679Z"
    },
    "papermill": {
     "duration": 1.220389,
     "end_time": "2024-09-01T21:29:47.071035",
     "exception": false,
     "start_time": "2024-09-01T21:29:45.850646",
     "status": "completed"
    },
    "tags": []
   },
   "outputs": [],
   "source": [
    "from catboost import CatBoost, CatBoostRegressor, Pool \n",
    "df_ = df.sample(frac=1., random_state=0)\n",
    "df_train = df_.iloc[: 2 * len(df) // 3]\n",
    "df_test = df_.iloc[2 * len(df) // 3 :]\n",
    "train_pool = Pool(df_train.drop(['price'], axis = 1), \n",
    "                  label=df_train.price,\n",
    "                  cat_features=categorical_features_names)\n",
    "test_pool = Pool(df_test.drop(['price'],axis = 1),\n",
    "                 label=df_test.price,\n",
    "                 cat_features=categorical_features_names)"
   ]
  },
  {
   "cell_type": "code",
   "execution_count": 19,
   "id": "516458f5",
   "metadata": {
    "execution": {
     "iopub.execute_input": "2024-09-01T21:29:47.091959Z",
     "iopub.status.busy": "2024-09-01T21:29:47.091425Z",
     "iopub.status.idle": "2024-09-01T21:30:56.167338Z",
     "shell.execute_reply": "2024-09-01T21:30:56.165898Z"
    },
    "papermill": {
     "duration": 69.089506,
     "end_time": "2024-09-01T21:30:56.170035",
     "exception": false,
     "start_time": "2024-09-01T21:29:47.080529",
     "status": "completed"
    },
    "tags": []
   },
   "outputs": [
    {
     "data": {
      "application/vnd.jupyter.widget-view+json": {
       "model_id": "50b3c0589c5940d2aaa787d643fdcfec",
       "version_major": 2,
       "version_minor": 0
      },
      "text/plain": [
       "MetricVisualizer(layout=Layout(align_self='stretch', height='500px'))"
      ]
     },
     "metadata": {},
     "output_type": "display_data"
    },
    {
     "name": "stdout",
     "output_type": "stream",
     "text": [
      "0:\tlearn: 76909.0383512\ttest: 80094.7700946\tbest: 80094.7700946 (0)\ttotal: 228ms\tremaining: 1m 53s\n",
      "499:\tlearn: 68703.8085623\ttest: 75480.5478946\tbest: 75354.4031132 (111)\ttotal: 1m 8s\tremaining: 0us\n",
      "\n",
      "bestTest = 75354.40311\n",
      "bestIteration = 111\n",
      "\n",
      "Shrink model to first 112 iterations.\n"
     ]
    },
    {
     "data": {
      "text/plain": [
       "<catboost.core.CatBoostRegressor at 0x79ba5af32470>"
      ]
     },
     "execution_count": 19,
     "metadata": {},
     "output_type": "execute_result"
    }
   ],
   "source": [
    "model = CatBoostRegressor(custom_metric= ['R2', 'RMSE'], learning_rate=0.1, n_estimators=500)\n",
    "model.fit(train_pool, eval_set=test_pool, verbose=2000, plot=True)"
   ]
  },
  {
   "cell_type": "code",
   "execution_count": 20,
   "id": "89ccb8bc",
   "metadata": {
    "execution": {
     "iopub.execute_input": "2024-09-01T21:30:56.192157Z",
     "iopub.status.busy": "2024-09-01T21:30:56.191721Z",
     "iopub.status.idle": "2024-09-01T21:30:56.199449Z",
     "shell.execute_reply": "2024-09-01T21:30:56.198160Z"
    },
    "papermill": {
     "duration": 0.021254,
     "end_time": "2024-09-01T21:30:56.201877",
     "exception": false,
     "start_time": "2024-09-01T21:30:56.180623",
     "status": "completed"
    },
    "tags": []
   },
   "outputs": [
    {
     "data": {
      "text/plain": [
       "{'learn': {'R2': 0.21935517315130137, 'RMSE': 68703.80856227556},\n",
       " 'validation': {'R2': 0.1323343923621073, 'RMSE': 75354.40311322194}}"
      ]
     },
     "execution_count": 20,
     "metadata": {},
     "output_type": "execute_result"
    }
   ],
   "source": [
    "model.get_best_score()"
   ]
  },
  {
   "cell_type": "code",
   "execution_count": 21,
   "id": "54819e57",
   "metadata": {
    "execution": {
     "iopub.execute_input": "2024-09-01T21:30:56.224549Z",
     "iopub.status.busy": "2024-09-01T21:30:56.224123Z",
     "iopub.status.idle": "2024-09-01T21:30:56.298327Z",
     "shell.execute_reply": "2024-09-01T21:30:56.296857Z"
    },
    "papermill": {
     "duration": 0.088416,
     "end_time": "2024-09-01T21:30:56.300864",
     "exception": false,
     "start_time": "2024-09-01T21:30:56.212448",
     "status": "completed"
    },
    "tags": []
   },
   "outputs": [
    {
     "name": "stdout",
     "output_type": "stream",
     "text": [
      "Test RMSE: 75354.40311322192\n",
      "Test R2: 0.13233439236210887\n"
     ]
    }
   ],
   "source": [
    "from sklearn.metrics import mean_squared_error, r2_score\n",
    "\n",
    "test_predictions = model.predict(test_pool)\n",
    "test_rmse = np.sqrt(mean_squared_error(df_test.price, test_predictions))\n",
    "test_r2 = r2_score(df_test.price, test_predictions)\n",
    "\n",
    "print(f'Test RMSE: {test_rmse}')\n",
    "print(f'Test R2: {test_r2}')"
   ]
  }
 ],
 "metadata": {
  "kaggle": {
   "accelerator": "none",
   "dataSources": [
    {
     "databundleVersionId": 9057646,
     "sourceId": 76728,
     "sourceType": "competition"
    }
   ],
   "dockerImageVersionId": 30761,
   "isGpuEnabled": false,
   "isInternetEnabled": true,
   "language": "python",
   "sourceType": "notebook"
  },
  "kernelspec": {
   "display_name": "Python 3",
   "language": "python",
   "name": "python3"
  },
  "language_info": {
   "codemirror_mode": {
    "name": "ipython",
    "version": 3
   },
   "file_extension": ".py",
   "mimetype": "text/x-python",
   "name": "python",
   "nbconvert_exporter": "python",
   "pygments_lexer": "ipython3",
   "version": "3.10.14"
  },
  "papermill": {
   "default_parameters": {},
   "duration": 81.323393,
   "end_time": "2024-09-01T21:30:57.038505",
   "environment_variables": {},
   "exception": null,
   "input_path": "__notebook__.ipynb",
   "output_path": "__notebook__.ipynb",
   "parameters": {},
   "start_time": "2024-09-01T21:29:35.715112",
   "version": "2.6.0"
  },
  "widgets": {
   "application/vnd.jupyter.widget-state+json": {
    "state": {
     "1baf3dfca6844fd3a3b9b592dc6c6678": {
      "model_module": "@jupyter-widgets/base",
      "model_module_version": "1.2.0",
      "model_name": "LayoutModel",
      "state": {
       "_model_module": "@jupyter-widgets/base",
       "_model_module_version": "1.2.0",
       "_model_name": "LayoutModel",
       "_view_count": null,
       "_view_module": "@jupyter-widgets/base",
       "_view_module_version": "1.2.0",
       "_view_name": "LayoutView",
       "align_content": null,
       "align_items": null,
       "align_self": "stretch",
       "border": null,
       "bottom": null,
       "display": null,
       "flex": null,
       "flex_flow": null,
       "grid_area": null,
       "grid_auto_columns": null,
       "grid_auto_flow": null,
       "grid_auto_rows": null,
       "grid_column": null,
       "grid_gap": null,
       "grid_row": null,
       "grid_template_areas": null,
       "grid_template_columns": null,
       "grid_template_rows": null,
       "height": "500px",
       "justify_content": null,
       "justify_items": null,
       "left": null,
       "margin": null,
       "max_height": null,
       "max_width": null,
       "min_height": null,
       "min_width": null,
       "object_fit": null,
       "object_position": null,
       "order": null,
       "overflow": null,
       "overflow_x": null,
       "overflow_y": null,
       "padding": null,
       "right": null,
       "top": null,
       "visibility": null,
       "width": null
      }
     },
     "50b3c0589c5940d2aaa787d643fdcfec": {
      "model_module": "catboost-widget",
      "model_module_version": "^1.0.0",
      "model_name": "CatboostWidgetModel",
      "state": {
       "_dom_classes": [],
       "_model_module": "catboost-widget",
       "_model_module_version": "^1.0.0",
       "_model_name": "CatboostWidgetModel",
       "_view_count": null,
       "_view_module": "catboost-widget",
       "_view_module_version": "^1.0.0",
       "_view_name": "CatboostWidgetView",
       "data": {
        "catboost_info": {
         "content": {
          "data": {
           "iterations": [
            {
             "iteration": 0,
             "learn": [
              76909.03835,
              0.02175728358
             ],
             "passed_time": 0.2277663736,
             "remaining_time": 113.6554204,
             "test": [
              80094.77009,
              0.01973514283
             ]
            },
            {
             "iteration": 1,
             "learn": [
              76201.01862,
              0.03968565897
             ],
             "passed_time": 0.4058210114,
             "remaining_time": 101.0494318,
             "test": [
              79418.94816,
              0.0362078673
             ]
            },
            {
             "iteration": 2,
             "learn": [
              75613.21589,
              0.05444394624
             ],
             "passed_time": 0.5603002222,
             "remaining_time": 92.82307014,
             "test": [
              78875.33168,
              0.04935687431
             ]
            },
            {
             "iteration": 3,
             "learn": [
              75107.27298,
              0.06705541499
             ],
             "passed_time": 0.7000173495,
             "remaining_time": 86.80215133,
             "test": [
              78403.16498,
              0.06070436446
             ]
            },
            {
             "iteration": 4,
             "learn": [
              74657.55121,
              0.07819439927
             ],
             "passed_time": 0.8274034295,
             "remaining_time": 81.91293953,
             "test": [
              77974.87717,
              0.07093839256
             ]
            },
            {
             "iteration": 5,
             "learn": [
              74250.55807,
              0.08821738929
             ],
             "passed_time": 0.9656127793,
             "remaining_time": 79.50211883,
             "test": [
              77593.9382,
              0.07999390548
             ]
            },
            {
             "iteration": 6,
             "learn": [
              73893.81584,
              0.0969577942
             ],
             "passed_time": 1.077684227,
             "remaining_time": 75.89976054,
             "test": [
              77257.12509,
              0.08796353809
             ]
            },
            {
             "iteration": 7,
             "learn": [
              73602.022,
              0.1040756263
             ],
             "passed_time": 1.147556955,
             "remaining_time": 70.57475273,
             "test": [
              76990.54503,
              0.09424674524
             ]
            },
            {
             "iteration": 8,
             "learn": [
              73374.5835,
              0.1096040849
             ],
             "passed_time": 1.261042791,
             "remaining_time": 68.79689004,
             "test": [
              76767.29314,
              0.09949201154
             ]
            },
            {
             "iteration": 9,
             "learn": [
              73141.97086,
              0.1152406155
             ],
             "passed_time": 1.405620415,
             "remaining_time": 68.87540032,
             "test": [
              76570.06034,
              0.1041132908
             ]
            },
            {
             "iteration": 10,
             "learn": [
              72973.1076,
              0.1193211969
             ],
             "passed_time": 1.51393452,
             "remaining_time": 67.30127091,
             "test": [
              76415.5085,
              0.1077262225
             ]
            },
            {
             "iteration": 11,
             "learn": [
              72822.81583,
              0.1229450655
             ],
             "passed_time": 1.616761209,
             "remaining_time": 65.74828916,
             "test": [
              76283.61025,
              0.1108038118
             ]
            },
            {
             "iteration": 12,
             "learn": [
              72689.56481,
              0.1261517952
             ],
             "passed_time": 1.736444868,
             "remaining_time": 65.04989622,
             "test": [
              76151.76019,
              0.1138749631
             ]
            },
            {
             "iteration": 13,
             "learn": [
              72587.03214,
              0.1286152796
             ],
             "passed_time": 1.845406793,
             "remaining_time": 64.06197867,
             "test": [
              76062.09204,
              0.1159605462
             ]
            },
            {
             "iteration": 14,
             "learn": [
              72484.67506,
              0.1310710766
             ],
             "passed_time": 2.01019544,
             "remaining_time": 64.99631921,
             "test": [
              75974.48601,
              0.1179957936
             ]
            },
            {
             "iteration": 15,
             "learn": [
              72404.59826,
              0.132989899
             ],
             "passed_time": 2.137710858,
             "remaining_time": 64.66575345,
             "test": [
              75901.77766,
              0.1196831598
             ]
            },
            {
             "iteration": 16,
             "learn": [
              72316.84303,
              0.1350902785
             ],
             "passed_time": 2.295963414,
             "remaining_time": 65.2323723,
             "test": [
              75839.92827,
              0.1211172468
             ]
            },
            {
             "iteration": 17,
             "learn": [
              72250.85888,
              0.1366678998
             ],
             "passed_time": 2.428235189,
             "remaining_time": 65.02274229,
             "test": [
              75790.41228,
              0.1222645195
             ]
            },
            {
             "iteration": 18,
             "learn": [
              72189.69157,
              0.1381290684
             ],
             "passed_time": 2.571899461,
             "remaining_time": 65.10966531,
             "test": [
              75749.01528,
              0.1232231023
             ]
            },
            {
             "iteration": 19,
             "learn": [
              72153.65792,
              0.1389892635
             ],
             "passed_time": 2.704406779,
             "remaining_time": 64.90576271,
             "test": [
              75718.81979,
              0.1239219743
             ]
            },
            {
             "iteration": 20,
             "learn": [
              72110.6781,
              0.1400147157
             ],
             "passed_time": 2.845854889,
             "remaining_time": 64.91259486,
             "test": [
              75680.99176,
              0.1247971075
             ]
            },
            {
             "iteration": 21,
             "learn": [
              72070.78034,
              0.1409660865
             ],
             "passed_time": 2.966596685,
             "remaining_time": 64.45605524,
             "test": [
              75655.46418,
              0.1253874285
             ]
            },
            {
             "iteration": 22,
             "learn": [
              72039.15325,
              0.1417198672
             ],
             "passed_time": 3.129862264,
             "remaining_time": 64.91062174,
             "test": [
              75632.96496,
              0.1259075543
             ]
            },
            {
             "iteration": 23,
             "learn": [
              72005.70729,
              0.1425166378
             ],
             "passed_time": 3.301006223,
             "remaining_time": 65.46995675,
             "test": [
              75603.12848,
              0.1265970603
             ]
            },
            {
             "iteration": 24,
             "learn": [
              71969.6978,
              0.1433740646
             ],
             "passed_time": 3.416586138,
             "remaining_time": 64.91513663,
             "test": [
              75584.23999,
              0.1270334232
             ]
            },
            {
             "iteration": 25,
             "learn": [
              71938.11822,
              0.1441256573
             ],
             "passed_time": 3.565705459,
             "remaining_time": 65.00555337,
             "test": [
              75567.91049,
              0.1274105805
             ]
            },
            {
             "iteration": 26,
             "learn": [
              71920.78217,
              0.1445381145
             ],
             "passed_time": 3.73139218,
             "remaining_time": 65.368463,
             "test": [
              75560.40747,
              0.1275838478
             ]
            },
            {
             "iteration": 27,
             "learn": [
              71893.01743,
              0.1451984826
             ],
             "passed_time": 3.893879066,
             "remaining_time": 65.63967569,
             "test": [
              75532.90932,
              0.1282187165
             ]
            },
            {
             "iteration": 28,
             "learn": [
              71846.07647,
              0.1463143658
             ],
             "passed_time": 4.062424926,
             "remaining_time": 65.97938415,
             "test": [
              75522.41502,
              0.1284609448
             ]
            },
            {
             "iteration": 29,
             "learn": [
              71834.42841,
              0.1465911512
             ],
             "passed_time": 4.183669657,
             "remaining_time": 65.54415797,
             "test": [
              75515.20139,
              0.1286274293
             ]
            },
            {
             "iteration": 30,
             "learn": [
              71821.58518,
              0.1468962847
             ],
             "passed_time": 4.343910206,
             "remaining_time": 65.71915763,
             "test": [
              75506.66397,
              0.1288244454
             ]
            },
            {
             "iteration": 31,
             "learn": [
              71806.4352,
              0.1472561527
             ],
             "passed_time": 4.489509644,
             "remaining_time": 65.65907854,
             "test": [
              75498.6767,
              0.1290087456
             ]
            },
            {
             "iteration": 32,
             "learn": [
              71797.68381,
              0.1474639957
             ],
             "passed_time": 4.63750863,
             "remaining_time": 65.62777364,
             "test": [
              75494.66259,
              0.1291013608
             ]
            },
            {
             "iteration": 33,
             "learn": [
              71786.6259,
              0.1477265821
             ],
             "passed_time": 4.795758762,
             "remaining_time": 65.73010539,
             "test": [
              75488.54256,
              0.1292425551
             ]
            },
            {
             "iteration": 34,
             "learn": [
              71772.98682,
              0.1480504062
             ],
             "passed_time": 4.940684831,
             "remaining_time": 65.64052704,
             "test": [
              75477.97246,
              0.1294863894
             ]
            },
            {
             "iteration": 35,
             "learn": [
              71749.92027,
              0.1485979207
             ],
             "passed_time": 5.114784631,
             "remaining_time": 65.9238908,
             "test": [
              75471.72724,
              0.12963044
             ]
            },
            {
             "iteration": 36,
             "learn": [
              71743.51587,
              0.1487499063
             ],
             "passed_time": 5.283006138,
             "remaining_time": 66.1089687,
             "test": [
              75467.97815,
              0.1297169099
             ]
            },
            {
             "iteration": 37,
             "learn": [
              71736.32426,
              0.1489205574
             ],
             "passed_time": 5.431793492,
             "remaining_time": 66.03917351,
             "test": [
              75464.97535,
              0.129786164
             ]
            },
            {
             "iteration": 38,
             "learn": [
              71708.47467,
              0.1495812439
             ],
             "passed_time": 5.59931967,
             "remaining_time": 66.18682995,
             "test": [
              75461.36183,
              0.1298694996
             ]
            },
            {
             "iteration": 39,
             "learn": [
              71700.58808,
              0.1497682938
             ],
             "passed_time": 5.744416239,
             "remaining_time": 66.06078675,
             "test": [
              75455.08782,
              0.1300141823
             ]
            },
            {
             "iteration": 40,
             "learn": [
              71684.77469,
              0.1501432856
             ],
             "passed_time": 5.892218918,
             "remaining_time": 65.96410935,
             "test": [
              75451.8755,
              0.1300882559
             ]
            },
            {
             "iteration": 41,
             "learn": [
              71660.97721,
              0.1507074525
             ],
             "passed_time": 6.00097549,
             "remaining_time": 65.43920892,
             "test": [
              75438.88208,
              0.1303878417
             ]
            },
            {
             "iteration": 42,
             "learn": [
              71660.56168,
              0.1507173019
             ],
             "passed_time": 6.091360587,
             "remaining_time": 64.73841368,
             "test": [
              75438.7294,
              0.1303913618
             ]
            },
            {
             "iteration": 43,
             "learn": [
              71614.27073,
              0.1518141787
             ],
             "passed_time": 6.231528177,
             "remaining_time": 64.58129201,
             "test": [
              75434.4289,
              0.1304905055
             ]
            },
            {
             "iteration": 44,
             "learn": [
              71572.36596,
              0.1528065125
             ],
             "passed_time": 6.357884514,
             "remaining_time": 64.28527675,
             "test": [
              75439.46724,
              0.130374351
             ]
            },
            {
             "iteration": 45,
             "learn": [
              71551.84163,
              0.153292331
             ],
             "passed_time": 6.495617474,
             "remaining_time": 64.10892029,
             "test": [
              75438.92402,
              0.1303868747
             ]
            },
            {
             "iteration": 46,
             "learn": [
              71542.31694,
              0.1535177365
             ],
             "passed_time": 6.631186809,
             "remaining_time": 63.91335372,
             "test": [
              75433.86163,
              0.130503583
             ]
            },
            {
             "iteration": 47,
             "learn": [
              71522.51175,
              0.1539863381
             ],
             "passed_time": 6.778234093,
             "remaining_time": 63.82837104,
             "test": [
              75432.4793,
              0.1305354498
             ]
            },
            {
             "iteration": 48,
             "learn": [
              71494.51707,
              0.1546484862
             ],
             "passed_time": 6.935690786,
             "remaining_time": 63.83666417,
             "test": [
              75431.14217,
              0.1305662743
             ]
            },
            {
             "iteration": 49,
             "learn": [
              71476.7447,
              0.155068715
             ],
             "passed_time": 7.071302162,
             "remaining_time": 63.64171946,
             "test": [
              75430.05525,
              0.13059133
             ]
            },
            {
             "iteration": 50,
             "learn": [
              71467.7849,
              0.1552805306
             ],
             "passed_time": 7.224565543,
             "remaining_time": 63.60450841,
             "test": [
              75427.05411,
              0.1306605111
             ]
            },
            {
             "iteration": 51,
             "learn": [
              71463.1559,
              0.1553899529
             ],
             "passed_time": 7.36065932,
             "remaining_time": 63.41491106,
             "test": [
              75424.02713,
              0.1307302852
             ]
            },
            {
             "iteration": 52,
             "learn": [
              71459.72567,
              0.1554710333
             ],
             "passed_time": 7.524333345,
             "remaining_time": 63.45994349,
             "test": [
              75421.16915,
              0.1307961608
             ]
            },
            {
             "iteration": 53,
             "learn": [
              71458.46113,
              0.1555009224
             ],
             "passed_time": 7.660338003,
             "remaining_time": 63.26871758,
             "test": [
              75420.52008,
              0.1308111213
             ]
            },
            {
             "iteration": 54,
             "learn": [
              71448.46175,
              0.1557372521
             ],
             "passed_time": 7.813230642,
             "remaining_time": 63.21613883,
             "test": [
              75418.10772,
              0.1308667234
             ]
            },
            {
             "iteration": 55,
             "learn": [
              71437.83113,
              0.1559884643
             ],
             "passed_time": 7.969294554,
             "remaining_time": 63.18512111,
             "test": [
              75416.72615,
              0.1308985659
             ]
            },
            {
             "iteration": 56,
             "learn": [
              71429.07123,
              0.1561954417
             ],
             "passed_time": 8.113668807,
             "remaining_time": 63.05886459,
             "test": [
              75413.96724,
              0.1309621522
             ]
            },
            {
             "iteration": 57,
             "learn": [
              71423.79491,
              0.1563200973
             ],
             "passed_time": 8.264483606,
             "remaining_time": 62.98106472,
             "test": [
              75411.04103,
              0.1310295915
             ]
            },
            {
             "iteration": 58,
             "learn": [
              71410.93671,
              0.1566238401
             ],
             "passed_time": 8.376010663,
             "remaining_time": 62.60713055,
             "test": [
              75408.27867,
              0.1310932524
             ]
            },
            {
             "iteration": 59,
             "learn": [
              71386.76117,
              0.1571947785
             ],
             "passed_time": 8.517489909,
             "remaining_time": 62.46159267,
             "test": [
              75404.42288,
              0.1311821083
             ]
            },
            {
             "iteration": 60,
             "learn": [
              71385.40455,
              0.1572268111
             ],
             "passed_time": 8.640422223,
             "remaining_time": 62.18271075,
             "test": [
              75404.04873,
              0.1311907303
             ]
            },
            {
             "iteration": 61,
             "learn": [
              71383.20758,
              0.157278685
             ],
             "passed_time": 8.754412217,
             "remaining_time": 61.84568631,
             "test": [
              75403.63753,
              0.131200206
             ]
            },
            {
             "iteration": 62,
             "learn": [
              71353.16634,
              0.1579878451
             ],
             "passed_time": 8.906005467,
             "remaining_time": 61.77657761,
             "test": [
              75400.33533,
              0.1312763002
             ]
            },
            {
             "iteration": 63,
             "learn": [
              71328.53358,
              0.158569109
             ],
             "passed_time": 9.028117754,
             "remaining_time": 61.5040522,
             "test": [
              75397.31167,
              0.131345973
             ]
            },
            {
             "iteration": 64,
             "learn": [
              71325.95736,
              0.158629889
             ],
             "passed_time": 9.160044131,
             "remaining_time": 61.3018338,
             "test": [
              75397.7902,
              0.1313349467
             ]
            },
            {
             "iteration": 65,
             "learn": [
              71301.70499,
              0.1592019598
             ],
             "passed_time": 9.270850033,
             "remaining_time": 60.96286234,
             "test": [
              75394.39401,
              0.1314132005
             ]
            },
            {
             "iteration": 66,
             "learn": [
              71294.96391,
              0.1593609354
             ],
             "passed_time": 9.412417544,
             "remaining_time": 60.82950443,
             "test": [
              75391.09051,
              0.1314893153
             ]
            },
            {
             "iteration": 67,
             "learn": [
              71290.68603,
              0.1594618135
             ],
             "passed_time": 9.52663706,
             "remaining_time": 60.52216485,
             "test": [
              75391.84723,
              0.1314718803
             ]
            },
            {
             "iteration": 68,
             "learn": [
              71287.2794,
              0.1595421418
             ],
             "passed_time": 9.650687146,
             "remaining_time": 60.28182841,
             "test": [
              75390.12135,
              0.1315116446
             ]
            },
            {
             "iteration": 69,
             "learn": [
              71286.93049,
              0.1595503689
             ],
             "passed_time": 9.72997531,
             "remaining_time": 59.76984833,
             "test": [
              75389.9953,
              0.1315145489
             ]
            },
            {
             "iteration": 70,
             "learn": [
              71273.39353,
              0.1598695312
             ],
             "passed_time": 9.887949853,
             "remaining_time": 59.74549981,
             "test": [
              75388.09541,
              0.1315583213
             ]
            },
            {
             "iteration": 71,
             "learn": [
              71271.19675,
              0.1599213192
             ],
             "passed_time": 10.0207582,
             "remaining_time": 59.56784044,
             "test": [
              75387.09969,
              0.1315812618
             ]
            },
            {
             "iteration": 72,
             "learn": [
              71259.5266,
              0.1601964106
             ],
             "passed_time": 10.1685728,
             "remaining_time": 59.47918609,
             "test": [
              75387.19809,
              0.1315789949
             ]
            },
            {
             "iteration": 73,
             "learn": [
              71250.41131,
              0.1604112468
             ],
             "passed_time": 10.32361732,
             "remaining_time": 59.43055376,
             "test": [
              75384.80972,
              0.1316340194
             ]
            },
            {
             "iteration": 74,
             "learn": [
              71247.25607,
              0.1604856054
             ],
             "passed_time": 10.44431339,
             "remaining_time": 59.18444256,
             "test": [
              75381.93199,
              0.131700316
             ]
            },
            {
             "iteration": 75,
             "learn": [
              71243.78078,
              0.160567503
             ],
             "passed_time": 10.62048768,
             "remaining_time": 59.25114178,
             "test": [
              75381.12753,
              0.1317188486
             ]
            },
            {
             "iteration": 76,
             "learn": [
              71242.73921,
              0.1605920476
             ],
             "passed_time": 10.75449114,
             "remaining_time": 59.07986689,
             "test": [
              75380.85548,
              0.1317251158
             ]
            },
            {
             "iteration": 77,
             "learn": [
              71239.60849,
              0.1606658204
             ],
             "passed_time": 10.89707674,
             "remaining_time": 58.95597929,
             "test": [
              75380.97267,
              0.1317224161
             ]
            },
            {
             "iteration": 78,
             "learn": [
              71236.05916,
              0.1607494536
             ],
             "passed_time": 11.04972568,
             "remaining_time": 58.88524695,
             "test": [
              75379.35472,
              0.1317596884
             ]
            },
            {
             "iteration": 79,
             "learn": [
              71207.9561,
              0.1614115019
             ],
             "passed_time": 11.2008013,
             "remaining_time": 58.80420683,
             "test": [
              75379.23133,
              0.1317625309
             ]
            },
            {
             "iteration": 80,
             "learn": [
              71203.26826,
              0.1615219122
             ],
             "passed_time": 11.3156218,
             "remaining_time": 58.53389546,
             "test": [
              75378.15109,
              0.1317874157
             ]
            },
            {
             "iteration": 81,
             "learn": [
              71190.20257,
              0.1618296027
             ],
             "passed_time": 11.44981428,
             "remaining_time": 58.36612647,
             "test": [
              75379.71105,
              0.1317514798
             ]
            },
            {
             "iteration": 82,
             "learn": [
              71175.33743,
              0.1621796009
             ],
             "passed_time": 11.59568625,
             "remaining_time": 58.25784535,
             "test": [
              75377.93331,
              0.1317924325
             ]
            },
            {
             "iteration": 83,
             "learn": [
              71172.52208,
              0.1622458797
             ],
             "passed_time": 11.7252241,
             "remaining_time": 58.06777652,
             "test": [
              75377.85611,
              0.131794211
             ]
            },
            {
             "iteration": 84,
             "learn": [
              71171.03916,
              0.1622807895
             ],
             "passed_time": 11.85757075,
             "remaining_time": 57.89284544,
             "test": [
              75377.058,
              0.1318125961
             ]
            },
            {
             "iteration": 85,
             "learn": [
              71157.39888,
              0.1626018648
             ],
             "passed_time": 11.98906034,
             "remaining_time": 57.71477883,
             "test": [
              75375.27836,
              0.1318535913
             ]
            },
            {
             "iteration": 86,
             "learn": [
              71154.53768,
              0.1626692061
             ],
             "passed_time": 12.11134613,
             "remaining_time": 57.49409139,
             "test": [
              75373.71535,
              0.1318895953
             ]
            },
            {
             "iteration": 87,
             "learn": [
              71144.68399,
              0.1629011022
             ],
             "passed_time": 12.26428629,
             "remaining_time": 57.41915854,
             "test": [
              75370.91973,
              0.1319539908
             ]
            },
            {
             "iteration": 88,
             "learn": [
              71131.597,
              0.1632090407
             ],
             "passed_time": 12.43619367,
             "remaining_time": 57.43006292,
             "test": [
              75369.73179,
              0.1319813534
             ]
            },
            {
             "iteration": 89,
             "learn": [
              71121.97241,
              0.1634354725
             ],
             "passed_time": 12.59491671,
             "remaining_time": 57.37684278,
             "test": [
              75368.2965,
              0.132014413
             ]
            },
            {
             "iteration": 90,
             "learn": [
              71116.1048,
              0.163573501
             ],
             "passed_time": 12.71508278,
             "remaining_time": 57.1480094,
             "test": [
              75367.85337,
              0.1320246198
             ]
            },
            {
             "iteration": 91,
             "learn": [
              71114.59092,
              0.1636091113
             ],
             "passed_time": 12.8504653,
             "remaining_time": 56.98902002,
             "test": [
              75366.57802,
              0.1320539947
             ]
            },
            {
             "iteration": 92,
             "learn": [
              71112.05977,
              0.1636686488
             ],
             "passed_time": 12.9712925,
             "remaining_time": 56.76683921,
             "test": [
              75366.05886,
              0.1320659522
             ]
            },
            {
             "iteration": 93,
             "learn": [
              71105.63271,
              0.1638198161
             ],
             "passed_time": 13.15364737,
             "remaining_time": 56.81256204,
             "test": [
              75362.52805,
              0.1321472737
             ]
            },
            {
             "iteration": 94,
             "learn": [
              71102.35359,
              0.1638969374
             ],
             "passed_time": 13.29728278,
             "remaining_time": 56.68841605,
             "test": [
              75366.21526,
              0.13206235
             ]
            },
            {
             "iteration": 95,
             "learn": [
              71084.36967,
              0.164319835
             ],
             "passed_time": 13.44550835,
             "remaining_time": 56.58318097,
             "test": [
              75366.08943,
              0.1320652481
             ]
            },
            {
             "iteration": 96,
             "learn": [
              71083.86017,
              0.1643318144
             ],
             "passed_time": 13.58228946,
             "remaining_time": 56.42951187,
             "test": [
              75366.24558,
              0.1320616516
             ]
            },
            {
             "iteration": 97,
             "learn": [
              71054.99295,
              0.1650104078
             ],
             "passed_time": 13.70416193,
             "remaining_time": 56.21503158,
             "test": [
              75366.65324,
              0.1320522621
             ]
            },
            {
             "iteration": 98,
             "learn": [
              71054.15078,
              0.165030201
             ],
             "passed_time": 13.81783491,
             "remaining_time": 55.96921007,
             "test": [
              75367.31009,
              0.1320371332
             ]
            },
            {
             "iteration": 99,
             "learn": [
              71035.28879,
              0.1654734431
             ],
             "passed_time": 13.92102224,
             "remaining_time": 55.68408896,
             "test": [
              75364.3982,
              0.1321042009
             ]
            },
            {
             "iteration": 100,
             "learn": [
              71004.41966,
              0.1661985901
             ],
             "passed_time": 14.04454783,
             "remaining_time": 55.48291667,
             "test": [
              75357.98967,
              0.1322517958
             ]
            },
            {
             "iteration": 101,
             "learn": [
              70985.90042,
              0.1666334745
             ],
             "passed_time": 14.193206,
             "remaining_time": 55.38133323,
             "test": [
              75358.86965,
              0.1322315298
             ]
            },
            {
             "iteration": 102,
             "learn": [
              70966.7313,
              0.1670835002
             ],
             "passed_time": 14.33801592,
             "remaining_time": 55.26400309,
             "test": [
              75359.25782,
              0.13222259
             ]
            },
            {
             "iteration": 103,
             "learn": [
              70965.81595,
              0.1671049865
             ],
             "passed_time": 14.45375588,
             "remaining_time": 55.03545507,
             "test": [
              75358.53411,
              0.1322392573
             ]
            },
            {
             "iteration": 104,
             "learn": [
              70949.32278,
              0.1674920881
             ],
             "passed_time": 14.59805736,
             "remaining_time": 54.9165015,
             "test": [
              75358.89764,
              0.1322308852
             ]
            },
            {
             "iteration": 105,
             "learn": [
              70948.03836,
              0.1675222301
             ],
             "passed_time": 14.70990524,
             "remaining_time": 54.67644022,
             "test": [
              75358.46148,
              0.13224093
             ]
            },
            {
             "iteration": 106,
             "learn": [
              70942.86246,
              0.1676436897
             ],
             "passed_time": 14.84816366,
             "remaining_time": 54.53577868,
             "test": [
              75356.17442,
              0.1322936007
             ]
            },
            {
             "iteration": 107,
             "learn": [
              70940.99466,
              0.1676875181
             ],
             "passed_time": 14.97631978,
             "remaining_time": 54.35849401,
             "test": [
              75356.22093,
              0.1322925294
             ]
            },
            {
             "iteration": 108,
             "learn": [
              70938.8708,
              0.1677373536
             ],
             "passed_time": 15.07881306,
             "remaining_time": 54.09005417,
             "test": [
              75355.8726,
              0.1323005513
             ]
            },
            {
             "iteration": 109,
             "learn": [
              70932.31784,
              0.1678911066
             ],
             "passed_time": 15.20050014,
             "remaining_time": 53.89268232,
             "test": [
              75356.11982,
              0.1322948579
             ]
            },
            {
             "iteration": 110,
             "learn": [
              70930.89939,
              0.1679243861
             ],
             "passed_time": 15.32824852,
             "remaining_time": 53.71791599,
             "test": [
              75354.52649,
              0.1323315511
             ]
            },
            {
             "iteration": 111,
             "learn": [
              70930.25033,
              0.1679396138
             ],
             "passed_time": 15.46997043,
             "remaining_time": 53.59239757,
             "test": [
              75354.40311,
              0.1323343924
             ]
            },
            {
             "iteration": 112,
             "learn": [
              70928.19656,
              0.1679877975
             ],
             "passed_time": 15.59518908,
             "remaining_time": 53.41007233,
             "test": [
              75354.49504,
              0.1323322755
             ]
            },
            {
             "iteration": 113,
             "learn": [
              70911.34591,
              0.1683830784
             ],
             "passed_time": 15.77270136,
             "remaining_time": 53.40581338,
             "test": [
              75358.28318,
              0.1322450363
             ]
            },
            {
             "iteration": 114,
             "learn": [
              70904.60291,
              0.1685412286
             ],
             "passed_time": 15.88624141,
             "remaining_time": 53.18437342,
             "test": [
              75358.41496,
              0.1322420014
             ]
            },
            {
             "iteration": 115,
             "learn": [
              70904.29504,
              0.1685484491
             ],
             "passed_time": 16.03030045,
             "remaining_time": 53.06582219,
             "test": [
              75358.55832,
              0.1322386997
             ]
            },
            {
             "iteration": 116,
             "learn": [
              70904.24386,
              0.1685496495
             ],
             "passed_time": 16.12489661,
             "remaining_time": 52.78491796,
             "test": [
              75358.5241,
              0.1322394878
             ]
            },
            {
             "iteration": 117,
             "learn": [
              70895.18994,
              0.1687619753
             ],
             "passed_time": 16.28922428,
             "remaining_time": 52.7329125,
             "test": [
              75355.57836,
              0.1323073276
             ]
            },
            {
             "iteration": 118,
             "learn": [
              70892.70614,
              0.1688202189
             ],
             "passed_time": 16.45790498,
             "remaining_time": 52.69295627,
             "test": [
              75355.52928,
              0.1323084579
             ]
            },
            {
             "iteration": 119,
             "learn": [
              70865.97069,
              0.169447019
             ],
             "passed_time": 16.60873957,
             "remaining_time": 52.59434198,
             "test": [
              75357.44881,
              0.1322642518
             ]
            },
            {
             "iteration": 120,
             "learn": [
              70864.29699,
              0.1694862502
             ],
             "passed_time": 16.76276536,
             "remaining_time": 52.50486011,
             "test": [
              75358.14109,
              0.1322483086
             ]
            },
            {
             "iteration": 121,
             "learn": [
              70861.43324,
              0.1695533737
             ],
             "passed_time": 16.9149951,
             "remaining_time": 52.40875532,
             "test": [
              75357.45602,
              0.1322640858
             ]
            },
            {
             "iteration": 122,
             "learn": [
              70861.00808,
              0.1695633391
             ],
             "passed_time": 17.04354436,
             "remaining_time": 52.23915629,
             "test": [
              75357.43987,
              0.1322644577
             ]
            },
            {
             "iteration": 123,
             "learn": [
              70860.56562,
              0.1695737096
             ],
             "passed_time": 17.11615462,
             "remaining_time": 51.90059788,
             "test": [
              75357.50957,
              0.1322628525
             ]
            },
            {
             "iteration": 124,
             "learn": [
              70836.11637,
              0.1701466599
             ],
             "passed_time": 17.21367425,
             "remaining_time": 51.64102274,
             "test": [
              75360.61473,
              0.1321913395
             ]
            },
            {
             "iteration": 125,
             "learn": [
              70835.54062,
              0.1701601498
             ],
             "passed_time": 17.29938996,
             "remaining_time": 51.3489829,
             "test": [
              75360.44651,
              0.1321952138
             ]
            },
            {
             "iteration": 126,
             "learn": [
              70830.48139,
              0.1702786836
             ],
             "passed_time": 17.43581894,
             "remaining_time": 51.20913753,
             "test": [
              75359.58618,
              0.1322150277
             ]
            },
            {
             "iteration": 127,
             "learn": [
              70818.90179,
              0.1705499525
             ],
             "passed_time": 17.58915859,
             "remaining_time": 51.11849215,
             "test": [
              75359.83247,
              0.1322093555
             ]
            },
            {
             "iteration": 128,
             "learn": [
              70816.80694,
              0.1705990228
             ],
             "passed_time": 17.74258625,
             "remaining_time": 51.0271279,
             "test": [
              75358.76802,
              0.1322338703
             ]
            },
            {
             "iteration": 129,
             "learn": [
              70810.74586,
              0.1707409905
             ],
             "passed_time": 17.89389447,
             "remaining_time": 50.92877657,
             "test": [
              75358.61578,
              0.1322373763
             ]
            },
            {
             "iteration": 130,
             "learn": [
              70803.18991,
              0.1709179554
             ],
             "passed_time": 18.04334,
             "remaining_time": 50.82436993,
             "test": [
              75357.32909,
              0.1322670089
             ]
            },
            {
             "iteration": 131,
             "learn": [
              70794.92255,
              0.1711115602
             ],
             "passed_time": 18.21017231,
             "remaining_time": 50.76775312,
             "test": [
              75358.50441,
              0.1322399412
             ]
            },
            {
             "iteration": 132,
             "learn": [
              70794.64439,
              0.1711180738
             ],
             "passed_time": 18.32995342,
             "remaining_time": 50.57964591,
             "test": [
              75358.38731,
              0.132242638
             ]
            },
            {
             "iteration": 133,
             "learn": [
              70777.45205,
              0.1715206095
             ],
             "passed_time": 18.48998661,
             "remaining_time": 50.50250075,
             "test": [
              75362.30898,
              0.1321523191
             ]
            },
            {
             "iteration": 134,
             "learn": [
              70758.87919,
              0.1719553584
             ],
             "passed_time": 18.63854586,
             "remaining_time": 50.39310548,
             "test": [
              75361.40503,
              0.1321731382
             ]
            },
            {
             "iteration": 135,
             "learn": [
              70757.73504,
              0.1719821367
             ],
             "passed_time": 18.73735731,
             "remaining_time": 50.14998575,
             "test": [
              75360.88399,
              0.1321851383
             ]
            },
            {
             "iteration": 136,
             "learn": [
              70756.91308,
              0.1720013739
             ],
             "passed_time": 18.88732991,
             "remaining_time": 50.04453108,
             "test": [
              75360.402,
              0.1321962388
             ]
            },
            {
             "iteration": 137,
             "learn": [
              70751.55974,
              0.172126659
             ],
             "passed_time": 19.02033507,
             "remaining_time": 49.89392243,
             "test": [
              75361.79643,
              0.1321641237
             ]
            },
            {
             "iteration": 138,
             "learn": [
              70749.90026,
              0.1721654941
             ],
             "passed_time": 19.14740098,
             "remaining_time": 49.72814211,
             "test": [
              75361.79988,
              0.1321640443
             ]
            },
            {
             "iteration": 139,
             "learn": [
              70749.75053,
              0.1721689981
             ],
             "passed_time": 19.2259771,
             "remaining_time": 49.43822684,
             "test": [
              75361.68855,
              0.1321666084
             ]
            },
            {
             "iteration": 140,
             "learn": [
              70748.06066,
              0.1722085434
             ],
             "passed_time": 19.36507206,
             "remaining_time": 49.30539623,
             "test": [
              75359.85099,
              0.132208929
             ]
            },
            {
             "iteration": 141,
             "learn": [
              70745.18229,
              0.1722758991
             ],
             "passed_time": 19.50078515,
             "remaining_time": 49.16395129,
             "test": [
              75360.15646,
              0.1322018938
             ]
            },
            {
             "iteration": 142,
             "learn": [
              70744.97948,
              0.1722806449
             ],
             "passed_time": 19.61567382,
             "remaining_time": 48.97059828,
             "test": [
              75360.08115,
              0.1322036284
             ]
            },
            {
             "iteration": 143,
             "learn": [
              70744.79993,
              0.1722848464
             ],
             "passed_time": 19.67601788,
             "remaining_time": 48.64348864,
             "test": [
              75360.01736,
              0.1322050974
             ]
            },
            {
             "iteration": 144,
             "learn": [
              70744.52076,
              0.1722913788
             ],
             "passed_time": 19.74741584,
             "remaining_time": 48.34712153,
             "test": [
              75359.98339,
              0.1322058797
             ]
            },
            {
             "iteration": 145,
             "learn": [
              70735.10643,
              0.172511659
             ],
             "passed_time": 19.87009159,
             "remaining_time": 48.17816728,
             "test": [
              75361.67146,
              0.132167002
             ]
            },
            {
             "iteration": 146,
             "learn": [
              70734.96241,
              0.1725150286
             ],
             "passed_time": 19.98633253,
             "remaining_time": 47.99439036,
             "test": [
              75361.62503,
              0.1321680715
             ]
            },
            {
             "iteration": 147,
             "learn": [
              70734.84478,
              0.1725177808
             ],
             "passed_time": 20.10064378,
             "remaining_time": 47.80693656,
             "test": [
              75361.90308,
              0.1321616676
             ]
            },
            {
             "iteration": 148,
             "learn": [
              70730.10423,
              0.1726286904
             ],
             "passed_time": 20.27330128,
             "remaining_time": 47.75791107,
             "test": [
              75362.10052,
              0.1321571202
             ]
            },
            {
             "iteration": 149,
             "learn": [
              70728.85313,
              0.1726579599
             ],
             "passed_time": 20.47991437,
             "remaining_time": 47.78646686,
             "test": [
              75361.85733,
              0.1321627212
             ]
            },
            {
             "iteration": 150,
             "learn": [
              70728.73524,
              0.1726607178
             ],
             "passed_time": 20.59881601,
             "remaining_time": 47.60918403,
             "test": [
              75361.77278,
              0.1321646685
             ]
            },
            {
             "iteration": 151,
             "learn": [
              70727.46722,
              0.1726903826
             ],
             "passed_time": 20.79403724,
             "remaining_time": 47.60740104,
             "test": [
              75362.02663,
              0.1321588221
             ]
            },
            {
             "iteration": 152,
             "learn": [
              70726.3468,
              0.1727165938
             ],
             "passed_time": 20.94827666,
             "remaining_time": 47.51014379,
             "test": [
              75362.30804,
              0.1321523408
             ]
            },
            {
             "iteration": 153,
             "learn": [
              70712.08983,
              0.1730500866
             ],
             "passed_time": 21.15809324,
             "remaining_time": 47.53701468,
             "test": [
              75362.45376,
              0.1321489847
             ]
            },
            {
             "iteration": 154,
             "learn": [
              70711.72734,
              0.1730585651
             ],
             "passed_time": 21.26178911,
             "remaining_time": 47.32462737,
             "test": [
              75362.53076,
              0.1321472113
             ]
            },
            {
             "iteration": 155,
             "learn": [
              70711.33975,
              0.1730676304
             ],
             "passed_time": 21.35493738,
             "remaining_time": 47.09037474,
             "test": [
              75362.75256,
              0.132142103
             ]
            },
            {
             "iteration": 156,
             "learn": [
              70711.24415,
              0.1730698662
             ],
             "passed_time": 21.42004897,
             "remaining_time": 46.7966675,
             "test": [
              75362.68372,
              0.1321436883
             ]
            },
            {
             "iteration": 157,
             "learn": [
              70710.23233,
              0.1730935315
             ],
             "passed_time": 21.61492959,
             "remaining_time": 46.78674632,
             "test": [
              75363.41711,
              0.1321267973
             ]
            },
            {
             "iteration": 158,
             "learn": [
              70706.32701,
              0.1731848689
             ],
             "passed_time": 21.81964536,
             "remaining_time": 46.79559162,
             "test": [
              75362.38264,
              0.1321506227
             ]
            },
            {
             "iteration": 159,
             "learn": [
              70682.70352,
              0.1737372664
             ],
             "passed_time": 22.00141795,
             "remaining_time": 46.75301315,
             "test": [
              75363.21042,
              0.1321315576
             ]
            },
            {
             "iteration": 160,
             "learn": [
              70681.52705,
              0.1737647714
             ],
             "passed_time": 22.18314434,
             "remaining_time": 46.70860828,
             "test": [
              75362.74398,
              0.1321423005
             ]
            },
            {
             "iteration": 161,
             "learn": [
              70681.26028,
              0.1737710082
             ],
             "passed_time": 22.32811472,
             "remaining_time": 46.58581961,
             "test": [
              75362.7081,
              0.1321431269
             ]
            },
            {
             "iteration": 162,
             "learn": [
              70681.17145,
              0.173773085
             ],
             "passed_time": 22.42614533,
             "remaining_time": 46.3657115,
             "test": [
              75362.65854,
              0.1321442683
             ]
            },
            {
             "iteration": 163,
             "learn": [
              70663.86991,
              0.174177528
             ],
             "passed_time": 22.57570199,
             "remaining_time": 46.25265774,
             "test": [
              75361.89247,
              0.1321619118
             ]
            },
            {
             "iteration": 164,
             "learn": [
              70660.77415,
              0.1742498843
             ],
             "passed_time": 22.73626093,
             "remaining_time": 46.16149945,
             "test": [
              75359.43988,
              0.1322183971
             ]
            },
            {
             "iteration": 165,
             "learn": [
              70629.00648,
              0.1749921987
             ],
             "passed_time": 22.90568224,
             "remaining_time": 46.08733656,
             "test": [
              75359.4705,
              0.132217692
             ]
            },
            {
             "iteration": 166,
             "learn": [
              70627.84882,
              0.1750192436
             ],
             "passed_time": 23.04807867,
             "remaining_time": 45.95814489,
             "test": [
              75359.78265,
              0.1322105029
             ]
            },
            {
             "iteration": 167,
             "learn": [
              70627.76828,
              0.175021125
             ],
             "passed_time": 23.16659224,
             "remaining_time": 45.78159895,
             "test": [
              75359.72125,
              0.1322119171
             ]
            },
            {
             "iteration": 168,
             "learn": [
              70618.83903,
              0.175229711
             ],
             "passed_time": 23.31845116,
             "remaining_time": 45.67104932,
             "test": [
              75355.68135,
              0.1323049557
             ]
            },
            {
             "iteration": 169,
             "learn": [
              70617.24936,
              0.1752668425
             ],
             "passed_time": 23.44565387,
             "remaining_time": 45.51215163,
             "test": [
              75354.71177,
              0.1323272843
             ]
            },
            {
             "iteration": 170,
             "learn": [
              70615.84445,
              0.1752996579
             ],
             "passed_time": 23.58028376,
             "remaining_time": 45.36791436,
             "test": [
              75354.89909,
              0.1323229704
             ]
            },
            {
             "iteration": 171,
             "learn": [
              70614.96279,
              0.175320251
             ],
             "passed_time": 23.70237077,
             "remaining_time": 45.19986984,
             "test": [
              75355.29423,
              0.1323138709
             ]
            },
            {
             "iteration": 172,
             "learn": [
              70586.84601,
              0.1759768464
             ],
             "passed_time": 23.8629479,
             "remaining_time": 45.10510961,
             "test": [
              75356.21432,
              0.1322926817
             ]
            },
            {
             "iteration": 173,
             "learn": [
              70586.07926,
              0.1759947482
             ],
             "passed_time": 24.02584322,
             "remaining_time": 45.01393615,
             "test": [
              75356.95119,
              0.1322757119
             ]
            },
            {
             "iteration": 174,
             "learn": [
              70561.44739,
              0.176569741
             ],
             "passed_time": 24.15021181,
             "remaining_time": 44.85039337,
             "test": [
              75362.27686,
              0.1321530589
             ]
            },
            {
             "iteration": 175,
             "learn": [
              70561.31526,
              0.1765728248
             ],
             "passed_time": 24.24507623,
             "remaining_time": 44.63298125,
             "test": [
              75362.11929,
              0.1321566879
             ]
            },
            {
             "iteration": 176,
             "learn": [
              70559.80535,
              0.1766080647
             ],
             "passed_time": 24.38329107,
             "remaining_time": 44.49606223,
             "test": [
              75361.44653,
              0.1321721824
             ]
            },
            {
             "iteration": 177,
             "learn": [
              70559.65685,
              0.1766115307
             ],
             "passed_time": 24.49983518,
             "remaining_time": 44.31992656,
             "test": [
              75361.39636,
              0.132173338
             ]
            },
            {
             "iteration": 178,
             "learn": [
              70558.65762,
              0.1766348514
             ],
             "passed_time": 24.63141163,
             "remaining_time": 44.17141415,
             "test": [
              75361.84502,
              0.1321630048
             ]
            },
            {
             "iteration": 179,
             "learn": [
              70557.94344,
              0.176651519
             ],
             "passed_time": 24.72255851,
             "remaining_time": 43.95121513,
             "test": [
              75362.23417,
              0.1321540421
             ]
            },
            {
             "iteration": 180,
             "learn": [
              70557.72545,
              0.1766566066
             ],
             "passed_time": 24.86739215,
             "remaining_time": 43.8270613,
             "test": [
              75362.12829,
              0.1321564806
             ]
            },
            {
             "iteration": 181,
             "learn": [
              70542.4781,
              0.1770124131
             ],
             "passed_time": 24.99474398,
             "remaining_time": 43.67213509,
             "test": [
              75363.03512,
              0.132135595
             ]
            },
            {
             "iteration": 182,
             "learn": [
              70538.80658,
              0.1770980789
             ],
             "passed_time": 25.09487165,
             "remaining_time": 43.47035144,
             "test": [
              75363.01662,
              0.1321360213
             ]
            },
            {
             "iteration": 183,
             "learn": [
              70532.03414,
              0.1772560851
             ],
             "passed_time": 25.23395698,
             "remaining_time": 43.33657829,
             "test": [
              75362.69716,
              0.1321433789
             ]
            },
            {
             "iteration": 184,
             "learn": [
              70531.90966,
              0.1772589892
             ],
             "passed_time": 25.37267625,
             "remaining_time": 43.20212443,
             "test": [
              75362.64894,
              0.1321444895
             ]
            },
            {
             "iteration": 185,
             "learn": [
              70531.73079,
              0.1772631621
             ],
             "passed_time": 25.45291274,
             "remaining_time": 42.96889571,
             "test": [
              75362.56961,
              0.1321463166
             ]
            },
            {
             "iteration": 186,
             "learn": [
              70531.53284,
              0.1772677801
             ],
             "passed_time": 25.53549196,
             "remaining_time": 42.74122451,
             "test": [
              75362.56104,
              0.1321465139
             ]
            },
            {
             "iteration": 187,
             "learn": [
              70531.17982,
              0.1772760158
             ],
             "passed_time": 25.66317087,
             "remaining_time": 42.58994315,
             "test": [
              75362.53289,
              0.1321471621
             ]
            },
            {
             "iteration": 188,
             "learn": [
              70524.63205,
              0.1774287642
             ],
             "passed_time": 25.81644533,
             "remaining_time": 42.48102909,
             "test": [
              75363.84444,
              0.1321169551
             ]
            },
            {
             "iteration": 189,
             "learn": [
              70515.65772,
              0.1776380969
             ],
             "passed_time": 25.95333267,
             "remaining_time": 42.34491119,
             "test": [
              75362.61189,
              0.1321453427
             ]
            },
            {
             "iteration": 190,
             "learn": [
              70510.83458,
              0.1777505892
             ],
             "passed_time": 26.08350259,
             "remaining_time": 42.19791781,
             "test": [
              75362.64372,
              0.1321446096
             ]
            },
            {
             "iteration": 191,
             "learn": [
              70510.22515,
              0.1777648025
             ],
             "passed_time": 26.23819147,
             "remaining_time": 42.09043216,
             "test": [
              75363.0612,
              0.1321349945
             ]
            },
            {
             "iteration": 192,
             "learn": [
              70482.83483,
              0.1784034875
             ],
             "passed_time": 26.41269538,
             "remaining_time": 42.01397658,
             "test": [
              75361.19496,
              0.1321779763
             ]
            },
            {
             "iteration": 193,
             "learn": [
              70482.66955,
              0.1784073407
             ],
             "passed_time": 26.55111338,
             "remaining_time": 41.87959121,
             "test": [
              75361.21917,
              0.1321774188
             ]
            },
            {
             "iteration": 194,
             "learn": [
              70470.90437,
              0.1786816032
             ],
             "passed_time": 26.69346079,
             "remaining_time": 41.75131047,
             "test": [
              75363.00242,
              0.1321363482
             ]
            },
            {
             "iteration": 195,
             "learn": [
              70452.54589,
              0.1791094734
             ],
             "passed_time": 26.86603085,
             "remaining_time": 41.66976214,
             "test": [
              75365.9937,
              0.132067453
             ]
            },
            {
             "iteration": 196,
             "learn": [
              70452.018,
              0.1791217749
             ],
             "passed_time": 27.01241656,
             "remaining_time": 41.54701634,
             "test": [
              75366.4065,
              0.1320579452
             ]
            },
            {
             "iteration": 197,
             "learn": [
              70445.30279,
              0.1792782531
             ],
             "passed_time": 27.15668927,
             "remaining_time": 41.42080888,
             "test": [
              75367.07189,
              0.1320426196
             ]
            },
            {
             "iteration": 198,
             "learn": [
              70422.28878,
              0.1798144143
             ],
             "passed_time": 27.3027622,
             "remaining_time": 41.29714283,
             "test": [
              75367.20004,
              0.1320396677
             ]
            },
            {
             "iteration": 199,
             "learn": [
              70407.89756,
              0.1801495998
             ],
             "passed_time": 27.43937413,
             "remaining_time": 41.1590612,
             "test": [
              75368.92832,
              0.1319998602
             ]
            },
            {
             "iteration": 200,
             "learn": [
              70407.11019,
              0.1801679364
             ],
             "passed_time": 27.56515435,
             "remaining_time": 41.00488135,
             "test": [
              75369.01959,
              0.1319977578
             ]
            },
            {
             "iteration": 201,
             "learn": [
              70406.96673,
              0.1801712773
             ],
             "passed_time": 27.68477663,
             "remaining_time": 40.8418982,
             "test": [
              75369.06647,
              0.1319966781
             ]
            },
            {
             "iteration": 202,
             "learn": [
              70406.14029,
              0.1801905235
             ],
             "passed_time": 27.79569413,
             "remaining_time": 40.66660668,
             "test": [
              75369.26387,
              0.1319921312
             ]
            },
            {
             "iteration": 203,
             "learn": [
              70405.49103,
              0.1802056435
             ],
             "passed_time": 27.95518295,
             "remaining_time": 40.56242231,
             "test": [
              75369.73002,
              0.1319813943
             ]
            },
            {
             "iteration": 204,
             "learn": [
              70404.94757,
              0.1802182994
             ],
             "passed_time": 28.09066486,
             "remaining_time": 40.42315187,
             "test": [
              75370.14276,
              0.1319718872
             ]
            },
            {
             "iteration": 205,
             "learn": [
              70403.36902,
              0.1802550596
             ],
             "passed_time": 28.25156415,
             "remaining_time": 40.32019349,
             "test": [
              75369.88244,
              0.1319778834
             ]
            },
            {
             "iteration": 206,
             "learn": [
              70402.7943,
              0.1802684433
             ],
             "passed_time": 28.36876489,
             "remaining_time": 40.1548218,
             "test": [
              75369.58107,
              0.1319848252
             ]
            },
            {
             "iteration": 207,
             "learn": [
              70401.51746,
              0.1802981766
             ],
             "passed_time": 28.50443145,
             "remaining_time": 40.01583646,
             "test": [
              75368.81909,
              0.1320023762
             ]
            },
            {
             "iteration": 208,
             "learn": [
              70398.49596,
              0.1803685352
             ],
             "passed_time": 28.62376549,
             "remaining_time": 39.85414237,
             "test": [
              75368.84687,
              0.1320017363
             ]
            },
            {
             "iteration": 209,
             "learn": [
              70395.39642,
              0.1804407079
             ],
             "passed_time": 28.7876062,
             "remaining_time": 39.75431332,
             "test": [
              75367.77577,
              0.1320264071
             ]
            },
            {
             "iteration": 210,
             "learn": [
              70386.29519,
              0.1806526113
             ],
             "passed_time": 28.90802274,
             "remaining_time": 39.59440081,
             "test": [
              75369.67672,
              0.1319826218
             ]
            },
            {
             "iteration": 211,
             "learn": [
              70366.46304,
              0.1811142675
             ],
             "passed_time": 29.04051461,
             "remaining_time": 39.45126513,
             "test": [
              75368.38894,
              0.1320122839
             ]
            },
            {
             "iteration": 212,
             "learn": [
              70349.15702,
              0.1815170136
             ],
             "passed_time": 29.21087086,
             "remaining_time": 39.35924853,
             "test": [
              75371.6635,
              0.1319368586
             ]
            },
            {
             "iteration": 213,
             "learn": [
              70349.07985,
              0.1815188092
             ],
             "passed_time": 29.34514813,
             "remaining_time": 39.21828208,
             "test": [
              75371.62055,
              0.1319378479
             ]
            },
            {
             "iteration": 214,
             "learn": [
              70346.39922,
              0.181581184
             ],
             "passed_time": 29.49482442,
             "remaining_time": 39.09779051,
             "test": [
              75372.0894,
              0.1319270483
             ]
            },
            {
             "iteration": 215,
             "learn": [
              70339.88315,
              0.1817327945
             ],
             "passed_time": 29.63931516,
             "remaining_time": 38.97021068,
             "test": [
              75369.65123,
              0.131983209
             ]
            },
            {
             "iteration": 216,
             "learn": [
              70335.8445,
              0.1818267553
             ],
             "passed_time": 29.75819073,
             "remaining_time": 38.80906901,
             "test": [
              75368.92051,
              0.1320000401
             ]
            },
            {
             "iteration": 217,
             "learn": [
              70330.88574,
              0.1819421157
             ],
             "passed_time": 29.89290585,
             "remaining_time": 38.66880482,
             "test": [
              75369.66263,
              0.1319829464
             ]
            },
            {
             "iteration": 218,
             "learn": [
              70328.01727,
              0.182008844
             ],
             "passed_time": 30.04581129,
             "remaining_time": 38.55193138,
             "test": [
              75368.92348,
              0.1319999717
             ]
            },
            {
             "iteration": 219,
             "learn": [
              70322.56946,
              0.1821355669
             ],
             "passed_time": 30.18908089,
             "remaining_time": 38.42246658,
             "test": [
              75367.8451,
              0.1320248102
             ]
            },
            {
             "iteration": 220,
             "learn": [
              70322.41156,
              0.1821392396
             ],
             "passed_time": 30.33475807,
             "remaining_time": 38.29591629,
             "test": [
              75367.71146,
              0.1320278882
             ]
            },
            {
             "iteration": 221,
             "learn": [
              70305.03325,
              0.1825434147
             ],
             "passed_time": 30.47306111,
             "remaining_time": 38.15995941,
             "test": [
              75367.41641,
              0.1320346843
             ]
            },
            {
             "iteration": 222,
             "learn": [
              70293.4311,
              0.1828131954
             ],
             "passed_time": 30.61513677,
             "remaining_time": 38.02866764,
             "test": [
              75367.22682,
              0.132039051
             ]
            },
            {
             "iteration": 223,
             "learn": [
              70289.11132,
              0.1829136303
             ],
             "passed_time": 30.7519766,
             "remaining_time": 37.89082831,
             "test": [
              75367.37712,
              0.1320355891
             ]
            },
            {
             "iteration": 224,
             "learn": [
              70288.72071,
              0.1829227118
             ],
             "passed_time": 30.86339957,
             "remaining_time": 37.72193281,
             "test": [
              75366.95287,
              0.1320453608
             ]
            },
            {
             "iteration": 225,
             "learn": [
              70288.21613,
              0.1829344429
             ],
             "passed_time": 30.96825546,
             "remaining_time": 37.54558406,
             "test": [
              75367.33866,
              0.132036475
             ]
            },
            {
             "iteration": 226,
             "learn": [
              70288.0751,
              0.1829377216
             ],
             "passed_time": 31.0533292,
             "remaining_time": 37.34607432,
             "test": [
              75367.4444,
              0.1320340394
             ]
            },
            {
             "iteration": 227,
             "learn": [
              70287.22347,
              0.182957521
             ],
             "passed_time": 31.18108751,
             "remaining_time": 37.19849037,
             "test": [
              75367.11731,
              0.1320415734
             ]
            },
            {
             "iteration": 228,
             "learn": [
              70285.3519,
              0.1830010319
             ],
             "passed_time": 31.30210444,
             "remaining_time": 37.04310176,
             "test": [
              75367.4171,
              0.1320346683
             ]
            },
            {
             "iteration": 229,
             "learn": [
              70271.90412,
              0.1833136369
             ],
             "passed_time": 31.42172758,
             "remaining_time": 36.88637585,
             "test": [
              75369.84247,
              0.131978804
             ]
            },
            {
             "iteration": 230,
             "learn": [
              70267.12594,
              0.1834246951
             ],
             "passed_time": 31.55171999,
             "remaining_time": 36.74204622,
             "test": [
              75368.36685,
              0.1320127927
             ]
            },
            {
             "iteration": 231,
             "learn": [
              70254.4439,
              0.183719425
             ],
             "passed_time": 31.68953811,
             "remaining_time": 36.60688023,
             "test": [
              75371.42736,
              0.1319422979
             ]
            },
            {
             "iteration": 232,
             "learn": [
              70251.03686,
              0.1837985954
             ],
             "passed_time": 31.82616717,
             "remaining_time": 36.47032891,
             "test": [
              75369.97637,
              0.1319757199
             ]
            },
            {
             "iteration": 233,
             "learn": [
              70216.85995,
              0.184592561
             ],
             "passed_time": 31.96805398,
             "remaining_time": 36.33975367,
             "test": [
              75369.83875,
              0.1319788898
             ]
            },
            {
             "iteration": 234,
             "learn": [
              70204.86574,
              0.1848711074
             ],
             "passed_time": 32.10393944,
             "remaining_time": 36.20231469,
             "test": [
              75373.45225,
              0.1318956556
             ]
            },
            {
             "iteration": 235,
             "learn": [
              70193.519,
              0.1851345738
             ],
             "passed_time": 32.1831665,
             "remaining_time": 36.00150829,
             "test": [
              75377.55608,
              0.1318011224
             ]
            },
            {
             "iteration": 236,
             "learn": [
              70191.28312,
              0.1851864849
             ],
             "passed_time": 32.32939071,
             "remaining_time": 35.87607492,
             "test": [
              75376.91305,
              0.1318159352
             ]
            },
            {
             "iteration": 237,
             "learn": [
              70180.53512,
              0.1854360016
             ],
             "passed_time": 32.40726377,
             "remaining_time": 35.67522314,
             "test": [
              75381.45041,
              0.1317114102
             ]
            },
            {
             "iteration": 238,
             "learn": [
              70180.14032,
              0.1854451661
             ],
             "passed_time": 32.55752082,
             "remaining_time": 35.55444742,
             "test": [
              75381.89462,
              0.1317011768
             ]
            },
            {
             "iteration": 239,
             "learn": [
              70174.72863,
              0.1855707843
             ],
             "passed_time": 32.69427356,
             "remaining_time": 35.41879636,
             "test": [
              75377.96241,
              0.1317917621
             ]
            },
            {
             "iteration": 240,
             "learn": [
              70164.55099,
              0.185807005
             ],
             "passed_time": 32.82845384,
             "remaining_time": 35.28037156,
             "test": [
              75382.89348,
              0.1316781657
             ]
            },
            {
             "iteration": 241,
             "learn": [
              70163.83025,
              0.1858237319
             ],
             "passed_time": 32.95730829,
             "remaining_time": 35.13630388,
             "test": [
              75382.63262,
              0.1316841754
             ]
            },
            {
             "iteration": 242,
             "learn": [
              70163.76386,
              0.1858252727
             ],
             "passed_time": 33.08143855,
             "remaining_time": 34.98736506,
             "test": [
              75382.59534,
              0.1316850342
             ]
            },
            {
             "iteration": 243,
             "learn": [
              70154.11978,
              0.1860490757
             ],
             "passed_time": 33.16454814,
             "remaining_time": 34.79559149,
             "test": [
              75387.88873,
              0.131563083
             ]
            },
            {
             "iteration": 244,
             "learn": [
              70147.31805,
              0.1862068999
             ],
             "passed_time": 33.28078934,
             "remaining_time": 34.63918891,
             "test": [
              75388.33028,
              0.1315529101
             ]
            },
            {
             "iteration": 245,
             "learn": [
              70138.681,
              0.1864072877
             ],
             "passed_time": 33.43523531,
             "remaining_time": 34.52256004,
             "test": [
              75387.64521,
              0.1315686936
             ]
            },
            {
             "iteration": 246,
             "learn": [
              70129.53567,
              0.1866194413
             ],
             "passed_time": 33.57057771,
             "remaining_time": 34.38605733,
             "test": [
              75393.25089,
              0.131439539
             ]
            },
            {
             "iteration": 247,
             "learn": [
              70129.47658,
              0.186620812
             ],
             "passed_time": 33.69999308,
             "remaining_time": 34.24354136,
             "test": [
              75393.21746,
              0.1314403092
             ]
            },
            {
             "iteration": 248,
             "learn": [
              70129.42535,
              0.1866220004
             ],
             "passed_time": 33.77185992,
             "remaining_time": 34.04311984,
             "test": [
              75393.18836,
              0.1314409798
             ]
            },
            {
             "iteration": 249,
             "learn": [
              70128.8869,
              0.1866344905
             ],
             "passed_time": 33.89998285,
             "remaining_time": 33.89998285,
             "test": [
              75393.68173,
              0.1314296122
             ]
            },
            {
             "iteration": 250,
             "learn": [
              70127.59144,
              0.1866645401
             ],
             "passed_time": 34.04263122,
             "remaining_time": 33.7713752,
             "test": [
              75393.89927,
              0.1314245998
             ]
            },
            {
             "iteration": 251,
             "learn": [
              70118.91806,
              0.1868657143
             ],
             "passed_time": 34.12251844,
             "remaining_time": 33.58089116,
             "test": [
              75399.80161,
              0.1312885987
             ]
            },
            {
             "iteration": 252,
             "learn": [
              70117.84362,
              0.1868906337
             ],
             "passed_time": 34.19702437,
             "remaining_time": 33.38602774,
             "test": [
              75400.0281,
              0.1312833796
             ]
            },
            {
             "iteration": 253,
             "learn": [
              70117.75808,
              0.1868926176
             ],
             "passed_time": 34.33083978,
             "remaining_time": 33.24955349,
             "test": [
              75399.86305,
              0.131287183
             ]
            },
            {
             "iteration": 254,
             "learn": [
              70116.86777,
              0.186913266
             ],
             "passed_time": 34.4697806,
             "remaining_time": 33.1180245,
             "test": [
              75400.09195,
              0.1312819083
             ]
            },
            {
             "iteration": 255,
             "learn": [
              70103.21179,
              0.1872299492
             ],
             "passed_time": 34.62318798,
             "remaining_time": 33.00022605,
             "test": [
              75404.41132,
              0.1311823747
             ]
            },
            {
             "iteration": 256,
             "learn": [
              70102.47862,
              0.1872469498
             ],
             "passed_time": 34.70221108,
             "remaining_time": 32.81181826,
             "test": [
              75404.63518,
              0.1311772161
             ]
            },
            {
             "iteration": 257,
             "learn": [
              70101.98008,
              0.1872585097
             ],
             "passed_time": 34.79616475,
             "remaining_time": 32.63826306,
             "test": [
              75404.50899,
              0.131180124
             ]
            },
            {
             "iteration": 258,
             "learn": [
              70095.98952,
              0.1873974091
             ],
             "passed_time": 34.93810489,
             "remaining_time": 32.50997405,
             "test": [
              75405.16994,
              0.131164893
             ]
            },
            {
             "iteration": 259,
             "learn": [
              70095.90711,
              0.1873993199
             ],
             "passed_time": 35.06966256,
             "remaining_time": 32.37199621,
             "test": [
              75405.00514,
              0.1311686907
             ]
            },
            {
             "iteration": 260,
             "learn": [
              70095.46096,
              0.1874096641
             ],
             "passed_time": 35.20194181,
             "remaining_time": 32.23472833,
             "test": [
              75405.4962,
              0.1311573743
             ]
            },
            {
             "iteration": 261,
             "learn": [
              70094.9078,
              0.1874224891
             ],
             "passed_time": 35.34438058,
             "remaining_time": 32.1067274,
             "test": [
              75405.71679,
              0.131152291
             ]
            },
            {
             "iteration": 262,
             "learn": [
              70093.3981,
              0.1874574914
             ],
             "passed_time": 35.49074714,
             "remaining_time": 31.98215616,
             "test": [
              75405.19805,
              0.131164245
             ]
            },
            {
             "iteration": 263,
             "learn": [
              70093.01977,
              0.1874662627
             ],
             "passed_time": 35.58518424,
             "remaining_time": 31.81099803,
             "test": [
              75405.67485,
              0.1311532574
             ]
            },
            {
             "iteration": 264,
             "learn": [
              70090.5526,
              0.1875234617
             ],
             "passed_time": 35.70302763,
             "remaining_time": 31.66117545,
             "test": [
              75405.6996,
              0.131152687
             ]
            },
            {
             "iteration": 265,
             "learn": [
              70085.05406,
              0.1876509327
             ],
             "passed_time": 35.82182963,
             "remaining_time": 31.51243659,
             "test": [
              75406.52923,
              0.1311335685
             ]
            },
            {
             "iteration": 266,
             "learn": [
              70084.51617,
              0.1876634019
             ],
             "passed_time": 35.92802515,
             "remaining_time": 31.35292082,
             "test": [
              75406.33216,
              0.1311381099
             ]
            },
            {
             "iteration": 267,
             "learn": [
              70080.70375,
              0.1877517777
             ],
             "passed_time": 36.06475982,
             "remaining_time": 31.22023985,
             "test": [
              75406.50367,
              0.1311341576
             ]
            },
            {
             "iteration": 268,
             "learn": [
              70073.01544,
              0.1879299856
             ],
             "passed_time": 36.19647387,
             "remaining_time": 31.08321734,
             "test": [
              75405.39585,
              0.131159687
             ]
            },
            {
             "iteration": 269,
             "learn": [
              70058.48843,
              0.1882666554
             ],
             "passed_time": 36.36353693,
             "remaining_time": 30.97634627,
             "test": [
              75409.38012,
              0.1310678689
             ]
            },
            {
             "iteration": 270,
             "learn": [
              70058.01783,
              0.1882775606
             ],
             "passed_time": 36.48128132,
             "remaining_time": 30.8273558,
             "test": [
              75409.57191,
              0.1310634489
             ]
            },
            {
             "iteration": 271,
             "learn": [
              70057.63216,
              0.1882864975
             ],
             "passed_time": 36.62300237,
             "remaining_time": 30.69869317,
             "test": [
              75409.76215,
              0.1310590648
             ]
            },
            {
             "iteration": 272,
             "learn": [
              70057.35536,
              0.1882929116
             ],
             "passed_time": 36.73616273,
             "remaining_time": 30.54618659,
             "test": [
              75409.65472,
              0.1310615405
             ]
            },
            {
             "iteration": 273,
             "learn": [
              70057.09178,
              0.1882990195
             ],
             "passed_time": 36.88506362,
             "remaining_time": 30.42344664,
             "test": [
              75410.00495,
              0.1310534691
             ]
            },
            {
             "iteration": 274,
             "learn": [
              70056.86376,
              0.1883043033
             ],
             "passed_time": 36.96057947,
             "remaining_time": 30.24047411,
             "test": [
              75410.33559,
              0.1310458492
             ]
            },
            {
             "iteration": 275,
             "learn": [
              70055.73041,
              0.1883305656
             ],
             "passed_time": 37.19953037,
             "remaining_time": 30.1909232,
             "test": [
              75410.24264,
              0.1310479915
             ]
            },
            {
             "iteration": 276,
             "learn": [
              70055.40717,
              0.1883380558
             ],
             "passed_time": 37.34252819,
             "remaining_time": 30.06275735,
             "test": [
              75410.42798,
              0.1310437201
             ]
            },
            {
             "iteration": 277,
             "learn": [
              70055.12516,
              0.1883445904
             ],
             "passed_time": 37.43121559,
             "remaining_time": 29.89111461,
             "test": [
              75410.59284,
              0.1310399207
             ]
            },
            {
             "iteration": 278,
             "learn": [
              70048.21967,
              0.188504596
             ],
             "passed_time": 37.60486125,
             "remaining_time": 29.78736321,
             "test": [
              75407.87756,
              0.1311024961
             ]
            },
            {
             "iteration": 279,
             "learn": [
              70046.79475,
              0.1885376104
             ],
             "passed_time": 37.75029455,
             "remaining_time": 29.66094572,
             "test": [
              75407.65206,
              0.131107693
             ]
            },
            {
             "iteration": 280,
             "learn": [
              70035.96852,
              0.1887884256
             ],
             "passed_time": 37.91246947,
             "remaining_time": 29.54744062,
             "test": [
              75408.05957,
              0.1310983017
             ]
            },
            {
             "iteration": 281,
             "learn": [
              70020.5419,
              0.1891457528
             ],
             "passed_time": 38.07477432,
             "remaining_time": 29.43369078,
             "test": [
              75409.75739,
              0.1310591745
             ]
            },
            {
             "iteration": 282,
             "learn": [
              70020.46393,
              0.1891475587
             ],
             "passed_time": 38.24730343,
             "remaining_time": 29.32743761,
             "test": [
              75409.58685,
              0.1310631046
             ]
            },
            {
             "iteration": 283,
             "learn": [
              70009.08684,
              0.1894110357
             ],
             "passed_time": 38.36174187,
             "remaining_time": 29.17653607,
             "test": [
              75409.54339,
              0.1310641063
             ]
            },
            {
             "iteration": 284,
             "learn": [
              70002.01387,
              0.1895748139
             ],
             "passed_time": 38.50784464,
             "remaining_time": 29.04977754,
             "test": [
              75407.47236,
              0.1311118341
             ]
            },
            {
             "iteration": 285,
             "learn": [
              70001.64281,
              0.1895834054
             ],
             "passed_time": 38.62193243,
             "remaining_time": 28.89892846,
             "test": [
              75407.62758,
              0.1311082571
             ]
            },
            {
             "iteration": 286,
             "learn": [
              70000.97845,
              0.1895987881
             ],
             "passed_time": 38.71987516,
             "remaining_time": 28.73635334,
             "test": [
              75407.4172,
              0.1311131052
             ]
            },
            {
             "iteration": 287,
             "learn": [
              69995.12125,
              0.1897344001
             ],
             "passed_time": 38.88041051,
             "remaining_time": 28.62030218,
             "test": [
              75403.18456,
              0.1312106443
             ]
            },
            {
             "iteration": 288,
             "learn": [
              69994.83506,
              0.189741026
             ],
             "passed_time": 39.04223473,
             "remaining_time": 28.50488418,
             "test": [
              75403.60304,
              0.1312010008
             ]
            },
            {
             "iteration": 289,
             "learn": [
              69994.56736,
              0.1897472237
             ],
             "passed_time": 39.18807856,
             "remaining_time": 28.37757413,
             "test": [
              75403.56328,
              0.1312019172
             ]
            },
            {
             "iteration": 290,
             "learn": [
              69960.47572,
              0.1905363168
             ],
             "passed_time": 39.33974176,
             "remaining_time": 28.25431625,
             "test": [
              75400.23079,
              0.1312787091
             ]
            },
            {
             "iteration": 291,
             "learn": [
              69957.97004,
              0.1905942988
             ],
             "passed_time": 39.47042665,
             "remaining_time": 28.11592035,
             "test": [
              75400.87714,
              0.1312638153
             ]
            },
            {
             "iteration": 292,
             "learn": [
              69956.77518,
              0.1906219475
             ],
             "passed_time": 39.6258586,
             "remaining_time": 27.99506051,
             "test": [
              75400.56932,
              0.1312709084
             ]
            },
            {
             "iteration": 293,
             "learn": [
              69935.69794,
              0.191109588
             ],
             "passed_time": 39.77559688,
             "remaining_time": 27.86997605,
             "test": [
              75400.96485,
              0.1312617942
             ]
            },
            {
             "iteration": 294,
             "learn": [
              69932.25452,
              0.1911892407
             ],
             "passed_time": 39.90963715,
             "remaining_time": 27.73381564,
             "test": [
              75400.41596,
              0.1312744422
             ]
            },
            {
             "iteration": 295,
             "learn": [
              69927.69256,
              0.1912947613
             ],
             "passed_time": 40.04508853,
             "remaining_time": 27.5986421,
             "test": [
              75402.78249,
              0.1312199094
             ]
            },
            {
             "iteration": 296,
             "learn": [
              69927.12994,
              0.1913077743
             ],
             "passed_time": 40.14451213,
             "remaining_time": 27.43884162,
             "test": [
              75403.60317,
              0.1312009978
             ]
            },
            {
             "iteration": 297,
             "learn": [
              69914.72112,
              0.1915947597
             ],
             "passed_time": 40.31361452,
             "remaining_time": 27.3266783,
             "test": [
              75408.09436,
              0.1310974999
             ]
            },
            {
             "iteration": 298,
             "learn": [
              69914.23794,
              0.1916059333
             ],
             "passed_time": 40.45059706,
             "remaining_time": 27.19254184,
             "test": [
              75407.86574,
              0.1311027684
             ]
            },
            {
             "iteration": 299,
             "learn": [
              69909.0238,
              0.1917265074
             ],
             "passed_time": 40.59845792,
             "remaining_time": 27.06563861,
             "test": [
              75408.09265,
              0.1310975394
             ]
            },
            {
             "iteration": 300,
             "learn": [
              69908.25928,
              0.1917441856
             ],
             "passed_time": 40.72986703,
             "remaining_time": 26.9277194,
             "test": [
              75407.90679,
              0.1311018226
             ]
            },
            {
             "iteration": 301,
             "learn": [
              69897.10403,
              0.1920021116
             ],
             "passed_time": 40.88915204,
             "remaining_time": 26.80811955,
             "test": [
              75405.74892,
              0.1311515507
             ]
            },
            {
             "iteration": 302,
             "learn": [
              69891.06055,
              0.1921418287
             ],
             "passed_time": 41.02342115,
             "remaining_time": 26.67199329,
             "test": [
              75405.63948,
              0.1311540727
             ]
            },
            {
             "iteration": 303,
             "learn": [
              69890.96383,
              0.1921440647
             ],
             "passed_time": 41.15427427,
             "remaining_time": 26.53367683,
             "test": [
              75405.56094,
              0.1311558824
             ]
            },
            {
             "iteration": 304,
             "learn": [
              69886.17629,
              0.1922547373
             ],
             "passed_time": 41.29998727,
             "remaining_time": 26.4049099,
             "test": [
              75404.35352,
              0.1311837068
             ]
            },
            {
             "iteration": 305,
             "learn": [
              69885.97455,
              0.1922594007
             ],
             "passed_time": 41.40838511,
             "remaining_time": 26.25237487,
             "test": [
              75404.34902,
              0.1311838104
             ]
            },
            {
             "iteration": 306,
             "learn": [
              69882.18731,
              0.1923469439
             ],
             "passed_time": 41.52997325,
             "remaining_time": 26.10841967,
             "test": [
              75405.73925,
              0.1311517734
             ]
            },
            {
             "iteration": 307,
             "learn": [
              69869.5572,
              0.1926388589
             ],
             "passed_time": 41.64130905,
             "remaining_time": 25.95821863,
             "test": [
              75407.07823,
              0.1311209168
             ]
            },
            {
             "iteration": 308,
             "learn": [
              69868.88108,
              0.1926544843
             ],
             "passed_time": 41.78224247,
             "remaining_time": 25.82656411,
             "test": [
              75406.76664,
              0.1311280975
             ]
            },
            {
             "iteration": 309,
             "learn": [
              69868.24582,
              0.1926691652
             ],
             "passed_time": 41.86516651,
             "remaining_time": 25.65929561,
             "test": [
              75406.79025,
              0.1311275533
             ]
            },
            {
             "iteration": 310,
             "learn": [
              69866.42928,
              0.1927111451
             ],
             "passed_time": 42.0177313,
             "remaining_time": 25.53489137,
             "test": [
              75406.56906,
              0.1311326507
             ]
            },
            {
             "iteration": 311,
             "learn": [
              69860.73762,
              0.1928426711
             ],
             "passed_time": 42.15170724,
             "remaining_time": 25.39910565,
             "test": [
              75406.59781,
              0.131131988
             ]
            },
            {
             "iteration": 312,
             "learn": [
              69856.70603,
              0.192935829
             ],
             "passed_time": 42.3088024,
             "remaining_time": 25.27714393,
             "test": [
              75407.83197,
              0.1311035467
             ]
            },
            {
             "iteration": 313,
             "learn": [
              69854.40764,
              0.1929889352
             ],
             "passed_time": 42.44134415,
             "remaining_time": 25.14041405,
             "test": [
              75407.40357,
              0.1311134193
             ]
            },
            {
             "iteration": 314,
             "learn": [
              69854.01668,
              0.1929979687
             ],
             "passed_time": 42.57287346,
             "remaining_time": 25.00311616,
             "test": [
              75407.3789,
              0.1311139879
             ]
            },
            {
             "iteration": 315,
             "learn": [
              69852.25912,
              0.1930385773
             ],
             "passed_time": 42.73696381,
             "remaining_time": 24.88481437,
             "test": [
              75407.00219,
              0.1311226691
             ]
            },
            {
             "iteration": 316,
             "learn": [
              69847.92811,
              0.1931386413
             ],
             "passed_time": 42.86588414,
             "remaining_time": 24.74592049,
             "test": [
              75407.34521,
              0.1311147642
             ]
            },
            {
             "iteration": 317,
             "learn": [
              69847.45815,
              0.1931494989
             ],
             "passed_time": 42.97972085,
             "remaining_time": 24.59845659,
             "test": [
              75407.38266,
              0.1311139013
             ]
            },
            {
             "iteration": 318,
             "learn": [
              69838.67273,
              0.1933524575
             ],
             "passed_time": 43.12061779,
             "remaining_time": 24.46655743,
             "test": [
              75411.12914,
              0.131027561
             ]
            },
            {
             "iteration": 319,
             "learn": [
              69838.12671,
              0.1933650706
             ],
             "passed_time": 43.27257667,
             "remaining_time": 24.34082438,
             "test": [
              75410.93925,
              0.1310319372
             ]
            },
            {
             "iteration": 320,
             "learn": [
              69832.21646,
              0.1935015925
             ],
             "passed_time": 43.43932677,
             "remaining_time": 24.22317599,
             "test": [
              75408.66513,
              0.1310843462
             ]
            },
            {
             "iteration": 321,
             "learn": [
              69821.17084,
              0.193756706
             ],
             "passed_time": 43.59401947,
             "remaining_time": 24.09855735,
             "test": [
              75408.6279,
              0.1310852044
             ]
            },
            {
             "iteration": 322,
             "learn": [
              69820.66152,
              0.1937684684
             ],
             "passed_time": 43.74932876,
             "remaining_time": 23.97409037,
             "test": [
              75408.70884,
              0.1310833391
             ]
            },
            {
             "iteration": 323,
             "learn": [
              69818.51037,
              0.193818147
             ],
             "passed_time": 43.9042398,
             "remaining_time": 23.84921668,
             "test": [
              75408.68322,
              0.1310839294
             ]
            },
            {
             "iteration": 324,
             "learn": [
              69816.59578,
              0.1938623615
             ],
             "passed_time": 44.05167475,
             "remaining_time": 23.72013256,
             "test": [
              75408.60574,
              0.1310857149
             ]
            },
            {
             "iteration": 325,
             "learn": [
              69812.73551,
              0.1939515042
             ],
             "passed_time": 44.19108754,
             "remaining_time": 23.58665409,
             "test": [
              75409.45614,
              0.1310661169
             ]
            },
            {
             "iteration": 326,
             "learn": [
              69812.28051,
              0.1939620108
             ],
             "passed_time": 44.34190145,
             "remaining_time": 23.4591711,
             "test": [
              75409.55783,
              0.1310637735
             ]
            },
            {
             "iteration": 327,
             "learn": [
              69791.06333,
              0.1944518746
             ],
             "passed_time": 44.49046238,
             "remaining_time": 23.33036442,
             "test": [
              75409.35982,
              0.1310683367
             ]
            },
            {
             "iteration": 328,
             "learn": [
              69783.56673,
              0.1946249211
             ],
             "passed_time": 44.60029726,
             "remaining_time": 23.18130952,
             "test": [
              75409.65888,
              0.1310614448
             ]
            },
            {
             "iteration": 329,
             "learn": [
              69774.25467,
              0.1948398486
             ],
             "passed_time": 44.72976212,
             "remaining_time": 23.04260473,
             "test": [
              75408.75768,
              0.1310822134
             ]
            },
            {
             "iteration": 330,
             "learn": [
              69773.85145,
              0.1948491544
             ],
             "passed_time": 44.86503064,
             "remaining_time": 22.90691897,
             "test": [
              75408.87686,
              0.1310794668
             ]
            },
            {
             "iteration": 331,
             "learn": [
              69763.43082,
              0.1950896327
             ],
             "passed_time": 45.02935573,
             "remaining_time": 22.78593904,
             "test": [
              75413.71317,
              0.1309680077
             ]
            },
            {
             "iteration": 332,
             "learn": [
              69759.69689,
              0.1951757924
             ],
             "passed_time": 45.15247013,
             "remaining_time": 22.64403157,
             "test": [
              75415.51571,
              0.1309264641
             ]
            },
            {
             "iteration": 333,
             "learn": [
              69753.26471,
              0.195324203
             ],
             "passed_time": 45.22147531,
             "remaining_time": 22.47534402,
             "test": [
              75416.25017,
              0.1309095363
             ]
            },
            {
             "iteration": 334,
             "learn": [
              69751.62903,
              0.195361941
             ],
             "passed_time": 45.36234191,
             "remaining_time": 22.34264602,
             "test": [
              75417.77277,
              0.1308744434
             ]
            },
            {
             "iteration": 335,
             "learn": [
              69742.9292,
              0.1955626468
             ],
             "passed_time": 45.50001116,
             "remaining_time": 22.20833878,
             "test": [
              75417.64401,
              0.1308774111
             ]
            },
            {
             "iteration": 336,
             "learn": [
              69691.05674,
              0.196758829
             ],
             "passed_time": 45.64888931,
             "remaining_time": 22.07943311,
             "test": [
              75419.28099,
              0.1308396812
             ]
            },
            {
             "iteration": 337,
             "learn": [
              69669.59144,
              0.1972535598
             ],
             "passed_time": 45.80691993,
             "remaining_time": 21.95479595,
             "test": [
              75418.67389,
              0.1308536739
             ]
            },
            {
             "iteration": 338,
             "learn": [
              69660.72012,
              0.197457981
             ],
             "passed_time": 45.97783932,
             "remaining_time": 21.83608298,
             "test": [
              75418.47179,
              0.1308583321
             ]
            },
            {
             "iteration": 339,
             "learn": [
              69660.26863,
              0.1974683841
             ],
             "passed_time": 46.11385122,
             "remaining_time": 21.70063587,
             "test": [
              75419.33663,
              0.1308383988
             ]
            },
            {
             "iteration": 340,
             "learn": [
              69659.90161,
              0.1974768405
             ],
             "passed_time": 46.26728306,
             "remaining_time": 21.57330794,
             "test": [
              75419.45956,
              0.1308355653
             ]
            },
            {
             "iteration": 341,
             "learn": [
              69650.94326,
              0.1976832382
             ],
             "passed_time": 46.42473272,
             "remaining_time": 21.44768354,
             "test": [
              75424.63512,
              0.1307162707
             ]
            },
            {
             "iteration": 342,
             "learn": [
              69650.55663,
              0.1976921455
             ],
             "passed_time": 46.56302189,
             "remaining_time": 21.31310331,
             "test": [
              75424.61377,
              0.1307167628
             ]
            },
            {
             "iteration": 343,
             "learn": [
              69650.33976,
              0.1976971419
             ],
             "passed_time": 46.70426119,
             "remaining_time": 21.17983937,
             "test": [
              75424.55944,
              0.1307180151
             ]
            },
            {
             "iteration": 344,
             "learn": [
              69650.12981,
              0.1977019787
             ],
             "passed_time": 46.81508171,
             "remaining_time": 21.0328628,
             "test": [
              75424.65344,
              0.1307158486
             ]
            },
            {
             "iteration": 345,
             "learn": [
              69649.70553,
              0.1977117532
             ],
             "passed_time": 46.87964782,
             "remaining_time": 20.86550799,
             "test": [
              75424.69177,
              0.130714965
             ]
            },
            {
             "iteration": 346,
             "learn": [
              69649.0063,
              0.1977278618
             ],
             "passed_time": 46.99690004,
             "remaining_time": 20.7219761,
             "test": [
              75424.12542,
              0.1307280195
             ]
            },
            {
             "iteration": 347,
             "learn": [
              69637.82244,
              0.1979854901
             ],
             "passed_time": 47.15467883,
             "remaining_time": 20.5962965,
             "test": [
              75422.61139,
              0.1307629178
             ]
            },
            {
             "iteration": 348,
             "learn": [
              69637.66338,
              0.1979891538
             ],
             "passed_time": 47.27980336,
             "remaining_time": 20.4563046,
             "test": [
              75422.61982,
              0.1307627237
             ]
            },
            {
             "iteration": 349,
             "learn": [
              69637.34924,
              0.1979963896
             ],
             "passed_time": 47.44518632,
             "remaining_time": 20.33365128,
             "test": [
              75422.74672,
              0.1307597985
             ]
            },
            {
             "iteration": 350,
             "learn": [
              69623.61231,
              0.1983127711
             ],
             "passed_time": 47.58787133,
             "remaining_time": 20.20111917,
             "test": [
              75424.15212,
              0.1307274041
             ]
            },
            {
             "iteration": 351,
             "learn": [
              69623.32991,
              0.1983192744
             ],
             "passed_time": 47.72896917,
             "remaining_time": 20.06786204,
             "test": [
              75424.28786,
              0.1307242753
             ]
            },
            {
             "iteration": 352,
             "learn": [
              69617.0942,
              0.1984628708
             ],
             "passed_time": 47.87624851,
             "remaining_time": 19.93713465,
             "test": [
              75425.32129,
              0.1307004542
             ]
            },
            {
             "iteration": 353,
             "learn": [
              69617.05901,
              0.198463681
             ],
             "passed_time": 47.97743194,
             "remaining_time": 19.78730244,
             "test": [
              75425.30495,
              0.1307008308
             ]
            },
            {
             "iteration": 354,
             "learn": [
              69616.90523,
              0.1984672221
             ],
             "passed_time": 48.05247389,
             "remaining_time": 19.6270668,
             "test": [
              75425.30375,
              0.1307008585
             ]
            },
            {
             "iteration": 355,
             "learn": [
              69598.97604,
              0.1988800236
             ],
             "passed_time": 48.1778998,
             "remaining_time": 19.48768981,
             "test": [
              75424.85527,
              0.1307111963
             ]
            },
            {
             "iteration": 356,
             "learn": [
              69597.22457,
              0.1989203438
             ],
             "passed_time": 48.35711733,
             "remaining_time": 19.36993775,
             "test": [
              75423.51228,
              0.1307421524
             ]
            },
            {
             "iteration": 357,
             "learn": [
              69595.29107,
              0.1989648533
             ],
             "passed_time": 48.50609027,
             "remaining_time": 19.23984586,
             "test": [
              75424.12035,
              0.1307281364
             ]
            },
            {
             "iteration": 358,
             "learn": [
              69593.96882,
              0.198995291
             ],
             "passed_time": 48.62101737,
             "remaining_time": 19.09627702,
             "test": [
              75425.62884,
              0.130693365
             ]
            },
            {
             "iteration": 359,
             "learn": [
              69585.32745,
              0.1991941975
             ],
             "passed_time": 48.75624364,
             "remaining_time": 18.96076142,
             "test": [
              75426.04603,
              0.1306837483
             ]
            },
            {
             "iteration": 360,
             "learn": [
              69574.26998,
              0.1994486817
             ],
             "passed_time": 48.88872047,
             "remaining_time": 18.82418877,
             "test": [
              75425.97931,
              0.1306852864
             ]
            },
            {
             "iteration": 361,
             "learn": [
              69574.03719,
              0.1994540388
             ],
             "passed_time": 49.00050635,
             "remaining_time": 18.67975104,
             "test": [
              75425.91678,
              0.1306867278
             ]
            },
            {
             "iteration": 362,
             "learn": [
              69568.9771,
              0.1995704812
             ],
             "passed_time": 49.16794209,
             "remaining_time": 18.55649605,
             "test": [
              75427.86628,
              0.1306417896
             ]
            },
            {
             "iteration": 363,
             "learn": [
              69555.48635,
              0.1998808883
             ],
             "passed_time": 49.3306536,
             "remaining_time": 18.43123321,
             "test": [
              75427.87537,
              0.13064158
             ]
            },
            {
             "iteration": 364,
             "learn": [
              69555.25156,
              0.1998862899
             ],
             "passed_time": 49.4927205,
             "remaining_time": 18.30552676,
             "test": [
              75427.95995,
              0.1306396305
             ]
            },
            {
             "iteration": 365,
             "learn": [
              69527.86992,
              0.2005161235
             ],
             "passed_time": 49.6278488,
             "remaining_time": 18.16975885,
             "test": [
              75427.41604,
              0.1306521683
             ]
            },
            {
             "iteration": 366,
             "learn": [
              69527.63614,
              0.2005214998
             ],
             "passed_time": 49.76648779,
             "remaining_time": 18.03526669,
             "test": [
              75427.50855,
              0.1306500359
             ]
            },
            {
             "iteration": 367,
             "learn": [
              69525.28587,
              0.2005755491
             ],
             "passed_time": 49.90184094,
             "remaining_time": 17.89957338,
             "test": [
              75429.36231,
              0.1306073038
             ]
            },
            {
             "iteration": 368,
             "learn": [
              69516.25108,
              0.2007833056
             ],
             "passed_time": 50.0585425,
             "remaining_time": 17.77146089,
             "test": [
              75430.42907,
              0.1305827127
             ]
            },
            {
             "iteration": 369,
             "learn": [
              69514.43036,
              0.20082517
             ],
             "passed_time": 50.22234315,
             "remaining_time": 17.64568813,
             "test": [
              75430.86912,
              0.1305725686
             ]
            },
            {
             "iteration": 370,
             "learn": [
              69510.54619,
              0.2009144765
             ],
             "passed_time": 50.39729036,
             "remaining_time": 17.52358614,
             "test": [
              75430.44207,
              0.1305824132
             ]
            },
            {
             "iteration": 371,
             "learn": [
              69505.3584,
              0.2010337486
             ],
             "passed_time": 50.52337065,
             "remaining_time": 17.3843856,
             "test": [
              75429.96953,
              0.1305933061
             ]
            },
            {
             "iteration": 372,
             "learn": [
              69494.90945,
              0.2012739525
             ],
             "passed_time": 50.69406423,
             "remaining_time": 17.26044546,
             "test": [
              75428.94853,
              0.1306168421
             ]
            },
            {
             "iteration": 373,
             "learn": [
              69493.84883,
              0.2012983323
             ],
             "passed_time": 50.84513436,
             "remaining_time": 17.1296442,
             "test": [
              75430.33164,
              0.1305849587
             ]
            },
            {
             "iteration": 374,
             "learn": [
              69478.93732,
              0.2016410553
             ],
             "passed_time": 51.01221913,
             "remaining_time": 17.00407304,
             "test": [
              75427.37377,
              0.1306531427
             ]
            },
            {
             "iteration": 375,
             "learn": [
              69478.71292,
              0.2016462123
             ],
             "passed_time": 51.18077151,
             "remaining_time": 16.87876507,
             "test": [
              75427.58108,
              0.1306483638
             ]
            },
            {
             "iteration": 376,
             "learn": [
              69476.78762,
              0.2016904574
             ],
             "passed_time": 51.32227611,
             "remaining_time": 16.74440308,
             "test": [
              75427.45432,
              0.1306512859
             ]
            },
            {
             "iteration": 377,
             "learn": [
              69476.28183,
              0.2017020808
             ],
             "passed_time": 51.46016634,
             "remaining_time": 16.60883676,
             "test": [
              75428.5253,
              0.1306265983
             ]
            },
            {
             "iteration": 378,
             "learn": [
              69472.97619,
              0.2017780441
             ],
             "passed_time": 51.61803959,
             "remaining_time": 16.47963797,
             "test": [
              75428.28837,
              0.1306320597
             ]
            },
            {
             "iteration": 379,
             "learn": [
              69470.14441,
              0.2018431152
             ],
             "passed_time": 51.74268134,
             "remaining_time": 16.33979411,
             "test": [
              75428.58144,
              0.1306253042
             ]
            },
            {
             "iteration": 380,
             "learn": [
              69469.94627,
              0.2018476682
             ],
             "passed_time": 51.88390599,
             "remaining_time": 16.20520948,
             "test": [
              75428.78113,
              0.1306207009
             ]
            },
            {
             "iteration": 381,
             "learn": [
              69453.32335,
              0.2022295898
             ],
             "passed_time": 52.03596406,
             "remaining_time": 16.07393654,
             "test": [
              75428.62869,
              0.1306242149
             ]
            },
            {
             "iteration": 382,
             "learn": [
              69437.14882,
              0.2026011215
             ],
             "passed_time": 52.15208923,
             "remaining_time": 15.93157817,
             "test": [
              75428.25228,
              0.1306328918
             ]
            },
            {
             "iteration": 383,
             "learn": [
              69429.78987,
              0.2027701291
             ],
             "passed_time": 52.29312113,
             "remaining_time": 15.79688034,
             "test": [
              75428.98238,
              0.1306160618
             ]
            },
            {
             "iteration": 384,
             "learn": [
              69426.68482,
              0.2028414353
             ],
             "passed_time": 52.42191751,
             "remaining_time": 15.65849484,
             "test": [
              75431.14089,
              0.1305663036
             ]
            },
            {
             "iteration": 385,
             "learn": [
              69423.2246,
              0.202920894
             ],
             "passed_time": 52.53411963,
             "remaining_time": 15.51525813,
             "test": [
              75430.70986,
              0.1305762399
             ]
            },
            {
             "iteration": 386,
             "learn": [
              69421.88367,
              0.2029516854
             ],
             "passed_time": 52.69322439,
             "remaining_time": 15.38587689,
             "test": [
              75431.06573,
              0.1305680363
             ]
            },
            {
             "iteration": 387,
             "learn": [
              69415.82319,
              0.2030908428
             ],
             "passed_time": 52.88952276,
             "remaining_time": 15.26707874,
             "test": [
              75434.67137,
              0.1304849158
             ]
            },
            {
             "iteration": 388,
             "learn": [
              69407.41171,
              0.2032839624
             ],
             "passed_time": 53.09896988,
             "remaining_time": 15.15163408,
             "test": [
              75431.56923,
              0.1305564294
             ]
            },
            {
             "iteration": 389,
             "learn": [
              69387.50769,
              0.2037408466
             ],
             "passed_time": 53.33090447,
             "remaining_time": 15.04204998,
             "test": [
              75431.71797,
              0.1305530007
             ]
            },
            {
             "iteration": 390,
             "learn": [
              69382.75367,
              0.2038499527
             ],
             "passed_time": 53.53450487,
             "remaining_time": 14.92394125,
             "test": [
              75434.11818,
              0.1304976688
             ]
            },
            {
             "iteration": 391,
             "learn": [
              69380.48315,
              0.2039020594
             ],
             "passed_time": 53.70207539,
             "remaining_time": 14.79546975,
             "test": [
              75433.29731,
              0.1305165925
             ]
            },
            {
             "iteration": 392,
             "learn": [
              69376.76866,
              0.2039873
             ],
             "passed_time": 53.8803357,
             "remaining_time": 14.66970972,
             "test": [
              75431.48395,
              0.1305583953
             ]
            },
            {
             "iteration": 393,
             "learn": [
              69374.14394,
              0.2040475296
             ],
             "passed_time": 54.03469701,
             "remaining_time": 14.53725351,
             "test": [
              75433.87953,
              0.1305031704
             ]
            },
            {
             "iteration": 394,
             "learn": [
              69373.48602,
              0.2040626267
             ],
             "passed_time": 54.2137319,
             "remaining_time": 14.41124519,
             "test": [
              75433.80503,
              0.1305048878
             ]
            },
            {
             "iteration": 395,
             "learn": [
              69362.21142,
              0.2043213175
             ],
             "passed_time": 54.39643005,
             "remaining_time": 14.28593113,
             "test": [
              75436.61923,
              0.1304400104
             ]
            },
            {
             "iteration": 396,
             "learn": [
              69354.87268,
              0.2044896793
             ],
             "passed_time": 54.61142111,
             "remaining_time": 14.16870623,
             "test": [
              75436.46167,
              0.1304436428
             ]
            },
            {
             "iteration": 397,
             "learn": [
              69341.08044,
              0.2048060457
             ],
             "passed_time": 54.80948133,
             "remaining_time": 14.04665099,
             "test": [
              75436.21663,
              0.1304492918
             ]
            },
            {
             "iteration": 398,
             "learn": [
              69326.1015,
              0.2051495615
             ],
             "passed_time": 54.96512601,
             "remaining_time": 13.91347801,
             "test": [
              75435.69816,
              0.1304612446
             ]
            },
            {
             "iteration": 399,
             "learn": [
              69325.51818,
              0.2051629375
             ],
             "passed_time": 55.0525374,
             "remaining_time": 13.76313435,
             "test": [
              75435.64312,
              0.1304625136
             ]
            },
            {
             "iteration": 400,
             "learn": [
              69325.29541,
              0.2051680456
             ],
             "passed_time": 55.15356873,
             "remaining_time": 13.61646709,
             "test": [
              75435.68021,
              0.1304616585
             ]
            },
            {
             "iteration": 401,
             "learn": [
              69324.46638,
              0.2051870556
             ],
             "passed_time": 55.30451553,
             "remaining_time": 13.48219533,
             "test": [
              75435.55827,
              0.1304644697
             ]
            },
            {
             "iteration": 402,
             "learn": [
              69323.74623,
              0.2052035687
             ],
             "passed_time": 55.4691663,
             "remaining_time": 13.35113928,
             "test": [
              75436.93168,
              0.1304328071
             ]
            },
            {
             "iteration": 403,
             "learn": [
              69309.44978,
              0.2055313524
             ],
             "passed_time": 55.62957356,
             "remaining_time": 13.21890857,
             "test": [
              75435.47139,
              0.1304664724
             ]
            },
            {
             "iteration": 404,
             "learn": [
              69308.08597,
              0.2055626178
             ],
             "passed_time": 55.77627842,
             "remaining_time": 13.08332457,
             "test": [
              75434.86751,
              0.1304803942
             ]
            },
            {
             "iteration": 405,
             "learn": [
              69305.04449,
              0.2056323417
             ],
             "passed_time": 55.93782596,
             "remaining_time": 12.95112227,
             "test": [
              75432.97656,
              0.1305239866
             ]
            },
            {
             "iteration": 406,
             "learn": [
              69296.34314,
              0.2058317971
             ],
             "passed_time": 56.07572217,
             "remaining_time": 12.8133714,
             "test": [
              75437.17238,
              0.1304272578
             ]
            },
            {
             "iteration": 407,
             "learn": [
              69293.86709,
              0.2058885495
             ],
             "passed_time": 56.21142013,
             "remaining_time": 12.67512415,
             "test": [
              75437.13505,
              0.1304281185
             ]
            },
            {
             "iteration": 408,
             "learn": [
              69279.37099,
              0.206220767
             ],
             "passed_time": 56.34518397,
             "remaining_time": 12.53645903,
             "test": [
              75436.9204,
              0.1304330672
             ]
            },
            {
             "iteration": 409,
             "learn": [
              69278.67737,
              0.2062366613
             ],
             "passed_time": 56.48875578,
             "remaining_time": 12.39997078,
             "test": [
              75436.86893,
              0.1304342538
             ]
            },
            {
             "iteration": 410,
             "learn": [
              69265.67689,
              0.2065345405
             ],
             "passed_time": 56.65096589,
             "remaining_time": 12.2674841,
             "test": [
              75435.76166,
              0.1304597808
             ]
            },
            {
             "iteration": 411,
             "learn": [
              69253.85186,
              0.2068054381
             ],
             "passed_time": 56.72652378,
             "remaining_time": 12.11634488,
             "test": [
              75434.94479,
              0.1304786126
             ]
            },
            {
             "iteration": 412,
             "learn": [
              69243.08321,
              0.207052095
             ],
             "passed_time": 56.81207734,
             "remaining_time": 11.96767731,
             "test": [
              75434.35953,
              0.1304921049
             ]
            },
            {
             "iteration": 413,
             "learn": [
              69234.74871,
              0.207242971
             ],
             "passed_time": 56.96461767,
             "remaining_time": 11.83322976,
             "test": [
              75435.30908,
              0.1304702143
             ]
            },
            {
             "iteration": 414,
             "learn": [
              69234.1476,
              0.2072567368
             ],
             "passed_time": 57.08867214,
             "remaining_time": 11.69286056,
             "test": [
              75435.29982,
              0.1304704278
             ]
            },
            {
             "iteration": 415,
             "learn": [
              69209.10125,
              0.2078302033
             ],
             "passed_time": 57.2212338,
             "remaining_time": 11.55428759,
             "test": [
              75435.27805,
              0.1304709297
             ]
            },
            {
             "iteration": 416,
             "learn": [
              69199.79424,
              0.2080432457
             ],
             "passed_time": 57.31762379,
             "remaining_time": 11.40854382,
             "test": [
              75435.31611,
              0.1304700522
             ]
            },
            {
             "iteration": 417,
             "learn": [
              69199.21329,
              0.2080565431
             ],
             "passed_time": 57.43986345,
             "remaining_time": 11.26810718,
             "test": [
              75436.60492,
              0.1304403403
             ]
            },
            {
             "iteration": 418,
             "learn": [
              69198.38806,
              0.2080754315
             ],
             "passed_time": 57.57378318,
             "remaining_time": 11.13001536,
             "test": [
              75436.15651,
              0.1304506779
             ]
            },
            {
             "iteration": 419,
             "learn": [
              69166.10766,
              0.20881411
             ],
             "passed_time": 57.72189791,
             "remaining_time": 10.99464722,
             "test": [
              75436.79246,
              0.1304360166
             ]
            },
            {
             "iteration": 420,
             "learn": [
              69152.52017,
              0.2091249318
             ],
             "passed_time": 57.85708131,
             "remaining_time": 10.85679198,
             "test": [
              75438.08709,
              0.13040617
             ]
            },
            {
             "iteration": 421,
             "learn": [
              69151.86931,
              0.2091398191
             ],
             "passed_time": 57.98408406,
             "remaining_time": 10.71743734,
             "test": [
              75438.28512,
              0.1304016043
             ]
            },
            {
             "iteration": 422,
             "learn": [
              69144.77926,
              0.2093019827
             ],
             "passed_time": 58.14096395,
             "remaining_time": 10.58357973,
             "test": [
              75439.57912,
              0.1303717716
             ]
            },
            {
             "iteration": 423,
             "learn": [
              69139.11841,
              0.2094314456
             ],
             "passed_time": 58.31760352,
             "remaining_time": 10.45315535,
             "test": [
              75438.71263,
              0.1303917483
             ]
            },
            {
             "iteration": 424,
             "learn": [
              69123.93461,
              0.2097786446
             ],
             "passed_time": 58.45753499,
             "remaining_time": 10.31603559,
             "test": [
              75440.96045,
              0.1303399248
             ]
            },
            {
             "iteration": 425,
             "learn": [
              69110.90216,
              0.2100765889
             ],
             "passed_time": 58.60651783,
             "remaining_time": 10.18047493,
             "test": [
              75440.87769,
              0.1303418328
             ]
            },
            {
             "iteration": 426,
             "learn": [
              69108.44363,
              0.2101327889
             ],
             "passed_time": 58.73139043,
             "remaining_time": 10.04072951,
             "test": [
              75441.02715,
              0.130338387
             ]
            },
            {
             "iteration": 427,
             "learn": [
              69107.87315,
              0.2101458293
             ],
             "passed_time": 58.82236056,
             "remaining_time": 9.895350374,
             "test": [
              75441.22078,
              0.1303339228
             ]
            },
            {
             "iteration": 428,
             "learn": [
              69107.34302,
              0.2101579474
             ],
             "passed_time": 58.93468798,
             "remaining_time": 9.753759549,
             "test": [
              75441.38618,
              0.1303301094
             ]
            },
            {
             "iteration": 429,
             "learn": [
              69102.23298,
              0.2102747505
             ],
             "passed_time": 59.04507662,
             "remaining_time": 9.611989217,
             "test": [
              75442.55184,
              0.1303032343
             ]
            },
            {
             "iteration": 430,
             "learn": [
              69084.6056,
              0.2106776032
             ],
             "passed_time": 59.17652826,
             "remaining_time": 9.473736543,
             "test": [
              75442.84899,
              0.1302963833
             ]
            },
            {
             "iteration": 431,
             "learn": [
              69083.22927,
              0.2107090533
             ],
             "passed_time": 59.33799349,
             "remaining_time": 9.340239716,
             "test": [
              75442.21629,
              0.1303109707
             ]
            },
            {
             "iteration": 432,
             "learn": [
              69079.76212,
              0.2107882772
             ],
             "passed_time": 59.49938618,
             "remaining_time": 9.206602481,
             "test": [
              75443.9478,
              0.1302710489
             ]
            },
            {
             "iteration": 433,
             "learn": [
              69068.01766,
              0.2110566069
             ],
             "passed_time": 59.6269338,
             "remaining_time": 9.067690393,
             "test": [
              75443.88785,
              0.130272431
             ]
            },
            {
             "iteration": 434,
             "learn": [
              69062.00539,
              0.2111939536
             ],
             "passed_time": 59.77334564,
             "remaining_time": 8.931649349,
             "test": [
              75445.41399,
              0.1302372438
             ]
            },
            {
             "iteration": 435,
             "learn": [
              69060.33638,
              0.211232079
             ],
             "passed_time": 59.88968356,
             "remaining_time": 8.79114621,
             "test": [
              75445.35387,
              0.1302386298
             ]
            },
            {
             "iteration": 436,
             "learn": [
              69053.76543,
              0.2113821713
             ],
             "passed_time": 60.03482367,
             "remaining_time": 8.65490593,
             "test": [
              75446.57081,
              0.1302105709
             ]
            },
            {
             "iteration": 437,
             "learn": [
              69053.28386,
              0.2113931706
             ],
             "passed_time": 60.15939187,
             "remaining_time": 8.515713004,
             "test": [
              75446.74585,
              0.1302065351
             ]
            },
            {
             "iteration": 438,
             "learn": [
              69052.7158,
              0.2114061454
             ],
             "passed_time": 60.29965298,
             "remaining_time": 8.378767271,
             "test": [
              75446.74412,
              0.1302065748
             ]
            },
            {
             "iteration": 439,
             "learn": [
              69051.19702,
              0.2114408343
             ],
             "passed_time": 60.43561445,
             "remaining_time": 8.241220152,
             "test": [
              75446.51833,
              0.1302117809
             ]
            },
            {
             "iteration": 440,
             "learn": [
              69043.44157,
              0.2116179578
             ],
             "passed_time": 60.59568906,
             "remaining_time": 8.106906246,
             "test": [
              75452.44424,
              0.1300751414
             ]
            },
            {
             "iteration": 441,
             "learn": [
              69028.74443,
              0.2119535647
             ],
             "passed_time": 60.74849086,
             "remaining_time": 7.971521425,
             "test": [
              75451.74399,
              0.1300912884
             ]
            },
            {
             "iteration": 442,
             "learn": [
              69021.30608,
              0.2121233911
             ],
             "passed_time": 60.90832883,
             "remaining_time": 7.836963304,
             "test": [
              75452.71339,
              0.1300689351
             ]
            },
            {
             "iteration": 443,
             "learn": [
              69017.1443,
              0.2122184012
             ],
             "passed_time": 61.06423972,
             "remaining_time": 7.701796001,
             "test": [
              75452.11533,
              0.1300827257
             ]
            },
            {
             "iteration": 444,
             "learn": [
              69010.34819,
              0.2123735392
             ],
             "passed_time": 61.22181065,
             "remaining_time": 7.566740642,
             "test": [
              75452.22911,
              0.130080102
             ]
            },
            {
             "iteration": 445,
             "learn": [
              69008.36219,
              0.2124188717
             ],
             "passed_time": 61.37178071,
             "remaining_time": 7.430664033,
             "test": [
              75451.8949,
              0.1300878085
             ]
            },
            {
             "iteration": 446,
             "learn": [
              69007.99738,
              0.2124271987
             ],
             "passed_time": 61.51627375,
             "remaining_time": 7.293875858,
             "test": [
              75451.73783,
              0.1300914304
             ]
            },
            {
             "iteration": 447,
             "learn": [
              69006.39784,
              0.2124637087
             ],
             "passed_time": 61.65338234,
             "remaining_time": 7.156196164,
             "test": [
              75453.18602,
              0.1300580367
             ]
            },
            {
             "iteration": 448,
             "learn": [
              69005.90321,
              0.2124749986
             ],
             "passed_time": 61.7390268,
             "remaining_time": 7.012673422,
             "test": [
              75453.12396,
              0.1300594679
             ]
            },
            {
             "iteration": 449,
             "learn": [
              69001.45293,
              0.2125765723
             ],
             "passed_time": 61.875831,
             "remaining_time": 6.875092333,
             "test": [
              75453.03248,
              0.1300615772
             ]
            },
            {
             "iteration": 450,
             "learn": [
              69000.76281,
              0.2125923231
             ],
             "passed_time": 62.013363,
             "remaining_time": 6.737593762,
             "test": [
              75453.13991,
              0.1300590999
             ]
            },
            {
             "iteration": 451,
             "learn": [
              68997.0086,
              0.2126780036
             ],
             "passed_time": 62.17734941,
             "remaining_time": 6.602904362,
             "test": [
              75453.71817,
              0.1300457657
             ]
            },
            {
             "iteration": 452,
             "learn": [
              68980.44343,
              0.2130560073
             ],
             "passed_time": 62.3237619,
             "remaining_time": 6.466262272,
             "test": [
              75454.7722,
              0.1300214605
             ]
            },
            {
             "iteration": 453,
             "learn": [
              68980.38793,
              0.2130572735
             ],
             "passed_time": 62.4545452,
             "remaining_time": 6.327993566,
             "test": [
              75454.75695,
              0.130021812
             ]
            },
            {
             "iteration": 454,
             "learn": [
              68980.19826,
              0.2130616012
             ],
             "passed_time": 62.52693979,
             "remaining_time": 6.183983056,
             "test": [
              75454.75032,
              0.1300219649
             ]
            },
            {
             "iteration": 455,
             "learn": [
              68977.19312,
              0.213130166
             ],
             "passed_time": 62.6758727,
             "remaining_time": 6.047671927,
             "test": [
              75455.68146,
              0.1300004932
             ]
            },
            {
             "iteration": 456,
             "learn": [
              68971.99081,
              0.2132488541
             ],
             "passed_time": 62.82132456,
             "remaining_time": 5.910978022,
             "test": [
              75454.36115,
              0.1300309389
             ]
            },
            {
             "iteration": 457,
             "learn": [
              68967.86569,
              0.2133429602
             ],
             "passed_time": 62.94928204,
             "remaining_time": 5.772641585,
             "test": [
              75454.34076,
              0.1300314091
             ]
            },
            {
             "iteration": 458,
             "learn": [
              68959.03635,
              0.2135443648
             ],
             "passed_time": 63.09248378,
             "remaining_time": 5.635712059,
             "test": [
              75454.22865,
              0.1300339944
             ]
            },
            {
             "iteration": 459,
             "learn": [
              68951.80272,
              0.2137093504
             ],
             "passed_time": 63.23164811,
             "remaining_time": 5.498404184,
             "test": [
              75459.81399,
              0.1299051949
             ]
            },
            {
             "iteration": 460,
             "learn": [
              68940.92761,
              0.2139573591
             ],
             "passed_time": 63.38823724,
             "remaining_time": 5.362562369,
             "test": [
              75460.89727,
              0.1298802129
             ]
            },
            {
             "iteration": 461,
             "learn": [
              68936.353,
              0.2140616723
             ],
             "passed_time": 63.5017686,
             "remaining_time": 5.223089192,
             "test": [
              75460.17819,
              0.1298967961
             ]
            },
            {
             "iteration": 462,
             "learn": [
              68934.18451,
              0.2141111171
             ],
             "passed_time": 63.66443002,
             "remaining_time": 5.087654235,
             "test": [
              75460.25365,
              0.1298950557
             ]
            },
            {
             "iteration": 463,
             "learn": [
              68933.06062,
              0.2141367428
             ],
             "passed_time": 63.76896198,
             "remaining_time": 4.947591878,
             "test": [
              75460.17904,
              0.1298967764
             ]
            },
            {
             "iteration": 464,
             "learn": [
              68931.60743,
              0.2141698762
             ],
             "passed_time": 63.89638419,
             "remaining_time": 4.809405262,
             "test": [
              75460.85437,
              0.1298812024
             ]
            },
            {
             "iteration": 465,
             "learn": [
              68931.56931,
              0.2141707455
             ],
             "passed_time": 64.02660819,
             "remaining_time": 4.671469267,
             "test": [
              75460.84012,
              0.129881531
             ]
            },
            {
             "iteration": 466,
             "learn": [
              68901.37726,
              0.2148589817
             ],
             "passed_time": 64.17660141,
             "remaining_time": 4.534963269,
             "test": [
              75465.70621,
              0.1297693082
             ]
            },
            {
             "iteration": 467,
             "learn": [
              68900.16307,
              0.2148866532
             ],
             "passed_time": 64.26922313,
             "remaining_time": 4.394476795,
             "test": [
              75466.37739,
              0.1297538287
             ]
            },
            {
             "iteration": 468,
             "learn": [
              68887.95323,
              0.2151648893
             ],
             "passed_time": 64.42232867,
             "remaining_time": 4.2581923,
             "test": [
              75467.32847,
              0.1297318937
             ]
            },
            {
             "iteration": 469,
             "learn": [
              68886.9399,
              0.2151879788
             ],
             "passed_time": 64.57117849,
             "remaining_time": 4.121564584,
             "test": [
              75467.42942,
              0.1297295654
             ]
            },
            {
             "iteration": 470,
             "learn": [
              68886.75457,
              0.2151922016
             ],
             "passed_time": 64.69596756,
             "remaining_time": 3.983403523,
             "test": [
              75466.73587,
              0.129745561
             ]
            },
            {
             "iteration": 471,
             "learn": [
              68882.4601,
              0.2152900501
             ],
             "passed_time": 64.80619982,
             "remaining_time": 3.844435582,
             "test": [
              75466.63546,
              0.129747877
             ]
            },
            {
             "iteration": 472,
             "learn": [
              68881.50494,
              0.2153118122
             ],
             "passed_time": 64.9265417,
             "remaining_time": 3.706166228,
             "test": [
              75466.60532,
              0.1297485719
             ]
            },
            {
             "iteration": 473,
             "learn": [
              68873.66875,
              0.2154903395
             ],
             "passed_time": 65.04397169,
             "remaining_time": 3.567812793,
             "test": [
              75473.33749,
              0.1295932994
             ]
            },
            {
             "iteration": 474,
             "learn": [
              68866.20146,
              0.2156604436
             ],
             "passed_time": 65.18611872,
             "remaining_time": 3.430848353,
             "test": [
              75472.69512,
              0.1296081158
             ]
            },
            {
             "iteration": 475,
             "learn": [
              68865.30815,
              0.2156807919
             ],
             "passed_time": 65.27157858,
             "remaining_time": 3.291003962,
             "test": [
              75472.78795,
              0.1296059747
             ]
            },
            {
             "iteration": 476,
             "learn": [
              68864.80854,
              0.215692172
             ],
             "passed_time": 65.38910052,
             "remaining_time": 3.152933568,
             "test": [
              75472.66221,
              0.129608875
             ]
            },
            {
             "iteration": 477,
             "learn": [
              68864.46648,
              0.2156999636
             ],
             "passed_time": 65.46655256,
             "remaining_time": 3.01310493,
             "test": [
              75472.72886,
              0.1296073377
             ]
            },
            {
             "iteration": 478,
             "learn": [
              68864.16869,
              0.2157067466
             ],
             "passed_time": 65.54244983,
             "remaining_time": 2.873468573,
             "test": [
              75472.79728,
              0.1296057597
             ]
            },
            {
             "iteration": 479,
             "learn": [
              68840.20183,
              0.2162525683
             ],
             "passed_time": 65.66847921,
             "remaining_time": 2.736186634,
             "test": [
              75472.00642,
              0.1296240008
             ]
            },
            {
             "iteration": 480,
             "learn": [
              68833.92695,
              0.2163954411
             ],
             "passed_time": 65.82056179,
             "remaining_time": 2.599980611,
             "test": [
              75472.51472,
              0.1296122768
             ]
            },
            {
             "iteration": 481,
             "learn": [
              68830.74959,
              0.2164677814
             ],
             "passed_time": 65.97632551,
             "remaining_time": 2.463846181,
             "test": [
              75473.1989,
              0.1295964961
             ]
            },
            {
             "iteration": 482,
             "learn": [
              68808.39296,
              0.2169766904
             ],
             "passed_time": 66.1138757,
             "remaining_time": 2.326989414,
             "test": [
              75473.0954,
              0.1295988835
             ]
            },
            {
             "iteration": 483,
             "learn": [
              68799.27306,
              0.2171842414
             ],
             "passed_time": 66.27689573,
             "remaining_time": 2.19097176,
             "test": [
              75472.86617,
              0.1296041707
             ]
            },
            {
             "iteration": 484,
             "learn": [
              68795.02156,
              0.2172809878
             ],
             "passed_time": 66.42824102,
             "remaining_time": 2.054481681,
             "test": [
              75472.28118,
              0.1296176634
             ]
            },
            {
             "iteration": 485,
             "learn": [
              68792.60315,
              0.2173360179
             ],
             "passed_time": 66.59088055,
             "remaining_time": 1.918255818,
             "test": [
              75472.67429,
              0.1296085963
             ]
            },
            {
             "iteration": 486,
             "learn": [
              68791.56963,
              0.2173595347
             ],
             "passed_time": 66.73529628,
             "remaining_time": 1.781435014,
             "test": [
              75473.35218,
              0.1295929607
             ]
            },
            {
             "iteration": 487,
             "learn": [
              68791.28491,
              0.2173660133
             ],
             "passed_time": 66.87585691,
             "remaining_time": 1.644488285,
             "test": [
              75473.49033,
              0.1295897742
             ]
            },
            {
             "iteration": 488,
             "learn": [
              68787.81878,
              0.2174448791
             ],
             "passed_time": 67.01748592,
             "remaining_time": 1.507550808,
             "test": [
              75471.15048,
              0.1296437428
             ]
            },
            {
             "iteration": 489,
             "learn": [
              68765.77203,
              0.2179464224
             ],
             "passed_time": 67.15844684,
             "remaining_time": 1.370580548,
             "test": [
              75470.97853,
              0.1296477087
             ]
            },
            {
             "iteration": 490,
             "learn": [
              68758.04237,
              0.2181222268
             ],
             "passed_time": 67.31909289,
             "remaining_time": 1.233954859,
             "test": [
              75471.51574,
              0.1296353182
             ]
            },
            {
             "iteration": 491,
             "learn": [
              68737.02105,
              0.2186002392
             ],
             "passed_time": 67.4876991,
             "remaining_time": 1.097360961,
             "test": [
              75471.18001,
              0.1296430618
             ]
            },
            {
             "iteration": 492,
             "learn": [
              68736.99519,
              0.2186008271
             ],
             "passed_time": 67.58778567,
             "remaining_time": 0.9596642996,
             "test": [
              75471.16831,
              0.1296433317
             ]
            },
            {
             "iteration": 493,
             "learn": [
              68734.04538,
              0.2186678922
             ],
             "passed_time": 67.75123581,
             "remaining_time": 0.8228895038,
             "test": [
              75471.97595,
              0.1296247035
             ]
            },
            {
             "iteration": 494,
             "learn": [
              68733.84325,
              0.2186724877
             ],
             "passed_time": 67.88099483,
             "remaining_time": 0.6856666145,
             "test": [
              75471.61205,
              0.1296330968
             ]
            },
            {
             "iteration": 495,
             "learn": [
              68727.33304,
              0.2188204894
             ],
             "passed_time": 68.02706692,
             "remaining_time": 0.5486053784,
             "test": [
              75477.96581,
              0.1294865429
             ]
            },
            {
             "iteration": 496,
             "learn": [
              68716.50568,
              0.2190666052
             ],
             "passed_time": 68.21423571,
             "remaining_time": 0.4117559499,
             "test": [
              75478.93616,
              0.1294641599
             ]
            },
            {
             "iteration": 497,
             "learn": [
              68714.49333,
              0.2191123436
             ],
             "passed_time": 68.34571999,
             "remaining_time": 0.2744808032,
             "test": [
              75477.81711,
              0.1294899729
             ]
            },
            {
             "iteration": 498,
             "learn": [
              68706.21149,
              0.2193005659
             ],
             "passed_time": 68.49460459,
             "remaining_time": 0.1372637367,
             "test": [
              75481.27144,
              0.1294102911
             ]
            },
            {
             "iteration": 499,
             "learn": [
              68703.80856,
              0.2193551732
             ],
             "passed_time": 68.64189403,
             "remaining_time": 0,
             "test": [
              75480.54789,
              0.1294269816
             ]
            }
           ],
           "meta": {
            "iteration_count": 500,
            "launch_mode": "Train",
            "learn_metrics": [
             {
              "best_value": "Min",
              "name": "RMSE"
             },
             {
              "best_value": "Max",
              "name": "R2"
             }
            ],
            "learn_sets": [
             "learn"
            ],
            "name": "experiment",
            "parameters": "",
            "test_metrics": [
             {
              "best_value": "Min",
              "name": "RMSE"
             },
             {
              "best_value": "Max",
              "name": "R2"
             }
            ],
            "test_sets": [
             "test"
            ]
           }
          },
          "passed_iterations": 499,
          "total_iterations": 500
         },
         "name": "catboost_info",
         "path": "catboost_info"
        }
       },
       "layout": "IPY_MODEL_1baf3dfca6844fd3a3b9b592dc6c6678"
      }
     }
    },
    "version_major": 2,
    "version_minor": 0
   }
  }
 },
 "nbformat": 4,
 "nbformat_minor": 5
}
