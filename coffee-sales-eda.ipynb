{
 "cells": [
  {
   "cell_type": "code",
   "execution_count": 1,
   "id": "5dafd3db",
   "metadata": {
    "_cell_guid": "b1076dfc-b9ad-4769-8c92-a6c4dae69d19",
    "_uuid": "8f2839f25d086af736a60e9eeb907d3b93b6e0e5",
    "execution": {
     "iopub.execute_input": "2024-08-22T04:11:58.491635Z",
     "iopub.status.busy": "2024-08-22T04:11:58.491117Z",
     "iopub.status.idle": "2024-08-22T04:11:58.947864Z",
     "shell.execute_reply": "2024-08-22T04:11:58.946797Z"
    },
    "papermill": {
     "duration": 0.465716,
     "end_time": "2024-08-22T04:11:58.950514",
     "exception": false,
     "start_time": "2024-08-22T04:11:58.484798",
     "status": "completed"
    },
    "tags": []
   },
   "outputs": [
    {
     "name": "stdout",
     "output_type": "stream",
     "text": [
      "/kaggle/input/coffee-sales/index.csv\n"
     ]
    }
   ],
   "source": [
    "# This Python 3 environment comes with many helpful analytics libraries installed\n",
    "# It is defined by the kaggle/python Docker image: https://github.com/kaggle/docker-python\n",
    "# For example, here's several helpful packages to load\n",
    "\n",
    "import numpy as np # linear algebra\n",
    "import pandas as pd # data processing, CSV file I/O (e.g. pd.read_csv)\n",
    "\n",
    "# Input data files are available in the read-only \"../input/\" directory\n",
    "# For example, running this (by clicking run or pressing Shift+Enter) will list all files under the input directory\n",
    "\n",
    "import os\n",
    "for dirname, _, filenames in os.walk('/kaggle/input'):\n",
    "    for filename in filenames:\n",
    "        print(os.path.join(dirname, filename))\n",
    "\n",
    "# You can write up to 20GB to the current directory (/kaggle/working/) that gets preserved as output when you create a version using \"Save & Run All\" \n",
    "# You can also write temporary files to /kaggle/temp/, but they won't be saved outside of the current session"
   ]
  },
  {
   "cell_type": "code",
   "execution_count": 2,
   "id": "7c4494d4",
   "metadata": {
    "execution": {
     "iopub.execute_input": "2024-08-22T04:11:58.962064Z",
     "iopub.status.busy": "2024-08-22T04:11:58.961402Z",
     "iopub.status.idle": "2024-08-22T04:11:59.014434Z",
     "shell.execute_reply": "2024-08-22T04:11:59.013258Z"
    },
    "papermill": {
     "duration": 0.060957,
     "end_time": "2024-08-22T04:11:59.017057",
     "exception": false,
     "start_time": "2024-08-22T04:11:58.956100",
     "status": "completed"
    },
    "tags": []
   },
   "outputs": [
    {
     "data": {
      "text/html": [
       "<div>\n",
       "<style scoped>\n",
       "    .dataframe tbody tr th:only-of-type {\n",
       "        vertical-align: middle;\n",
       "    }\n",
       "\n",
       "    .dataframe tbody tr th {\n",
       "        vertical-align: top;\n",
       "    }\n",
       "\n",
       "    .dataframe thead th {\n",
       "        text-align: right;\n",
       "    }\n",
       "</style>\n",
       "<table border=\"1\" class=\"dataframe\">\n",
       "  <thead>\n",
       "    <tr style=\"text-align: right;\">\n",
       "      <th></th>\n",
       "      <th>date</th>\n",
       "      <th>datetime</th>\n",
       "      <th>cash_type</th>\n",
       "      <th>card</th>\n",
       "      <th>money</th>\n",
       "      <th>coffee_name</th>\n",
       "    </tr>\n",
       "  </thead>\n",
       "  <tbody>\n",
       "    <tr>\n",
       "      <th>1308</th>\n",
       "      <td>2024-08-17</td>\n",
       "      <td>2024-08-17 16:31:54.837</td>\n",
       "      <td>card</td>\n",
       "      <td>ANON-0000-0000-0277</td>\n",
       "      <td>23.02</td>\n",
       "      <td>Cortado</td>\n",
       "    </tr>\n",
       "    <tr>\n",
       "      <th>1309</th>\n",
       "      <td>2024-08-17</td>\n",
       "      <td>2024-08-17 16:33:48.977</td>\n",
       "      <td>card</td>\n",
       "      <td>ANON-0000-0000-0192</td>\n",
       "      <td>32.82</td>\n",
       "      <td>Latte</td>\n",
       "    </tr>\n",
       "    <tr>\n",
       "      <th>1310</th>\n",
       "      <td>2024-08-17</td>\n",
       "      <td>2024-08-17 18:48:58.852</td>\n",
       "      <td>card</td>\n",
       "      <td>ANON-0000-0000-0456</td>\n",
       "      <td>32.82</td>\n",
       "      <td>Cappuccino</td>\n",
       "    </tr>\n",
       "    <tr>\n",
       "      <th>1311</th>\n",
       "      <td>2024-08-17</td>\n",
       "      <td>2024-08-17 21:18:56.806</td>\n",
       "      <td>card</td>\n",
       "      <td>ANON-0000-0000-0040</td>\n",
       "      <td>27.92</td>\n",
       "      <td>Americano with Milk</td>\n",
       "    </tr>\n",
       "    <tr>\n",
       "      <th>1312</th>\n",
       "      <td>2024-08-17</td>\n",
       "      <td>2024-08-17 22:42:39.351</td>\n",
       "      <td>card</td>\n",
       "      <td>ANON-0000-0000-0519</td>\n",
       "      <td>32.82</td>\n",
       "      <td>Latte</td>\n",
       "    </tr>\n",
       "  </tbody>\n",
       "</table>\n",
       "</div>"
      ],
      "text/plain": [
       "            date                 datetime cash_type                 card  \\\n",
       "1308  2024-08-17  2024-08-17 16:31:54.837      card  ANON-0000-0000-0277   \n",
       "1309  2024-08-17  2024-08-17 16:33:48.977      card  ANON-0000-0000-0192   \n",
       "1310  2024-08-17  2024-08-17 18:48:58.852      card  ANON-0000-0000-0456   \n",
       "1311  2024-08-17  2024-08-17 21:18:56.806      card  ANON-0000-0000-0040   \n",
       "1312  2024-08-17  2024-08-17 22:42:39.351      card  ANON-0000-0000-0519   \n",
       "\n",
       "      money          coffee_name  \n",
       "1308  23.02              Cortado  \n",
       "1309  32.82                Latte  \n",
       "1310  32.82           Cappuccino  \n",
       "1311  27.92  Americano with Milk  \n",
       "1312  32.82                Latte  "
      ]
     },
     "execution_count": 2,
     "metadata": {},
     "output_type": "execute_result"
    }
   ],
   "source": [
    "df = pd.read_csv(os.path.join(dirname, filename))\n",
    "df.tail(5)"
   ]
  },
  {
   "cell_type": "code",
   "execution_count": 3,
   "id": "49c3a155",
   "metadata": {
    "execution": {
     "iopub.execute_input": "2024-08-22T04:11:59.026800Z",
     "iopub.status.busy": "2024-08-22T04:11:59.026372Z",
     "iopub.status.idle": "2024-08-22T04:11:59.037132Z",
     "shell.execute_reply": "2024-08-22T04:11:59.035742Z"
    },
    "papermill": {
     "duration": 0.018544,
     "end_time": "2024-08-22T04:11:59.039583",
     "exception": false,
     "start_time": "2024-08-22T04:11:59.021039",
     "status": "completed"
    },
    "tags": []
   },
   "outputs": [
    {
     "data": {
      "text/plain": [
       "date            0\n",
       "datetime        0\n",
       "cash_type       0\n",
       "card           89\n",
       "money           0\n",
       "coffee_name     0\n",
       "dtype: int64"
      ]
     },
     "execution_count": 3,
     "metadata": {},
     "output_type": "execute_result"
    }
   ],
   "source": [
    "df.isnull().sum()"
   ]
  },
  {
   "cell_type": "code",
   "execution_count": 4,
   "id": "337965a7",
   "metadata": {
    "execution": {
     "iopub.execute_input": "2024-08-22T04:11:59.050026Z",
     "iopub.status.busy": "2024-08-22T04:11:59.049208Z",
     "iopub.status.idle": "2024-08-22T04:11:59.064523Z",
     "shell.execute_reply": "2024-08-22T04:11:59.063357Z"
    },
    "papermill": {
     "duration": 0.023141,
     "end_time": "2024-08-22T04:11:59.066918",
     "exception": false,
     "start_time": "2024-08-22T04:11:59.043777",
     "status": "completed"
    },
    "tags": []
   },
   "outputs": [
    {
     "data": {
      "text/plain": [
       "date            167\n",
       "datetime       1313\n",
       "cash_type         2\n",
       "card            519\n",
       "money            16\n",
       "coffee_name       8\n",
       "dtype: int64"
      ]
     },
     "execution_count": 4,
     "metadata": {},
     "output_type": "execute_result"
    }
   ],
   "source": [
    "df.nunique()"
   ]
  },
  {
   "cell_type": "code",
   "execution_count": 5,
   "id": "98f46c2b",
   "metadata": {
    "execution": {
     "iopub.execute_input": "2024-08-22T04:11:59.076905Z",
     "iopub.status.busy": "2024-08-22T04:11:59.076475Z",
     "iopub.status.idle": "2024-08-22T04:11:59.092964Z",
     "shell.execute_reply": "2024-08-22T04:11:59.091468Z"
    },
    "papermill": {
     "duration": 0.024588,
     "end_time": "2024-08-22T04:11:59.095703",
     "exception": false,
     "start_time": "2024-08-22T04:11:59.071115",
     "status": "completed"
    },
    "tags": []
   },
   "outputs": [],
   "source": [
    "df['date'] = pd.to_datetime(df.date, format='%Y-%m-%d')\n",
    "df['day_of_week'] = df['date'].dt.dayofweek"
   ]
  },
  {
   "cell_type": "code",
   "execution_count": 6,
   "id": "395b9d16",
   "metadata": {
    "execution": {
     "iopub.execute_input": "2024-08-22T04:11:59.106841Z",
     "iopub.status.busy": "2024-08-22T04:11:59.105842Z",
     "iopub.status.idle": "2024-08-22T04:11:59.114375Z",
     "shell.execute_reply": "2024-08-22T04:11:59.113234Z"
    },
    "papermill": {
     "duration": 0.01641,
     "end_time": "2024-08-22T04:11:59.116683",
     "exception": false,
     "start_time": "2024-08-22T04:11:59.100273",
     "status": "completed"
    },
    "tags": []
   },
   "outputs": [],
   "source": [
    "df['day_of_week'] = df['day_of_week'].map({\n",
    "    0: 'Monday',\n",
    "    1: 'Tuesday',\n",
    "    2: 'Wednesday',\n",
    "    3: 'Thursday',\n",
    "    4: 'Friday',\n",
    "    5: 'Saturday',\n",
    "    6: 'Sunday'\n",
    "})"
   ]
  },
  {
   "cell_type": "code",
   "execution_count": 7,
   "id": "fcd7efdd",
   "metadata": {
    "execution": {
     "iopub.execute_input": "2024-08-22T04:11:59.127636Z",
     "iopub.status.busy": "2024-08-22T04:11:59.126773Z",
     "iopub.status.idle": "2024-08-22T04:11:59.148334Z",
     "shell.execute_reply": "2024-08-22T04:11:59.147110Z"
    },
    "papermill": {
     "duration": 0.029663,
     "end_time": "2024-08-22T04:11:59.150781",
     "exception": false,
     "start_time": "2024-08-22T04:11:59.121118",
     "status": "completed"
    },
    "tags": []
   },
   "outputs": [
    {
     "data": {
      "text/html": [
       "<div>\n",
       "<style scoped>\n",
       "    .dataframe tbody tr th:only-of-type {\n",
       "        vertical-align: middle;\n",
       "    }\n",
       "\n",
       "    .dataframe tbody tr th {\n",
       "        vertical-align: top;\n",
       "    }\n",
       "\n",
       "    .dataframe thead th {\n",
       "        text-align: right;\n",
       "    }\n",
       "</style>\n",
       "<table border=\"1\" class=\"dataframe\">\n",
       "  <thead>\n",
       "    <tr style=\"text-align: right;\">\n",
       "      <th></th>\n",
       "      <th>date</th>\n",
       "      <th>datetime</th>\n",
       "      <th>cash_type</th>\n",
       "      <th>card</th>\n",
       "      <th>money</th>\n",
       "      <th>coffee_name</th>\n",
       "      <th>day_of_week</th>\n",
       "    </tr>\n",
       "  </thead>\n",
       "  <tbody>\n",
       "    <tr>\n",
       "      <th>0</th>\n",
       "      <td>2024-03-01</td>\n",
       "      <td>2024-03-01 10:15:50.520</td>\n",
       "      <td>card</td>\n",
       "      <td>ANON-0000-0000-0001</td>\n",
       "      <td>38.70</td>\n",
       "      <td>Latte</td>\n",
       "      <td>Friday</td>\n",
       "    </tr>\n",
       "    <tr>\n",
       "      <th>1</th>\n",
       "      <td>2024-03-01</td>\n",
       "      <td>2024-03-01 12:19:22.539</td>\n",
       "      <td>card</td>\n",
       "      <td>ANON-0000-0000-0002</td>\n",
       "      <td>38.70</td>\n",
       "      <td>Hot Chocolate</td>\n",
       "      <td>Friday</td>\n",
       "    </tr>\n",
       "    <tr>\n",
       "      <th>2</th>\n",
       "      <td>2024-03-01</td>\n",
       "      <td>2024-03-01 12:20:18.089</td>\n",
       "      <td>card</td>\n",
       "      <td>ANON-0000-0000-0002</td>\n",
       "      <td>38.70</td>\n",
       "      <td>Hot Chocolate</td>\n",
       "      <td>Friday</td>\n",
       "    </tr>\n",
       "    <tr>\n",
       "      <th>3</th>\n",
       "      <td>2024-03-01</td>\n",
       "      <td>2024-03-01 13:46:33.006</td>\n",
       "      <td>card</td>\n",
       "      <td>ANON-0000-0000-0003</td>\n",
       "      <td>28.90</td>\n",
       "      <td>Americano</td>\n",
       "      <td>Friday</td>\n",
       "    </tr>\n",
       "    <tr>\n",
       "      <th>4</th>\n",
       "      <td>2024-03-01</td>\n",
       "      <td>2024-03-01 13:48:14.626</td>\n",
       "      <td>card</td>\n",
       "      <td>ANON-0000-0000-0004</td>\n",
       "      <td>38.70</td>\n",
       "      <td>Latte</td>\n",
       "      <td>Friday</td>\n",
       "    </tr>\n",
       "    <tr>\n",
       "      <th>...</th>\n",
       "      <td>...</td>\n",
       "      <td>...</td>\n",
       "      <td>...</td>\n",
       "      <td>...</td>\n",
       "      <td>...</td>\n",
       "      <td>...</td>\n",
       "      <td>...</td>\n",
       "    </tr>\n",
       "    <tr>\n",
       "      <th>1308</th>\n",
       "      <td>2024-08-17</td>\n",
       "      <td>2024-08-17 16:31:54.837</td>\n",
       "      <td>card</td>\n",
       "      <td>ANON-0000-0000-0277</td>\n",
       "      <td>23.02</td>\n",
       "      <td>Cortado</td>\n",
       "      <td>Saturday</td>\n",
       "    </tr>\n",
       "    <tr>\n",
       "      <th>1309</th>\n",
       "      <td>2024-08-17</td>\n",
       "      <td>2024-08-17 16:33:48.977</td>\n",
       "      <td>card</td>\n",
       "      <td>ANON-0000-0000-0192</td>\n",
       "      <td>32.82</td>\n",
       "      <td>Latte</td>\n",
       "      <td>Saturday</td>\n",
       "    </tr>\n",
       "    <tr>\n",
       "      <th>1310</th>\n",
       "      <td>2024-08-17</td>\n",
       "      <td>2024-08-17 18:48:58.852</td>\n",
       "      <td>card</td>\n",
       "      <td>ANON-0000-0000-0456</td>\n",
       "      <td>32.82</td>\n",
       "      <td>Cappuccino</td>\n",
       "      <td>Saturday</td>\n",
       "    </tr>\n",
       "    <tr>\n",
       "      <th>1311</th>\n",
       "      <td>2024-08-17</td>\n",
       "      <td>2024-08-17 21:18:56.806</td>\n",
       "      <td>card</td>\n",
       "      <td>ANON-0000-0000-0040</td>\n",
       "      <td>27.92</td>\n",
       "      <td>Americano with Milk</td>\n",
       "      <td>Saturday</td>\n",
       "    </tr>\n",
       "    <tr>\n",
       "      <th>1312</th>\n",
       "      <td>2024-08-17</td>\n",
       "      <td>2024-08-17 22:42:39.351</td>\n",
       "      <td>card</td>\n",
       "      <td>ANON-0000-0000-0519</td>\n",
       "      <td>32.82</td>\n",
       "      <td>Latte</td>\n",
       "      <td>Saturday</td>\n",
       "    </tr>\n",
       "  </tbody>\n",
       "</table>\n",
       "<p>1313 rows × 7 columns</p>\n",
       "</div>"
      ],
      "text/plain": [
       "           date                 datetime cash_type                 card  \\\n",
       "0    2024-03-01  2024-03-01 10:15:50.520      card  ANON-0000-0000-0001   \n",
       "1    2024-03-01  2024-03-01 12:19:22.539      card  ANON-0000-0000-0002   \n",
       "2    2024-03-01  2024-03-01 12:20:18.089      card  ANON-0000-0000-0002   \n",
       "3    2024-03-01  2024-03-01 13:46:33.006      card  ANON-0000-0000-0003   \n",
       "4    2024-03-01  2024-03-01 13:48:14.626      card  ANON-0000-0000-0004   \n",
       "...         ...                      ...       ...                  ...   \n",
       "1308 2024-08-17  2024-08-17 16:31:54.837      card  ANON-0000-0000-0277   \n",
       "1309 2024-08-17  2024-08-17 16:33:48.977      card  ANON-0000-0000-0192   \n",
       "1310 2024-08-17  2024-08-17 18:48:58.852      card  ANON-0000-0000-0456   \n",
       "1311 2024-08-17  2024-08-17 21:18:56.806      card  ANON-0000-0000-0040   \n",
       "1312 2024-08-17  2024-08-17 22:42:39.351      card  ANON-0000-0000-0519   \n",
       "\n",
       "      money          coffee_name day_of_week  \n",
       "0     38.70                Latte      Friday  \n",
       "1     38.70        Hot Chocolate      Friday  \n",
       "2     38.70        Hot Chocolate      Friday  \n",
       "3     28.90            Americano      Friday  \n",
       "4     38.70                Latte      Friday  \n",
       "...     ...                  ...         ...  \n",
       "1308  23.02              Cortado    Saturday  \n",
       "1309  32.82                Latte    Saturday  \n",
       "1310  32.82           Cappuccino    Saturday  \n",
       "1311  27.92  Americano with Milk    Saturday  \n",
       "1312  32.82                Latte    Saturday  \n",
       "\n",
       "[1313 rows x 7 columns]"
      ]
     },
     "execution_count": 7,
     "metadata": {},
     "output_type": "execute_result"
    }
   ],
   "source": [
    "df"
   ]
  }
 ],
 "metadata": {
  "kaggle": {
   "accelerator": "none",
   "dataSources": [
    {
     "datasetId": 5328600,
     "sourceId": 9197707,
     "sourceType": "datasetVersion"
    }
   ],
   "dockerImageVersionId": 30761,
   "isGpuEnabled": false,
   "isInternetEnabled": true,
   "language": "python",
   "sourceType": "notebook"
  },
  "kernelspec": {
   "display_name": "Python 3",
   "language": "python",
   "name": "python3"
  },
  "language_info": {
   "codemirror_mode": {
    "name": "ipython",
    "version": 3
   },
   "file_extension": ".py",
   "mimetype": "text/x-python",
   "name": "python",
   "nbconvert_exporter": "python",
   "pygments_lexer": "ipython3",
   "version": "3.10.14"
  },
  "papermill": {
   "default_parameters": {},
   "duration": 4.087219,
   "end_time": "2024-08-22T04:11:59.677400",
   "environment_variables": {},
   "exception": null,
   "input_path": "__notebook__.ipynb",
   "output_path": "__notebook__.ipynb",
   "parameters": {},
   "start_time": "2024-08-22T04:11:55.590181",
   "version": "2.6.0"
  }
 },
 "nbformat": 4,
 "nbformat_minor": 5
}
