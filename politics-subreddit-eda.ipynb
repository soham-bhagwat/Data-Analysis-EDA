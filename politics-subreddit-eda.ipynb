{
 "cells": [
  {
   "cell_type": "code",
   "execution_count": 1,
   "id": "88acdf69",
   "metadata": {
    "_cell_guid": "b1076dfc-b9ad-4769-8c92-a6c4dae69d19",
    "_uuid": "8f2839f25d086af736a60e9eeb907d3b93b6e0e5",
    "execution": {
     "iopub.execute_input": "2024-08-28T02:21:43.742688Z",
     "iopub.status.busy": "2024-08-28T02:21:43.742233Z",
     "iopub.status.idle": "2024-08-28T02:21:46.253571Z",
     "shell.execute_reply": "2024-08-28T02:21:46.251973Z"
    },
    "papermill": {
     "duration": 2.520212,
     "end_time": "2024-08-28T02:21:46.256288",
     "exception": false,
     "start_time": "2024-08-28T02:21:43.736076",
     "status": "completed"
    },
    "tags": []
   },
   "outputs": [
    {
     "name": "stdout",
     "output_type": "stream",
     "text": [
      "/kaggle/input/politics-on-reddit/reddit_politics.csv\n"
     ]
    }
   ],
   "source": [
    "import numpy as np # linear algebra\n",
    "import pandas as pd # data processing, CSV file I/O (e.g. pd.read_csv)\n",
    "import matplotlib.pyplot as plt\n",
    "import seaborn as sns\n",
    "\n",
    "from sklearn.decomposition import TruncatedSVD\n",
    "# Input data files are available in the read-only \"../input/\" directory\n",
    "# For example, running this (by clicking run or pressing Shift+Enter) will list all files under the input directory\n",
    "\n",
    "import os\n",
    "for dirname, _, filenames in os.walk('/kaggle/input'):\n",
    "    for filename in filenames:\n",
    "        print(os.path.join(dirname, filename))\n"
   ]
  },
  {
   "cell_type": "code",
   "execution_count": 2,
   "id": "a56dfcc0",
   "metadata": {
    "execution": {
     "iopub.execute_input": "2024-08-28T02:21:46.267460Z",
     "iopub.status.busy": "2024-08-28T02:21:46.266209Z",
     "iopub.status.idle": "2024-08-28T02:21:46.614901Z",
     "shell.execute_reply": "2024-08-28T02:21:46.613671Z"
    },
    "papermill": {
     "duration": 0.356775,
     "end_time": "2024-08-28T02:21:46.617433",
     "exception": false,
     "start_time": "2024-08-28T02:21:46.260658",
     "status": "completed"
    },
    "tags": []
   },
   "outputs": [
    {
     "data": {
      "text/html": [
       "<div>\n",
       "<style scoped>\n",
       "    .dataframe tbody tr th:only-of-type {\n",
       "        vertical-align: middle;\n",
       "    }\n",
       "\n",
       "    .dataframe tbody tr th {\n",
       "        vertical-align: top;\n",
       "    }\n",
       "\n",
       "    .dataframe thead th {\n",
       "        text-align: right;\n",
       "    }\n",
       "</style>\n",
       "<table border=\"1\" class=\"dataframe\">\n",
       "  <thead>\n",
       "    <tr style=\"text-align: right;\">\n",
       "      <th></th>\n",
       "      <th>title</th>\n",
       "      <th>score</th>\n",
       "      <th>id</th>\n",
       "      <th>url</th>\n",
       "      <th>comms_num</th>\n",
       "      <th>created</th>\n",
       "      <th>body</th>\n",
       "      <th>timestamp</th>\n",
       "    </tr>\n",
       "  </thead>\n",
       "  <tbody>\n",
       "    <tr>\n",
       "      <th>0</th>\n",
       "      <td>A Right Wing Group in Texas Is Making up Fake ...</td>\n",
       "      <td>166</td>\n",
       "      <td>ov1ll3</td>\n",
       "      <td>https://www.vice.com/en/article/wx5bg5/blm-whi...</td>\n",
       "      <td>34</td>\n",
       "      <td>1.627710e+09</td>\n",
       "      <td>NaN</td>\n",
       "      <td>2021-07-31 08:35:47</td>\n",
       "    </tr>\n",
       "    <tr>\n",
       "      <th>1</th>\n",
       "      <td>DOJ sues Texas over Gov. Abbott’s order for la...</td>\n",
       "      <td>85</td>\n",
       "      <td>ouwc9i</td>\n",
       "      <td>https://www.kxan.com/news/texas-politics/doj-s...</td>\n",
       "      <td>17</td>\n",
       "      <td>1.627688e+09</td>\n",
       "      <td>NaN</td>\n",
       "      <td>2021-07-31 02:26:12</td>\n",
       "    </tr>\n",
       "    <tr>\n",
       "      <th>2</th>\n",
       "      <td>From white evangelicals to QAnon believers, wh...</td>\n",
       "      <td>57</td>\n",
       "      <td>ouqkxi</td>\n",
       "      <td>https://www.modbee.com/news/coronavirus/articl...</td>\n",
       "      <td>27</td>\n",
       "      <td>1.627671e+09</td>\n",
       "      <td>NaN</td>\n",
       "      <td>2021-07-30 21:45:09</td>\n",
       "    </tr>\n",
       "    <tr>\n",
       "      <th>3</th>\n",
       "      <td>DeSantis says he’ll sign order allowing parent...</td>\n",
       "      <td>269</td>\n",
       "      <td>oun2lc</td>\n",
       "      <td>https://www.orlandosentinel.com/politics/os-ne...</td>\n",
       "      <td>138</td>\n",
       "      <td>1.627660e+09</td>\n",
       "      <td>NaN</td>\n",
       "      <td>2021-07-30 18:43:05</td>\n",
       "    </tr>\n",
       "    <tr>\n",
       "      <th>4</th>\n",
       "      <td>Show on the road: In Utah, Florida Gov. Ron De...</td>\n",
       "      <td>31</td>\n",
       "      <td>ouipnz</td>\n",
       "      <td>https://www.tallahassee.com/story/news/politic...</td>\n",
       "      <td>28</td>\n",
       "      <td>1.627644e+09</td>\n",
       "      <td>NaN</td>\n",
       "      <td>2021-07-30 14:21:54</td>\n",
       "    </tr>\n",
       "  </tbody>\n",
       "</table>\n",
       "</div>"
      ],
      "text/plain": [
       "                                               title  score      id  \\\n",
       "0  A Right Wing Group in Texas Is Making up Fake ...    166  ov1ll3   \n",
       "1  DOJ sues Texas over Gov. Abbott’s order for la...     85  ouwc9i   \n",
       "2  From white evangelicals to QAnon believers, wh...     57  ouqkxi   \n",
       "3  DeSantis says he’ll sign order allowing parent...    269  oun2lc   \n",
       "4  Show on the road: In Utah, Florida Gov. Ron De...     31  ouipnz   \n",
       "\n",
       "                                                 url  comms_num       created  \\\n",
       "0  https://www.vice.com/en/article/wx5bg5/blm-whi...         34  1.627710e+09   \n",
       "1  https://www.kxan.com/news/texas-politics/doj-s...         17  1.627688e+09   \n",
       "2  https://www.modbee.com/news/coronavirus/articl...         27  1.627671e+09   \n",
       "3  https://www.orlandosentinel.com/politics/os-ne...        138  1.627660e+09   \n",
       "4  https://www.tallahassee.com/story/news/politic...         28  1.627644e+09   \n",
       "\n",
       "  body            timestamp  \n",
       "0  NaN  2021-07-31 08:35:47  \n",
       "1  NaN  2021-07-31 02:26:12  \n",
       "2  NaN  2021-07-30 21:45:09  \n",
       "3  NaN  2021-07-30 18:43:05  \n",
       "4  NaN  2021-07-30 14:21:54  "
      ]
     },
     "execution_count": 2,
     "metadata": {},
     "output_type": "execute_result"
    }
   ],
   "source": [
    "df = pd.read_csv('/kaggle/input/politics-on-reddit/reddit_politics.csv')\n",
    "df.head()"
   ]
  },
  {
   "cell_type": "code",
   "execution_count": 3,
   "id": "0f2f46c7",
   "metadata": {
    "execution": {
     "iopub.execute_input": "2024-08-28T02:21:46.628256Z",
     "iopub.status.busy": "2024-08-28T02:21:46.627377Z",
     "iopub.status.idle": "2024-08-28T02:21:46.646317Z",
     "shell.execute_reply": "2024-08-28T02:21:46.645195Z"
    },
    "papermill": {
     "duration": 0.026998,
     "end_time": "2024-08-28T02:21:46.648826",
     "exception": false,
     "start_time": "2024-08-28T02:21:46.621828",
     "status": "completed"
    },
    "tags": []
   },
   "outputs": [
    {
     "data": {
      "text/plain": [
       "title            0\n",
       "score            0\n",
       "id               0\n",
       "url          18027\n",
       "comms_num        0\n",
       "created          0\n",
       "body          9995\n",
       "timestamp        0\n",
       "dtype: int64"
      ]
     },
     "execution_count": 3,
     "metadata": {},
     "output_type": "execute_result"
    }
   ],
   "source": [
    "df.isnull().sum()"
   ]
  },
  {
   "cell_type": "code",
   "execution_count": 4,
   "id": "a49a04cd",
   "metadata": {
    "execution": {
     "iopub.execute_input": "2024-08-28T02:21:46.660080Z",
     "iopub.status.busy": "2024-08-28T02:21:46.659029Z",
     "iopub.status.idle": "2024-08-28T02:21:46.697870Z",
     "shell.execute_reply": "2024-08-28T02:21:46.696692Z"
    },
    "papermill": {
     "duration": 0.047262,
     "end_time": "2024-08-28T02:21:46.700544",
     "exception": false,
     "start_time": "2024-08-28T02:21:46.653282",
     "status": "completed"
    },
    "tags": []
   },
   "outputs": [
    {
     "data": {
      "text/html": [
       "<div>\n",
       "<style scoped>\n",
       "    .dataframe tbody tr th:only-of-type {\n",
       "        vertical-align: middle;\n",
       "    }\n",
       "\n",
       "    .dataframe tbody tr th {\n",
       "        vertical-align: top;\n",
       "    }\n",
       "\n",
       "    .dataframe thead th {\n",
       "        text-align: right;\n",
       "    }\n",
       "</style>\n",
       "<table border=\"1\" class=\"dataframe\">\n",
       "  <thead>\n",
       "    <tr style=\"text-align: right;\">\n",
       "      <th></th>\n",
       "      <th>title</th>\n",
       "      <th>score</th>\n",
       "      <th>id</th>\n",
       "      <th>url</th>\n",
       "      <th>comms_num</th>\n",
       "      <th>created</th>\n",
       "      <th>body</th>\n",
       "      <th>timestamp</th>\n",
       "      <th>date</th>\n",
       "    </tr>\n",
       "  </thead>\n",
       "  <tbody>\n",
       "    <tr>\n",
       "      <th>0</th>\n",
       "      <td>A Right Wing Group in Texas Is Making up Fake ...</td>\n",
       "      <td>166</td>\n",
       "      <td>ov1ll3</td>\n",
       "      <td>https://www.vice.com/en/article/wx5bg5/blm-whi...</td>\n",
       "      <td>34</td>\n",
       "      <td>1.627710e+09</td>\n",
       "      <td>NaN</td>\n",
       "      <td>2021-07-31 08:35:47</td>\n",
       "      <td>2021-07-31</td>\n",
       "    </tr>\n",
       "    <tr>\n",
       "      <th>1</th>\n",
       "      <td>DOJ sues Texas over Gov. Abbott’s order for la...</td>\n",
       "      <td>85</td>\n",
       "      <td>ouwc9i</td>\n",
       "      <td>https://www.kxan.com/news/texas-politics/doj-s...</td>\n",
       "      <td>17</td>\n",
       "      <td>1.627688e+09</td>\n",
       "      <td>NaN</td>\n",
       "      <td>2021-07-31 02:26:12</td>\n",
       "      <td>2021-07-31</td>\n",
       "    </tr>\n",
       "    <tr>\n",
       "      <th>2</th>\n",
       "      <td>From white evangelicals to QAnon believers, wh...</td>\n",
       "      <td>57</td>\n",
       "      <td>ouqkxi</td>\n",
       "      <td>https://www.modbee.com/news/coronavirus/articl...</td>\n",
       "      <td>27</td>\n",
       "      <td>1.627671e+09</td>\n",
       "      <td>NaN</td>\n",
       "      <td>2021-07-30 21:45:09</td>\n",
       "      <td>2021-07-30</td>\n",
       "    </tr>\n",
       "    <tr>\n",
       "      <th>3</th>\n",
       "      <td>DeSantis says he’ll sign order allowing parent...</td>\n",
       "      <td>269</td>\n",
       "      <td>oun2lc</td>\n",
       "      <td>https://www.orlandosentinel.com/politics/os-ne...</td>\n",
       "      <td>138</td>\n",
       "      <td>1.627660e+09</td>\n",
       "      <td>NaN</td>\n",
       "      <td>2021-07-30 18:43:05</td>\n",
       "      <td>2021-07-30</td>\n",
       "    </tr>\n",
       "    <tr>\n",
       "      <th>4</th>\n",
       "      <td>Show on the road: In Utah, Florida Gov. Ron De...</td>\n",
       "      <td>31</td>\n",
       "      <td>ouipnz</td>\n",
       "      <td>https://www.tallahassee.com/story/news/politic...</td>\n",
       "      <td>28</td>\n",
       "      <td>1.627644e+09</td>\n",
       "      <td>NaN</td>\n",
       "      <td>2021-07-30 14:21:54</td>\n",
       "      <td>2021-07-30</td>\n",
       "    </tr>\n",
       "  </tbody>\n",
       "</table>\n",
       "</div>"
      ],
      "text/plain": [
       "                                               title  score      id  \\\n",
       "0  A Right Wing Group in Texas Is Making up Fake ...    166  ov1ll3   \n",
       "1  DOJ sues Texas over Gov. Abbott’s order for la...     85  ouwc9i   \n",
       "2  From white evangelicals to QAnon believers, wh...     57  ouqkxi   \n",
       "3  DeSantis says he’ll sign order allowing parent...    269  oun2lc   \n",
       "4  Show on the road: In Utah, Florida Gov. Ron De...     31  ouipnz   \n",
       "\n",
       "                                                 url  comms_num       created  \\\n",
       "0  https://www.vice.com/en/article/wx5bg5/blm-whi...         34  1.627710e+09   \n",
       "1  https://www.kxan.com/news/texas-politics/doj-s...         17  1.627688e+09   \n",
       "2  https://www.modbee.com/news/coronavirus/articl...         27  1.627671e+09   \n",
       "3  https://www.orlandosentinel.com/politics/os-ne...        138  1.627660e+09   \n",
       "4  https://www.tallahassee.com/story/news/politic...         28  1.627644e+09   \n",
       "\n",
       "  body           timestamp        date  \n",
       "0  NaN 2021-07-31 08:35:47  2021-07-31  \n",
       "1  NaN 2021-07-31 02:26:12  2021-07-31  \n",
       "2  NaN 2021-07-30 21:45:09  2021-07-30  \n",
       "3  NaN 2021-07-30 18:43:05  2021-07-30  \n",
       "4  NaN 2021-07-30 14:21:54  2021-07-30  "
      ]
     },
     "execution_count": 4,
     "metadata": {},
     "output_type": "execute_result"
    }
   ],
   "source": [
    "df['timestamp'] = pd.to_datetime(df['timestamp'])\n",
    "df['date'] = df['timestamp'].dt.date\n",
    "df.head()"
   ]
  },
  {
   "cell_type": "code",
   "execution_count": 5,
   "id": "fafd850f",
   "metadata": {
    "execution": {
     "iopub.execute_input": "2024-08-28T02:21:46.712174Z",
     "iopub.status.busy": "2024-08-28T02:21:46.711361Z",
     "iopub.status.idle": "2024-08-28T02:21:46.729875Z",
     "shell.execute_reply": "2024-08-28T02:21:46.728384Z"
    },
    "papermill": {
     "duration": 0.027013,
     "end_time": "2024-08-28T02:21:46.732403",
     "exception": false,
     "start_time": "2024-08-28T02:21:46.705390",
     "status": "completed"
    },
    "tags": []
   },
   "outputs": [
    {
     "data": {
      "text/html": [
       "<div>\n",
       "<style scoped>\n",
       "    .dataframe tbody tr th:only-of-type {\n",
       "        vertical-align: middle;\n",
       "    }\n",
       "\n",
       "    .dataframe tbody tr th {\n",
       "        vertical-align: top;\n",
       "    }\n",
       "\n",
       "    .dataframe thead th {\n",
       "        text-align: right;\n",
       "    }\n",
       "</style>\n",
       "<table border=\"1\" class=\"dataframe\">\n",
       "  <thead>\n",
       "    <tr style=\"text-align: right;\">\n",
       "      <th></th>\n",
       "      <th>date</th>\n",
       "      <th>title</th>\n",
       "    </tr>\n",
       "  </thead>\n",
       "  <tbody>\n",
       "    <tr>\n",
       "      <th>0</th>\n",
       "      <td>2021-07-31</td>\n",
       "      <td>A Right Wing Group in Texas Is Making up Fake ...</td>\n",
       "    </tr>\n",
       "    <tr>\n",
       "      <th>1</th>\n",
       "      <td>2021-07-31</td>\n",
       "      <td>DOJ sues Texas over Gov. Abbott’s order for la...</td>\n",
       "    </tr>\n",
       "    <tr>\n",
       "      <th>2</th>\n",
       "      <td>2021-07-30</td>\n",
       "      <td>From white evangelicals to QAnon believers, wh...</td>\n",
       "    </tr>\n",
       "    <tr>\n",
       "      <th>3</th>\n",
       "      <td>2021-07-30</td>\n",
       "      <td>DeSantis says he’ll sign order allowing parent...</td>\n",
       "    </tr>\n",
       "    <tr>\n",
       "      <th>4</th>\n",
       "      <td>2021-07-30</td>\n",
       "      <td>Show on the road: In Utah, Florida Gov. Ron De...</td>\n",
       "    </tr>\n",
       "  </tbody>\n",
       "</table>\n",
       "</div>"
      ],
      "text/plain": [
       "         date                                              title\n",
       "0  2021-07-31  A Right Wing Group in Texas Is Making up Fake ...\n",
       "1  2021-07-31  DOJ sues Texas over Gov. Abbott’s order for la...\n",
       "2  2021-07-30  From white evangelicals to QAnon believers, wh...\n",
       "3  2021-07-30  DeSantis says he’ll sign order allowing parent...\n",
       "4  2021-07-30  Show on the road: In Utah, Florida Gov. Ron De..."
      ]
     },
     "execution_count": 5,
     "metadata": {},
     "output_type": "execute_result"
    }
   ],
   "source": [
    "data = df[['date', 'title']]\n",
    "data.head()"
   ]
  },
  {
   "cell_type": "code",
   "execution_count": 6,
   "id": "4c64bdf5",
   "metadata": {
    "execution": {
     "iopub.execute_input": "2024-08-28T02:21:46.743955Z",
     "iopub.status.busy": "2024-08-28T02:21:46.743504Z",
     "iopub.status.idle": "2024-08-28T02:21:46.761810Z",
     "shell.execute_reply": "2024-08-28T02:21:46.760812Z"
    },
    "papermill": {
     "duration": 0.027116,
     "end_time": "2024-08-28T02:21:46.764419",
     "exception": false,
     "start_time": "2024-08-28T02:21:46.737303",
     "status": "completed"
    },
    "tags": []
   },
   "outputs": [],
   "source": [
    "from sklearn.feature_extraction.text import CountVectorizer\n",
    "from sklearn.feature_extraction import text\n",
    "import re\n",
    "import seaborn as sns\n",
    "import matplotlib.pyplot as plt\n",
    "\n",
    "def custom_tokenizer(text):\n",
    "    # Define the word you want to exclude\n",
    "    exclude_word = 'comment'\n",
    "    # Use a regular expression to tokenize the text\n",
    "    tokens = re.findall(r'\\b\\w+\\b', text.lower())\n",
    "    # Exclude the specific word\n",
    "    return [word for word in tokens if len(word) > 1 and word != exclude_word]\n",
    "\n",
    "count_vectorizer  = CountVectorizer(stop_words = 'english',\n",
    "                                    tokenizer=custom_tokenizer)"
   ]
  },
  {
   "cell_type": "code",
   "execution_count": 7,
   "id": "cc92e213",
   "metadata": {
    "execution": {
     "iopub.execute_input": "2024-08-28T02:21:46.776062Z",
     "iopub.status.busy": "2024-08-28T02:21:46.775631Z",
     "iopub.status.idle": "2024-08-28T02:21:46.783641Z",
     "shell.execute_reply": "2024-08-28T02:21:46.782459Z"
    },
    "papermill": {
     "duration": 0.016729,
     "end_time": "2024-08-28T02:21:46.786140",
     "exception": false,
     "start_time": "2024-08-28T02:21:46.769411",
     "status": "completed"
    },
    "tags": []
   },
   "outputs": [],
   "source": [
    "def top_n_words(top_n, count_vectorizer, data):\n",
    "    vec_titles = count_vectorizer.fit_transform(data)\n",
    "    vec_total = np.sum(vec_titles, axis = 0)\n",
    "    word_indices = np.flip(np.argsort(vec_total)[0, :],1)\n",
    "    word_values = np.flip(np.sort(vec_total)[0, :], 1)\n",
    "    \n",
    "    word_vectors = np.zeros((top_n, vec_titles.shape[1]))\n",
    "    \n",
    "    for i in range(top_n):\n",
    "        word_vectors[i, word_indices[0,i]] = 1\n",
    "    \n",
    "    words = [word[0].encode('ascii').decode('utf-8') \n",
    "            for word in count_vectorizer.inverse_transform(word_vectors)]\n",
    "    \n",
    "    return (words, word_values[0, :top_n].tolist()[0])"
   ]
  },
  {
   "cell_type": "code",
   "execution_count": 8,
   "id": "9324a3b7",
   "metadata": {
    "execution": {
     "iopub.execute_input": "2024-08-28T02:21:46.797910Z",
     "iopub.status.busy": "2024-08-28T02:21:46.797093Z",
     "iopub.status.idle": "2024-08-28T02:21:47.419575Z",
     "shell.execute_reply": "2024-08-28T02:21:47.418426Z"
    },
    "papermill": {
     "duration": 0.631188,
     "end_time": "2024-08-28T02:21:47.422206",
     "exception": false,
     "start_time": "2024-08-28T02:21:46.791018",
     "status": "completed"
    },
    "tags": []
   },
   "outputs": [
    {
     "name": "stderr",
     "output_type": "stream",
     "text": [
      "/opt/conda/lib/python3.10/site-packages/sklearn/feature_extraction/text.py:528: UserWarning: The parameter 'token_pattern' will not be used since 'tokenizer' is not None'\n",
      "  warnings.warn(\n",
      "/opt/conda/lib/python3.10/site-packages/seaborn/_oldcore.py:1765: FutureWarning: unique with argument that is not not a Series, Index, ExtensionArray, or np.ndarray is deprecated and will raise in a future version.\n",
      "  order = pd.unique(vector)\n"
     ]
    },
    {
     "data": {
      "image/png": "[encoded data removed]",
      "text/plain": [
       "<Figure size 1000x600 with 1 Axes>"
      ]
     },
     "metadata": {},
     "output_type": "display_data"
    }
   ],
   "source": [
    "words, word_count = top_n_words(top_n = 10, count_vectorizer = count_vectorizer, data = data.title)\n",
    "plt.figure(figsize=(10, 6))\n",
    "sns.barplot(x=word_count, y=words, palette='viridis')\n",
    "plt.xlabel('Count')\n",
    "plt.ylabel('Word')\n",
    "plt.title('Top Words and Their Counts')\n",
    "plt.show()\n",
    "\n"
   ]
  },
  {
   "cell_type": "markdown",
   "id": "21a9b230",
   "metadata": {
    "papermill": {
     "duration": 0.005187,
     "end_time": "2024-08-28T02:21:47.433417",
     "exception": false,
     "start_time": "2024-08-28T02:21:47.428230",
     "status": "completed"
    },
    "tags": []
   },
   "source": [
    "#### Text preprocessing for topic modelling"
   ]
  },
  {
   "cell_type": "code",
   "execution_count": 9,
   "id": "b8265d86",
   "metadata": {
    "execution": {
     "iopub.execute_input": "2024-08-28T02:21:47.446500Z",
     "iopub.status.busy": "2024-08-28T02:21:47.445647Z",
     "iopub.status.idle": "2024-08-28T02:21:47.553658Z",
     "shell.execute_reply": "2024-08-28T02:21:47.552287Z"
    },
    "papermill": {
     "duration": 0.117254,
     "end_time": "2024-08-28T02:21:47.556164",
     "exception": false,
     "start_time": "2024-08-28T02:21:47.438910",
     "status": "completed"
    },
    "tags": []
   },
   "outputs": [
    {
     "name": "stdout",
     "output_type": "stream",
     "text": [
      "Headline before vectorization: GOP Lawmaker Deletes Tweet Comparing Vaccine Mandates to the Holocaust\n",
      "Headline after vectorization: \n",
      "<Compressed Sparse Row sparse matrix of dtype 'int64'\n",
      "\twith 8 stored elements and shape (1, 6952)>\n",
      "  Coords\tValues\n",
      "  (0, 3738)\t1\n",
      "  (0, 6603)\t1\n",
      "  (0, 2695)\t1\n",
      "  (0, 3498)\t1\n",
      "  (0, 1669)\t1\n",
      "  (0, 6446)\t1\n",
      "  (0, 1262)\t1\n",
      "  (0, 2946)\t1\n"
     ]
    }
   ],
   "source": [
    "cnt_vec = CountVectorizer(stop_words = 'english', max_features = 40000)\n",
    "text_sample = data['title'].sample(n=10000, random_state=0).values\n",
    "\n",
    "print('Headline before vectorization: {}'.format(text_sample[152]))\n",
    "\n",
    "small_document_term_matrix = cnt_vec.fit_transform(text_sample)\n",
    "\n",
    "print('Headline after vectorization: \\n{}'.format(small_document_term_matrix[152]))"
   ]
  },
  {
   "cell_type": "code",
   "execution_count": 10,
   "id": "46d19294",
   "metadata": {
    "execution": {
     "iopub.execute_input": "2024-08-28T02:21:47.569065Z",
     "iopub.status.busy": "2024-08-28T02:21:47.568646Z",
     "iopub.status.idle": "2024-08-28T02:21:47.573817Z",
     "shell.execute_reply": "2024-08-28T02:21:47.572655Z"
    },
    "papermill": {
     "duration": 0.014344,
     "end_time": "2024-08-28T02:21:47.576221",
     "exception": false,
     "start_time": "2024-08-28T02:21:47.561877",
     "status": "completed"
    },
    "tags": []
   },
   "outputs": [],
   "source": [
    "n_topics = 10"
   ]
  },
  {
   "cell_type": "code",
   "execution_count": 11,
   "id": "d31e9715",
   "metadata": {
    "execution": {
     "iopub.execute_input": "2024-08-28T02:21:47.589487Z",
     "iopub.status.busy": "2024-08-28T02:21:47.588641Z",
     "iopub.status.idle": "2024-08-28T02:21:47.747561Z",
     "shell.execute_reply": "2024-08-28T02:21:47.746150Z"
    },
    "papermill": {
     "duration": 0.169305,
     "end_time": "2024-08-28T02:21:47.751181",
     "exception": false,
     "start_time": "2024-08-28T02:21:47.581876",
     "status": "completed"
    },
    "tags": []
   },
   "outputs": [],
   "source": [
    "lsa_model = TruncatedSVD(n_components = n_topics)\n",
    "lsa_topic_matrix = lsa_model.fit_transform(small_document_term_matrix)"
   ]
  },
  {
   "cell_type": "code",
   "execution_count": 12,
   "id": "75f074cc",
   "metadata": {
    "execution": {
     "iopub.execute_input": "2024-08-28T02:21:47.784555Z",
     "iopub.status.busy": "2024-08-28T02:21:47.783973Z",
     "iopub.status.idle": "2024-08-28T02:21:47.792447Z",
     "shell.execute_reply": "2024-08-28T02:21:47.791447Z"
    },
    "papermill": {
     "duration": 0.032238,
     "end_time": "2024-08-28T02:21:47.796203",
     "exception": false,
     "start_time": "2024-08-28T02:21:47.763965",
     "status": "completed"
    },
    "tags": []
   },
   "outputs": [
    {
     "data": {
      "text/plain": [
       "array([[ 9.99999701e-01, -7.56925914e-05, -8.72526434e-05, ...,\n",
       "        -3.05222390e-05,  5.03495291e-05,  7.60566821e-06],\n",
       "       [ 9.99999701e-01, -7.56925914e-05, -8.72526434e-05, ...,\n",
       "        -3.05222390e-05,  5.03495291e-05,  7.60566821e-06],\n",
       "       [ 9.99999701e-01, -7.56925914e-05, -8.72526434e-05, ...,\n",
       "        -3.05222390e-05,  5.03495291e-05,  7.60566821e-06],\n",
       "       ...,\n",
       "       [ 5.65560247e-06,  9.65040946e-01, -4.43073431e-01, ...,\n",
       "        -5.60915960e-01,  1.97195018e-02, -7.36651222e-01],\n",
       "       [ 9.99999701e-01, -7.56925914e-05, -8.72526434e-05, ...,\n",
       "        -3.05222390e-05,  5.03495291e-05,  7.60566821e-06],\n",
       "       [ 9.99999701e-01, -7.56925914e-05, -8.72526434e-05, ...,\n",
       "        -3.05222390e-05,  5.03495291e-05,  7.60566821e-06]])"
      ]
     },
     "execution_count": 12,
     "metadata": {},
     "output_type": "execute_result"
    }
   ],
   "source": [
    "lsa_topic_matrix"
   ]
  }
 ],
 "metadata": {
  "kaggle": {
   "accelerator": "none",
   "dataSources": [
    {
     "datasetId": 1504129,
     "sourceId": 2920783,
     "sourceType": "datasetVersion"
    }
   ],
   "dockerImageVersionId": 30761,
   "isGpuEnabled": false,
   "isInternetEnabled": true,
   "language": "python",
   "sourceType": "notebook"
  },
  "kernelspec": {
   "display_name": "Python 3",
   "language": "python",
   "name": "python3"
  },
  "language_info": {
   "codemirror_mode": {
    "name": "ipython",
    "version": 3
   },
   "file_extension": ".py",
   "mimetype": "text/x-python",
   "name": "python",
   "nbconvert_exporter": "python",
   "pygments_lexer": "ipython3",
   "version": "3.10.14"
  },
  "papermill": {
   "default_parameters": {},
   "duration": 7.574776,
   "end_time": "2024-08-28T02:21:48.541176",
   "environment_variables": {},
   "exception": null,
   "input_path": "__notebook__.ipynb",
   "output_path": "__notebook__.ipynb",
   "parameters": {},
   "start_time": "2024-08-28T02:21:40.966400",
   "version": "2.6.0"
  }
 },
 "nbformat": 4,
 "nbformat_minor": 5
}
