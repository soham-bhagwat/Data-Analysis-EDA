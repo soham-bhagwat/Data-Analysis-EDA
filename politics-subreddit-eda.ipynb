{
 "cells": [
  {
   "cell_type": "code",
   "execution_count": 1,
   "id": "24fc003d",
   "metadata": {
    "_cell_guid": "b1076dfc-b9ad-4769-8c92-a6c4dae69d19",
    "_uuid": "8f2839f25d086af736a60e9eeb907d3b93b6e0e5",
    "execution": {
     "iopub.execute_input": "2024-08-25T04:43:05.159288Z",
     "iopub.status.busy": "2024-08-25T04:43:05.158786Z",
     "iopub.status.idle": "2024-08-25T04:43:07.756915Z",
     "shell.execute_reply": "2024-08-25T04:43:07.755334Z"
    },
    "papermill": {
     "duration": 2.606624,
     "end_time": "2024-08-25T04:43:07.759886",
     "exception": false,
     "start_time": "2024-08-25T04:43:05.153262",
     "status": "completed"
    },
    "tags": []
   },
   "outputs": [
    {
     "name": "stdout",
     "output_type": "stream",
     "text": [
      "/kaggle/input/politics-on-reddit/reddit_politics.csv\n"
     ]
    }
   ],
   "source": [
    "import numpy as np # linear algebra\n",
    "import pandas as pd # data processing, CSV file I/O (e.g. pd.read_csv)\n",
    "import matplotlib.pyplot as plt\n",
    "import seaborn as sns\n",
    "# Input data files are available in the read-only \"../input/\" directory\n",
    "# For example, running this (by clicking run or pressing Shift+Enter) will list all files under the input directory\n",
    "\n",
    "import os\n",
    "for dirname, _, filenames in os.walk('/kaggle/input'):\n",
    "    for filename in filenames:\n",
    "        print(os.path.join(dirname, filename))\n"
   ]
  },
  {
   "cell_type": "code",
   "execution_count": 2,
   "id": "851ed2b3",
   "metadata": {
    "execution": {
     "iopub.execute_input": "2024-08-25T04:43:07.767879Z",
     "iopub.status.busy": "2024-08-25T04:43:07.767296Z",
     "iopub.status.idle": "2024-08-25T04:43:08.167522Z",
     "shell.execute_reply": "2024-08-25T04:43:08.166183Z"
    },
    "papermill": {
     "duration": 0.407424,
     "end_time": "2024-08-25T04:43:08.170666",
     "exception": false,
     "start_time": "2024-08-25T04:43:07.763242",
     "status": "completed"
    },
    "tags": []
   },
   "outputs": [
    {
     "data": {
      "text/html": [
       "<div>\n",
       "<style scoped>\n",
       "    .dataframe tbody tr th:only-of-type {\n",
       "        vertical-align: middle;\n",
       "    }\n",
       "\n",
       "    .dataframe tbody tr th {\n",
       "        vertical-align: top;\n",
       "    }\n",
       "\n",
       "    .dataframe thead th {\n",
       "        text-align: right;\n",
       "    }\n",
       "</style>\n",
       "<table border=\"1\" class=\"dataframe\">\n",
       "  <thead>\n",
       "    <tr style=\"text-align: right;\">\n",
       "      <th></th>\n",
       "      <th>title</th>\n",
       "      <th>score</th>\n",
       "      <th>id</th>\n",
       "      <th>url</th>\n",
       "      <th>comms_num</th>\n",
       "      <th>created</th>\n",
       "      <th>body</th>\n",
       "      <th>timestamp</th>\n",
       "    </tr>\n",
       "  </thead>\n",
       "  <tbody>\n",
       "    <tr>\n",
       "      <th>0</th>\n",
       "      <td>A Right Wing Group in Texas Is Making up Fake ...</td>\n",
       "      <td>166</td>\n",
       "      <td>ov1ll3</td>\n",
       "      <td>https://www.vice.com/en/article/wx5bg5/blm-whi...</td>\n",
       "      <td>34</td>\n",
       "      <td>1.627710e+09</td>\n",
       "      <td>NaN</td>\n",
       "      <td>2021-07-31 08:35:47</td>\n",
       "    </tr>\n",
       "    <tr>\n",
       "      <th>1</th>\n",
       "      <td>DOJ sues Texas over Gov. Abbott’s order for la...</td>\n",
       "      <td>85</td>\n",
       "      <td>ouwc9i</td>\n",
       "      <td>https://www.kxan.com/news/texas-politics/doj-s...</td>\n",
       "      <td>17</td>\n",
       "      <td>1.627688e+09</td>\n",
       "      <td>NaN</td>\n",
       "      <td>2021-07-31 02:26:12</td>\n",
       "    </tr>\n",
       "    <tr>\n",
       "      <th>2</th>\n",
       "      <td>From white evangelicals to QAnon believers, wh...</td>\n",
       "      <td>57</td>\n",
       "      <td>ouqkxi</td>\n",
       "      <td>https://www.modbee.com/news/coronavirus/articl...</td>\n",
       "      <td>27</td>\n",
       "      <td>1.627671e+09</td>\n",
       "      <td>NaN</td>\n",
       "      <td>2021-07-30 21:45:09</td>\n",
       "    </tr>\n",
       "    <tr>\n",
       "      <th>3</th>\n",
       "      <td>DeSantis says he’ll sign order allowing parent...</td>\n",
       "      <td>269</td>\n",
       "      <td>oun2lc</td>\n",
       "      <td>https://www.orlandosentinel.com/politics/os-ne...</td>\n",
       "      <td>138</td>\n",
       "      <td>1.627660e+09</td>\n",
       "      <td>NaN</td>\n",
       "      <td>2021-07-30 18:43:05</td>\n",
       "    </tr>\n",
       "    <tr>\n",
       "      <th>4</th>\n",
       "      <td>Show on the road: In Utah, Florida Gov. Ron De...</td>\n",
       "      <td>31</td>\n",
       "      <td>ouipnz</td>\n",
       "      <td>https://www.tallahassee.com/story/news/politic...</td>\n",
       "      <td>28</td>\n",
       "      <td>1.627644e+09</td>\n",
       "      <td>NaN</td>\n",
       "      <td>2021-07-30 14:21:54</td>\n",
       "    </tr>\n",
       "  </tbody>\n",
       "</table>\n",
       "</div>"
      ],
      "text/plain": [
       "                                               title  score      id  \\\n",
       "0  A Right Wing Group in Texas Is Making up Fake ...    166  ov1ll3   \n",
       "1  DOJ sues Texas over Gov. Abbott’s order for la...     85  ouwc9i   \n",
       "2  From white evangelicals to QAnon believers, wh...     57  ouqkxi   \n",
       "3  DeSantis says he’ll sign order allowing parent...    269  oun2lc   \n",
       "4  Show on the road: In Utah, Florida Gov. Ron De...     31  ouipnz   \n",
       "\n",
       "                                                 url  comms_num       created  \\\n",
       "0  https://www.vice.com/en/article/wx5bg5/blm-whi...         34  1.627710e+09   \n",
       "1  https://www.kxan.com/news/texas-politics/doj-s...         17  1.627688e+09   \n",
       "2  https://www.modbee.com/news/coronavirus/articl...         27  1.627671e+09   \n",
       "3  https://www.orlandosentinel.com/politics/os-ne...        138  1.627660e+09   \n",
       "4  https://www.tallahassee.com/story/news/politic...         28  1.627644e+09   \n",
       "\n",
       "  body            timestamp  \n",
       "0  NaN  2021-07-31 08:35:47  \n",
       "1  NaN  2021-07-31 02:26:12  \n",
       "2  NaN  2021-07-30 21:45:09  \n",
       "3  NaN  2021-07-30 18:43:05  \n",
       "4  NaN  2021-07-30 14:21:54  "
      ]
     },
     "execution_count": 2,
     "metadata": {},
     "output_type": "execute_result"
    }
   ],
   "source": [
    "df = pd.read_csv('/kaggle/input/politics-on-reddit/reddit_politics.csv')\n",
    "df.head()"
   ]
  },
  {
   "cell_type": "code",
   "execution_count": 3,
   "id": "643ba41f",
   "metadata": {
    "execution": {
     "iopub.execute_input": "2024-08-25T04:43:08.179409Z",
     "iopub.status.busy": "2024-08-25T04:43:08.178853Z",
     "iopub.status.idle": "2024-08-25T04:43:08.205187Z",
     "shell.execute_reply": "2024-08-25T04:43:08.203850Z"
    },
    "papermill": {
     "duration": 0.033994,
     "end_time": "2024-08-25T04:43:08.207811",
     "exception": false,
     "start_time": "2024-08-25T04:43:08.173817",
     "status": "completed"
    },
    "tags": []
   },
   "outputs": [
    {
     "data": {
      "text/plain": [
       "title            0\n",
       "score            0\n",
       "id               0\n",
       "url          18027\n",
       "comms_num        0\n",
       "created          0\n",
       "body          9995\n",
       "timestamp        0\n",
       "dtype: int64"
      ]
     },
     "execution_count": 3,
     "metadata": {},
     "output_type": "execute_result"
    }
   ],
   "source": [
    "df.isnull().sum()"
   ]
  }
 ],
 "metadata": {
  "kaggle": {
   "accelerator": "none",
   "dataSources": [
    {
     "datasetId": 1504129,
     "sourceId": 2920783,
     "sourceType": "datasetVersion"
    }
   ],
   "dockerImageVersionId": 30761,
   "isGpuEnabled": false,
   "isInternetEnabled": true,
   "language": "python",
   "sourceType": "notebook"
  },
  "kernelspec": {
   "display_name": "Python 3",
   "language": "python",
   "name": "python3"
  },
  "language_info": {
   "codemirror_mode": {
    "name": "ipython",
    "version": 3
   },
   "file_extension": ".py",
   "mimetype": "text/x-python",
   "name": "python",
   "nbconvert_exporter": "python",
   "pygments_lexer": "ipython3",
   "version": "3.10.14"
  },
  "papermill": {
   "default_parameters": {},
   "duration": 7.277055,
   "end_time": "2024-08-25T04:43:08.935128",
   "environment_variables": {},
   "exception": null,
   "input_path": "__notebook__.ipynb",
   "output_path": "__notebook__.ipynb",
   "parameters": {},
   "start_time": "2024-08-25T04:43:01.658073",
   "version": "2.6.0"
  }
 },
 "nbformat": 4,
 "nbformat_minor": 5
}
