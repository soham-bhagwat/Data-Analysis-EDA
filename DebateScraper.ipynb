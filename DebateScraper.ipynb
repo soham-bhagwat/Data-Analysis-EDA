{
 "cells": [
  {
   "cell_type": "code",
   "execution_count": 1,
   "id": "528e53c0",
   "metadata": {
    "_cell_guid": "b1076dfc-b9ad-4769-8c92-a6c4dae69d19",
    "_uuid": "8f2839f25d086af736a60e9eeb907d3b93b6e0e5",
    "execution": {
     "iopub.execute_input": "2024-09-11T20:13:11.909427Z",
     "iopub.status.busy": "2024-09-11T20:13:11.908840Z",
     "iopub.status.idle": "2024-09-11T20:13:13.308535Z",
     "shell.execute_reply": "2024-09-11T20:13:13.306658Z"
    },
    "papermill": {
     "duration": 1.407005,
     "end_time": "2024-09-11T20:13:13.311580",
     "exception": false,
     "start_time": "2024-09-11T20:13:11.904575",
     "status": "completed"
    },
    "tags": []
   },
   "outputs": [
    {
     "name": "stdout",
     "output_type": "stream",
     "text": [
      "Presidential_Debate_2_Transcript.txt\n"
     ]
    }
   ],
   "source": [
    "import numpy as np # linear algebra\n",
    "import pandas as pd # data processing, CSV file I/O (e.g. pd.read_csv)\n",
    "\n",
    "import requests\n",
    "from bs4 import BeautifulSoup\n",
    "\n",
    "url = 'https://www.presidency.ucsb.edu/documents/presidential-debate-philadelphia-pennsylvania' \n",
    "\n",
    "# Fetch the content from the URL\n",
    "response = requests.get(url)\n",
    "\n",
    "# Check if the request was successful\n",
    "if response.status_code == 200:\n",
    "    html_content = response.text\n",
    "else:\n",
    "    print(f\"Failed to retrieve content: {response.status_code}\")\n",
    "    exit()\n",
    "\n",
    "# Parse the HTML content\n",
    "soup = BeautifulSoup(html_content, 'html.parser')\n",
    "\n",
    "# Extract the content from the relevant div\n",
    "content_div = soup.find('div', class_='field-docs-content')\n",
    "\n",
    "if content_div:\n",
    "    paragraphs = content_div.find_all('p')\n",
    "\n",
    "    # Initialize content variable to accumulate all text\n",
    "    output_content = \"\"\n",
    "\n",
    "    # Process paragraphs to collect text content\n",
    "    for paragraph in paragraphs:\n",
    "        # Extract and append text of each paragraph\n",
    "        text = paragraph.get_text(separator=' ').strip()\n",
    "        output_content += text + \"\\n\\n\"\n",
    "\n",
    "    # Write the results to a text file\n",
    "    with open('Presidential_Debate_2_Transcript.txt', 'w') as file:\n",
    "        file.write(output_content.strip())  # Remove the last extra newline\n",
    "        \n",
    "    print(\"Presidential_Debate_2_Transcript.txt\")\n",
    "else:\n",
    "    print(\"Content div with class 'field-docs-content' not found.\")"
   ]
  }
 ],
 "metadata": {
  "kaggle": {
   "accelerator": "none",
   "dataSources": [],
   "dockerImageVersionId": 30761,
   "isGpuEnabled": false,
   "isInternetEnabled": true,
   "language": "python",
   "sourceType": "notebook"
  },
  "kernelspec": {
   "display_name": "Python 3",
   "language": "python",
   "name": "python3"
  },
  "language_info": {
   "codemirror_mode": {
    "name": "ipython",
    "version": 3
   },
   "file_extension": ".py",
   "mimetype": "text/x-python",
   "name": "python",
   "nbconvert_exporter": "python",
   "pygments_lexer": "ipython3",
   "version": "3.10.14"
  },
  "papermill": {
   "default_parameters": {},
   "duration": 4.993923,
   "end_time": "2024-09-11T20:13:13.835173",
   "environment_variables": {},
   "exception": null,
   "input_path": "__notebook__.ipynb",
   "output_path": "__notebook__.ipynb",
   "parameters": {},
   "start_time": "2024-09-11T20:13:08.841250",
   "version": "2.6.0"
  }
 },
 "nbformat": 4,
 "nbformat_minor": 5
}
